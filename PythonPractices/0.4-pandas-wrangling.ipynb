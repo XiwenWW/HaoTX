{
 "cells": [
  {
   "cell_type": "markdown",
   "metadata": {
    "pycharm": {
     "name": "#%% md\n"
    }
   },
   "source": [
    "# Data wrangling Pandas"
   ]
  },
  {
   "cell_type": "markdown",
   "metadata": {
    "pycharm": {
     "name": "#%% md\n"
    }
   },
   "source": [
    "## Learning outcomes\n",
    "- Inspect a dataframe with `df.head()`, `df.tail()`, `df.info()`, `df.describe()`.\n",
    "- Obtain dataframe summaries with `df.info()` and `df.describe()`.\n",
    "- Rename columns of a dataframe using the `df.rename()` function or by accessing the `df.columns` attribute.\n",
    "- Use `df.melt()` and `df.pivot()` to reshape dataframes, specifically to make tidy dataframes.\n",
    "- Combine dataframes using `df.merge()` and `pd.concat()` and know when to use these different methods.\n",
    "- Apply functions to a dataframe `df.apply()` and `df.applymap()`\n",
    "- Perform grouping and aggregating operations using `df.groupby()` and `df.agg()`.\n",
    "- Perform aggregating methods on grouped or ungrouped objects such as finding the minimum, maximum and sum of values in a dataframe using `df.agg()`.\n",
    "- Remove or fill missing values in a dataframe with `df.dropna()` and `df.fillna()`."
   ]
  },
  {
   "cell_type": "code",
   "execution_count": null,
   "metadata": {
    "pycharm": {
     "name": "#%%\n"
    }
   },
   "outputs": [],
   "source": [
    "import numpy as np\n",
    "import pandas as pd"
   ]
  },
  {
   "cell_type": "markdown",
   "metadata": {
    "pycharm": {
     "name": "#%% md\n"
    }
   },
   "source": [
    "## DataFrame characteristics\n",
    "---"
   ]
  },
  {
   "cell_type": "markdown",
   "metadata": {
    "pycharm": {
     "name": "#%% md\n"
    }
   },
   "source": [
    "- Last lecture we looked at how we can create dataframes\n",
    "- Let's now look at some helpful ways we can view our dataframe"
   ]
  },
  {
   "cell_type": "markdown",
   "metadata": {
    "pycharm": {
     "name": "#%% md\n"
    }
   },
   "source": [
    "### Head/Tail"
   ]
  },
  {
   "cell_type": "markdown",
   "metadata": {
    "pycharm": {
     "name": "#%% md\n"
    }
   },
   "source": [
    "- The `.head()` and `.tail()` methods allow you to view the top/bottom *n* (default 5) rows of a dataframe\n",
    "-  [IMDB movie dataset](https://www.kaggle.com/harshitshankhdhar/imdb-dataset-of-top-1000-movies-and-tv-shows)\n",
    "- Instead of using the one on Kaggle we will use a local dataset. Go to EdStem to download the [zip folder](https://edstem.org/us/courses/31933/resources?download=23687) that contains the data folder for the labs. Place the data folder in the same directory that your Jupyter notebook is in Let’s first load the dataset which is in a csv file."
   ]
  },
  {
   "cell_type": "code",
   "execution_count": null,
   "metadata": {
    "pycharm": {
     "name": "#%%\n"
    }
   },
   "outputs": [],
   "source": [
    "df = pd.read_csv('data/imdb.csv')\n",
    "df"
   ]
  },
  {
   "cell_type": "markdown",
   "metadata": {
    "pycharm": {
     "name": "#%% md\n"
    }
   },
   "source": [
    "- The default return value is 5 rows, but we can pass in any number we like\n",
    "- For example, let's take a look at the top 10 rows:"
   ]
  },
  {
   "cell_type": "code",
   "execution_count": null,
   "metadata": {
    "pycharm": {
     "name": "#%%\n"
    }
   },
   "outputs": [],
   "source": [
    "df.head(10)"
   ]
  },
  {
   "cell_type": "markdown",
   "metadata": {
    "pycharm": {
     "name": "#%% md\n"
    }
   },
   "source": [
    "- Or the bottom 5 rows:"
   ]
  },
  {
   "cell_type": "code",
   "execution_count": null,
   "metadata": {
    "pycharm": {
     "name": "#%%\n"
    }
   },
   "outputs": [],
   "source": [
    "df.tail()"
   ]
  },
  {
   "cell_type": "markdown",
   "metadata": {
    "pycharm": {
     "name": "#%% md\n"
    }
   },
   "source": [
    "### DataFrame summaries"
   ]
  },
  {
   "cell_type": "markdown",
   "metadata": {
    "pycharm": {
     "name": "#%% md\n"
    }
   },
   "source": [
    "- Three very helpful attributes/functions for getting high-level summaries of your dataframe are:\n",
    "    - `.shape`\n",
    "    - `.info()`\n",
    "    - `.describe()`"
   ]
  },
  {
   "cell_type": "markdown",
   "metadata": {
    "pycharm": {
     "name": "#%% md\n"
    }
   },
   "source": [
    "- `.shape` is just like the ndarray attribute we've seen previously\n",
    "- It gives the shape (rows, cols) of your dataframe:"
   ]
  },
  {
   "cell_type": "code",
   "execution_count": null,
   "metadata": {
    "pycharm": {
     "name": "#%%\n"
    }
   },
   "outputs": [],
   "source": [
    "df.shape"
   ]
  },
  {
   "cell_type": "markdown",
   "metadata": {
    "pycharm": {
     "name": "#%% md\n"
    }
   },
   "source": [
    "- `.info()` prints information about the dataframe itself, such as dtypes, memory usages, non-null values, etc:"
   ]
  },
  {
   "cell_type": "code",
   "execution_count": null,
   "metadata": {
    "pycharm": {
     "name": "#%%\n"
    }
   },
   "outputs": [],
   "source": [
    "df.info()"
   ]
  },
  {
   "cell_type": "markdown",
   "metadata": {
    "pycharm": {
     "name": "#%% md\n"
    }
   },
   "source": [
    "- `.describe()` provides summary statistics of the values within a dataframe:"
   ]
  },
  {
   "cell_type": "code",
   "execution_count": null,
   "metadata": {
    "pycharm": {
     "name": "#%%\n"
    }
   },
   "outputs": [],
   "source": [
    "df.describe()"
   ]
  },
  {
   "cell_type": "markdown",
   "metadata": {
    "pycharm": {
     "name": "#%% md\n"
    }
   },
   "source": [
    "- By default, `.describe()` only print summaries of numeric features\n",
    "- We can force it to give summaries on all features using the argument `include='all'` (although they may not make sense!):"
   ]
  },
  {
   "cell_type": "code",
   "execution_count": null,
   "metadata": {
    "pycharm": {
     "name": "#%%\n"
    }
   },
   "outputs": [],
   "source": [
    "df.describe(include='all')"
   ]
  },
  {
   "cell_type": "markdown",
   "metadata": {
    "pycharm": {
     "name": "#%% md\n"
    }
   },
   "source": [
    "### Displaying DataFrames"
   ]
  },
  {
   "cell_type": "markdown",
   "metadata": {
    "pycharm": {
     "name": "#%% md\n"
    }
   },
   "source": [
    "- Displaying your dataframes effectively can be an important part of your workflow\n",
    "- If a dataframe has more than 60 rows, Pandas will only display the first 5 and last 5 rows:"
   ]
  },
  {
   "cell_type": "code",
   "execution_count": null,
   "metadata": {
    "pycharm": {
     "name": "#%%\n"
    }
   },
   "outputs": [],
   "source": [
    "pd.DataFrame(np.random.rand(100))"
   ]
  },
  {
   "cell_type": "markdown",
   "metadata": {
    "pycharm": {
     "name": "#%% md\n"
    }
   },
   "source": [
    "- For dataframes of less than 60 rows, Pandas will print the whole dataframe"
   ]
  },
  {
   "cell_type": "code",
   "execution_count": null,
   "metadata": {
    "pycharm": {
     "name": "#%%\n"
    }
   },
   "outputs": [],
   "source": [
    "pd.DataFrame(np.random.rand(25))"
   ]
  },
  {
   "cell_type": "markdown",
   "metadata": {
    "pycharm": {
     "name": "#%% md\n"
    }
   },
   "source": [
    "### Views vs copies"
   ]
  },
  {
   "cell_type": "markdown",
   "metadata": {
    "pycharm": {
     "name": "#%% md\n"
    }
   },
   "source": [
    "- In previous lectures we've discussed views (\"looking\" at a part of an existing object) and copies (making a new copy of the object in memory)\n",
    "- These things get a little abstract with Pandas and \"...it’s very hard to predict whether it will return a view or a copy\" (that's a quote straight [from a dedicated section in the Pandas documentation](https://pandas.pydata.org/pandas-docs/stable/user_guide/indexing.html#returning-a-view-versus-a-copy))\n",
    "- Basically, it depends on the operation you are trying to perform, your dataframe's structure and the memory layout of the underlying array\n",
    "- But don't worry, let me tell you all you need to know\n",
    "- Firstly, the most common warning you'll encounter in Pandas is the `SettingWithCopy`, Pandas raises it as a warning that you might not be doing what you think you're doing\n",
    "- Let's see an example: one of movies in our dataframe has an incorrect value in the `Released_Year` field:"
   ]
  },
  {
   "cell_type": "code",
   "execution_count": null,
   "metadata": {
    "pycharm": {
     "name": "#%%\n"
    }
   },
   "outputs": [],
   "source": [
    "df[df['Released_Year'] > 2021]"
   ]
  },
  {
   "cell_type": "markdown",
   "metadata": {
    "pycharm": {
     "name": "#%% md\n"
    }
   },
   "source": [
    "- Imagine we wanted to change this to `2010`\n",
    "- You'd probably do the following:"
   ]
  },
  {
   "cell_type": "code",
   "execution_count": null,
   "metadata": {
    "pycharm": {
     "name": "#%%\n"
    }
   },
   "outputs": [],
   "source": [
    "df[df['Released_Year'] > 2021]['Released_Year'] = 2010"
   ]
  },
  {
   "cell_type": "markdown",
   "metadata": {
    "pycharm": {
     "name": "#%% md\n"
    }
   },
   "source": [
    "- Ah, there's that warning\n",
    "- Did our dataframe get changed?"
   ]
  },
  {
   "cell_type": "code",
   "execution_count": null,
   "metadata": {
    "pycharm": {
     "name": "#%%\n"
    }
   },
   "outputs": [],
   "source": [
    "df[df['Released_Year'] > 2021]"
   ]
  },
  {
   "cell_type": "markdown",
   "metadata": {
    "pycharm": {
     "name": "#%% md\n"
    }
   },
   "source": [
    "- No it didn't, even though you probably thought it did\n",
    "- What happened above is that `df[df['Released_Year'] > 2021]` was executed first and returned a copy of the dataframe, we can confirm by using `id()`:"
   ]
  },
  {
   "cell_type": "code",
   "execution_count": null,
   "metadata": {
    "pycharm": {
     "name": "#%%\n"
    }
   },
   "outputs": [],
   "source": [
    "print(f\"The id of the original dataframe is: {id(df)}\")\n",
    "print(f\" The id of the indexed dataframe is: {id(df[df['Released_Year'] > 2021])}\")"
   ]
  },
  {
   "cell_type": "markdown",
   "metadata": {
    "pycharm": {
     "name": "#%% md\n"
    }
   },
   "source": [
    "- We then tried to set a value on this new object by appending `['Released_Year'] = 2010`\n",
    "- Pandas is warning us that we are doing that operation on a copy of the original dataframe, which is probably not what we want\n",
    "- To fix this, you need to index in a single go, using `.loc[]` for example:"
   ]
  },
  {
   "cell_type": "code",
   "execution_count": null,
   "metadata": {
    "pycharm": {
     "name": "#%%\n"
    }
   },
   "outputs": [],
   "source": [
    "df.loc[df['Released_Year'] > 2021, 'Released_Year'] = 2010"
   ]
  },
  {
   "cell_type": "markdown",
   "metadata": {
    "pycharm": {
     "name": "#%% md\n"
    }
   },
   "source": [
    "- No error this time! And let's confirm the change:"
   ]
  },
  {
   "cell_type": "code",
   "execution_count": null,
   "metadata": {
    "pycharm": {
     "name": "#%%\n"
    }
   },
   "outputs": [],
   "source": [
    "df[df['Released_Year'] > 2021]"
   ]
  },
  {
   "cell_type": "markdown",
   "metadata": {
    "pycharm": {
     "name": "#%% md\n"
    }
   },
   "source": [
    "- The second thing you need to know is that if you're ever in doubt about whether something is a view or a copy, you can just use the `.copy()` method to force a copy of a dataframe\n",
    "- Just like this:"
   ]
  },
  {
   "cell_type": "code",
   "execution_count": null,
   "metadata": {
    "pycharm": {
     "name": "#%%\n"
    }
   },
   "outputs": [],
   "source": [
    "df2 = df[df['Released_Year'] > 2021].copy()"
   ]
  },
  {
   "cell_type": "markdown",
   "metadata": {
    "pycharm": {
     "name": "#%% md\n"
    }
   },
   "source": [
    "- That way, your guaranteed a copy that you can modify as you wish"
   ]
  },
  {
   "cell_type": "markdown",
   "metadata": {
    "pycharm": {
     "name": "#%% md\n"
    }
   },
   "source": [
    "## Basic DataFrame manipulations\n",
    "---"
   ]
  },
  {
   "cell_type": "markdown",
   "metadata": {
    "pycharm": {
     "name": "#%% md\n"
    }
   },
   "source": [
    "### Renaming columns"
   ]
  },
  {
   "cell_type": "markdown",
   "metadata": {
    "pycharm": {
     "name": "#%% md\n"
    }
   },
   "source": [
    "- We can rename columns two ways:\n",
    "    1. Using `.rename()` (to selectively change column names)\n",
    "    2. By setting the `.columns` attribute (to change all column names at once)"
   ]
  },
  {
   "cell_type": "code",
   "execution_count": null,
   "metadata": {
    "pycharm": {
     "name": "#%%\n"
    }
   },
   "outputs": [],
   "source": [
    "df"
   ]
  },
  {
   "cell_type": "markdown",
   "metadata": {
    "pycharm": {
     "name": "#%% md\n"
    }
   },
   "source": [
    "- Let's give it a go:"
   ]
  },
  {
   "cell_type": "code",
   "execution_count": null,
   "metadata": {
    "pycharm": {
     "name": "#%%\n"
    }
   },
   "outputs": [],
   "source": [
    "df.rename(columns={\"Released_Year\": \"Year\",\n",
    "                   \"Overview\": \"Synopsis\"})\n",
    "df"
   ]
  },
  {
   "cell_type": "markdown",
   "metadata": {
    "pycharm": {
     "name": "#%% md\n"
    }
   },
   "source": [
    "- Wait? What happened? Nothing changed?\n",
    "- In the code above we did actually rename columns of our dataframe but we didn't modify the dataframe inplace, we made a copy of it (more on that later)\n",
    "- There are generally two options for making permanent dataframe changes:\n",
    "    - 1. Use the argument `inplace=True`, e.g., `df.rename(..., inplace=True)`, available in most functions/methods\n",
    "    - 2. Re-assign, e.g., `df = df.rename(...)`\n",
    "- The Pandas team recommends **Method 2 (re-assign)**, for a [few reasons](https://www.youtube.com/watch?v=hK6o_TDXXN8&t=700) (mostly to do with how memory is allocated under the hood)"
   ]
  },
  {
   "cell_type": "code",
   "execution_count": null,
   "metadata": {
    "pycharm": {
     "name": "#%%\n"
    }
   },
   "outputs": [],
   "source": [
    "df = df.rename(columns={\"Released_Year\": \"Year\",\n",
    "                   \"Overview\": \"Synopsis\"})\n",
    "df"
   ]
  },
  {
   "cell_type": "markdown",
   "metadata": {
    "pycharm": {
     "name": "#%% md\n"
    }
   },
   "source": [
    "- If you wish to change all of the columns of a dataframe, you can do so by setting the `.columns` attribute"
   ]
  },
  {
   "cell_type": "code",
   "execution_count": null,
   "metadata": {
    "pycharm": {
     "name": "#%%\n"
    }
   },
   "outputs": [],
   "source": [
    "df.columns = [f\"Column {_}\" for _ in range(15)]\n",
    "df"
   ]
  },
  {
   "cell_type": "markdown",
   "metadata": {
    "pycharm": {
     "name": "#%% md\n"
    }
   },
   "source": [
    "- You can change the index labels of a dataframe in 3 main ways:\n",
    "    1. `.set_index()` to make one of the columns of the dataframe the index\n",
    "    2. Directly modify `df.index.name` to change the index name\n",
    "    3. `.reset_index()` to move the current index as a column and to reset the index with integer labels starting from 0\n",
    "    4. Directly modify the `.index()` attribute"
   ]
  },
  {
   "cell_type": "code",
   "execution_count": null,
   "metadata": {
    "pycharm": {
     "name": "#%%\n"
    }
   },
   "outputs": [],
   "source": [
    "df"
   ]
  },
  {
   "cell_type": "markdown",
   "metadata": {
    "tags": [],
    "pycharm": {
     "name": "#%% md\n"
    }
   },
   "source": [
    "### Adding/Removing columns"
   ]
  },
  {
   "cell_type": "markdown",
   "metadata": {
    "pycharm": {
     "name": "#%% md\n"
    }
   },
   "source": [
    "- There are two main ways to add/remove columns of a dataframe\n",
    "    1. Use `[]` to add columns\n",
    "    2. Use `.drop()` to drop columns\n",
    "- Let's re-read in a fresh copy of IMDB movie dataset:"
   ]
  },
  {
   "cell_type": "code",
   "execution_count": null,
   "metadata": {
    "pycharm": {
     "name": "#%%\n"
    }
   },
   "outputs": [],
   "source": [
    "df = pd.read_csv('data/imdb.csv')\n",
    "df"
   ]
  },
  {
   "cell_type": "markdown",
   "metadata": {
    "pycharm": {
     "name": "#%% md\n"
    }
   },
   "source": [
    "- We can add a new column to a dataframe by simply using `[]` with a new column name and value(s)"
   ]
  },
  {
   "cell_type": "code",
   "execution_count": null,
   "metadata": {
    "pycharm": {
     "name": "#%%\n"
    }
   },
   "outputs": [],
   "source": [
    "df['RottenTomato_score'] = 0"
   ]
  },
  {
   "cell_type": "code",
   "execution_count": null,
   "metadata": {
    "pycharm": {
     "name": "#%%\n"
    }
   },
   "outputs": [],
   "source": [
    "df = df.drop(columns=['Star3', 'Star4'])\n",
    "df"
   ]
  },
  {
   "cell_type": "markdown",
   "metadata": {
    "pycharm": {
     "name": "#%% md\n"
    }
   },
   "source": [
    "### Adding/Removing rows"
   ]
  },
  {
   "cell_type": "markdown",
   "metadata": {
    "pycharm": {
     "name": "#%% md\n"
    }
   },
   "source": [
    "- You won't often be adding rows to a dataframe manually (you'll usually add rows through concatenating/joining - that's coming up next)\n",
    "- You can add/remove rows of a dataframe in two ways:\n",
    "    1. Use `.append()` to add rows\n",
    "    2. Use `.drop()` to drop rows"
   ]
  },
  {
   "cell_type": "code",
   "execution_count": null,
   "metadata": {
    "pycharm": {
     "name": "#%%\n"
    }
   },
   "outputs": [],
   "source": [
    "df"
   ]
  },
  {
   "cell_type": "markdown",
   "metadata": {
    "pycharm": {
     "name": "#%% md\n"
    }
   },
   "source": [
    "- Let's add a new row to the bottom of this dataframe"
   ]
  },
  {
   "cell_type": "code",
   "execution_count": null,
   "metadata": {
    "pycharm": {
     "name": "#%%\n"
    }
   },
   "outputs": [],
   "source": [
    "another_row = pd.DataFrame(\n",
    "    [\n",
    "        [\n",
    "            \"Zone 414\",\n",
    "            \"2021\",\n",
    "            \"R\",\n",
    "            \"98 min\",\n",
    "            \"Sci-Fi\",\n",
    "            \"6.5\",\n",
    "            \"Set in the near future in a colony of state-of-the-art humanoid robots.\",\n",
    "            75.0,\n",
    "            \"Andrew Baird\",\n",
    "            \"Travis Fimmel\",\n",
    "            \"Guy Pearce\",\n",
    "            12343,\n",
    "            1229123,\n",
    "            0\n",
    "        ]\n",
    "    ],\n",
    "    columns=df.columns,\n",
    "    index=[1100]\n",
    ")\n",
    "df = df.append(another_row)\n",
    "df"
   ]
  },
  {
   "cell_type": "markdown",
   "metadata": {
    "pycharm": {
     "name": "#%% md\n"
    }
   },
   "source": [
    "- We can drop all rows beyond row 5 using `.drop()`"
   ]
  },
  {
   "cell_type": "code",
   "execution_count": null,
   "metadata": {
    "pycharm": {
     "name": "#%%\n"
    }
   },
   "outputs": [],
   "source": [
    "df.drop(df.index[5:], axis=0)"
   ]
  },
  {
   "cell_type": "markdown",
   "metadata": {
    "pycharm": {
     "name": "#%% md\n"
    }
   },
   "source": [
    "We can also drop rows indirectly by slicing the original dataframe and assign the result to a new one:"
   ]
  },
  {
   "cell_type": "code",
   "execution_count": null,
   "metadata": {
    "pycharm": {
     "name": "#%%\n"
    }
   },
   "outputs": [],
   "source": [
    "df2 = df.iloc[:5, :]\n",
    "df2"
   ]
  },
  {
   "cell_type": "markdown",
   "metadata": {
    "pycharm": {
     "name": "#%% md\n"
    }
   },
   "source": [
    "## DataFrame reshaping\n",
    "---"
   ]
  },
  {
   "cell_type": "markdown",
   "metadata": {
    "pycharm": {
     "name": "#%% md\n"
    }
   },
   "source": [
    "### Tidy data"
   ]
  },
  {
   "cell_type": "markdown",
   "metadata": {
    "pycharm": {
     "name": "#%% md\n"
    }
   },
   "source": [
    "- [Tidy data](https://vita.had.co.nz/papers/tidy-data.pdf) is about \"linking the structure of a dataset with its semantics (its meaning)\"\n",
    "- You've already looked at tidy data in your previous courses\n",
    "- It is defined by:\n",
    "    1. Each variable forms a column\n",
    "    2. Each observation forms a row\n",
    "    3. Each type of observational unit forms a table\n",
    "- Often you'll need to reshape a dataframe to make it tidy (or for some other purpose)\n",
    "    \n",
    "![](img/lecture7/tidy.png)\n",
    "\n",
    "Source: [r4ds](https://r4ds.had.co.nz/tidy-data.html#fig:tidy-structure)"
   ]
  },
  {
   "cell_type": "markdown",
   "metadata": {
    "pycharm": {
     "name": "#%% md\n"
    }
   },
   "source": [
    "### Melt and pivot"
   ]
  },
  {
   "cell_type": "markdown",
   "metadata": {
    "pycharm": {
     "name": "#%% md\n"
    }
   },
   "source": [
    "- Pandas `.melt()`, `.pivot()` and `.pivot_table()` can help reshape dataframes\n",
    "    - `.melt()`: make wide data long (like `melt()` in R)\n",
    "    - `.pivot()`: make long data width (like `cast()` in R)\n",
    "    - `.pivot_table()`: same as `.pivot()` but can handle multiple indexes\n",
    "    \n",
    "![](img/lecture7/melt_pivot.gif)\n",
    "\n",
    "Source: [Garrick Aden-Buie's GitHub](https://github.com/gadenbuie/tidyexplain#spread-and-gather)"
   ]
  },
  {
   "cell_type": "markdown",
   "metadata": {
    "pycharm": {
     "name": "#%% md\n"
    }
   },
   "source": [
    "- The below data shows how many courses different instructors taught across different years:"
   ]
  },
  {
   "cell_type": "code",
   "execution_count": null,
   "metadata": {
    "pycharm": {
     "name": "#%%\n"
    }
   },
   "outputs": [],
   "source": [
    "df = pd.DataFrame({\"Name\": [\"Arman\", \"Mike\", \"Tiffany\", \"Varada\", \"Joel\"],\n",
    "                   \"2018\": [1, 3, 4, 5, 3],\n",
    "                   \"2019\": [2, 4, 3, 2, 1],\n",
    "                   \"2020\": [5, 2, 4, 4, 3]})\n",
    "df"
   ]
  },
  {
   "cell_type": "markdown",
   "metadata": {
    "pycharm": {
     "name": "#%% md\n"
    }
   },
   "source": [
    "- Let's try to tidy the data with `.melt()`. We first have to know what exactly `.melt()` does, so let's apply it to our dataframe without any arguments:"
   ]
  },
  {
   "cell_type": "code",
   "execution_count": null,
   "metadata": {
    "pycharm": {
     "name": "#%%\n"
    }
   },
   "outputs": [],
   "source": [
    "df.melt()"
   ]
  },
  {
   "cell_type": "markdown",
   "metadata": {
    "pycharm": {
     "name": "#%% md\n"
    }
   },
   "source": [
    "- Think of `.melt()` as trying to make everything look like `key: value` pairs\n",
    "- By default, `.melt()` takes each column name as a key and binds it with all column values\n",
    "- Here we're interested in questions about each instructor, so we want the rows to be identified with instructor names\n",
    "- This can be done using the `id_vars` argument, which determines which column should be the \"identifier\", i.e. the \"key\":"
   ]
  },
  {
   "cell_type": "code",
   "execution_count": null,
   "metadata": {
    "pycharm": {
     "name": "#%%\n"
    }
   },
   "outputs": [],
   "source": [
    "df.melt(id_vars=\"Name\")"
   ]
  },
  {
   "cell_type": "markdown",
   "metadata": {
    "pycharm": {
     "name": "#%% md\n"
    }
   },
   "source": [
    "Much better!\n",
    "\n",
    "- The `value_vars` argument allows us to select which specific variables we want to \"melt\" (if you don't specify `value_vars`, all non-identifier columns will be used)\n",
    "- For example, below I'm only using the `2020` column:"
   ]
  },
  {
   "cell_type": "code",
   "execution_count": null,
   "metadata": {
    "pycharm": {
     "name": "#%%\n"
    }
   },
   "outputs": [],
   "source": [
    "df.melt(id_vars=\"Name\", value_vars=[\"2020\"])"
   ]
  },
  {
   "cell_type": "code",
   "execution_count": null,
   "metadata": {
    "pycharm": {
     "name": "#%%\n"
    }
   },
   "outputs": [],
   "source": [
    "df_melt = df.melt(id_vars=\"Name\", var_name=\"Year\")\n",
    "df_melt"
   ]
  },
  {
   "cell_type": "markdown",
   "metadata": {
    "pycharm": {
     "name": "#%% md\n"
    }
   },
   "source": [
    "- The `value` column can be renamed by passing a name to the `value_name` argument:"
   ]
  },
  {
   "cell_type": "code",
   "execution_count": null,
   "metadata": {
    "pycharm": {
     "name": "#%%\n"
    }
   },
   "outputs": [],
   "source": [
    "df_melt = df.melt(id_vars=\"Name\", var_name=\"Year\", value_name=\"Course\")\n",
    "df_melt"
   ]
  },
  {
   "cell_type": "markdown",
   "metadata": {
    "pycharm": {
     "name": "#%% md\n"
    }
   },
   "source": [
    "- Sometimes, you want to make long data wide, which we can do with `.pivot()`\n",
    "- When using `.pivot()` we need to specify the `index` to pivot on, and the `columns` that will be used to make the new columns of the wider dataframe:"
   ]
  },
  {
   "cell_type": "code",
   "execution_count": null,
   "metadata": {
    "pycharm": {
     "name": "#%%\n"
    }
   },
   "outputs": [],
   "source": [
    "df_pivot = df_melt.pivot(index=\"Name\",\n",
    "                         columns=\"Year\",\n",
    "                         values=\"Course\"\n",
    "                        )\n",
    "df_pivot"
   ]
  },
  {
   "cell_type": "markdown",
   "metadata": {
    "pycharm": {
     "name": "#%% md\n"
    }
   },
   "source": [
    "- You'll notice that Pandas set our specified `index=\"Name\"` argument as the index of the new dataframe, and preserved the label of the columns\n",
    "- We can easily remove these names and reset the index to make our dataframe look like it originally did"
   ]
  },
  {
   "cell_type": "code",
   "execution_count": null,
   "metadata": {
    "pycharm": {
     "name": "#%%\n"
    }
   },
   "outputs": [],
   "source": [
    "df_pivot.columns"
   ]
  },
  {
   "cell_type": "code",
   "execution_count": null,
   "metadata": {
    "pycharm": {
     "name": "#%%\n"
    }
   },
   "outputs": [],
   "source": [
    "df_pivot.columns.name = None\n",
    "df_pivot = df_pivot.reset_index()\n",
    "df_pivot"
   ]
  },
  {
   "cell_type": "markdown",
   "metadata": {
    "pycharm": {
     "name": "#%% md\n"
    }
   },
   "source": [
    "- `.pivot()` will often get you what you want, but it won't work if you want to:\n",
    "    - Use multiple indexes (next lecture)\n",
    "    - Have duplicate index/column labels\n",
    "- In these cases you'll have to use `.pivot_table()`\n",
    "- I won't focus on it too much here because I'd rather you learn about `pivot()` first"
   ]
  },
  {
   "cell_type": "code",
   "execution_count": null,
   "metadata": {
    "pycharm": {
     "name": "#%%\n"
    }
   },
   "outputs": [],
   "source": [
    "df = pd.DataFrame(\n",
    "    {\n",
    "        \"Name\": [\"Arman\", \"Arman\", \"Mike\", \"Mike\"],\n",
    "        \"Department\": [\"CS\", \"STATS\", \"CS\", \"STATS\"],\n",
    "        \"2018\": [1, 2, 3, 1],\n",
    "        \"2019\": [2, 3, 4, 2],\n",
    "        \"2020\": [5, 1, 2, 2],\n",
    "    }\n",
    ")\n",
    "df"
   ]
  },
  {
   "cell_type": "code",
   "execution_count": null,
   "metadata": {
    "pycharm": {
     "name": "#%%\n"
    }
   },
   "outputs": [],
   "source": [
    "df = df.melt(\n",
    "    id_vars=[\"Name\", \"Department\"],\n",
    "    var_name=\"Year\",\n",
    "    value_name=\"Courses\"\n",
    ")\n",
    "df"
   ]
  },
  {
   "cell_type": "markdown",
   "metadata": {
    "pycharm": {
     "name": "#%% md\n"
    }
   },
   "source": [
    "- In the above case, we have duplicates in `Name`, so `pivot()` won't work\n",
    "- It will throw us a `ValueError: Index contains duplicate entries, cannot reshape`:"
   ]
  },
  {
   "cell_type": "code",
   "execution_count": null,
   "metadata": {
    "tags": [
     "raises-exception"
    ],
    "pycharm": {
     "name": "#%%\n"
    }
   },
   "outputs": [],
   "source": [
    "df.pivot(index=\"Name\",\n",
    "         columns=\"Year\",\n",
    "         values=\"Courses\")"
   ]
  },
  {
   "cell_type": "markdown",
   "metadata": {
    "pycharm": {
     "name": "#%% md\n"
    }
   },
   "source": [
    "- In such a case, we'd use `.pivot_table()`\n",
    "- It will apply an aggregation function to our duplicates, in this case, we'll `sum()` them up:"
   ]
  },
  {
   "cell_type": "code",
   "execution_count": null,
   "metadata": {
    "pycharm": {
     "name": "#%%\n"
    }
   },
   "outputs": [],
   "source": [
    "df.pivot_table(index=\"Name\", columns='Year', values='Courses', aggfunc='sum')"
   ]
  },
  {
   "cell_type": "markdown",
   "metadata": {
    "pycharm": {
     "name": "#%% md\n"
    }
   },
   "source": [
    "- If we wanted to keep the numbers per department, we could specify both `Name` and `Department` as multiple indexes:"
   ]
  },
  {
   "cell_type": "code",
   "execution_count": null,
   "metadata": {
    "pycharm": {
     "name": "#%%\n"
    }
   },
   "outputs": [],
   "source": [
    "df.pivot_table(index=[\"Name\", \"Department\"], columns='Year', values='Courses')"
   ]
  },
  {
   "cell_type": "markdown",
   "metadata": {
    "pycharm": {
     "name": "#%% md\n"
    }
   },
   "source": [
    "- The result above is a mutlti-index or \"hierarchically indexed\" dataframe (more on those next lecture)\n",
    "- If you ever have a need to use it, you can read more about `pivot_table()` in the [documentation](https://pandas.pydata.org/pandas-docs/stable/user_guide/reshaping.html#pivot-tables)"
   ]
  },
  {
   "cell_type": "markdown",
   "metadata": {
    "pycharm": {
     "name": "#%% md\n"
    }
   },
   "source": [
    "## More DataFrame operations\n",
    "---"
   ]
  },
  {
   "cell_type": "markdown",
   "metadata": {
    "pycharm": {
     "name": "#%% md\n"
    }
   },
   "source": [
    "### Applying custom functions"
   ]
  },
  {
   "cell_type": "markdown",
   "metadata": {
    "pycharm": {
     "name": "#%% md\n"
    }
   },
   "source": [
    "- There will be times when you want to apply a function that is not built-in to Pandas\n",
    "- For this, we also have methods:\n",
    "    - `df.apply()`, applies a function column-wise or row-wise across a dataframe (the function must be able to accept/return an array)\n",
    "    - `df.applymap()`, applies a function element-wise (for functions that accept/return single values at a time)\n",
    "    - `series.apply()`/`series.map()`, same as above but for Pandas series"
   ]
  },
  {
   "cell_type": "markdown",
   "metadata": {
    "pycharm": {
     "name": "#%% md\n"
    }
   },
   "source": [
    "- For example, say you want to use a numpy function on a column in your dataframe"
   ]
  },
  {
   "cell_type": "code",
   "execution_count": null,
   "metadata": {
    "pycharm": {
     "name": "#%%\n"
    }
   },
   "outputs": [],
   "source": [
    "df = pd.read_csv('data/YVR_weather_data.csv', usecols=range(0, 4))\n",
    "df[['Mean Max Temp (°C)']].apply(np.log)"
   ]
  },
  {
   "cell_type": "markdown",
   "metadata": {
    "pycharm": {
     "name": "#%% md\n"
    }
   },
   "source": [
    "- Or you may want to apply your own custom function"
   ]
  },
  {
   "cell_type": "code",
   "execution_count": null,
   "metadata": {
    "pycharm": {
     "name": "#%%\n"
    }
   },
   "outputs": [],
   "source": [
    "def convert_to_fahrenheit(x):\n",
    "    return x * (9 / 5) + 32\n",
    "\n",
    "\n",
    "df[['Mean Max Temp (°C)']].apply(convert_to_fahrenheit)"
   ]
  },
  {
   "cell_type": "markdown",
   "metadata": {
    "pycharm": {
     "name": "#%% md\n"
    }
   },
   "source": [
    "- This may have been better as a lambda function..."
   ]
  },
  {
   "cell_type": "code",
   "execution_count": null,
   "metadata": {
    "pycharm": {
     "name": "#%%\n"
    }
   },
   "outputs": [],
   "source": [
    "df[['Mean Max Temp (°C)']].apply(lambda x: x * (9 / 5) + 32)"
   ]
  },
  {
   "cell_type": "markdown",
   "metadata": {
    "pycharm": {
     "name": "#%% md\n"
    }
   },
   "source": [
    "- You can even use functions that require additional arguments\n",
    "- Just specify the arguments in `.apply()`"
   ]
  },
  {
   "cell_type": "code",
   "execution_count": null,
   "metadata": {
    "pycharm": {
     "name": "#%%\n"
    }
   },
   "outputs": [],
   "source": [
    "def convert_temperature(x, to=\"absolute\"):\n",
    "    if to == \"absolute\":\n",
    "        return x + 273.15\n",
    "    elif to == \"fahrenheit\":\n",
    "        return x * (9 / 5) + 32\n",
    "\n",
    "\n",
    "df[['Mean Max Temp (°C)']].apply(convert_temperature, to=\"absolute\")"
   ]
  },
  {
   "cell_type": "markdown",
   "metadata": {
    "tags": [
     "raises-exception"
    ],
    "pycharm": {
     "name": "#%% md\n"
    }
   },
   "source": [
    "### Grouping"
   ]
  },
  {
   "cell_type": "markdown",
   "metadata": {
    "pycharm": {
     "name": "#%% md\n"
    }
   },
   "source": [
    "- Often we are interested in examining specific groups in our data\n",
    "- `df.groupby()` allows us to group our data based on a variable(s)\n",
    "- Analgous to the `group_by` function in R"
   ]
  },
  {
   "cell_type": "code",
   "execution_count": null,
   "metadata": {
    "pycharm": {
     "name": "#%%\n"
    }
   },
   "outputs": [],
   "source": [
    "df = pd.read_csv('data/imdb.csv')\n",
    "df"
   ]
  },
  {
   "cell_type": "markdown",
   "metadata": {
    "pycharm": {
     "name": "#%% md\n"
    }
   },
   "source": [
    "- Let's group this dataframe on the column `Name`"
   ]
  },
  {
   "cell_type": "code",
   "execution_count": null,
   "metadata": {
    "pycharm": {
     "name": "#%%\n"
    }
   },
   "outputs": [],
   "source": [
    "dfg = df.groupby(by='Genre')\n",
    "dfg"
   ]
  },
  {
   "cell_type": "markdown",
   "metadata": {
    "pycharm": {
     "name": "#%% md\n"
    }
   },
   "source": [
    "- What is a `DataFrameGroupBy` object?\n",
    "- It contains information about the groups of the dataframe"
   ]
  },
  {
   "cell_type": "markdown",
   "metadata": {
    "pycharm": {
     "name": "#%% md\n"
    }
   },
   "source": [
    "- The groupby object is really just a dictionary of index-mappings, which we could look at if we wanted to"
   ]
  },
  {
   "cell_type": "code",
   "execution_count": null,
   "metadata": {
    "pycharm": {
     "name": "#%%\n"
    }
   },
   "outputs": [],
   "source": [
    "dfg.groups"
   ]
  },
  {
   "cell_type": "markdown",
   "metadata": {
    "pycharm": {
     "name": "#%% md\n"
    }
   },
   "source": [
    "- We can also access a group using the `.get_group()` method"
   ]
  },
  {
   "cell_type": "code",
   "execution_count": null,
   "metadata": {
    "pycharm": {
     "name": "#%%\n"
    }
   },
   "outputs": [],
   "source": [
    "dfg.get_group('Action, Adventure')"
   ]
  },
  {
   "cell_type": "markdown",
   "metadata": {
    "pycharm": {
     "name": "#%% md\n"
    }
   },
   "source": [
    "- The usual thing to do, however, is to apply aggregation functions to the groupby object"
   ]
  },
  {
   "cell_type": "code",
   "execution_count": null,
   "metadata": {
    "pycharm": {
     "name": "#%%\n"
    }
   },
   "outputs": [],
   "source": [
    "dfg.mean()[['IMDB_Rating']]"
   ]
  },
  {
   "cell_type": "markdown",
   "metadata": {
    "pycharm": {
     "name": "#%% md\n"
    }
   },
   "source": [
    "- We can apply multiple functions using `.aggregate()`"
   ]
  },
  {
   "cell_type": "code",
   "execution_count": null,
   "metadata": {
    "pycharm": {
     "name": "#%%\n"
    }
   },
   "outputs": [],
   "source": [
    "dfg.aggregate(['mean', 'sum', 'count'])"
   ]
  },
  {
   "cell_type": "markdown",
   "metadata": {
    "pycharm": {
     "name": "#%% md\n"
    }
   },
   "source": [
    "- And even apply different functions to different columns"
   ]
  },
  {
   "cell_type": "code",
   "execution_count": null,
   "metadata": {
    "pycharm": {
     "name": "#%%\n"
    }
   },
   "outputs": [],
   "source": [
    "def num_range(x):\n",
    "    return x.max() - x.min()\n",
    "\n",
    "dfg.aggregate({\"Meta_score\": ['max', 'min', 'mean', num_range], \n",
    "               \"Gross\": ['sum']})"
   ]
  },
  {
   "cell_type": "markdown",
   "metadata": {
    "pycharm": {
     "name": "#%% md\n"
    }
   },
   "source": [
    "- By the way, you can use aggregate for non-grouped dataframes too\n",
    "- This is pretty much what `df.describe` does under the hood"
   ]
  },
  {
   "cell_type": "code",
   "execution_count": null,
   "metadata": {
    "pycharm": {
     "name": "#%%\n"
    }
   },
   "outputs": [],
   "source": [
    "df.agg(['mean', 'min', 'count', num_range])"
   ]
  },
  {
   "cell_type": "markdown",
   "metadata": {
    "pycharm": {
     "name": "#%% md\n"
    }
   },
   "source": [
    "### Dealing with missing values"
   ]
  },
  {
   "cell_type": "markdown",
   "metadata": {
    "pycharm": {
     "name": "#%% md\n"
    }
   },
   "source": [
    "- Missing values are typically denoted with `NaN`\n",
    "- We can use `df.isna()` or `df.isnull()` to find missing values in a dataframe (both functions do exactly the same thing!)\n",
    "- It returns a boolean for each element in the dataframe"
   ]
  },
  {
   "cell_type": "code",
   "execution_count": null,
   "metadata": {
    "pycharm": {
     "name": "#%%\n"
    }
   },
   "outputs": [],
   "source": [
    "df.isna()"
   ]
  },
  {
   "cell_type": "markdown",
   "metadata": {
    "pycharm": {
     "name": "#%% md\n"
    }
   },
   "source": [
    "- But it's usually more helpful to get this information by row or by column using the `.any()` or `.info()` method"
   ]
  },
  {
   "cell_type": "code",
   "execution_count": null,
   "metadata": {
    "pycharm": {
     "name": "#%%\n"
    }
   },
   "outputs": [],
   "source": [
    "df.info()"
   ]
  },
  {
   "cell_type": "code",
   "execution_count": null,
   "metadata": {
    "pycharm": {
     "name": "#%%\n"
    }
   },
   "outputs": [],
   "source": [
    "df[df.isnull().any(axis=1)]"
   ]
  },
  {
   "cell_type": "markdown",
   "metadata": {
    "pycharm": {
     "name": "#%% md\n"
    }
   },
   "source": [
    "- When you have missing values, we usually either drop them or impute them\n",
    "- You'll learn more about imputing in DSCI 562/571/573\n",
    "- For now, you can drop missing values using `df.dropna()`"
   ]
  },
  {
   "cell_type": "code",
   "execution_count": null,
   "metadata": {
    "pycharm": {
     "name": "#%%\n"
    }
   },
   "outputs": [],
   "source": [
    "df.dropna()"
   ]
  },
  {
   "cell_type": "markdown",
   "metadata": {
    "pycharm": {
     "name": "#%% md\n"
    }
   },
   "source": [
    "- Or you can fill them using `.fillna()`\n",
    "- This method has various options for filling, you can use a fixed value, the mean of the column, the previous non-nan value, etc\n",
    "- You'll use this method more in the machine learning courses"
   ]
  },
  {
   "cell_type": "code",
   "execution_count": null,
   "metadata": {
    "pycharm": {
     "name": "#%%\n"
    }
   },
   "outputs": [],
   "source": [
    "df = pd.DataFrame([[np.nan, 2, np.nan, 0],\n",
    "                   [3, 4, np.nan, 1],\n",
    "                   [np.nan, np.nan, np.nan, 5],\n",
    "                   [np.nan, 3, np.nan, 4]],\n",
    "                  columns=list('ABCD'))\n",
    "df"
   ]
  },
  {
   "cell_type": "code",
   "execution_count": null,
   "metadata": {
    "pycharm": {
     "name": "#%%\n"
    }
   },
   "outputs": [],
   "source": [
    "df.fillna(0)  # fill with 0"
   ]
  },
  {
   "cell_type": "code",
   "execution_count": null,
   "metadata": {
    "pycharm": {
     "name": "#%%\n"
    }
   },
   "outputs": [],
   "source": [
    "df.fillna(df.mean())  # fill with the mean"
   ]
  },
  {
   "cell_type": "code",
   "execution_count": null,
   "metadata": {
    "pycharm": {
     "name": "#%%\n"
    }
   },
   "outputs": [],
   "source": [
    "df.fillna(method='bfill')  # backward (upwards) propagate last valid value"
   ]
  },
  {
   "cell_type": "code",
   "execution_count": null,
   "metadata": {
    "pycharm": {
     "name": "#%%\n"
    }
   },
   "outputs": [],
   "source": [
    "df.fillna(method='ffill')  # forward (downward) propagate last valid value"
   ]
  },
  {
   "cell_type": "markdown",
   "source": [
    "## Deliverables"
   ],
   "metadata": {
    "collapsed": false,
    "pycharm": {
     "name": "#%% md\n"
    }
   }
  },
  {
   "cell_type": "markdown",
   "source": [
    "Now that you have had a whirlwind introduction to Pandas, complete the [Finding Pandas quiz on Canvas](https://canvas.ubc.ca/courses/106515/quizzes/579039).\n",
    "While this quiz is graded for participation and not performance, your performance is a strong indicator of your surface knowledge to use Pandas.\n",
    "We will use Pandas regularly in this course, so going over these modules multiple times is beneficial.\n"
   ],
   "metadata": {
    "collapsed": false,
    "pycharm": {
     "name": "#%% md\n"
    }
   }
  },
  {
   "cell_type": "code",
   "execution_count": null,
   "outputs": [],
   "source": [],
   "metadata": {
    "collapsed": false,
    "pycharm": {
     "name": "#%%\n"
    }
   }
  }
 ],
 "metadata": {
  "kernelspec": {
   "display_name": "Python 3",
   "language": "python",
   "name": "python3"
  },
  "language_info": {
   "codemirror_mode": {
    "name": "ipython",
    "version": 3
   },
   "file_extension": ".py",
   "mimetype": "text/x-python",
   "name": "python",
   "nbconvert_exporter": "python",
   "pygments_lexer": "ipython3",
   "version": "3.9.7"
  },
  "toc": {
   "base_numbering": 1,
   "nav_menu": {},
   "number_sections": false,
   "sideBar": true,
   "skip_h1_title": true,
   "title_cell": "Lecture Outline",
   "title_sidebar": "Contents",
   "toc_cell": true,
   "toc_position": {
    "height": "calc(100% - 180px)",
    "left": "10px",
    "top": "150px",
    "width": "305.797px"
   },
   "toc_section_display": true,
   "toc_window_display": false
  }
 },
 "nbformat": 4,
 "nbformat_minor": 4
}