{
 "cells": [
  {
   "cell_type": "markdown",
   "metadata": {
    "id": "-uPgcKnUPUA_"
   },
   "source": [
    "# **CS 4670 Python Tutorial**\n",
    "\n",
    "This tutorial will provide a brief overview of Matplotlib, NumPy and demonstrate some of their capabilities. To use them, we first need to import the respective packages:\n"
   ]
  },
  {
   "cell_type": "code",
   "execution_count": 1,
   "metadata": {
    "id": "yii1LqK9-f7-"
   },
   "outputs": [],
   "source": [
    "import matplotlib.pyplot as plt\n",
    "import numpy as np"
   ]
  },
  {
   "cell_type": "markdown",
   "metadata": {
    "id": "z9BXz7rh4uxr"
   },
   "source": [
    "## Numpy: Creating Arrays\n",
    "Numpy is the core library for scientific computing in Python. It provides a high-performance multidimensional array object, and tools for working with these arrays. There are a number of ways to create Numpy *arrays* of different sizes and shapes. We'll start with the most basic ways.\n",
    "\n",
    "We highly suggest to look at documentation to learn about library functions! To start off, please explore the two links below:\n",
    "\n",
    "*   `np.array` ([docs](https://numpy.org/doc/stable/reference/generated/numpy.array.html)): creates an array out of a given object\n",
    "*   `np.zeros` ([docs](https://numpy.org/doc/stable/reference/generated/numpy.zeros.html)): creates an array of zeros, given a shape\n",
    "\n"
   ]
  },
  {
   "cell_type": "code",
   "execution_count": 2,
   "metadata": {
    "id": "C_PbW3GX8Abq"
   },
   "outputs": [],
   "source": [
    "# TODO: create a numpy array from the following python list using np.array()\n",
    "python_list = [2, 3, 4, 5, 6]  # convert me!\n",
    "array = np.array(python_list)"
   ]
  },
  {
   "cell_type": "code",
   "execution_count": 3,
   "metadata": {
    "id": "lzAhwJ9aHSs3"
   },
   "outputs": [
    {
     "data": {
      "text/plain": [
       "array([0., 0., 0., 0., 0.])"
      ]
     },
     "execution_count": 3,
     "metadata": {},
     "output_type": "execute_result"
    }
   ],
   "source": [
    "# TODO: create a 1D numpy array containing only 5 zeros using np.zeros()\n",
    "np.zeros(5)"
   ]
  },
  {
   "cell_type": "code",
   "execution_count": 4,
   "metadata": {
    "id": "ABd6USv8HULE"
   },
   "outputs": [
    {
     "data": {
      "text/plain": [
       "array([[0., 0., 0., 0., 0., 0., 0.],\n",
       "       [0., 0., 0., 0., 0., 0., 0.],\n",
       "       [0., 0., 0., 0., 0., 0., 0.],\n",
       "       [0., 0., 0., 0., 0., 0., 0.],\n",
       "       [0., 0., 0., 0., 0., 0., 0.]])"
      ]
     },
     "execution_count": 4,
     "metadata": {},
     "output_type": "execute_result"
    }
   ],
   "source": [
    "# TODO: create a 5x7 2D numpy array containing only zeros using np.zeros()\n",
    "np.zeros((5,7))"
   ]
  },
  {
   "cell_type": "markdown",
   "metadata": {
    "id": "E1UxiJrlYsSp"
   },
   "source": [
    "Now, let's generate an array ranging from 1 to 10. There are many ways to do this, but the easiest way is to use the function `np.arange` ([docs](https://numpy.org/doc/stable/reference/generated/numpy.arange.html)). Think of this function as similar to Python's built-in `range` function, except that it is not restricted to integers."
   ]
  },
  {
   "cell_type": "code",
   "execution_count": 5,
   "metadata": {
    "id": "wVVt7ycsYm8K"
   },
   "outputs": [
    {
     "data": {
      "text/plain": [
       "array([ 1,  2,  3,  4,  5,  6,  7,  8,  9, 10])"
      ]
     },
     "execution_count": 5,
     "metadata": {},
     "output_type": "execute_result"
    }
   ],
   "source": [
    "# TODO: create a numpy array using np.arange ranging from 1 to 10\n",
    "np.arange(1,11)"
   ]
  },
  {
   "cell_type": "markdown",
   "metadata": {
    "id": "yhdxxm1EYnrs"
   },
   "source": [
    "Now, try the following exercises for the `range` function using the `step` parameter."
   ]
  },
  {
   "cell_type": "code",
   "execution_count": 6,
   "metadata": {
    "id": "iaSq3T_H8AeQ"
   },
   "outputs": [
    {
     "data": {
      "text/plain": [
       "array([ 1,  4,  7, 10])"
      ]
     },
     "execution_count": 6,
     "metadata": {},
     "output_type": "execute_result"
    }
   ],
   "source": [
    "# TODO: create a numpy array using np.arange ranging from 1 to 10 in steps of 3\n",
    "np.arange(1,11,3)"
   ]
  },
  {
   "cell_type": "code",
   "execution_count": 7,
   "metadata": {
    "id": "Fb1jobZgIeK7"
   },
   "outputs": [
    {
     "data": {
      "text/plain": [
       "array([10,  7,  4,  1])"
      ]
     },
     "execution_count": 7,
     "metadata": {},
     "output_type": "execute_result"
    }
   ],
   "source": [
    "# TODO: create a numpy array using np.arange ranging from 10 to 1 in steps of -3\n",
    "np.arange(10,0,-3)"
   ]
  },
  {
   "cell_type": "code",
   "execution_count": 8,
   "metadata": {
    "id": "Gwa7PyyLIfdw"
   },
   "outputs": [
    {
     "data": {
      "text/plain": [
       "array([  0,   7,  14,  21,  28,  35,  42,  49,  56,  63,  70,  77,  84,\n",
       "        91,  98, 105, 112, 119, 126, 133, 140, 147, 154, 161, 168, 175,\n",
       "       182, 189, 196, 203, 210, 217, 224, 231, 238, 245, 252, 259, 266,\n",
       "       273, 280, 287, 294, 301, 308, 315, 322, 329, 336, 343, 350, 357,\n",
       "       364, 371, 378, 385, 392, 399, 406, 413, 420, 427, 434, 441, 448,\n",
       "       455, 462, 469, 476, 483, 490, 497, 504, 511, 518, 525, 532, 539,\n",
       "       546, 553, 560, 567, 574, 581, 588, 595, 602, 609, 616, 623, 630,\n",
       "       637, 644, 651, 658, 665, 672, 679, 686, 693, 700, 707, 714, 721,\n",
       "       728, 735, 742, 749, 756, 763, 770, 777, 784, 791, 798, 805, 812,\n",
       "       819, 826, 833, 840, 847, 854, 861, 868, 875, 882, 889, 896, 903,\n",
       "       910, 917, 924, 931, 938, 945, 952, 959, 966, 973, 980, 987, 994])"
      ]
     },
     "execution_count": 8,
     "metadata": {},
     "output_type": "execute_result"
    }
   ],
   "source": [
    "# TODO: create a numpy array using np.arange containing all multiples of 7 between 0 and 1000 (inclusive)\n",
    "np.arange(0,1001,7)"
   ]
  },
  {
   "cell_type": "markdown",
   "metadata": {
    "id": "_6DMjCQIb3uF"
   },
   "source": [
    "Although simple, this function can be pretty powerful in terms of what it can do. Here are some examples:"
   ]
  },
  {
   "cell_type": "code",
   "execution_count": 9,
   "metadata": {
    "id": "Zrgl0bxrc3CL"
   },
   "outputs": [
    {
     "name": "stdout",
     "output_type": "stream",
     "text": [
      "Square numbers from 0 to 25:\n",
      "[0, 1, 4, 9, 16, 25, 36, 49, 64, 81, 100, 121, 144, 169, 196, 225, 256, 289, 324, 361, 400, 441, 484, 529, 576] \n",
      "\n",
      "First 25 fibonacci numbers:\n",
      "[    1     1     2     3     5     8    13    21    34    55    89   144\n",
      "   233   377   610   987  1597  2584  4181  6765 10946 17711 28657 46368\n",
      " 75025]\n"
     ]
    }
   ],
   "source": [
    "# Generate all square numbers from 0 to 25\n",
    "print(\"Square numbers from 0 to 25:\")\n",
    "np_squares = [i**2 for i in np.arange(25)]\n",
    "print(np_squares, '\\n')\n",
    "\n",
    "# Generate the first 25 Fibonacci numbers\n",
    "print(\"First 25 fibonacci numbers:\")\n",
    "n = np.arange(1, 26)\n",
    "sqrt5 = np.sqrt(5)\n",
    "phi = (1 + sqrt5)/2\n",
    "fibonacci = np.rint((phi**n - (-1 / phi)**n) / sqrt5).astype('int')\n",
    "print(fibonacci)"
   ]
  },
  {
   "cell_type": "markdown",
   "metadata": {
    "id": "2jbMxzz4_VZ5"
   },
   "source": [
    "Here are some other useful functions similar to the ones discussed above.\n",
    "\n",
    "- [`np.zeros_like`](https://numpy.org/doc/stable/reference/generated/numpy.zeros_like.html)/ [`np.ones_like`](https://numpy.org/doc/stable/reference/generated/numpy.ones_like.html) : creates an array of only 0s/ 1s of the same shape as input\n",
    "- [`np.full`](https://numpy.org/doc/stable/reference/generated/numpy.full.html) : creates an of given shape and some user entered value\n",
    "- [`np.linspace`](https://numpy.org/doc/stable/reference/generated/numpy.linspace.html) : creates an array containing evenly spaced values in a given range\n",
    "\n",
    "Here are some examples below:"
   ]
  },
  {
   "cell_type": "code",
   "execution_count": 10,
   "metadata": {
    "id": "GmuMqW5Fixhd"
   },
   "outputs": [
    {
     "name": "stdout",
     "output_type": "stream",
     "text": [
      "7x7 array between 1 and 49:\n",
      "[[ 1  2  3  4  5  6  7]\n",
      " [ 8  9 10 11 12 13 14]\n",
      " [15 16 17 18 19 20 21]\n",
      " [22 23 24 25 26 27 28]\n",
      " [29 30 31 32 33 34 35]\n",
      " [36 37 38 39 40 41 42]\n",
      " [43 44 45 46 47 48 49]] \n",
      "\n"
     ]
    }
   ],
   "source": [
    "# Generating a 7x7 array\n",
    "print(\"7x7 array between 1 and 49:\")\n",
    "arr = np.arange(1, 50).reshape((7,7))\n",
    "print(arr, '\\n')"
   ]
  },
  {
   "cell_type": "code",
   "execution_count": 11,
   "metadata": {
    "id": "2Ov5qceogwzk"
   },
   "outputs": [
    {
     "name": "stdout",
     "output_type": "stream",
     "text": [
      "7x7 array of 0s:\n",
      "[[0 0 0 0 0 0 0]\n",
      " [0 0 0 0 0 0 0]\n",
      " [0 0 0 0 0 0 0]\n",
      " [0 0 0 0 0 0 0]\n",
      " [0 0 0 0 0 0 0]\n",
      " [0 0 0 0 0 0 0]\n",
      " [0 0 0 0 0 0 0]] \n",
      "\n"
     ]
    }
   ],
   "source": [
    "# Generating a 7x7 array full of 0s\n",
    "print(\"7x7 array of 0s:\")\n",
    "zero_arr = np.zeros_like(arr)\n",
    "print(zero_arr, '\\n')"
   ]
  },
  {
   "cell_type": "code",
   "execution_count": 12,
   "metadata": {
    "id": "cPtLx6PbgzOg"
   },
   "outputs": [
    {
     "name": "stdout",
     "output_type": "stream",
     "text": [
      "7x7 array of 1s:\n",
      "[[1 1 1 1 1 1 1]\n",
      " [1 1 1 1 1 1 1]\n",
      " [1 1 1 1 1 1 1]\n",
      " [1 1 1 1 1 1 1]\n",
      " [1 1 1 1 1 1 1]\n",
      " [1 1 1 1 1 1 1]\n",
      " [1 1 1 1 1 1 1]] \n",
      "\n"
     ]
    }
   ],
   "source": [
    "# Generating a 7x7 array full of 1s\n",
    "print(\"7x7 array of 1s:\")\n",
    "ones_arr = np.ones_like(arr)\n",
    "print(ones_arr, '\\n')"
   ]
  },
  {
   "cell_type": "code",
   "execution_count": 13,
   "metadata": {
    "id": "R1Iq8QpKg1Kp"
   },
   "outputs": [
    {
     "name": "stdout",
     "output_type": "stream",
     "text": [
      "7x7 array of 7s:\n",
      "[[7 7 7 7 7 7 7]\n",
      " [7 7 7 7 7 7 7]\n",
      " [7 7 7 7 7 7 7]\n",
      " [7 7 7 7 7 7 7]\n",
      " [7 7 7 7 7 7 7]\n",
      " [7 7 7 7 7 7 7]\n",
      " [7 7 7 7 7 7 7]] \n",
      "\n"
     ]
    }
   ],
   "source": [
    "# Generating a 7x7 array full of 7s\n",
    "print(\"7x7 array of 7s:\")\n",
    "ones_arr = np.full((7,7), 7)\n",
    "print(ones_arr, '\\n')"
   ]
  },
  {
   "cell_type": "code",
   "execution_count": 14,
   "metadata": {
    "id": "sQjkGdMug3Ra"
   },
   "outputs": [
    {
     "name": "stdout",
     "output_type": "stream",
     "text": [
      "Array of values between 1 and 10 (sampled into 10 equal spaces):\n"
     ]
    },
    {
     "data": {
      "text/plain": [
       "array([ 1.,  2.,  3.,  4.,  5.,  6.,  7.,  8.,  9., 10.])"
      ]
     },
     "execution_count": 14,
     "metadata": {},
     "output_type": "execute_result"
    }
   ],
   "source": [
    "# TODO: Generate a vector space between 1 and 10\n",
    "# Into 10 equal spaced values:\n",
    "print(\"Array of values between 1 and 10 (sampled into 10 equal spaces):\")\n",
    "np.linspace(1,10,10)"
   ]
  },
  {
   "cell_type": "code",
   "execution_count": 15,
   "metadata": {
    "id": "_Qq5Ybstg328"
   },
   "outputs": [
    {
     "name": "stdout",
     "output_type": "stream",
     "text": [
      "Array of values between 1 and 10 (sampled into 50 equal spaces):\n"
     ]
    },
    {
     "data": {
      "text/plain": [
       "array([ 1.        ,  1.18367347,  1.36734694,  1.55102041,  1.73469388,\n",
       "        1.91836735,  2.10204082,  2.28571429,  2.46938776,  2.65306122,\n",
       "        2.83673469,  3.02040816,  3.20408163,  3.3877551 ,  3.57142857,\n",
       "        3.75510204,  3.93877551,  4.12244898,  4.30612245,  4.48979592,\n",
       "        4.67346939,  4.85714286,  5.04081633,  5.2244898 ,  5.40816327,\n",
       "        5.59183673,  5.7755102 ,  5.95918367,  6.14285714,  6.32653061,\n",
       "        6.51020408,  6.69387755,  6.87755102,  7.06122449,  7.24489796,\n",
       "        7.42857143,  7.6122449 ,  7.79591837,  7.97959184,  8.16326531,\n",
       "        8.34693878,  8.53061224,  8.71428571,  8.89795918,  9.08163265,\n",
       "        9.26530612,  9.44897959,  9.63265306,  9.81632653, 10.        ])"
      ]
     },
     "execution_count": 15,
     "metadata": {},
     "output_type": "execute_result"
    }
   ],
   "source": [
    "# TODO: Into 50 equal spaced values:\n",
    "print(\"Array of values between 1 and 10 (sampled into 50 equal spaces):\")  # 50 is the default spacing for linspace\n",
    "np.linspace(1,10,50)"
   ]
  },
  {
   "cell_type": "markdown",
   "metadata": {
    "id": "tFKAmWaylE8A"
   },
   "source": [
    "Here's a more complicated example using `np.linspace`. What is this function doing?"
   ]
  },
  {
   "cell_type": "code",
   "execution_count": 16,
   "metadata": {
    "id": "8LpHTX4JlDgv"
   },
   "outputs": [
    {
     "data": {
      "text/plain": [
       "<matplotlib.image.AxesImage at 0x10e9187c0>"
      ]
     },
     "execution_count": 16,
     "metadata": {},
     "output_type": "execute_result"
    },
    {
     "data": {
      "image/png": "[encoded data removed]",
      "text/plain": [
       "<Figure size 640x480 with 1 Axes>"
      ]
     },
     "metadata": {},
     "output_type": "display_data"
    }
   ],
   "source": [
    "# Run this code, what is it doing?\n",
    "d = 8\n",
    "s = 5\n",
    "f = np.zeros([d, d])\n",
    "lin = np.linspace(-(d - 1) / 2., (d - 1) / 2., d)\n",
    "mystery_val = np.exp(-0.5 * np.square(lin) / (np.square(s)))\n",
    "mystery_arr = np.outer(mystery_val, mystery_val)\n",
    "myster_arr = mystery_arr/mystery_arr.sum()\n",
    "\n",
    "plt.imshow(mystery_arr, interpolation='none')"
   ]
  },
  {
   "cell_type": "markdown",
   "metadata": {
    "id": "MbCwNBSCIprA"
   },
   "source": [
    "Often, you'll find it useful to make copies of an array. However, assignment statements in Python do not copy objects, they create bindings between a target and an object. Numpy provides a useful function create copies that you can mutate without changing the original. Below, try making shallow and deep copies of an array."
   ]
  },
  {
   "cell_type": "code",
   "execution_count": 17,
   "metadata": {
    "id": "qoembYFSJtz-"
   },
   "outputs": [
    {
     "name": "stdout",
     "output_type": "stream",
     "text": [
      "Original array:  [5 2 3 4]\n",
      "Shallow copy:  [5 2 3 4]\n",
      "\n",
      "\n",
      "Original array:  [1 2 3 4]\n",
      "Deep copy:  [  1   2 111   4]\n"
     ]
    }
   ],
   "source": [
    "arr = np.array([1, 2, 3, 4])\n",
    "\n",
    "# TODO: Make a shallow copy of \"arr\" and assign to \"shallow_cpy\".\n",
    "#       Then, set the first entry of \"shallow_cpy\" to 5.\n",
    "#       Is the value updated in both arrays?\n",
    "shallow_cpy = arr\n",
    "shallow_cpy[0] = 5\n",
    "\n",
    "print(\"Original array: \", arr)\n",
    "print(\"Shallow copy: \", shallow_cpy)\n",
    "print('\\n')\n",
    "\n",
    "arr = np.array([1, 2, 3, 4])\n",
    "\n",
    "# TODO: Make a deep copy of \"arr\" and assign to \"deep_cpy\" using np.copy().\n",
    "#       Then, set the third entry of \"deep_cpy\" to 111.\n",
    "#       Is the value updated in both arrays?\n",
    "deep_cpy = np.copy(arr)\n",
    "deep_cpy[2] = 111\n",
    "\n",
    "print(\"Original array: \", arr)\n",
    "print(\"Deep copy: \", deep_cpy)"
   ]
  },
  {
   "cell_type": "markdown",
   "metadata": {
    "id": "_SlwKbU7Ln21"
   },
   "source": [
    "Now, to help increase your fluency, try the exercises below."
   ]
  },
  {
   "cell_type": "code",
   "execution_count": 18,
   "metadata": {
    "id": "pajsBKeyLp2z"
   },
   "outputs": [
    {
     "data": {
      "text/plain": [
       "array([0., 0., 0., 0., 0., 0., 0., 0., 0., 0., 0., 0., 0., 0., 0., 0., 0.,\n",
       "       0., 0., 0.])"
      ]
     },
     "execution_count": 18,
     "metadata": {},
     "output_type": "execute_result"
    }
   ],
   "source": [
    "# TODO: Create a null vector of size 20\n",
    "np.zeros(20)"
   ]
  },
  {
   "cell_type": "code",
   "execution_count": 19,
   "metadata": {
    "id": "eH1gRiJgJYpb"
   },
   "outputs": [
    {
     "data": {
      "text/plain": [
       "array([1001,  990,  979,  968,  957,  946,  935,  924,  913,  902,  891,\n",
       "        880,  869,  858,  847,  836,  825,  814,  803,  792,  781,  770,\n",
       "        759,  748,  737,  726,  715,  704,  693,  682,  671,  660,  649,\n",
       "        638,  627,  616,  605,  594,  583,  572,  561,  550,  539,  528,\n",
       "        517,  506,  495,  484,  473,  462,  451,  440,  429,  418,  407,\n",
       "        396,  385,  374,  363,  352,  341,  330,  319,  308,  297,  286,\n",
       "        275,  264,  253,  242,  231,  220,  209,  198,  187,  176,  165,\n",
       "        154,  143,  132,  121,  110,   99,   88,   77,   66,   55,   44,\n",
       "         33,   22,   11])"
      ]
     },
     "execution_count": 19,
     "metadata": {},
     "output_type": "execute_result"
    }
   ],
   "source": [
    "# TODO: Create a vector with all multiples of 11 between 1000 and 0 (highest to lowest)\n",
    "# Hint: what is the the highest multiple of 11 less than a 1000 (use np.arange)\n",
    "np.arange(1001,0,-11)"
   ]
  },
  {
   "cell_type": "code",
   "execution_count": 20,
   "metadata": {
    "id": "VbvD2pDHJZvj"
   },
   "outputs": [
    {
     "data": {
      "text/plain": [
       "array([10, 10, 10, 10, 10, 10, 10, 10, 10, 10])"
      ]
     },
     "execution_count": 20,
     "metadata": {},
     "output_type": "execute_result"
    }
   ],
   "source": [
    "# TODO: Generate an array containing only 10s using only arrays created by np.arange\n",
    "# Hint: create two arrays and subtract them\n",
    "import numpy as np\n",
    "\n",
    "arr1 = np.arange(10, 30, 2)\n",
    "arr2 = np.arange(0, 20, 2)\n",
    "\n",
    "arr1 - arr2"
   ]
  },
  {
   "cell_type": "markdown",
   "metadata": {
    "id": "Iix9CtAEEhMm"
   },
   "source": [
    "## Matplotlib\n",
    "Matplotlib is a python library used for data visualization. In computer vision applications, matplotlib is useful for displaying, annotating, and plotting images/data. When working with image processing tasks, visualizing images at each step is crucial to ensure that the manipulations are producing the desired results. Below, we look at several functions that will **make your life easier** in this course.\n",
    "\n",
    "\n",
    "\n",
    "*   `plt.plot()`: [docs](https://matplotlib.org/stable/api/_as_gen/matplotlib.pyplot.plot.html)\n",
    "*   `plt.scatter()`: [docs](https://matplotlib.org/stable/api/_as_gen/matplotlib.pyplot.scatter.html)\n",
    "*   `plt.imshow()`: [docs](https://matplotlib.org/stable/api/_as_gen/matplotlib.pyplot.imshow.html)"
   ]
  },
  {
   "cell_type": "code",
   "execution_count": 21,
   "metadata": {
    "id": "5U6fLkVlL7d-"
   },
   "outputs": [
    {
     "data": {
      "image/png": "[encoded data removed]",
      "text/plain": [
       "<Figure size 640x480 with 1 Axes>"
      ]
     },
     "metadata": {},
     "output_type": "display_data"
    }
   ],
   "source": [
    "# Plotting graphs\n",
    "x = np.arange(0, 3 * np.pi, 0.1)\n",
    "y = np.sin(x)\n",
    "\n",
    "# Line graph using plt\n",
    "plt.plot(x, y)\n",
    "plt.show()"
   ]
  },
  {
   "cell_type": "code",
   "execution_count": 22,
   "metadata": {},
   "outputs": [
    {
     "data": {
      "image/png": "[encoded data removed]",
      "text/plain": [
       "<Figure size 640x480 with 1 Axes>"
      ]
     },
     "metadata": {},
     "output_type": "display_data"
    }
   ],
   "source": [
    "# Scatter plot using plt\n",
    "plt.scatter(x, y)\n",
    "plt.show()"
   ]
  },
  {
   "cell_type": "code",
   "execution_count": 23,
   "metadata": {
    "id": "f9f1XeayNZED"
   },
   "outputs": [
    {
     "data": {
      "image/png": "[encoded data removed]",
      "text/plain": [
       "<Figure size 640x480 with 1 Axes>"
      ]
     },
     "metadata": {},
     "output_type": "display_data"
    }
   ],
   "source": [
    "# How to label axes in your plots\n",
    "test_x = np.random.randint(0, 100, size=10) #Generating random x-values\n",
    "test_y = np.random.randint(0, 100, size=10) #Generating random y-values\n",
    "\n",
    "plt.plot(test_x, test_y, label = \"test points\")\n",
    "plt.xlabel(\"Label for X-axis\")\n",
    "plt.ylabel(\"Label for Y-axis\")\n",
    "plt.legend()\n",
    "plt.show()"
   ]
  },
  {
   "cell_type": "code",
   "execution_count": 24,
   "metadata": {
    "id": "AGcBPRiuOxE2"
   },
   "outputs": [
    {
     "data": {
      "image/png": "[encoded data removed]",
      "text/plain": [
       "<Figure size 640x480 with 1 Axes>"
      ]
     },
     "metadata": {},
     "output_type": "display_data"
    },
    {
     "data": {
      "image/png": "[encoded data removed]",
      "text/plain": [
       "<Figure size 640x480 with 1 Axes>"
      ]
     },
     "metadata": {},
     "output_type": "display_data"
    }
   ],
   "source": [
    "# How to plot images\n",
    "test_img = np.zeros((5, 5))\n",
    "test_img[2, 2] = 1\n",
    "\n",
    "plt.imshow(test_img)\n",
    "plt.show()\n",
    "\n",
    "# Plotting images without the axes and changing the color map\n",
    "plt.imshow(test_img, cmap=\"gray\")\n",
    "plt.axis('off')\n",
    "plt.show()"
   ]
  },
  {
   "cell_type": "code",
   "execution_count": 25,
   "metadata": {
    "id": "5CIkfMCgPH7-"
   },
   "outputs": [
    {
     "data": {
      "image/png": "[encoded data removed]",
      "text/plain": [
       "<Figure size 400x200 with 2 Axes>"
      ]
     },
     "metadata": {},
     "output_type": "display_data"
    }
   ],
   "source": [
    "test_img = test_img\n",
    "reverse_img = 1 - test_img\n",
    "# How to plot multiple images\n",
    "\n",
    "# Plotting the two images side by side\n",
    "fig, axes = plt.subplots(1, 2, figsize=(4, 2))\n",
    "\n",
    "# Plotting test_img\n",
    "axes[0].imshow(test_img, cmap='gray')\n",
    "axes[0].set_title(\"Test_img\")\n",
    "\n",
    "# Plotting reverse_img\n",
    "axes[1].imshow(reverse_img, cmap='gray')\n",
    "axes[1].set_title(\"reverse_img\")\n",
    "\n",
    "plt.show()"
   ]
  },
  {
   "cell_type": "markdown",
   "metadata": {
    "id": "1464yh4gxNMf"
   },
   "source": [
    "## Working with Arrays\n",
    "Numpy makes it easy to manipulate arrays. So far, we have seen that Numpy arrays can have different dimensions (1D, 2D, etc). This leads to different shapes and it is important to take care of array shapes when performing various arithmetic and linear algebra operations."
   ]
  },
  {
   "cell_type": "markdown",
   "metadata": {
    "id": "ELG2p7YMx_nb"
   },
   "source": [
    "The most basic functions you must know for array manipulations are:\n",
    "* [`np.shape`](https://numpy.org/doc/stable/reference/generated/numpy.shape.html)\n",
    "* [`np.ndarray.ndim`](https://numpy.org/doc/stable/reference/generated/numpy.ndarray.ndim.html)\n",
    "* [`np.reshape`](https://numpy.org/doc/stable/reference/generated/numpy.reshape.html)\n",
    "\n",
    "As you may have already seen, `np.shape` provides the shape of the array. In the context of images, it provides the dimensions of the image. Then, `np.reshape` reorganizes the array to be in the provided shape without changing the data of the array. Lastly, `np.rollaxis` is a function that will move the data of the array around an axis.\n",
    "\n"
   ]
  },
  {
   "cell_type": "code",
   "execution_count": 26,
   "metadata": {
    "id": "3muxCZwrdaVG"
   },
   "outputs": [
    {
     "name": "stdout",
     "output_type": "stream",
     "text": [
      "[1 2 3]\n",
      "This array is 1D\n",
      "This array has the following shape: (3,)\n"
     ]
    }
   ],
   "source": [
    "arr = np.array([1,2,3])\n",
    "print(arr)\n",
    "print(f'This array is {arr.ndim}D')\n",
    "print(f'This array has the following shape: {arr.shape}')"
   ]
  },
  {
   "cell_type": "markdown",
   "metadata": {
    "id": "5PFjUxXMhqiX"
   },
   "source": [
    "Although the above array looks like it could have a shape like (1,3), the printed shape is (3, ). This is because ```arr``` is a 1D array. Let's see the shapes for a 2D array."
   ]
  },
  {
   "cell_type": "code",
   "execution_count": 27,
   "metadata": {
    "id": "DjydioNDidO7"
   },
   "outputs": [
    {
     "name": "stdout",
     "output_type": "stream",
     "text": [
      "[[1 2 3]]\n",
      "This array is 2D\n",
      "This array has the following shape: (1, 3)\n"
     ]
    }
   ],
   "source": [
    "arr = np.array([[1,2,3]]) # notice the [[]] instead of [] here - this is how we create a 2D array using python lists and np.array\n",
    "print(arr)\n",
    "print(f'This array is {arr.ndim}D')\n",
    "print(f'This array has the following shape: {arr.shape}')"
   ]
  },
  {
   "cell_type": "markdown",
   "metadata": {
    "id": "QEjIWqtCi4hX"
   },
   "source": [
    "Similarly for a 3D array..."
   ]
  },
  {
   "cell_type": "code",
   "execution_count": 28,
   "metadata": {
    "id": "NUMIuyCyi168"
   },
   "outputs": [
    {
     "name": "stdout",
     "output_type": "stream",
     "text": [
      "[[[1 2 3]]]\n",
      "This array is 3D\n",
      "This array has the following shape: (1, 1, 3)\n"
     ]
    }
   ],
   "source": [
    "arr = np.array([[[1,2,3]]])\n",
    "print(arr)\n",
    "print(f'This array is {arr.ndim}D')\n",
    "print(f'This array has the following shape: {arr.shape}')"
   ]
  },
  {
   "cell_type": "markdown",
   "metadata": {
    "id": "C9z73quSiz7K"
   },
   "source": [
    "Often we see a shape mismatch error - where our arrays dont match the expected shape although they look right to us. Fortunately, once we have identified the error (quite often an incorrect dimension), we can use the ```np.reshape``` function to fix our arrays."
   ]
  },
  {
   "cell_type": "code",
   "execution_count": 29,
   "metadata": {
    "id": "wGAOQk1nja5J"
   },
   "outputs": [
    {
     "name": "stdout",
     "output_type": "stream",
     "text": [
      "[1 2 3 4 5 6 7 8 9]\n",
      "This array is 1D\n",
      "This array has the following shape: (9,)\n",
      "\n",
      "\n"
     ]
    },
    {
     "data": {
      "text/plain": [
       "array([[1, 2, 3],\n",
       "       [4, 5, 6],\n",
       "       [7, 8, 9]])"
      ]
     },
     "execution_count": 29,
     "metadata": {},
     "output_type": "execute_result"
    }
   ],
   "source": [
    "arr = np.array([1,2,3,4,5,6,7,8,9])\n",
    "print(arr)\n",
    "print(f'This array is {arr.ndim}D')\n",
    "print(f'This array has the following shape: {arr.shape}')\n",
    "print('\\n')\n",
    "\n",
    "# TODO: Use np.reshape to convert to shape (3,3) and print out its shape\n",
    "np.reshape(arr, (3,3))\n",
    "# TODO: Now try to convert arr to shape (3,4). What result do you get? Why?"
   ]
  },
  {
   "cell_type": "markdown",
   "metadata": {
    "id": "jS91oJ3hn2q_"
   },
   "source": [
    "You can use [`np.sum`](https://numpy.org/doc/stable/reference/generated/numpy.sum.html) to add values throughout the entire array, or along certain axes only."
   ]
  },
  {
   "cell_type": "code",
   "execution_count": 30,
   "metadata": {
    "id": "YcZEy7SIqg-f"
   },
   "outputs": [
    {
     "name": "stdout",
     "output_type": "stream",
     "text": [
      "Input array: \n",
      " [[0 1 2]\n",
      " [3 4 5]] \n",
      "\n",
      "Sum of entire array: \n",
      " 15 \n",
      "\n",
      "Sum of rows: \n",
      " [ 3 12] \n",
      "\n",
      "Sum of columns: \n",
      " [3 5 7]\n"
     ]
    }
   ],
   "source": [
    "arr = np.arange(0, 6).reshape([2,3])\n",
    "print(\"Input array: \\n\", arr, \"\\n\")\n",
    "\n",
    "# TODO: sum all values in the array \"arr\", and assign the result to sum_all\n",
    "sum_all = np.sum(arr)\n",
    "print(\"Sum of entire array: \\n\", sum_all, \"\\n\")\n",
    "\n",
    "# TODO: sum all rows in the array \"arr\", and assign the result to sum_row\n",
    "# >>> START >>>\n",
    "sum_row = np.sum(arr, axis = 1)\n",
    "# <<< END <<<\n",
    "print(\"Sum of rows: \\n\", sum_row, \"\\n\")\n",
    "\n",
    "# TODO: sum all columns in the array \"arr\", and assign the result to sum_col\n",
    "sum_col = np.sum(arr, axis = 0)\n",
    "print(\"Sum of columns: \\n\", sum_col)"
   ]
  },
  {
   "cell_type": "markdown",
   "metadata": {
    "id": "dJ3yYp-NrNvc"
   },
   "source": [
    "You can use [`np.concatenate()`](https://numpy.org/doc/stable/reference/generated/numpy.concatenate.html) to merge two arrays into one."
   ]
  },
  {
   "cell_type": "code",
   "execution_count": 31,
   "metadata": {
    "id": "OU_AtdYIrRbS"
   },
   "outputs": [
    {
     "name": "stdout",
     "output_type": "stream",
     "text": [
      "arr_1s: \n",
      " [[1 1 1]\n",
      " [1 1 1]] \n",
      "\n",
      "arr_9s: \n",
      " [[9 9 9]\n",
      " [9 9 9]] \n",
      "\n",
      "[[1 1 1]\n",
      " [1 1 1]\n",
      " [9 9 9]\n",
      " [9 9 9]] \n",
      "\n",
      "[[1 1 1 9 9 9]\n",
      " [1 1 1 9 9 9]]\n"
     ]
    }
   ],
   "source": [
    "arr_1s = np.array([[1,1,1],\n",
    "                   [1,1,1]])\n",
    "\n",
    "arr_9s = np.array([[9,9,9],\n",
    "                   [9,9,9]])\n",
    "\n",
    "print(\"arr_1s: \\n\", arr_1s, \"\\n\")\n",
    "print(\"arr_9s: \\n\", arr_9s, \"\\n\")\n",
    "\n",
    "# TODO: Create and print a 4x3 numpy array using the above two 2x3 arrays.\n",
    "print(np.concatenate([arr_1s, arr_9s]), \"\\n\")\n",
    "\n",
    "# TODO: Create and print a 2x6 numpy array using the above two 2x3 arrays.\n",
    "print(np.concatenate([arr_1s, arr_9s], axis = 1))\n"
   ]
  },
  {
   "cell_type": "markdown",
   "metadata": {
    "id": "uJwn-lwWqfZX"
   },
   "source": [
    "Now, try applying this in a 3D matrix."
   ]
  },
  {
   "cell_type": "code",
   "execution_count": 32,
   "metadata": {
    "id": "0-c3QOTAmKTt"
   },
   "outputs": [
    {
     "name": "stdout",
     "output_type": "stream",
     "text": [
      "arr: \n",
      " [[[0 1]\n",
      "  [2 3]]\n",
      "\n",
      " [[4 5]\n",
      "  [6 7]]] \n",
      "\n",
      "mat1: \n",
      " [[ 2  4]\n",
      " [10 12]] \n",
      "\n",
      "mat2: \n",
      " [[ 1  5]\n",
      " [ 9 13]] \n",
      "\n",
      "mat3: \n",
      " [[ 4  6]\n",
      " [ 8 10]]\n"
     ]
    }
   ],
   "source": [
    "arr = np.arange(0, 8).reshape(2,2,2)\n",
    "print(\"arr: \\n\", arr, \"\\n\")\n",
    "\n",
    "# TODO: Use np.sum to produce the following 2x2 matrices, and assign them to the\n",
    "#       requested variable (mat1, mat2, mat3):\n",
    "# [[ 2  4]\n",
    "#  [10 12]]\n",
    "mat1 = np.sum(arr, axis = 1)\n",
    "\n",
    "#  [[ 1  5]\n",
    "#   [ 9 13]]\n",
    "mat2 = np.sum(arr, axis = 2) # Depth\n",
    "\n",
    "#  [[ 4  6]\n",
    "#   [ 8 10]]\n",
    "mat3 = np.sum(arr, axis = 0)\n",
    "\n",
    "# Let's print your answers here\n",
    "print(\"mat1: \\n\", mat1, \"\\n\")\n",
    "print(\"mat2: \\n\", mat2, \"\\n\")\n",
    "print(\"mat3: \\n\", mat3)"
   ]
  },
  {
   "cell_type": "code",
   "execution_count": 33,
   "metadata": {
    "id": "8KSJHtfw2gI-"
   },
   "outputs": [
    {
     "name": "stdout",
     "output_type": "stream",
     "text": [
      "[1 1 1 9 9 9]\n"
     ]
    }
   ],
   "source": [
    "arr_1s = np.array([1,1,1])\n",
    "arr_9s = np.array([9,9,9])\n",
    "\n",
    "# TODO: Try concatenating these for axis = 0, 1 and 2. What happens? Why?\n",
    "print(np.concatenate([arr_1s, arr_9s], axis = 0)) # 1D dimension"
   ]
  },
  {
   "cell_type": "markdown",
   "metadata": {
    "id": "cv4xYL_il2Z_"
   },
   "source": [
    "We can further convert any array (any dimension, any shape) into a 1D array using `flatten` ([docs](https://numpy.org/doc/stable/reference/generated/numpy.ndarray.flatten.html))"
   ]
  },
  {
   "cell_type": "code",
   "execution_count": 34,
   "metadata": {
    "id": "tywHVi06lNvY"
   },
   "outputs": [
    {
     "name": "stdout",
     "output_type": "stream",
     "text": [
      "Original array\n",
      " [[1 2 3]\n",
      " [4 5 6]\n",
      " [7 8 9]] \n",
      "with shape (3, 3) and dimension 2 \n",
      "\n",
      "Flattened array\n",
      " [1 2 3 4 5 6 7 8 9] \n",
      "with shape (9,) and dimension 1\n"
     ]
    }
   ],
   "source": [
    "arr = np.array([1,2,3,4,5,6,7,8,9]).reshape((3,3))\n",
    "print(f'Original array\\n {arr} \\nwith shape {arr.shape} and dimension {arr.ndim} \\n')\n",
    "\n",
    "arr_flatten = arr.flatten()\n",
    "print(f'Flattened array\\n {arr_flatten} \\nwith shape {arr_flatten.shape} and dimension {arr_flatten.ndim}')"
   ]
  },
  {
   "cell_type": "markdown",
   "metadata": {
    "id": "rBy6bvYTwidO"
   },
   "source": [
    "Or create new dimensions with [`np.expand_dims`](https://numpy.org/doc/stable/reference/generated/numpy.expand_dims.html)."
   ]
  },
  {
   "cell_type": "code",
   "execution_count": 35,
   "metadata": {
    "id": "h52mzJGyhTaA"
   },
   "outputs": [
    {
     "name": "stdout",
     "output_type": "stream",
     "text": [
      "Array:\n",
      " [[1 2]\n",
      " [7 8]]\n",
      "Array shape:  (2, 2) \n",
      "\n",
      "Expanded Array:\n",
      " [[[1 2]\n",
      "  [7 8]]]\n",
      "Expanded array shape:  (1, 2, 2) \n",
      "\n",
      "Expanded Array:\n",
      " [[[1 2]]\n",
      "\n",
      " [[7 8]]]\n",
      "Expanded array shape:  (2, 1, 2) \n",
      "\n",
      "Expanded Array:\n",
      " [[[1]\n",
      "  [2]]\n",
      "\n",
      " [[7]\n",
      "  [8]]]\n",
      "Expanded array shape:  (2, 2, 1)\n"
     ]
    }
   ],
   "source": [
    "# Reference array\n",
    "arr = np.array([[1, 2], [7, 8]])\n",
    "print(\"Array:\\n\", arr)\n",
    "print(\"Array shape: \", arr.shape, \"\\n\")\n",
    "\n",
    "arr0 = np.expand_dims(arr, axis = 0)\n",
    "print(\"Expanded Array:\\n\", arr0)\n",
    "print(\"Expanded array shape: \", arr0.shape, \"\\n\")\n",
    "\n",
    "arr1 = np.expand_dims(arr, axis = 1)\n",
    "print(\"Expanded Array:\\n\", arr1)\n",
    "print(\"Expanded array shape: \", arr1.shape, \"\\n\")\n",
    "\n",
    "arr2 = np.expand_dims(arr, axis = 2)\n",
    "print(\"Expanded Array:\\n\", arr2)\n",
    "print(\"Expanded array shape: \", arr2.shape)"
   ]
  },
  {
   "cell_type": "markdown",
   "metadata": {
    "id": "1KJrDOcTsB9Q"
   },
   "source": [
    "## Array Indexing\n",
    "Numpy provides powerful indexing routines that help you manipulate arrays with ease."
   ]
  },
  {
   "cell_type": "code",
   "execution_count": 36,
   "metadata": {
    "id": "N2pXvw43VEFV"
   },
   "outputs": [
    {
     "name": "stdout",
     "output_type": "stream",
     "text": [
      "Reference array:\n",
      "[[1 2 3]\n",
      " [4 5 6]\n",
      " [7 8 9]] \n",
      "\n",
      "Element in 2nd row and 3rd column: \n",
      " 6 \n",
      "\n",
      "Spliced array: \n",
      " [[4 5]\n",
      " [7 8]] \n",
      "\n",
      "Last column: \n",
      " [3 6 9]\n"
     ]
    }
   ],
   "source": [
    "# Reference array\n",
    "print(\"Reference array:\")\n",
    "arr = np.array([[1,2,3], [4,5,6], [7,8,9]])\n",
    "print(arr, '\\n')\n",
    "\n",
    "# TODO: Get the element in the 2nd row and 3rd column of \"arr\" and assign it to \"val\"\n",
    "val = arr[1][2]\n",
    "print(\"Element in 2nd row and 3rd column: \\n\", val, '\\n')\n",
    "\n",
    "# TODO: Produce a 2x2 numpy array that looks like the following using array\n",
    "#       slicing on \"arr\" and assign it to \"arr_slice\"\n",
    "# [[4 5]\n",
    "#  [7 8]]\n",
    "arr_slice = arr[1:,0:2]\n",
    "print(\"Spliced array: \\n\", arr_slice, '\\n')\n",
    "\n",
    "# TODO : Get the last column of \"arr\" and assign it to \"arr_slice2\"\n",
    "arr_slice2 = val = arr[:,-1]\n",
    "print(\"Last column: \\n\", arr_slice2)"
   ]
  },
  {
   "cell_type": "markdown",
   "metadata": {
    "id": "eM6_t6y6SCLA"
   },
   "source": [
    "A common question we receive from students is about creating copies using slicing. Slicing in Numpy doesn't create a copy (like Python) but rather a *view* of a numpy array. Changes made to views of an array are reflected in the original.\n"
   ]
  },
  {
   "cell_type": "code",
   "execution_count": 37,
   "metadata": {
    "id": "RAKGNGx9RBUy"
   },
   "outputs": [
    {
     "name": "stdout",
     "output_type": "stream",
     "text": [
      "[[8 8 8]\n",
      " [8 8 8]] \n",
      "\n",
      "After making a change in the copy, printing the copy\n",
      "[[9 8 8]\n",
      " [8 8 8]]\n",
      "\n",
      "\n",
      "After making a change in the copy, printing the original\n",
      "[[9 8 8]\n",
      " [8 8 8]]\n"
     ]
    }
   ],
   "source": [
    "arr = np.full((2,3), 8)\n",
    "print(arr, \"\\n\")\n",
    "arr_cp = arr[:]\n",
    "\n",
    "arr_cp[0,0] = 9\n",
    "print(\"After making a change in the copy, printing the copy\")\n",
    "print(arr_cp)\n",
    "print('\\n')\n",
    "\n",
    "print(\"After making a change in the copy, printing the original\")\n",
    "print(arr)"
   ]
  },
  {
   "cell_type": "markdown",
   "metadata": {
    "id": "sZmlIazGmziP"
   },
   "source": [
    "Now, let's try to leverage some of the capabilites of array indexing. Let's do this by looking at two commonly used functions:\n",
    "* [`np.where`](https://numpy.org/doc/stable/reference/generated/numpy.where.html)\n",
    "* [`np.indices`](https://numpy.org/doc/stable/reference/generated/numpy.indices.html#numpy.indices)"
   ]
  },
  {
   "cell_type": "markdown",
   "metadata": {
    "id": "zKh27GQFok9h"
   },
   "source": [
    "For `np.where`, numpy will scan an array and returns the elements where the conditions have been met. Let's look at some examples:"
   ]
  },
  {
   "cell_type": "code",
   "execution_count": 38,
   "metadata": {
    "id": "fyZ2WW4Eo6hI"
   },
   "outputs": [
    {
     "name": "stdout",
     "output_type": "stream",
     "text": [
      "[[1 2 3]\n",
      " [4 5 6]] \n",
      "\n",
      "Indices of elements < 4\n",
      "Indices of elements < 4: (array([0, 0, 0]), array([0, 1, 2]))\n",
      "Elements < 4: [1 2 3] \n",
      "\n",
      "Indices of even elements\n",
      "Indices of even elements: (array([0, 1, 1]), array([1, 0, 2]))\n",
      "Even elements: [2 4 6]\n"
     ]
    }
   ],
   "source": [
    "arr = np.array([[1, 2, 3], [4, 5, 6]])\n",
    "print(arr, '\\n')\n",
    "\n",
    "print(\"Indices of elements < 4\")\n",
    "# TODO: find all the elements in the array < 4\n",
    "# Find indices of elements < 4\n",
    "indices_less_than_4 = np.where(arr < 4)\n",
    "print(\"Indices of elements < 4:\", indices_less_than_4)\n",
    "print(\"Elements < 4:\", arr[indices_less_than_4], '\\n')\n",
    "\n",
    "# Condition we want to check\n",
    "print(\"Indices of even elements\")\n",
    "# TODO: find all the even elements in the array\n",
    "indices_even = np.where(arr % 2 == 0)\n",
    "print(\"Indices of even elements:\", indices_even)\n",
    "print(\"Even elements:\", arr[indices_even])"
   ]
  },
  {
   "cell_type": "markdown",
   "metadata": {
    "id": "J5CcASupqI3t"
   },
   "source": [
    "Now let's look at `np.indices`. This is easiest explained through an example. Suppose we create a 2x2 matrix. Now, let's unpack the indices and see the results."
   ]
  },
  {
   "cell_type": "code",
   "execution_count": 39,
   "metadata": {
    "id": "iIRTOnV_qodF"
   },
   "outputs": [
    {
     "name": "stdout",
     "output_type": "stream",
     "text": [
      "The ith indices: \n",
      "[[0 0]\n",
      " [1 1]] \n",
      "\n",
      "The jth indices: \n",
      "[[0 1]\n",
      " [0 1]] \n",
      "\n"
     ]
    }
   ],
   "source": [
    "# Create array\n",
    "ids = np.indices((2,2))\n",
    "\n",
    "# Unpack the indices\n",
    "i, j = ids\n",
    "\n",
    "# Print the i indices\n",
    "print(\"The ith indices: \")\n",
    "print(i, '\\n')\n",
    "print(\"The jth indices: \")\n",
    "print(j, '\\n')"
   ]
  },
  {
   "cell_type": "markdown",
   "metadata": {
    "id": "RvmOhs4xrGVz"
   },
   "source": [
    "This may not make much sense at first. Let's take a moment to understand what `i` and `j` actually represent. Consider the 2x2 grid again, what are all the `(i, j)` pairs? Well, we can see that we get `(0,0), (0,1), (1,0), (1,1)`.\n",
    "\n",
    "So, it can be seen that the `i` represents a matrix of all the `ith` positions of elmenents and `j` represents a matrix of all the `jth` positions of elements in the 2x2 grid."
   ]
  },
  {
   "cell_type": "markdown",
   "metadata": {
    "id": "cecj62zzdWOq"
   },
   "source": [
    "## A note about types"
   ]
  },
  {
   "cell_type": "markdown",
   "metadata": {
    "id": "9zgKDtGpdoo3"
   },
   "source": [
    "The ```type``` function from python when applied on a numpy array returns the type of the array itself - which is ```numpy.ndarray```. To check the type of the elements inside a numpy array, we need to check its ```dtype``` attribute.\n",
    "\n"
   ]
  },
  {
   "cell_type": "code",
   "execution_count": 40,
   "metadata": {
    "id": "dVaR-r-Hdadi"
   },
   "outputs": [
    {
     "name": "stdout",
     "output_type": "stream",
     "text": [
      "<class 'numpy.ndarray'>\n",
      "int64\n"
     ]
    }
   ],
   "source": [
    "arr = np.array([[1,2,3],\n",
    "                 [4,5,6]])\n",
    "print(type(arr))\n",
    "\n",
    "# TODO: check the type of the elements in the numpy array 'arr' defined above\n",
    "#       using the \"dtype\" attribute\n",
    "print(arr.dtype)"
   ]
  },
  {
   "cell_type": "markdown",
   "metadata": {
    "id": "ps702ILrfGA9"
   },
   "source": [
    "Usually, numpy infers the type of the array's elements when the array is created. However, it is possible to specify the type while creating the array as well as change the type."
   ]
  },
  {
   "cell_type": "code",
   "execution_count": 41,
   "metadata": {
    "id": "X-wxQg64fFiC"
   },
   "outputs": [
    {
     "name": "stdout",
     "output_type": "stream",
     "text": [
      "float64\n",
      "int64\n"
     ]
    }
   ],
   "source": [
    "# TODO: use the np.arange method to create an array containing elements\n",
    "#       (in the range 0 to 9, inclusive) of type float32\n",
    "# Hint: look for the \"dtype\" parameter in the documentation for np.arange()\n",
    "arr = np.arange(0,10,dtype = float)\n",
    "print(arr.dtype)\n",
    "\n",
    "# TODO: change the dtype of the array you defined above to int64\n",
    "#       using \"astype\"\n",
    "arr = arr.astype(int)\n",
    "print(arr.dtype)"
   ]
  },
  {
   "cell_type": "markdown",
   "metadata": {
    "id": "7ckT06ptn9pb"
   },
   "source": [
    "## Broadcasting & Vectorization\n",
    "One of the biggest benefits of using numpy is broadcasting, which refers to how numpy treats operations on arrays with different shapes. Broadcasting allows us to vectorize array operations so that looping occurs in C instead of Python. This makes our algorithms run much faster (often >100x faster).\n",
    "\n",
    "Generally, best practice for this class is to avoid for loops whenever possible.\n",
    "We can benchmark the performance of these two methods with the [`%timeit`](https://ipython.readthedocs.io/en/stable/interactive/magics.html) magic command."
   ]
  },
  {
   "cell_type": "code",
   "execution_count": 42,
   "metadata": {
    "id": "h3rV2KXe0JqW"
   },
   "outputs": [
    {
     "name": "stdout",
     "output_type": "stream",
     "text": [
      "Python:\n",
      "118 ms ± 1.52 ms per loop (mean ± std. dev. of 7 runs, 10 loops each)\n",
      "Numpy:\n",
      "768 µs ± 47 µs per loop (mean ± std. dev. of 7 runs, 1,000 loops each)\n"
     ]
    }
   ],
   "source": [
    "# Define two random arrays\n",
    "arr1 = np.random.rand(1000000)\n",
    "arr2 = np.random.rand(1000000)\n",
    "\n",
    "def mult_arr_naive(arr1, arr2):\n",
    "  new_arr = np.copy(arr1)\n",
    "  for i in range(len(arr1)):\n",
    "    new_arr = arr1[i] * arr2[i]\n",
    "\n",
    "def mult_arr(arr1, arr2):\n",
    "  return arr1 * arr2\n",
    "\n",
    "print(\"Python:\")\n",
    "%timeit mult_arr_naive(arr1, arr2)\n",
    "print(\"Numpy:\")\n",
    "%timeit mult_arr(arr1, arr2)"
   ]
  },
  {
   "cell_type": "markdown",
   "metadata": {
    "id": "BjrV_Lk3ov-T"
   },
   "source": [
    "Now, let's try applying a functions to a numpy array without having to write any for loops:"
   ]
  },
  {
   "cell_type": "code",
   "execution_count": 43,
   "metadata": {
    "id": "_CAv3J5yo9BH"
   },
   "outputs": [
    {
     "name": "stdout",
     "output_type": "stream",
     "text": [
      "[0 1 2 3 4 5 6 7 8 9]\n",
      "\n",
      "\n",
      "[[ 0  1  2  3  4  5  6  7  8  9]\n",
      " [10 11 12 13 14 15 16 17 18 19]\n",
      " [20 21 22 23 24 25 26 27 28 29]]\n"
     ]
    }
   ],
   "source": [
    "a = np.arange(10)\n",
    "print(a)\n",
    "b = np.arange(30).reshape(3,10)\n",
    "print('\\n')\n",
    "print(b)"
   ]
  },
  {
   "cell_type": "code",
   "execution_count": 44,
   "metadata": {
    "id": "H9cfMYjXqfCN"
   },
   "outputs": [
    {
     "data": {
      "text/plain": [
       "array([ 1,  2,  3,  4,  5,  6,  7,  8,  9, 10])"
      ]
     },
     "execution_count": 44,
     "metadata": {},
     "output_type": "execute_result"
    }
   ],
   "source": [
    "# TODO: create an array that adds 1 to each entry of a\n",
    "a + 1"
   ]
  },
  {
   "cell_type": "code",
   "execution_count": 45,
   "metadata": {
    "id": "NSLsu6JrquOu"
   },
   "outputs": [
    {
     "data": {
      "text/plain": [
       "array([[ 0,  2,  4,  6,  8, 10, 12, 14, 16, 18],\n",
       "       [10, 12, 14, 16, 18, 20, 22, 24, 26, 28],\n",
       "       [20, 22, 24, 26, 28, 30, 32, 34, 36, 38]])"
      ]
     },
     "execution_count": 45,
     "metadata": {},
     "output_type": "execute_result"
    }
   ],
   "source": [
    "# TODO: create an array c such that c[i,j] = a[i] + b[i,j], without using for loops\n",
    "a + b"
   ]
  },
  {
   "cell_type": "code",
   "execution_count": 46,
   "metadata": {
    "id": "YYwqbWwy3tbV"
   },
   "outputs": [
    {
     "data": {
      "text/plain": [
       "array([[ 0,  3,  6,  9, 12, 15, 18, 21, 24, 27],\n",
       "       [30, 33, 36, 39, 42, 45, 48, 51, 54, 57],\n",
       "       [60, 63, 66, 69, 72, 75, 78, 81, 84, 87]])"
      ]
     },
     "execution_count": 46,
     "metadata": {},
     "output_type": "execute_result"
    }
   ],
   "source": [
    "# TODO: create an array c such that c[i,j] = b[i,j] * 3\n",
    "b * 3"
   ]
  },
  {
   "cell_type": "code",
   "execution_count": 47,
   "metadata": {
    "id": "yAxdFd29skDF"
   },
   "outputs": [
    {
     "data": {
      "text/plain": [
       "array([[0.        , 0.03030303, 0.05555556, 0.07692308, 0.0952381 ,\n",
       "        0.11111111, 0.125     , 0.1372549 , 0.14814815, 0.15789474],\n",
       "       [0.33333333, 0.33333333, 0.33333333, 0.33333333, 0.33333333,\n",
       "        0.33333333, 0.33333333, 0.33333333, 0.33333333, 0.33333333],\n",
       "       [0.66666667, 0.63636364, 0.61111111, 0.58974359, 0.57142857,\n",
       "        0.55555556, 0.54166667, 0.52941176, 0.51851852, 0.50877193]])"
      ]
     },
     "execution_count": 47,
     "metadata": {},
     "output_type": "execute_result"
    }
   ],
   "source": [
    "# TODO: normalize b so that its columns sum to 1\n",
    "b / b.sum(axis=0)"
   ]
  },
  {
   "cell_type": "markdown",
   "metadata": {
    "id": "pshHCsEc68SU"
   },
   "source": [
    "Frequently we have a smaller array and a larger array, and we want to use the smaller array multiple times to perform some operation on the larger array. For example, suppose that we want to add a constant vector to each row of a matrix. We could do it like this:"
   ]
  },
  {
   "cell_type": "code",
   "execution_count": 48,
   "metadata": {
    "id": "cu4Px0du6-L5"
   },
   "outputs": [
    {
     "name": "stdout",
     "output_type": "stream",
     "text": [
      "[[ 2  2  4]\n",
      " [ 5  5  7]\n",
      " [ 8  8 10]\n",
      " [11 11 13]]\n"
     ]
    }
   ],
   "source": [
    "# We will add the vector v to each row of the matrix x,\n",
    "# storing the result in the matrix y\n",
    "x = np.array([[1,  2,  3],\n",
    "              [4,  5,  6],\n",
    "              [7,  8,  9],\n",
    "              [10, 11, 12]])\n",
    "v = np.array([1, 0, 1])\n",
    "y = np.empty_like(x)   # Create an empty matrix with the same shape as x\n",
    "\n",
    "# Add the vector v to each row of the matrix x with an explicit loop\n",
    "for i in range(4):\n",
    "    y[i, :] = x[i, :] + v\n",
    "\n",
    "print(y)"
   ]
  },
  {
   "cell_type": "markdown",
   "metadata": {
    "id": "abfPRj0k7IGf"
   },
   "source": [
    "This works; however when the matrix `x` is very large, computing an explicit loop in Python could be slow. Numpy broadcasting allows us to perform this computation without actually creating multiple copies of v. Consider this version, using broadcasting:"
   ]
  },
  {
   "cell_type": "code",
   "execution_count": 49,
   "metadata": {
    "id": "vHL1krVl7HT0"
   },
   "outputs": [
    {
     "name": "stdout",
     "output_type": "stream",
     "text": [
      "[[ 2  2  4]\n",
      " [ 5  5  7]\n",
      " [ 8  8 10]\n",
      " [11 11 13]]\n"
     ]
    }
   ],
   "source": [
    "x = np.array([[1,  2,  3],\n",
    "              [4,  5,  6],\n",
    "              [7,  8,  9],\n",
    "              [10, 11, 12]])\n",
    "v = np.array([1, 0, 1])\n",
    "y = x + v\n",
    "print(y)"
   ]
  },
  {
   "cell_type": "markdown",
   "metadata": {
    "id": "SCFWXRp8x3k0"
   },
   "source": [
    "While this is powerful, there are limits to what you can broadcast together. So, keep in mind certain rules when broadcasting. When numpy broadcasts arrays, it does the following things:\n",
    "* numpy compares the dimensions of the arrays (from right to left)\n",
    "* dimensions are compatible for broadcasting (if both of them are equal, or either one of them is 1)\n",
    "* if both the dimensions are not equal and neither of them is 1, then numpy will throw an error\n",
    "\n",
    "\n",
    "\n",
    "So, whenever you broadcast, make sure all the dimensions are properly aligned. Only broadcast,\n",
    "\n",
    "1. If two arrays have exactly the same shape.\n",
    "2. If two arrays with different in dimension then array with lesser dimension(1D) can have its shape prepended with a dimension of length 1.\n",
    "3. If the shape of the two arrays does not match in any dimension, but if any one array is having shape equal to 1."
   ]
  },
  {
   "cell_type": "markdown",
   "metadata": {
    "id": "tTzq7Uxnw1Mc"
   },
   "source": [
    "There are so many different capabilities that numpy has, so it is important to read the documentation to find out if there are built-in features or capabilities that will greatly simplify and speed up your code."
   ]
  },
  {
   "cell_type": "markdown",
   "metadata": {
    "id": "CdTm9sG44CPv"
   },
   "source": [
    "## Linear Algebra in Numpy\n",
    "\n",
    "There are three main ways to multiply matrices in NumPy:\n",
    "\n",
    "*   [`np.matmul(a,b)`](https://numpy.org/doc/stable/reference/generated/numpy.matmul.html): returns matrix product of two given arrays\n",
    "*   [`np.multiply(a,b)`](https://numpy.org/doc/stable/reference/generated/numpy.multiply.html): returns element-wise multiplication of two given arrays\n",
    "* [`np.dot(a,b)`](https://numpy.org/doc/stable/reference/generated/numpy.dot.html): returns scalar or dot product of two given arrays\n",
    "\n",
    "**important note**: `np.matmul` and `np.dot` are not always equivalent! Make sure you understand when to use which.\n",
    "\n",
    "Numpy also has two multiplication operators: `*` and `@`.\n",
    "- `*` does **element-wise** multiplication (shorthand for `multiply`).\n",
    "- `@` does **matrix** multiplication (shorthand for\\ `matmul`)."
   ]
  },
  {
   "cell_type": "code",
   "execution_count": 50,
   "metadata": {
    "id": "rHgP4On14LJ9"
   },
   "outputs": [
    {
     "name": "stdout",
     "output_type": "stream",
     "text": [
      "Elementwise multiplication: \n",
      " [[ 0  6 12]\n",
      " [20 30 42]] \n",
      "\n",
      "Matrix multiplication: \n",
      " [[19  8]\n",
      " [46 23]] \n",
      "\n",
      "Matrix mulitplication (shortcut): \n",
      " [[19  8]\n",
      " [46 23]] \n",
      "\n",
      "Dot product:\n",
      " [[19  8]\n",
      " [46 23]]\n"
     ]
    }
   ],
   "source": [
    "A = np.array([[1,2,3],\n",
    "              [4,5,6]])\n",
    "B = np.array([[0,3,4],\n",
    "              [5,6,7]])\n",
    "C = np.array([[2,3],\n",
    "              [4,1],\n",
    "              [3,1]])\n",
    "\n",
    "print(\"Elementwise multiplication: \\n\", np.multiply(A, B), \"\\n\")\n",
    "print(\"Matrix multiplication: \\n\", np.matmul(A, C), \"\\n\")\n",
    "print(\"Matrix mulitplication (shortcut): \\n\", A @ C, \"\\n\")\n",
    "print(\"Dot product:\\n\", np.dot(A, C))\n",
    "# Note: Dot product of a 2D array is a matrix multiplication, for the actual\n",
    "# dot product, use 1D arrays"
   ]
  },
  {
   "cell_type": "markdown",
   "metadata": {
    "id": "ili82l6TSPoM"
   },
   "source": [
    "The benefit of such powerful syntax is that you can basically write math in Python, and it's pretty much the same as typing it out!"
   ]
  },
  {
   "cell_type": "code",
   "execution_count": 51,
   "metadata": {
    "id": "m--S4mUQ55Ra"
   },
   "outputs": [
    {
     "name": "stdout",
     "output_type": "stream",
     "text": [
      "Matrix A:\n",
      " [[1 2 3]\n",
      " [4 5 6]] \n",
      "\n",
      "vector v:\n",
      " [0 1 2] \n",
      "\n",
      "A * v:\n",
      " [ 8 17]\n"
     ]
    }
   ],
   "source": [
    "# Matrix-vector multiplcation\n",
    "v = np.arange(3)\n",
    "print(\"Matrix A:\\n\", A, \"\\n\")\n",
    "print(\"vector v:\\n\", v, \"\\n\")\n",
    "print(\"A * v:\\n\", A @ v)"
   ]
  },
  {
   "cell_type": "markdown",
   "metadata": {
    "id": "UTT2pkN8SPbO"
   },
   "source": [
    "However, with such powerful broadcasting rules, it's important to keep in mind what the shape of the arrays are, and reshape them as appropriate. If you accidentally multiply a shape (n,) array with a (n, 1) array, you'll actually get a shape (n, n) matrix."
   ]
  },
  {
   "cell_type": "code",
   "execution_count": 52,
   "metadata": {
    "id": "y4AoB8EHond3"
   },
   "outputs": [
    {
     "name": "stdout",
     "output_type": "stream",
     "text": [
      "x: [6 7 9 9 9 4 7 3 2 6]\n",
      "y: \n",
      " [[0]\n",
      " [4]\n",
      " [3]\n",
      " [9]\n",
      " [0]\n",
      " [1]\n",
      " [9]\n",
      " [4]\n",
      " [3]\n",
      " [3]]\n",
      "\n",
      "[[ 0  0  0  0  0  0  0  0  0  0]\n",
      " [24 28 36 36 36 16 28 12  8 24]\n",
      " [18 21 27 27 27 12 21  9  6 18]\n",
      " [54 63 81 81 81 36 63 27 18 54]\n",
      " [ 0  0  0  0  0  0  0  0  0  0]\n",
      " [ 6  7  9  9  9  4  7  3  2  6]\n",
      " [54 63 81 81 81 36 63 27 18 54]\n",
      " [24 28 36 36 36 16 28 12  8 24]\n",
      " [18 21 27 27 27 12 21  9  6 18]\n",
      " [18 21 27 27 27 12 21  9  6 18]] \n",
      "\n",
      "[[ 0]\n",
      " [28]\n",
      " [27]\n",
      " [81]\n",
      " [ 0]\n",
      " [ 4]\n",
      " [63]\n",
      " [12]\n",
      " [ 6]\n",
      " [18]]\n"
     ]
    }
   ],
   "source": [
    "x = np.random.randint(10, size=(10,))\n",
    "y = np.random.randint(10, size=(10, 1))\n",
    "print(f\"x: {x}\\ny: \\n {y}\\n\")\n",
    "print(x * y, \"\\n\")\n",
    "print(x.reshape(-1, 1) * y)"
   ]
  }
 ],
 "metadata": {
  "colab": {
   "collapsed_sections": [
    "Iix9CtAEEhMm"
   ],
   "provenance": []
  },
  "kernelspec": {
   "display_name": "dsci310",
   "language": "python",
   "name": "dsci310"
  },
  "language_info": {
   "codemirror_mode": {
    "name": "ipython",
    "version": 3
   },
   "file_extension": ".py",
   "mimetype": "text/x-python",
   "name": "python",
   "nbconvert_exporter": "python",
   "pygments_lexer": "ipython3",
   "version": "3.10.8"
  }
 },
 "nbformat": 4,
 "nbformat_minor": 4
}
