{
 "cells": [
  {
   "cell_type": "markdown",
   "source": [
    "# Channels n' Marks\n",
    "In the last notebook, you explored some of the encoding channels available in Altair. In this notebook, we will focus on the third main component of the framework, _graphical marks_.\n",
    "A visualization represents data using a collection of _graphical marks_ (bars, lines, points, etc.). The attributes of a mark &mdash; such as its position, shape, size, or color &mdash; serve as _channels_ through which we can encode underlying data values. Our exploration of encoding channels exclusively used `point` marks to visualize the data. However, the `point` mark type is only one of the many geometric shapes that can be used to visually represent data. Altair includes a number of built-in mark types, including:\n",
    "\n",
    "This notebook presents 5 graphical marks\n",
    "- `mark_point()` - Scatter plot points with configurable shapes.\n",
    "- `mark_circle()`\t- Scatter plot points as filled circles.\n",
    "- `mark_square()` - Scatter plot points as filled squares.\n",
    "- `mark_tick()` - Vertical or horizontal tick marks.\n",
    "- `mark_bar()` -\tRectangular bars.\n",
    "\n",
    "In a subsequent notebook you will explore additional these additional marks.\n",
    "- `mark_line()` - Connected line segments.\n",
    "- `mark_area()` - Filled areas defined by a top-line and a baseline.\n",
    "- `mark_rect()` - Filled rectangles, useful for heatmaps.\n",
    "- `mark_rule()` - Vertical or horizontal lines spanning the axis.\n",
    "- `mark_text()` - Scatter plot points represented by text.\n"
   ],
   "metadata": {
    "collapsed": false,
    "pycharm": {
     "name": "#%% md\n"
    }
   }
  },
  {
   "cell_type": "markdown",
   "source": [
    "## Learning Goals\n",
    "Those who actively work through this notebook will be able to:\n",
    "- Identify graphical marks and use them to create common vizzes\n",
    "- Create bar and column charts\n",
    "- Style graphical marks to customize vizzes"
   ],
   "metadata": {
    "collapsed": false,
    "pycharm": {
     "name": "#%% md\n"
    }
   }
  },
  {
   "cell_type": "markdown",
   "source": [
    "## Global Development Data\n",
    "\n",
    "We will use the now familiar global development data from Gapminder in this notebook."
   ],
   "metadata": {
    "collapsed": false,
    "pycharm": {
     "name": "#%% md\n"
    }
   }
  },
  {
   "cell_type": "code",
   "execution_count": 1,
   "outputs": [],
   "source": [
    "import pandas as pd\n",
    "import altair as alt"
   ],
   "metadata": {
    "collapsed": false,
    "pycharm": {
     "name": "#%%\n"
    }
   }
  },
  {
   "cell_type": "code",
   "execution_count": 2,
   "outputs": [],
   "source": [
    "from vega_datasets import data as vega_data\n",
    "data = vega_data.gapminder()"
   ],
   "metadata": {
    "collapsed": false,
    "pycharm": {
     "name": "#%%\n"
    }
   }
  },
  {
   "cell_type": "markdown",
   "source": [
    "We will be focusing in on the year 2000. In a future notebook we will focus on how visualizing time-varying data.\n",
    "Let's use pandas to select data items for the given year."
   ],
   "metadata": {
    "collapsed": false,
    "pycharm": {
     "name": "#%% md\n"
    }
   }
  },
  {
   "cell_type": "code",
   "execution_count": 3,
   "outputs": [],
   "source": [
    "data2000 = data.loc[data['year'] == 2000]"
   ],
   "metadata": {
    "collapsed": false,
    "pycharm": {
     "name": "#%%\n"
    }
   }
  },
  {
   "cell_type": "markdown",
   "id": "148e050e-3b36-483c-a54f-e562cfcd03f5",
   "metadata": {
    "colab_type": "text",
    "id": "jVp7cC-BbYF5",
    "pycharm": {
     "name": "#%% md\n"
    }
   },
   "source": [
    "## Point\n",
    "\n",
    "The `point` mark type conveys specific points, as in *scatter plots* and *dot plots*. In addition to `x` and `y` encoding channels (to specify 2D point positions), point marks can use `color`, `size`, and `shape` encodings to convey additional data fields.\n",
    "\n",
    "Below is a dot plot of `fertility`, with the `cluster` field redundantly encoded using both the `y` and `shape` channels. \n",
    "\n"
   ]
  },
  {
   "cell_type": "code",
   "execution_count": 4,
   "id": "d54c297b-62fd-481f-b63b-b6b3c78719a8",
   "metadata": {
    "colab": {
     "base_uri": "https://localhost:8080/",
     "height": 192
    },
    "colab_type": "code",
    "id": "3jrFfaKCtbyL",
    "outputId": "6332a348-f8f0-4dd8-9c4a-63687e286d4a",
    "pycharm": {
     "name": "#%%\n"
    }
   },
   "outputs": [
    {
     "data": {
      "text/html": "\n<div id=\"altair-viz-f04226fb3a784de59e996cd95cfb21df\"></div>\n<script type=\"text/javascript\">\n  (function(spec, embedOpt){\n    let outputDiv = document.currentScript.previousElementSibling;\n    if (outputDiv.id !== \"altair-viz-f04226fb3a784de59e996cd95cfb21df\") {\n      outputDiv = document.getElementById(\"altair-viz-f04226fb3a784de59e996cd95cfb21df\");\n    }\n    const paths = {\n      \"vega\": \"https://cdn.jsdelivr.net/npm//vega@5?noext\",\n      \"vega-lib\": \"https://cdn.jsdelivr.net/npm//vega-lib?noext\",\n      \"vega-lite\": \"https://cdn.jsdelivr.net/npm//vega-lite@4.8.1?noext\",\n      \"vega-embed\": \"https://cdn.jsdelivr.net/npm//vega-embed@6?noext\",\n    };\n\n    function loadScript(lib) {\n      return new Promise(function(resolve, reject) {\n        var s = document.createElement('script');\n        s.src = paths[lib];\n        s.async = true;\n        s.onload = () => resolve(paths[lib]);\n        s.onerror = () => reject(`Error loading script: ${paths[lib]}`);\n        document.getElementsByTagName(\"head\")[0].appendChild(s);\n      });\n    }\n\n    function showError(err) {\n      outputDiv.innerHTML = `<div class=\"error\" style=\"color:red;\">${err}</div>`;\n      throw err;\n    }\n\n    function displayChart(vegaEmbed) {\n      vegaEmbed(outputDiv, spec, embedOpt)\n        .catch(err => showError(`Javascript Error: ${err.message}<br>This usually means there's a typo in your chart specification. See the javascript console for the full traceback.`));\n    }\n\n    if(typeof define === \"function\" && define.amd) {\n      requirejs.config({paths});\n      require([\"vega-embed\"], displayChart, err => showError(`Error loading script: ${err.message}`));\n    } else if (typeof vegaEmbed === \"function\") {\n      displayChart(vegaEmbed);\n    } else {\n      loadScript(\"vega\")\n        .then(() => loadScript(\"vega-lite\"))\n        .then(() => loadScript(\"vega-embed\"))\n        .catch(showError)\n        .then(() => displayChart(vegaEmbed));\n    }\n  })({\"config\": {\"view\": {\"continuousWidth\": 400, \"continuousHeight\": 300}}, \"data\": {\"name\": \"data-fdeb0b749a6385830bd1445d39ad6ea0\"}, \"mark\": \"point\", \"encoding\": {\"shape\": {\"type\": \"nominal\", \"field\": \"cluster\"}, \"x\": {\"type\": \"quantitative\", \"field\": \"fertility\"}, \"y\": {\"type\": \"nominal\", \"field\": \"cluster\"}}, \"$schema\": \"https://vega.github.io/schema/vega-lite/v4.8.1.json\", \"datasets\": {\"data-fdeb0b749a6385830bd1445d39ad6ea0\": [{\"year\": 2000, \"country\": \"Afghanistan\", \"cluster\": 0, \"pop\": 23898198, \"life_expect\": 42.129, \"fertility\": 7.4792}, {\"year\": 2000, \"country\": \"Argentina\", \"cluster\": 3, \"pop\": 37497728, \"life_expect\": 74.34, \"fertility\": 2.35}, {\"year\": 2000, \"country\": \"Aruba\", \"cluster\": 3, \"pop\": 69539, \"life_expect\": 73.451, \"fertility\": 2.124}, {\"year\": 2000, \"country\": \"Australia\", \"cluster\": 4, \"pop\": 19164620, \"life_expect\": 80.37, \"fertility\": 1.756}, {\"year\": 2000, \"country\": \"Austria\", \"cluster\": 1, \"pop\": 8113413, \"life_expect\": 78.98, \"fertility\": 1.3820000000000001}, {\"year\": 2000, \"country\": \"Bahamas\", \"cluster\": 3, \"pop\": 290075, \"life_expect\": 71.068, \"fertility\": 2.1111}, {\"year\": 2000, \"country\": \"Bangladesh\", \"cluster\": 0, \"pop\": 130406594, \"life_expect\": 62.013, \"fertility\": 3.224}, {\"year\": 2000, \"country\": \"Barbados\", \"cluster\": 3, \"pop\": 273483, \"life_expect\": 75.97, \"fertility\": 1.5}, {\"year\": 2000, \"country\": \"Belgium\", \"cluster\": 1, \"pop\": 10263618, \"life_expect\": 78.32, \"fertility\": 1.638}, {\"year\": 2000, \"country\": \"Bolivia\", \"cluster\": 3, \"pop\": 8152620, \"life_expect\": 63.883, \"fertility\": 3.9585}, {\"year\": 2000, \"country\": \"Brazil\", \"cluster\": 3, \"pop\": 175552771, \"life_expect\": 71.006, \"fertility\": 2.345}, {\"year\": 2000, \"country\": \"Canada\", \"cluster\": 3, \"pop\": 31278097, \"life_expect\": 79.77, \"fertility\": 1.522}, {\"year\": 2000, \"country\": \"Chile\", \"cluster\": 3, \"pop\": 15153450, \"life_expect\": 77.86, \"fertility\": 2.0}, {\"year\": 2000, \"country\": \"China\", \"cluster\": 4, \"pop\": 1262645000, \"life_expect\": 72.028, \"fertility\": 1.7000000000000002}, {\"year\": 2000, \"country\": \"Colombia\", \"cluster\": 3, \"pop\": 39685655, \"life_expect\": 71.682, \"fertility\": 2.4705}, {\"year\": 2000, \"country\": \"Costa Rica\", \"cluster\": 3, \"pop\": 3710558, \"life_expect\": 78.123, \"fertility\": 2.2815}, {\"year\": 2000, \"country\": \"Croatia\", \"cluster\": 1, \"pop\": 4410830, \"life_expect\": 74.876, \"fertility\": 1.348}, {\"year\": 2000, \"country\": \"Cuba\", \"cluster\": 3, \"pop\": 11134273, \"life_expect\": 77.158, \"fertility\": 1.63}, {\"year\": 2000, \"country\": \"Dominican Republic\", \"cluster\": 3, \"pop\": 8385828, \"life_expect\": 70.847, \"fertility\": 2.95}, {\"year\": 2000, \"country\": \"Ecuador\", \"cluster\": 3, \"pop\": 12505204, \"life_expect\": 74.173, \"fertility\": 2.8175}, {\"year\": 2000, \"country\": \"Egypt\", \"cluster\": 5, \"pop\": 70492342, \"life_expect\": 69.806, \"fertility\": 3.174}, {\"year\": 2000, \"country\": \"El Salvador\", \"cluster\": 3, \"pop\": 6122515, \"life_expect\": 70.734, \"fertility\": 2.883}, {\"year\": 2000, \"country\": \"Finland\", \"cluster\": 1, \"pop\": 5168595, \"life_expect\": 78.37, \"fertility\": 1.754}, {\"year\": 2000, \"country\": \"France\", \"cluster\": 1, \"pop\": 59381628, \"life_expect\": 79.59, \"fertility\": 1.8833000000000002}, {\"year\": 2000, \"country\": \"Georgia\", \"cluster\": 1, \"pop\": 4777209, \"life_expect\": 70.476, \"fertility\": 1.478}, {\"year\": 2000, \"country\": \"Germany\", \"cluster\": 1, \"pop\": 82187909, \"life_expect\": 78.67, \"fertility\": 1.346}, {\"year\": 2000, \"country\": \"Greece\", \"cluster\": 1, \"pop\": 10559110, \"life_expect\": 78.256, \"fertility\": 1.2770000000000001}, {\"year\": 2000, \"country\": \"Grenada\", \"cluster\": 3, \"pop\": 89312, \"life_expect\": 67.746, \"fertility\": 2.429}, {\"year\": 2000, \"country\": \"Haiti\", \"cluster\": 3, \"pop\": 7306302, \"life_expect\": 58.137, \"fertility\": 4.0}, {\"year\": 2000, \"country\": \"Hong Kong\", \"cluster\": 4, \"pop\": 6658720, \"life_expect\": 81.495, \"fertility\": 0.9400000000000001}, {\"year\": 2000, \"country\": \"Iceland\", \"cluster\": 1, \"pop\": 281043, \"life_expect\": 80.5, \"fertility\": 1.9929999999999999}, {\"year\": 2000, \"country\": \"India\", \"cluster\": 0, \"pop\": 1007702000, \"life_expect\": 62.879, \"fertility\": 3.1132}, {\"year\": 2000, \"country\": \"Indonesia\", \"cluster\": 4, \"pop\": 206265000, \"life_expect\": 68.588, \"fertility\": 2.3761}, {\"year\": 2000, \"country\": \"Iran\", \"cluster\": 5, \"pop\": 65660289, \"life_expect\": 69.451, \"fertility\": 2.124}, {\"year\": 2000, \"country\": \"Iraq\", \"cluster\": 5, \"pop\": 22675617, \"life_expect\": 57.046, \"fertility\": 4.858}, {\"year\": 2000, \"country\": \"Ireland\", \"cluster\": 1, \"pop\": 3791690, \"life_expect\": 77.783, \"fertility\": 1.9689999999999999}, {\"year\": 2000, \"country\": \"Israel\", \"cluster\": 5, \"pop\": 5842454, \"life_expect\": 79.696, \"fertility\": 2.906}, {\"year\": 2000, \"country\": \"Italy\", \"cluster\": 1, \"pop\": 57719337, \"life_expect\": 80.24, \"fertility\": 1.286}, {\"year\": 2000, \"country\": \"Jamaica\", \"cluster\": 3, \"pop\": 2615467, \"life_expect\": 72.047, \"fertility\": 2.628}, {\"year\": 2000, \"country\": \"Japan\", \"cluster\": 4, \"pop\": 126699784, \"life_expect\": 82.0, \"fertility\": 1.291}, {\"year\": 2000, \"country\": \"Kenya\", \"cluster\": 2, \"pop\": 29985839, \"life_expect\": 50.992, \"fertility\": 5.0}, {\"year\": 2000, \"country\": \"South Korea\", \"cluster\": 4, \"pop\": 21647682, \"life_expect\": 66.662, \"fertility\": 1.9173}, {\"year\": 2000, \"country\": \"North Korea\", \"cluster\": 4, \"pop\": 47351083, \"life_expect\": 77.045, \"fertility\": 1.242}, {\"year\": 2000, \"country\": \"Lebanon\", \"cluster\": 5, \"pop\": 3578036, \"life_expect\": 71.028, \"fertility\": 2.319}, {\"year\": 2000, \"country\": \"Mexico\", \"cluster\": 3, \"pop\": 99926620, \"life_expect\": 74.902, \"fertility\": 2.4005}, {\"year\": 2000, \"country\": \"Netherlands\", \"cluster\": 1, \"pop\": 15907853, \"life_expect\": 78.53, \"fertility\": 1.726}, {\"year\": 2000, \"country\": \"New Zealand\", \"cluster\": 4, \"pop\": 3819762, \"life_expect\": 79.11, \"fertility\": 1.964}, {\"year\": 2000, \"country\": \"Nigeria\", \"cluster\": 2, \"pop\": 114306700, \"life_expect\": 46.608, \"fertility\": 5.845}, {\"year\": 2000, \"country\": \"Norway\", \"cluster\": 1, \"pop\": 4492400, \"life_expect\": 79.05, \"fertility\": 1.8010000000000002}, {\"year\": 2000, \"country\": \"Pakistan\", \"cluster\": 0, \"pop\": 146342958, \"life_expect\": 63.61, \"fertility\": 3.9936}, {\"year\": 2000, \"country\": \"Peru\", \"cluster\": 3, \"pop\": 25979722, \"life_expect\": 69.906, \"fertility\": 2.7005}, {\"year\": 2000, \"country\": \"Philippines\", \"cluster\": 4, \"pop\": 79739825, \"life_expect\": 70.303, \"fertility\": 3.5436}, {\"year\": 2000, \"country\": \"Poland\", \"cluster\": 1, \"pop\": 38654164, \"life_expect\": 74.67, \"fertility\": 1.251}, {\"year\": 2000, \"country\": \"Portugal\", \"cluster\": 1, \"pop\": 10335597, \"life_expect\": 77.29, \"fertility\": 1.454}, {\"year\": 2000, \"country\": \"Rwanda\", \"cluster\": 2, \"pop\": 7507056, \"life_expect\": 43.413, \"fertility\": 6.01}, {\"year\": 2000, \"country\": \"Saudi Arabia\", \"cluster\": 5, \"pop\": 23153090, \"life_expect\": 71.626, \"fertility\": 3.81}, {\"year\": 2000, \"country\": \"South Africa\", \"cluster\": 2, \"pop\": 44066197, \"life_expect\": 53.365, \"fertility\": 2.802}, {\"year\": 2000, \"country\": \"Spain\", \"cluster\": 1, \"pop\": 40016081, \"life_expect\": 79.78, \"fertility\": 1.287}, {\"year\": 2000, \"country\": \"Switzerland\", \"cluster\": 1, \"pop\": 7266920, \"life_expect\": 80.62, \"fertility\": 1.415}, {\"year\": 2000, \"country\": \"Turkey\", \"cluster\": 1, \"pop\": 65666677, \"life_expect\": 70.845, \"fertility\": 2.23}, {\"year\": 2000, \"country\": \"United Kingdom\", \"cluster\": 1, \"pop\": 59522468, \"life_expect\": 78.471, \"fertility\": 1.695}, {\"year\": 2000, \"country\": \"United States\", \"cluster\": 3, \"pop\": 282338631, \"life_expect\": 77.31, \"fertility\": 2.038}, {\"year\": 2000, \"country\": \"Venezuela\", \"cluster\": 3, \"pop\": 23542649, \"life_expect\": 72.766, \"fertility\": 2.723}]}}, {\"mode\": \"vega-lite\"});\n</script>",
      "text/plain": "alt.Chart(...)"
     },
     "execution_count": 4,
     "metadata": {},
     "output_type": "execute_result"
    }
   ],
   "source": [
    "alt.Chart(data2000).mark_point().encode(\n",
    "    alt.X('fertility:Q'),\n",
    "    alt.Y('cluster:N'),\n",
    "    alt.Shape('cluster:N')\n",
    ")"
   ]
  },
  {
   "cell_type": "markdown",
   "id": "cbd0fe98-f79e-41d3-a86c-8d494ebe734e",
   "metadata": {
    "colab_type": "text",
    "id": "bONM4Ccrt4Sw",
    "pycharm": {
     "name": "#%% md\n"
    }
   },
   "source": [
    "In addition to encoding channels, marks can be stylized by providing values to the `mark_*()` methods.\n",
    "\n",
    "For example: point marks are drawn with stroked outlines by default, but can be specified to use `filled` shapes instead. Similarly, you can set a default `size` to set the total pixel area of the point mark.\n"
   ]
  },
  {
   "cell_type": "code",
   "execution_count": 5,
   "id": "574a8d28-6668-4974-8ef5-e5a67c6a77d6",
   "metadata": {
    "colab": {
     "base_uri": "https://localhost:8080/",
     "height": 192
    },
    "colab_type": "code",
    "id": "3-HgJ1PjvKdH",
    "outputId": "dcf26fa9-281b-4297-da50-84c7f5ccd318",
    "pycharm": {
     "name": "#%%\n"
    }
   },
   "outputs": [
    {
     "data": {
      "text/html": "\n<div id=\"altair-viz-fd7c5ce46a9f4d79a119da0aa5cf9b73\"></div>\n<script type=\"text/javascript\">\n  (function(spec, embedOpt){\n    let outputDiv = document.currentScript.previousElementSibling;\n    if (outputDiv.id !== \"altair-viz-fd7c5ce46a9f4d79a119da0aa5cf9b73\") {\n      outputDiv = document.getElementById(\"altair-viz-fd7c5ce46a9f4d79a119da0aa5cf9b73\");\n    }\n    const paths = {\n      \"vega\": \"https://cdn.jsdelivr.net/npm//vega@5?noext\",\n      \"vega-lib\": \"https://cdn.jsdelivr.net/npm//vega-lib?noext\",\n      \"vega-lite\": \"https://cdn.jsdelivr.net/npm//vega-lite@4.8.1?noext\",\n      \"vega-embed\": \"https://cdn.jsdelivr.net/npm//vega-embed@6?noext\",\n    };\n\n    function loadScript(lib) {\n      return new Promise(function(resolve, reject) {\n        var s = document.createElement('script');\n        s.src = paths[lib];\n        s.async = true;\n        s.onload = () => resolve(paths[lib]);\n        s.onerror = () => reject(`Error loading script: ${paths[lib]}`);\n        document.getElementsByTagName(\"head\")[0].appendChild(s);\n      });\n    }\n\n    function showError(err) {\n      outputDiv.innerHTML = `<div class=\"error\" style=\"color:red;\">${err}</div>`;\n      throw err;\n    }\n\n    function displayChart(vegaEmbed) {\n      vegaEmbed(outputDiv, spec, embedOpt)\n        .catch(err => showError(`Javascript Error: ${err.message}<br>This usually means there's a typo in your chart specification. See the javascript console for the full traceback.`));\n    }\n\n    if(typeof define === \"function\" && define.amd) {\n      requirejs.config({paths});\n      require([\"vega-embed\"], displayChart, err => showError(`Error loading script: ${err.message}`));\n    } else if (typeof vegaEmbed === \"function\") {\n      displayChart(vegaEmbed);\n    } else {\n      loadScript(\"vega\")\n        .then(() => loadScript(\"vega-lite\"))\n        .then(() => loadScript(\"vega-embed\"))\n        .catch(showError)\n        .then(() => displayChart(vegaEmbed));\n    }\n  })({\"config\": {\"view\": {\"continuousWidth\": 400, \"continuousHeight\": 300}}, \"data\": {\"name\": \"data-fdeb0b749a6385830bd1445d39ad6ea0\"}, \"mark\": {\"type\": \"point\", \"filled\": true, \"size\": 100}, \"encoding\": {\"shape\": {\"type\": \"nominal\", \"field\": \"cluster\"}, \"x\": {\"type\": \"quantitative\", \"field\": \"fertility\"}, \"y\": {\"type\": \"nominal\", \"field\": \"cluster\"}}, \"$schema\": \"https://vega.github.io/schema/vega-lite/v4.8.1.json\", \"datasets\": {\"data-fdeb0b749a6385830bd1445d39ad6ea0\": [{\"year\": 2000, \"country\": \"Afghanistan\", \"cluster\": 0, \"pop\": 23898198, \"life_expect\": 42.129, \"fertility\": 7.4792}, {\"year\": 2000, \"country\": \"Argentina\", \"cluster\": 3, \"pop\": 37497728, \"life_expect\": 74.34, \"fertility\": 2.35}, {\"year\": 2000, \"country\": \"Aruba\", \"cluster\": 3, \"pop\": 69539, \"life_expect\": 73.451, \"fertility\": 2.124}, {\"year\": 2000, \"country\": \"Australia\", \"cluster\": 4, \"pop\": 19164620, \"life_expect\": 80.37, \"fertility\": 1.756}, {\"year\": 2000, \"country\": \"Austria\", \"cluster\": 1, \"pop\": 8113413, \"life_expect\": 78.98, \"fertility\": 1.3820000000000001}, {\"year\": 2000, \"country\": \"Bahamas\", \"cluster\": 3, \"pop\": 290075, \"life_expect\": 71.068, \"fertility\": 2.1111}, {\"year\": 2000, \"country\": \"Bangladesh\", \"cluster\": 0, \"pop\": 130406594, \"life_expect\": 62.013, \"fertility\": 3.224}, {\"year\": 2000, \"country\": \"Barbados\", \"cluster\": 3, \"pop\": 273483, \"life_expect\": 75.97, \"fertility\": 1.5}, {\"year\": 2000, \"country\": \"Belgium\", \"cluster\": 1, \"pop\": 10263618, \"life_expect\": 78.32, \"fertility\": 1.638}, {\"year\": 2000, \"country\": \"Bolivia\", \"cluster\": 3, \"pop\": 8152620, \"life_expect\": 63.883, \"fertility\": 3.9585}, {\"year\": 2000, \"country\": \"Brazil\", \"cluster\": 3, \"pop\": 175552771, \"life_expect\": 71.006, \"fertility\": 2.345}, {\"year\": 2000, \"country\": \"Canada\", \"cluster\": 3, \"pop\": 31278097, \"life_expect\": 79.77, \"fertility\": 1.522}, {\"year\": 2000, \"country\": \"Chile\", \"cluster\": 3, \"pop\": 15153450, \"life_expect\": 77.86, \"fertility\": 2.0}, {\"year\": 2000, \"country\": \"China\", \"cluster\": 4, \"pop\": 1262645000, \"life_expect\": 72.028, \"fertility\": 1.7000000000000002}, {\"year\": 2000, \"country\": \"Colombia\", \"cluster\": 3, \"pop\": 39685655, \"life_expect\": 71.682, \"fertility\": 2.4705}, {\"year\": 2000, \"country\": \"Costa Rica\", \"cluster\": 3, \"pop\": 3710558, \"life_expect\": 78.123, \"fertility\": 2.2815}, {\"year\": 2000, \"country\": \"Croatia\", \"cluster\": 1, \"pop\": 4410830, \"life_expect\": 74.876, \"fertility\": 1.348}, {\"year\": 2000, \"country\": \"Cuba\", \"cluster\": 3, \"pop\": 11134273, \"life_expect\": 77.158, \"fertility\": 1.63}, {\"year\": 2000, \"country\": \"Dominican Republic\", \"cluster\": 3, \"pop\": 8385828, \"life_expect\": 70.847, \"fertility\": 2.95}, {\"year\": 2000, \"country\": \"Ecuador\", \"cluster\": 3, \"pop\": 12505204, \"life_expect\": 74.173, \"fertility\": 2.8175}, {\"year\": 2000, \"country\": \"Egypt\", \"cluster\": 5, \"pop\": 70492342, \"life_expect\": 69.806, \"fertility\": 3.174}, {\"year\": 2000, \"country\": \"El Salvador\", \"cluster\": 3, \"pop\": 6122515, \"life_expect\": 70.734, \"fertility\": 2.883}, {\"year\": 2000, \"country\": \"Finland\", \"cluster\": 1, \"pop\": 5168595, \"life_expect\": 78.37, \"fertility\": 1.754}, {\"year\": 2000, \"country\": \"France\", \"cluster\": 1, \"pop\": 59381628, \"life_expect\": 79.59, \"fertility\": 1.8833000000000002}, {\"year\": 2000, \"country\": \"Georgia\", \"cluster\": 1, \"pop\": 4777209, \"life_expect\": 70.476, \"fertility\": 1.478}, {\"year\": 2000, \"country\": \"Germany\", \"cluster\": 1, \"pop\": 82187909, \"life_expect\": 78.67, \"fertility\": 1.346}, {\"year\": 2000, \"country\": \"Greece\", \"cluster\": 1, \"pop\": 10559110, \"life_expect\": 78.256, \"fertility\": 1.2770000000000001}, {\"year\": 2000, \"country\": \"Grenada\", \"cluster\": 3, \"pop\": 89312, \"life_expect\": 67.746, \"fertility\": 2.429}, {\"year\": 2000, \"country\": \"Haiti\", \"cluster\": 3, \"pop\": 7306302, \"life_expect\": 58.137, \"fertility\": 4.0}, {\"year\": 2000, \"country\": \"Hong Kong\", \"cluster\": 4, \"pop\": 6658720, \"life_expect\": 81.495, \"fertility\": 0.9400000000000001}, {\"year\": 2000, \"country\": \"Iceland\", \"cluster\": 1, \"pop\": 281043, \"life_expect\": 80.5, \"fertility\": 1.9929999999999999}, {\"year\": 2000, \"country\": \"India\", \"cluster\": 0, \"pop\": 1007702000, \"life_expect\": 62.879, \"fertility\": 3.1132}, {\"year\": 2000, \"country\": \"Indonesia\", \"cluster\": 4, \"pop\": 206265000, \"life_expect\": 68.588, \"fertility\": 2.3761}, {\"year\": 2000, \"country\": \"Iran\", \"cluster\": 5, \"pop\": 65660289, \"life_expect\": 69.451, \"fertility\": 2.124}, {\"year\": 2000, \"country\": \"Iraq\", \"cluster\": 5, \"pop\": 22675617, \"life_expect\": 57.046, \"fertility\": 4.858}, {\"year\": 2000, \"country\": \"Ireland\", \"cluster\": 1, \"pop\": 3791690, \"life_expect\": 77.783, \"fertility\": 1.9689999999999999}, {\"year\": 2000, \"country\": \"Israel\", \"cluster\": 5, \"pop\": 5842454, \"life_expect\": 79.696, \"fertility\": 2.906}, {\"year\": 2000, \"country\": \"Italy\", \"cluster\": 1, \"pop\": 57719337, \"life_expect\": 80.24, \"fertility\": 1.286}, {\"year\": 2000, \"country\": \"Jamaica\", \"cluster\": 3, \"pop\": 2615467, \"life_expect\": 72.047, \"fertility\": 2.628}, {\"year\": 2000, \"country\": \"Japan\", \"cluster\": 4, \"pop\": 126699784, \"life_expect\": 82.0, \"fertility\": 1.291}, {\"year\": 2000, \"country\": \"Kenya\", \"cluster\": 2, \"pop\": 29985839, \"life_expect\": 50.992, \"fertility\": 5.0}, {\"year\": 2000, \"country\": \"South Korea\", \"cluster\": 4, \"pop\": 21647682, \"life_expect\": 66.662, \"fertility\": 1.9173}, {\"year\": 2000, \"country\": \"North Korea\", \"cluster\": 4, \"pop\": 47351083, \"life_expect\": 77.045, \"fertility\": 1.242}, {\"year\": 2000, \"country\": \"Lebanon\", \"cluster\": 5, \"pop\": 3578036, \"life_expect\": 71.028, \"fertility\": 2.319}, {\"year\": 2000, \"country\": \"Mexico\", \"cluster\": 3, \"pop\": 99926620, \"life_expect\": 74.902, \"fertility\": 2.4005}, {\"year\": 2000, \"country\": \"Netherlands\", \"cluster\": 1, \"pop\": 15907853, \"life_expect\": 78.53, \"fertility\": 1.726}, {\"year\": 2000, \"country\": \"New Zealand\", \"cluster\": 4, \"pop\": 3819762, \"life_expect\": 79.11, \"fertility\": 1.964}, {\"year\": 2000, \"country\": \"Nigeria\", \"cluster\": 2, \"pop\": 114306700, \"life_expect\": 46.608, \"fertility\": 5.845}, {\"year\": 2000, \"country\": \"Norway\", \"cluster\": 1, \"pop\": 4492400, \"life_expect\": 79.05, \"fertility\": 1.8010000000000002}, {\"year\": 2000, \"country\": \"Pakistan\", \"cluster\": 0, \"pop\": 146342958, \"life_expect\": 63.61, \"fertility\": 3.9936}, {\"year\": 2000, \"country\": \"Peru\", \"cluster\": 3, \"pop\": 25979722, \"life_expect\": 69.906, \"fertility\": 2.7005}, {\"year\": 2000, \"country\": \"Philippines\", \"cluster\": 4, \"pop\": 79739825, \"life_expect\": 70.303, \"fertility\": 3.5436}, {\"year\": 2000, \"country\": \"Poland\", \"cluster\": 1, \"pop\": 38654164, \"life_expect\": 74.67, \"fertility\": 1.251}, {\"year\": 2000, \"country\": \"Portugal\", \"cluster\": 1, \"pop\": 10335597, \"life_expect\": 77.29, \"fertility\": 1.454}, {\"year\": 2000, \"country\": \"Rwanda\", \"cluster\": 2, \"pop\": 7507056, \"life_expect\": 43.413, \"fertility\": 6.01}, {\"year\": 2000, \"country\": \"Saudi Arabia\", \"cluster\": 5, \"pop\": 23153090, \"life_expect\": 71.626, \"fertility\": 3.81}, {\"year\": 2000, \"country\": \"South Africa\", \"cluster\": 2, \"pop\": 44066197, \"life_expect\": 53.365, \"fertility\": 2.802}, {\"year\": 2000, \"country\": \"Spain\", \"cluster\": 1, \"pop\": 40016081, \"life_expect\": 79.78, \"fertility\": 1.287}, {\"year\": 2000, \"country\": \"Switzerland\", \"cluster\": 1, \"pop\": 7266920, \"life_expect\": 80.62, \"fertility\": 1.415}, {\"year\": 2000, \"country\": \"Turkey\", \"cluster\": 1, \"pop\": 65666677, \"life_expect\": 70.845, \"fertility\": 2.23}, {\"year\": 2000, \"country\": \"United Kingdom\", \"cluster\": 1, \"pop\": 59522468, \"life_expect\": 78.471, \"fertility\": 1.695}, {\"year\": 2000, \"country\": \"United States\", \"cluster\": 3, \"pop\": 282338631, \"life_expect\": 77.31, \"fertility\": 2.038}, {\"year\": 2000, \"country\": \"Venezuela\", \"cluster\": 3, \"pop\": 23542649, \"life_expect\": 72.766, \"fertility\": 2.723}]}}, {\"mode\": \"vega-lite\"});\n</script>",
      "text/plain": "alt.Chart(...)"
     },
     "execution_count": 5,
     "metadata": {},
     "output_type": "execute_result"
    }
   ],
   "source": [
    "alt.Chart(data2000).mark_point(filled=True, size=100).encode(\n",
    "    alt.X('fertility:Q'),\n",
    "    alt.Y('cluster:N'),\n",
    "    alt.Shape('cluster:N')\n",
    ")"
   ]
  },
  {
   "cell_type": "markdown",
   "id": "97469075-1449-47ed-89e8-e081bcb736e2",
   "metadata": {
    "colab_type": "text",
    "id": "CGMm4gyNcLzB",
    "pycharm": {
     "name": "#%% md\n"
    }
   },
   "source": [
    "## Circle\n",
    "\n",
    "The `circle` mark type is a convenient shorthand for `point` marks drawn as filled circles."
   ]
  },
  {
   "cell_type": "code",
   "execution_count": 6,
   "id": "d4b1f25e-8c72-46d9-a8ff-31a32162858f",
   "metadata": {
    "colab": {
     "base_uri": "https://localhost:8080/",
     "height": 192
    },
    "colab_type": "code",
    "id": "R7JgFhB-vn5X",
    "outputId": "80cd9d0f-c126-4673-bfcf-eaf5b34e0058",
    "pycharm": {
     "name": "#%%\n"
    }
   },
   "outputs": [
    {
     "data": {
      "text/html": "\n<div id=\"altair-viz-759107137f2e405b96fad0dc9d4fd068\"></div>\n<script type=\"text/javascript\">\n  (function(spec, embedOpt){\n    let outputDiv = document.currentScript.previousElementSibling;\n    if (outputDiv.id !== \"altair-viz-759107137f2e405b96fad0dc9d4fd068\") {\n      outputDiv = document.getElementById(\"altair-viz-759107137f2e405b96fad0dc9d4fd068\");\n    }\n    const paths = {\n      \"vega\": \"https://cdn.jsdelivr.net/npm//vega@5?noext\",\n      \"vega-lib\": \"https://cdn.jsdelivr.net/npm//vega-lib?noext\",\n      \"vega-lite\": \"https://cdn.jsdelivr.net/npm//vega-lite@4.8.1?noext\",\n      \"vega-embed\": \"https://cdn.jsdelivr.net/npm//vega-embed@6?noext\",\n    };\n\n    function loadScript(lib) {\n      return new Promise(function(resolve, reject) {\n        var s = document.createElement('script');\n        s.src = paths[lib];\n        s.async = true;\n        s.onload = () => resolve(paths[lib]);\n        s.onerror = () => reject(`Error loading script: ${paths[lib]}`);\n        document.getElementsByTagName(\"head\")[0].appendChild(s);\n      });\n    }\n\n    function showError(err) {\n      outputDiv.innerHTML = `<div class=\"error\" style=\"color:red;\">${err}</div>`;\n      throw err;\n    }\n\n    function displayChart(vegaEmbed) {\n      vegaEmbed(outputDiv, spec, embedOpt)\n        .catch(err => showError(`Javascript Error: ${err.message}<br>This usually means there's a typo in your chart specification. See the javascript console for the full traceback.`));\n    }\n\n    if(typeof define === \"function\" && define.amd) {\n      requirejs.config({paths});\n      require([\"vega-embed\"], displayChart, err => showError(`Error loading script: ${err.message}`));\n    } else if (typeof vegaEmbed === \"function\") {\n      displayChart(vegaEmbed);\n    } else {\n      loadScript(\"vega\")\n        .then(() => loadScript(\"vega-lite\"))\n        .then(() => loadScript(\"vega-embed\"))\n        .catch(showError)\n        .then(() => displayChart(vegaEmbed));\n    }\n  })({\"config\": {\"view\": {\"continuousWidth\": 400, \"continuousHeight\": 300}}, \"data\": {\"name\": \"data-fdeb0b749a6385830bd1445d39ad6ea0\"}, \"mark\": {\"type\": \"circle\", \"size\": 100}, \"encoding\": {\"shape\": {\"type\": \"nominal\", \"field\": \"cluster\"}, \"x\": {\"type\": \"quantitative\", \"field\": \"fertility\"}, \"y\": {\"type\": \"nominal\", \"field\": \"cluster\"}}, \"$schema\": \"https://vega.github.io/schema/vega-lite/v4.8.1.json\", \"datasets\": {\"data-fdeb0b749a6385830bd1445d39ad6ea0\": [{\"year\": 2000, \"country\": \"Afghanistan\", \"cluster\": 0, \"pop\": 23898198, \"life_expect\": 42.129, \"fertility\": 7.4792}, {\"year\": 2000, \"country\": \"Argentina\", \"cluster\": 3, \"pop\": 37497728, \"life_expect\": 74.34, \"fertility\": 2.35}, {\"year\": 2000, \"country\": \"Aruba\", \"cluster\": 3, \"pop\": 69539, \"life_expect\": 73.451, \"fertility\": 2.124}, {\"year\": 2000, \"country\": \"Australia\", \"cluster\": 4, \"pop\": 19164620, \"life_expect\": 80.37, \"fertility\": 1.756}, {\"year\": 2000, \"country\": \"Austria\", \"cluster\": 1, \"pop\": 8113413, \"life_expect\": 78.98, \"fertility\": 1.3820000000000001}, {\"year\": 2000, \"country\": \"Bahamas\", \"cluster\": 3, \"pop\": 290075, \"life_expect\": 71.068, \"fertility\": 2.1111}, {\"year\": 2000, \"country\": \"Bangladesh\", \"cluster\": 0, \"pop\": 130406594, \"life_expect\": 62.013, \"fertility\": 3.224}, {\"year\": 2000, \"country\": \"Barbados\", \"cluster\": 3, \"pop\": 273483, \"life_expect\": 75.97, \"fertility\": 1.5}, {\"year\": 2000, \"country\": \"Belgium\", \"cluster\": 1, \"pop\": 10263618, \"life_expect\": 78.32, \"fertility\": 1.638}, {\"year\": 2000, \"country\": \"Bolivia\", \"cluster\": 3, \"pop\": 8152620, \"life_expect\": 63.883, \"fertility\": 3.9585}, {\"year\": 2000, \"country\": \"Brazil\", \"cluster\": 3, \"pop\": 175552771, \"life_expect\": 71.006, \"fertility\": 2.345}, {\"year\": 2000, \"country\": \"Canada\", \"cluster\": 3, \"pop\": 31278097, \"life_expect\": 79.77, \"fertility\": 1.522}, {\"year\": 2000, \"country\": \"Chile\", \"cluster\": 3, \"pop\": 15153450, \"life_expect\": 77.86, \"fertility\": 2.0}, {\"year\": 2000, \"country\": \"China\", \"cluster\": 4, \"pop\": 1262645000, \"life_expect\": 72.028, \"fertility\": 1.7000000000000002}, {\"year\": 2000, \"country\": \"Colombia\", \"cluster\": 3, \"pop\": 39685655, \"life_expect\": 71.682, \"fertility\": 2.4705}, {\"year\": 2000, \"country\": \"Costa Rica\", \"cluster\": 3, \"pop\": 3710558, \"life_expect\": 78.123, \"fertility\": 2.2815}, {\"year\": 2000, \"country\": \"Croatia\", \"cluster\": 1, \"pop\": 4410830, \"life_expect\": 74.876, \"fertility\": 1.348}, {\"year\": 2000, \"country\": \"Cuba\", \"cluster\": 3, \"pop\": 11134273, \"life_expect\": 77.158, \"fertility\": 1.63}, {\"year\": 2000, \"country\": \"Dominican Republic\", \"cluster\": 3, \"pop\": 8385828, \"life_expect\": 70.847, \"fertility\": 2.95}, {\"year\": 2000, \"country\": \"Ecuador\", \"cluster\": 3, \"pop\": 12505204, \"life_expect\": 74.173, \"fertility\": 2.8175}, {\"year\": 2000, \"country\": \"Egypt\", \"cluster\": 5, \"pop\": 70492342, \"life_expect\": 69.806, \"fertility\": 3.174}, {\"year\": 2000, \"country\": \"El Salvador\", \"cluster\": 3, \"pop\": 6122515, \"life_expect\": 70.734, \"fertility\": 2.883}, {\"year\": 2000, \"country\": \"Finland\", \"cluster\": 1, \"pop\": 5168595, \"life_expect\": 78.37, \"fertility\": 1.754}, {\"year\": 2000, \"country\": \"France\", \"cluster\": 1, \"pop\": 59381628, \"life_expect\": 79.59, \"fertility\": 1.8833000000000002}, {\"year\": 2000, \"country\": \"Georgia\", \"cluster\": 1, \"pop\": 4777209, \"life_expect\": 70.476, \"fertility\": 1.478}, {\"year\": 2000, \"country\": \"Germany\", \"cluster\": 1, \"pop\": 82187909, \"life_expect\": 78.67, \"fertility\": 1.346}, {\"year\": 2000, \"country\": \"Greece\", \"cluster\": 1, \"pop\": 10559110, \"life_expect\": 78.256, \"fertility\": 1.2770000000000001}, {\"year\": 2000, \"country\": \"Grenada\", \"cluster\": 3, \"pop\": 89312, \"life_expect\": 67.746, \"fertility\": 2.429}, {\"year\": 2000, \"country\": \"Haiti\", \"cluster\": 3, \"pop\": 7306302, \"life_expect\": 58.137, \"fertility\": 4.0}, {\"year\": 2000, \"country\": \"Hong Kong\", \"cluster\": 4, \"pop\": 6658720, \"life_expect\": 81.495, \"fertility\": 0.9400000000000001}, {\"year\": 2000, \"country\": \"Iceland\", \"cluster\": 1, \"pop\": 281043, \"life_expect\": 80.5, \"fertility\": 1.9929999999999999}, {\"year\": 2000, \"country\": \"India\", \"cluster\": 0, \"pop\": 1007702000, \"life_expect\": 62.879, \"fertility\": 3.1132}, {\"year\": 2000, \"country\": \"Indonesia\", \"cluster\": 4, \"pop\": 206265000, \"life_expect\": 68.588, \"fertility\": 2.3761}, {\"year\": 2000, \"country\": \"Iran\", \"cluster\": 5, \"pop\": 65660289, \"life_expect\": 69.451, \"fertility\": 2.124}, {\"year\": 2000, \"country\": \"Iraq\", \"cluster\": 5, \"pop\": 22675617, \"life_expect\": 57.046, \"fertility\": 4.858}, {\"year\": 2000, \"country\": \"Ireland\", \"cluster\": 1, \"pop\": 3791690, \"life_expect\": 77.783, \"fertility\": 1.9689999999999999}, {\"year\": 2000, \"country\": \"Israel\", \"cluster\": 5, \"pop\": 5842454, \"life_expect\": 79.696, \"fertility\": 2.906}, {\"year\": 2000, \"country\": \"Italy\", \"cluster\": 1, \"pop\": 57719337, \"life_expect\": 80.24, \"fertility\": 1.286}, {\"year\": 2000, \"country\": \"Jamaica\", \"cluster\": 3, \"pop\": 2615467, \"life_expect\": 72.047, \"fertility\": 2.628}, {\"year\": 2000, \"country\": \"Japan\", \"cluster\": 4, \"pop\": 126699784, \"life_expect\": 82.0, \"fertility\": 1.291}, {\"year\": 2000, \"country\": \"Kenya\", \"cluster\": 2, \"pop\": 29985839, \"life_expect\": 50.992, \"fertility\": 5.0}, {\"year\": 2000, \"country\": \"South Korea\", \"cluster\": 4, \"pop\": 21647682, \"life_expect\": 66.662, \"fertility\": 1.9173}, {\"year\": 2000, \"country\": \"North Korea\", \"cluster\": 4, \"pop\": 47351083, \"life_expect\": 77.045, \"fertility\": 1.242}, {\"year\": 2000, \"country\": \"Lebanon\", \"cluster\": 5, \"pop\": 3578036, \"life_expect\": 71.028, \"fertility\": 2.319}, {\"year\": 2000, \"country\": \"Mexico\", \"cluster\": 3, \"pop\": 99926620, \"life_expect\": 74.902, \"fertility\": 2.4005}, {\"year\": 2000, \"country\": \"Netherlands\", \"cluster\": 1, \"pop\": 15907853, \"life_expect\": 78.53, \"fertility\": 1.726}, {\"year\": 2000, \"country\": \"New Zealand\", \"cluster\": 4, \"pop\": 3819762, \"life_expect\": 79.11, \"fertility\": 1.964}, {\"year\": 2000, \"country\": \"Nigeria\", \"cluster\": 2, \"pop\": 114306700, \"life_expect\": 46.608, \"fertility\": 5.845}, {\"year\": 2000, \"country\": \"Norway\", \"cluster\": 1, \"pop\": 4492400, \"life_expect\": 79.05, \"fertility\": 1.8010000000000002}, {\"year\": 2000, \"country\": \"Pakistan\", \"cluster\": 0, \"pop\": 146342958, \"life_expect\": 63.61, \"fertility\": 3.9936}, {\"year\": 2000, \"country\": \"Peru\", \"cluster\": 3, \"pop\": 25979722, \"life_expect\": 69.906, \"fertility\": 2.7005}, {\"year\": 2000, \"country\": \"Philippines\", \"cluster\": 4, \"pop\": 79739825, \"life_expect\": 70.303, \"fertility\": 3.5436}, {\"year\": 2000, \"country\": \"Poland\", \"cluster\": 1, \"pop\": 38654164, \"life_expect\": 74.67, \"fertility\": 1.251}, {\"year\": 2000, \"country\": \"Portugal\", \"cluster\": 1, \"pop\": 10335597, \"life_expect\": 77.29, \"fertility\": 1.454}, {\"year\": 2000, \"country\": \"Rwanda\", \"cluster\": 2, \"pop\": 7507056, \"life_expect\": 43.413, \"fertility\": 6.01}, {\"year\": 2000, \"country\": \"Saudi Arabia\", \"cluster\": 5, \"pop\": 23153090, \"life_expect\": 71.626, \"fertility\": 3.81}, {\"year\": 2000, \"country\": \"South Africa\", \"cluster\": 2, \"pop\": 44066197, \"life_expect\": 53.365, \"fertility\": 2.802}, {\"year\": 2000, \"country\": \"Spain\", \"cluster\": 1, \"pop\": 40016081, \"life_expect\": 79.78, \"fertility\": 1.287}, {\"year\": 2000, \"country\": \"Switzerland\", \"cluster\": 1, \"pop\": 7266920, \"life_expect\": 80.62, \"fertility\": 1.415}, {\"year\": 2000, \"country\": \"Turkey\", \"cluster\": 1, \"pop\": 65666677, \"life_expect\": 70.845, \"fertility\": 2.23}, {\"year\": 2000, \"country\": \"United Kingdom\", \"cluster\": 1, \"pop\": 59522468, \"life_expect\": 78.471, \"fertility\": 1.695}, {\"year\": 2000, \"country\": \"United States\", \"cluster\": 3, \"pop\": 282338631, \"life_expect\": 77.31, \"fertility\": 2.038}, {\"year\": 2000, \"country\": \"Venezuela\", \"cluster\": 3, \"pop\": 23542649, \"life_expect\": 72.766, \"fertility\": 2.723}]}}, {\"mode\": \"vega-lite\"});\n</script>",
      "text/plain": "alt.Chart(...)"
     },
     "execution_count": 6,
     "metadata": {},
     "output_type": "execute_result"
    }
   ],
   "source": [
    "alt.Chart(data2000).mark_circle(size=100).encode(\n",
    "    alt.X('fertility:Q'),\n",
    "    alt.Y('cluster:N'),\n",
    "    alt.Shape('cluster:N')\n",
    ")"
   ]
  },
  {
   "cell_type": "markdown",
   "id": "bad030a8-740c-49e9-bb74-aac65db4748d",
   "metadata": {
    "colab_type": "text",
    "id": "IAZSJlWhcOr_",
    "pycharm": {
     "name": "#%% md\n"
    }
   },
   "source": [
    "## Square\n",
    "\n",
    "The `square` mark type is a convenient shorthand for `point` marks drawn as filled squares."
   ]
  },
  {
   "cell_type": "code",
   "execution_count": 7,
   "id": "b9aaba9a-2a92-4163-8871-09c9d4ac850f",
   "metadata": {
    "colab": {
     "base_uri": "https://localhost:8080/",
     "height": 192
    },
    "colab_type": "code",
    "id": "rfby5R-Mvuwx",
    "outputId": "8ff4b0d4-f3ce-45e5-f597-1a6fd296ba47",
    "pycharm": {
     "name": "#%%\n"
    }
   },
   "outputs": [
    {
     "data": {
      "text/html": "\n<div id=\"altair-viz-4da6255296db4f049202929af59c2f5c\"></div>\n<script type=\"text/javascript\">\n  (function(spec, embedOpt){\n    let outputDiv = document.currentScript.previousElementSibling;\n    if (outputDiv.id !== \"altair-viz-4da6255296db4f049202929af59c2f5c\") {\n      outputDiv = document.getElementById(\"altair-viz-4da6255296db4f049202929af59c2f5c\");\n    }\n    const paths = {\n      \"vega\": \"https://cdn.jsdelivr.net/npm//vega@5?noext\",\n      \"vega-lib\": \"https://cdn.jsdelivr.net/npm//vega-lib?noext\",\n      \"vega-lite\": \"https://cdn.jsdelivr.net/npm//vega-lite@4.8.1?noext\",\n      \"vega-embed\": \"https://cdn.jsdelivr.net/npm//vega-embed@6?noext\",\n    };\n\n    function loadScript(lib) {\n      return new Promise(function(resolve, reject) {\n        var s = document.createElement('script');\n        s.src = paths[lib];\n        s.async = true;\n        s.onload = () => resolve(paths[lib]);\n        s.onerror = () => reject(`Error loading script: ${paths[lib]}`);\n        document.getElementsByTagName(\"head\")[0].appendChild(s);\n      });\n    }\n\n    function showError(err) {\n      outputDiv.innerHTML = `<div class=\"error\" style=\"color:red;\">${err}</div>`;\n      throw err;\n    }\n\n    function displayChart(vegaEmbed) {\n      vegaEmbed(outputDiv, spec, embedOpt)\n        .catch(err => showError(`Javascript Error: ${err.message}<br>This usually means there's a typo in your chart specification. See the javascript console for the full traceback.`));\n    }\n\n    if(typeof define === \"function\" && define.amd) {\n      requirejs.config({paths});\n      require([\"vega-embed\"], displayChart, err => showError(`Error loading script: ${err.message}`));\n    } else if (typeof vegaEmbed === \"function\") {\n      displayChart(vegaEmbed);\n    } else {\n      loadScript(\"vega\")\n        .then(() => loadScript(\"vega-lite\"))\n        .then(() => loadScript(\"vega-embed\"))\n        .catch(showError)\n        .then(() => displayChart(vegaEmbed));\n    }\n  })({\"config\": {\"view\": {\"continuousWidth\": 400, \"continuousHeight\": 300}}, \"data\": {\"name\": \"data-fdeb0b749a6385830bd1445d39ad6ea0\"}, \"mark\": {\"type\": \"square\", \"size\": 100}, \"encoding\": {\"shape\": {\"type\": \"nominal\", \"field\": \"cluster\"}, \"x\": {\"type\": \"quantitative\", \"field\": \"fertility\"}, \"y\": {\"type\": \"nominal\", \"field\": \"cluster\"}}, \"$schema\": \"https://vega.github.io/schema/vega-lite/v4.8.1.json\", \"datasets\": {\"data-fdeb0b749a6385830bd1445d39ad6ea0\": [{\"year\": 2000, \"country\": \"Afghanistan\", \"cluster\": 0, \"pop\": 23898198, \"life_expect\": 42.129, \"fertility\": 7.4792}, {\"year\": 2000, \"country\": \"Argentina\", \"cluster\": 3, \"pop\": 37497728, \"life_expect\": 74.34, \"fertility\": 2.35}, {\"year\": 2000, \"country\": \"Aruba\", \"cluster\": 3, \"pop\": 69539, \"life_expect\": 73.451, \"fertility\": 2.124}, {\"year\": 2000, \"country\": \"Australia\", \"cluster\": 4, \"pop\": 19164620, \"life_expect\": 80.37, \"fertility\": 1.756}, {\"year\": 2000, \"country\": \"Austria\", \"cluster\": 1, \"pop\": 8113413, \"life_expect\": 78.98, \"fertility\": 1.3820000000000001}, {\"year\": 2000, \"country\": \"Bahamas\", \"cluster\": 3, \"pop\": 290075, \"life_expect\": 71.068, \"fertility\": 2.1111}, {\"year\": 2000, \"country\": \"Bangladesh\", \"cluster\": 0, \"pop\": 130406594, \"life_expect\": 62.013, \"fertility\": 3.224}, {\"year\": 2000, \"country\": \"Barbados\", \"cluster\": 3, \"pop\": 273483, \"life_expect\": 75.97, \"fertility\": 1.5}, {\"year\": 2000, \"country\": \"Belgium\", \"cluster\": 1, \"pop\": 10263618, \"life_expect\": 78.32, \"fertility\": 1.638}, {\"year\": 2000, \"country\": \"Bolivia\", \"cluster\": 3, \"pop\": 8152620, \"life_expect\": 63.883, \"fertility\": 3.9585}, {\"year\": 2000, \"country\": \"Brazil\", \"cluster\": 3, \"pop\": 175552771, \"life_expect\": 71.006, \"fertility\": 2.345}, {\"year\": 2000, \"country\": \"Canada\", \"cluster\": 3, \"pop\": 31278097, \"life_expect\": 79.77, \"fertility\": 1.522}, {\"year\": 2000, \"country\": \"Chile\", \"cluster\": 3, \"pop\": 15153450, \"life_expect\": 77.86, \"fertility\": 2.0}, {\"year\": 2000, \"country\": \"China\", \"cluster\": 4, \"pop\": 1262645000, \"life_expect\": 72.028, \"fertility\": 1.7000000000000002}, {\"year\": 2000, \"country\": \"Colombia\", \"cluster\": 3, \"pop\": 39685655, \"life_expect\": 71.682, \"fertility\": 2.4705}, {\"year\": 2000, \"country\": \"Costa Rica\", \"cluster\": 3, \"pop\": 3710558, \"life_expect\": 78.123, \"fertility\": 2.2815}, {\"year\": 2000, \"country\": \"Croatia\", \"cluster\": 1, \"pop\": 4410830, \"life_expect\": 74.876, \"fertility\": 1.348}, {\"year\": 2000, \"country\": \"Cuba\", \"cluster\": 3, \"pop\": 11134273, \"life_expect\": 77.158, \"fertility\": 1.63}, {\"year\": 2000, \"country\": \"Dominican Republic\", \"cluster\": 3, \"pop\": 8385828, \"life_expect\": 70.847, \"fertility\": 2.95}, {\"year\": 2000, \"country\": \"Ecuador\", \"cluster\": 3, \"pop\": 12505204, \"life_expect\": 74.173, \"fertility\": 2.8175}, {\"year\": 2000, \"country\": \"Egypt\", \"cluster\": 5, \"pop\": 70492342, \"life_expect\": 69.806, \"fertility\": 3.174}, {\"year\": 2000, \"country\": \"El Salvador\", \"cluster\": 3, \"pop\": 6122515, \"life_expect\": 70.734, \"fertility\": 2.883}, {\"year\": 2000, \"country\": \"Finland\", \"cluster\": 1, \"pop\": 5168595, \"life_expect\": 78.37, \"fertility\": 1.754}, {\"year\": 2000, \"country\": \"France\", \"cluster\": 1, \"pop\": 59381628, \"life_expect\": 79.59, \"fertility\": 1.8833000000000002}, {\"year\": 2000, \"country\": \"Georgia\", \"cluster\": 1, \"pop\": 4777209, \"life_expect\": 70.476, \"fertility\": 1.478}, {\"year\": 2000, \"country\": \"Germany\", \"cluster\": 1, \"pop\": 82187909, \"life_expect\": 78.67, \"fertility\": 1.346}, {\"year\": 2000, \"country\": \"Greece\", \"cluster\": 1, \"pop\": 10559110, \"life_expect\": 78.256, \"fertility\": 1.2770000000000001}, {\"year\": 2000, \"country\": \"Grenada\", \"cluster\": 3, \"pop\": 89312, \"life_expect\": 67.746, \"fertility\": 2.429}, {\"year\": 2000, \"country\": \"Haiti\", \"cluster\": 3, \"pop\": 7306302, \"life_expect\": 58.137, \"fertility\": 4.0}, {\"year\": 2000, \"country\": \"Hong Kong\", \"cluster\": 4, \"pop\": 6658720, \"life_expect\": 81.495, \"fertility\": 0.9400000000000001}, {\"year\": 2000, \"country\": \"Iceland\", \"cluster\": 1, \"pop\": 281043, \"life_expect\": 80.5, \"fertility\": 1.9929999999999999}, {\"year\": 2000, \"country\": \"India\", \"cluster\": 0, \"pop\": 1007702000, \"life_expect\": 62.879, \"fertility\": 3.1132}, {\"year\": 2000, \"country\": \"Indonesia\", \"cluster\": 4, \"pop\": 206265000, \"life_expect\": 68.588, \"fertility\": 2.3761}, {\"year\": 2000, \"country\": \"Iran\", \"cluster\": 5, \"pop\": 65660289, \"life_expect\": 69.451, \"fertility\": 2.124}, {\"year\": 2000, \"country\": \"Iraq\", \"cluster\": 5, \"pop\": 22675617, \"life_expect\": 57.046, \"fertility\": 4.858}, {\"year\": 2000, \"country\": \"Ireland\", \"cluster\": 1, \"pop\": 3791690, \"life_expect\": 77.783, \"fertility\": 1.9689999999999999}, {\"year\": 2000, \"country\": \"Israel\", \"cluster\": 5, \"pop\": 5842454, \"life_expect\": 79.696, \"fertility\": 2.906}, {\"year\": 2000, \"country\": \"Italy\", \"cluster\": 1, \"pop\": 57719337, \"life_expect\": 80.24, \"fertility\": 1.286}, {\"year\": 2000, \"country\": \"Jamaica\", \"cluster\": 3, \"pop\": 2615467, \"life_expect\": 72.047, \"fertility\": 2.628}, {\"year\": 2000, \"country\": \"Japan\", \"cluster\": 4, \"pop\": 126699784, \"life_expect\": 82.0, \"fertility\": 1.291}, {\"year\": 2000, \"country\": \"Kenya\", \"cluster\": 2, \"pop\": 29985839, \"life_expect\": 50.992, \"fertility\": 5.0}, {\"year\": 2000, \"country\": \"South Korea\", \"cluster\": 4, \"pop\": 21647682, \"life_expect\": 66.662, \"fertility\": 1.9173}, {\"year\": 2000, \"country\": \"North Korea\", \"cluster\": 4, \"pop\": 47351083, \"life_expect\": 77.045, \"fertility\": 1.242}, {\"year\": 2000, \"country\": \"Lebanon\", \"cluster\": 5, \"pop\": 3578036, \"life_expect\": 71.028, \"fertility\": 2.319}, {\"year\": 2000, \"country\": \"Mexico\", \"cluster\": 3, \"pop\": 99926620, \"life_expect\": 74.902, \"fertility\": 2.4005}, {\"year\": 2000, \"country\": \"Netherlands\", \"cluster\": 1, \"pop\": 15907853, \"life_expect\": 78.53, \"fertility\": 1.726}, {\"year\": 2000, \"country\": \"New Zealand\", \"cluster\": 4, \"pop\": 3819762, \"life_expect\": 79.11, \"fertility\": 1.964}, {\"year\": 2000, \"country\": \"Nigeria\", \"cluster\": 2, \"pop\": 114306700, \"life_expect\": 46.608, \"fertility\": 5.845}, {\"year\": 2000, \"country\": \"Norway\", \"cluster\": 1, \"pop\": 4492400, \"life_expect\": 79.05, \"fertility\": 1.8010000000000002}, {\"year\": 2000, \"country\": \"Pakistan\", \"cluster\": 0, \"pop\": 146342958, \"life_expect\": 63.61, \"fertility\": 3.9936}, {\"year\": 2000, \"country\": \"Peru\", \"cluster\": 3, \"pop\": 25979722, \"life_expect\": 69.906, \"fertility\": 2.7005}, {\"year\": 2000, \"country\": \"Philippines\", \"cluster\": 4, \"pop\": 79739825, \"life_expect\": 70.303, \"fertility\": 3.5436}, {\"year\": 2000, \"country\": \"Poland\", \"cluster\": 1, \"pop\": 38654164, \"life_expect\": 74.67, \"fertility\": 1.251}, {\"year\": 2000, \"country\": \"Portugal\", \"cluster\": 1, \"pop\": 10335597, \"life_expect\": 77.29, \"fertility\": 1.454}, {\"year\": 2000, \"country\": \"Rwanda\", \"cluster\": 2, \"pop\": 7507056, \"life_expect\": 43.413, \"fertility\": 6.01}, {\"year\": 2000, \"country\": \"Saudi Arabia\", \"cluster\": 5, \"pop\": 23153090, \"life_expect\": 71.626, \"fertility\": 3.81}, {\"year\": 2000, \"country\": \"South Africa\", \"cluster\": 2, \"pop\": 44066197, \"life_expect\": 53.365, \"fertility\": 2.802}, {\"year\": 2000, \"country\": \"Spain\", \"cluster\": 1, \"pop\": 40016081, \"life_expect\": 79.78, \"fertility\": 1.287}, {\"year\": 2000, \"country\": \"Switzerland\", \"cluster\": 1, \"pop\": 7266920, \"life_expect\": 80.62, \"fertility\": 1.415}, {\"year\": 2000, \"country\": \"Turkey\", \"cluster\": 1, \"pop\": 65666677, \"life_expect\": 70.845, \"fertility\": 2.23}, {\"year\": 2000, \"country\": \"United Kingdom\", \"cluster\": 1, \"pop\": 59522468, \"life_expect\": 78.471, \"fertility\": 1.695}, {\"year\": 2000, \"country\": \"United States\", \"cluster\": 3, \"pop\": 282338631, \"life_expect\": 77.31, \"fertility\": 2.038}, {\"year\": 2000, \"country\": \"Venezuela\", \"cluster\": 3, \"pop\": 23542649, \"life_expect\": 72.766, \"fertility\": 2.723}]}}, {\"mode\": \"vega-lite\"});\n</script>",
      "text/plain": "alt.Chart(...)"
     },
     "execution_count": 7,
     "metadata": {},
     "output_type": "execute_result"
    }
   ],
   "source": [
    "alt.Chart(data2000).mark_square(size=100).encode(\n",
    "    alt.X('fertility:Q'),\n",
    "    alt.Y('cluster:N'),\n",
    "    alt.Shape('cluster:N')\n",
    ")"
   ]
  },
  {
   "cell_type": "markdown",
   "id": "4af965a7-f1bd-4bc5-9614-d6ed2296eb7d",
   "metadata": {
    "colab_type": "text",
    "id": "SJF0vNqGcRdv",
    "pycharm": {
     "name": "#%% md\n"
    }
   },
   "source": [
    "## Tick\n",
    "\n",
    "The `tick` mark type conveys a data point using a short line segment or \"tick\". These are particularly useful for comparing values along a single dimension with minimal overlap. A *dot plot* drawn with tick marks is sometimes referred to as a *strip plot*."
   ]
  },
  {
   "cell_type": "code",
   "execution_count": 8,
   "id": "c7c04d2e-96fe-4a5a-b7e6-076a6391fba1",
   "metadata": {
    "colab": {
     "base_uri": "https://localhost:8080/",
     "height": 192
    },
    "colab_type": "code",
    "id": "Thvp_VJ2v-xd",
    "outputId": "c6133250-333f-4c29-e217-221634dd8337",
    "pycharm": {
     "name": "#%%\n"
    }
   },
   "outputs": [
    {
     "data": {
      "text/html": "\n<div id=\"altair-viz-0f4c94f719cc4b34846408fe57503148\"></div>\n<script type=\"text/javascript\">\n  (function(spec, embedOpt){\n    let outputDiv = document.currentScript.previousElementSibling;\n    if (outputDiv.id !== \"altair-viz-0f4c94f719cc4b34846408fe57503148\") {\n      outputDiv = document.getElementById(\"altair-viz-0f4c94f719cc4b34846408fe57503148\");\n    }\n    const paths = {\n      \"vega\": \"https://cdn.jsdelivr.net/npm//vega@5?noext\",\n      \"vega-lib\": \"https://cdn.jsdelivr.net/npm//vega-lib?noext\",\n      \"vega-lite\": \"https://cdn.jsdelivr.net/npm//vega-lite@4.8.1?noext\",\n      \"vega-embed\": \"https://cdn.jsdelivr.net/npm//vega-embed@6?noext\",\n    };\n\n    function loadScript(lib) {\n      return new Promise(function(resolve, reject) {\n        var s = document.createElement('script');\n        s.src = paths[lib];\n        s.async = true;\n        s.onload = () => resolve(paths[lib]);\n        s.onerror = () => reject(`Error loading script: ${paths[lib]}`);\n        document.getElementsByTagName(\"head\")[0].appendChild(s);\n      });\n    }\n\n    function showError(err) {\n      outputDiv.innerHTML = `<div class=\"error\" style=\"color:red;\">${err}</div>`;\n      throw err;\n    }\n\n    function displayChart(vegaEmbed) {\n      vegaEmbed(outputDiv, spec, embedOpt)\n        .catch(err => showError(`Javascript Error: ${err.message}<br>This usually means there's a typo in your chart specification. See the javascript console for the full traceback.`));\n    }\n\n    if(typeof define === \"function\" && define.amd) {\n      requirejs.config({paths});\n      require([\"vega-embed\"], displayChart, err => showError(`Error loading script: ${err.message}`));\n    } else if (typeof vegaEmbed === \"function\") {\n      displayChart(vegaEmbed);\n    } else {\n      loadScript(\"vega\")\n        .then(() => loadScript(\"vega-lite\"))\n        .then(() => loadScript(\"vega-embed\"))\n        .catch(showError)\n        .then(() => displayChart(vegaEmbed));\n    }\n  })({\"config\": {\"view\": {\"continuousWidth\": 400, \"continuousHeight\": 300}}, \"data\": {\"name\": \"data-fdeb0b749a6385830bd1445d39ad6ea0\"}, \"mark\": \"tick\", \"encoding\": {\"shape\": {\"type\": \"nominal\", \"field\": \"cluster\"}, \"x\": {\"type\": \"quantitative\", \"field\": \"fertility\"}, \"y\": {\"type\": \"nominal\", \"field\": \"cluster\"}}, \"$schema\": \"https://vega.github.io/schema/vega-lite/v4.8.1.json\", \"datasets\": {\"data-fdeb0b749a6385830bd1445d39ad6ea0\": [{\"year\": 2000, \"country\": \"Afghanistan\", \"cluster\": 0, \"pop\": 23898198, \"life_expect\": 42.129, \"fertility\": 7.4792}, {\"year\": 2000, \"country\": \"Argentina\", \"cluster\": 3, \"pop\": 37497728, \"life_expect\": 74.34, \"fertility\": 2.35}, {\"year\": 2000, \"country\": \"Aruba\", \"cluster\": 3, \"pop\": 69539, \"life_expect\": 73.451, \"fertility\": 2.124}, {\"year\": 2000, \"country\": \"Australia\", \"cluster\": 4, \"pop\": 19164620, \"life_expect\": 80.37, \"fertility\": 1.756}, {\"year\": 2000, \"country\": \"Austria\", \"cluster\": 1, \"pop\": 8113413, \"life_expect\": 78.98, \"fertility\": 1.3820000000000001}, {\"year\": 2000, \"country\": \"Bahamas\", \"cluster\": 3, \"pop\": 290075, \"life_expect\": 71.068, \"fertility\": 2.1111}, {\"year\": 2000, \"country\": \"Bangladesh\", \"cluster\": 0, \"pop\": 130406594, \"life_expect\": 62.013, \"fertility\": 3.224}, {\"year\": 2000, \"country\": \"Barbados\", \"cluster\": 3, \"pop\": 273483, \"life_expect\": 75.97, \"fertility\": 1.5}, {\"year\": 2000, \"country\": \"Belgium\", \"cluster\": 1, \"pop\": 10263618, \"life_expect\": 78.32, \"fertility\": 1.638}, {\"year\": 2000, \"country\": \"Bolivia\", \"cluster\": 3, \"pop\": 8152620, \"life_expect\": 63.883, \"fertility\": 3.9585}, {\"year\": 2000, \"country\": \"Brazil\", \"cluster\": 3, \"pop\": 175552771, \"life_expect\": 71.006, \"fertility\": 2.345}, {\"year\": 2000, \"country\": \"Canada\", \"cluster\": 3, \"pop\": 31278097, \"life_expect\": 79.77, \"fertility\": 1.522}, {\"year\": 2000, \"country\": \"Chile\", \"cluster\": 3, \"pop\": 15153450, \"life_expect\": 77.86, \"fertility\": 2.0}, {\"year\": 2000, \"country\": \"China\", \"cluster\": 4, \"pop\": 1262645000, \"life_expect\": 72.028, \"fertility\": 1.7000000000000002}, {\"year\": 2000, \"country\": \"Colombia\", \"cluster\": 3, \"pop\": 39685655, \"life_expect\": 71.682, \"fertility\": 2.4705}, {\"year\": 2000, \"country\": \"Costa Rica\", \"cluster\": 3, \"pop\": 3710558, \"life_expect\": 78.123, \"fertility\": 2.2815}, {\"year\": 2000, \"country\": \"Croatia\", \"cluster\": 1, \"pop\": 4410830, \"life_expect\": 74.876, \"fertility\": 1.348}, {\"year\": 2000, \"country\": \"Cuba\", \"cluster\": 3, \"pop\": 11134273, \"life_expect\": 77.158, \"fertility\": 1.63}, {\"year\": 2000, \"country\": \"Dominican Republic\", \"cluster\": 3, \"pop\": 8385828, \"life_expect\": 70.847, \"fertility\": 2.95}, {\"year\": 2000, \"country\": \"Ecuador\", \"cluster\": 3, \"pop\": 12505204, \"life_expect\": 74.173, \"fertility\": 2.8175}, {\"year\": 2000, \"country\": \"Egypt\", \"cluster\": 5, \"pop\": 70492342, \"life_expect\": 69.806, \"fertility\": 3.174}, {\"year\": 2000, \"country\": \"El Salvador\", \"cluster\": 3, \"pop\": 6122515, \"life_expect\": 70.734, \"fertility\": 2.883}, {\"year\": 2000, \"country\": \"Finland\", \"cluster\": 1, \"pop\": 5168595, \"life_expect\": 78.37, \"fertility\": 1.754}, {\"year\": 2000, \"country\": \"France\", \"cluster\": 1, \"pop\": 59381628, \"life_expect\": 79.59, \"fertility\": 1.8833000000000002}, {\"year\": 2000, \"country\": \"Georgia\", \"cluster\": 1, \"pop\": 4777209, \"life_expect\": 70.476, \"fertility\": 1.478}, {\"year\": 2000, \"country\": \"Germany\", \"cluster\": 1, \"pop\": 82187909, \"life_expect\": 78.67, \"fertility\": 1.346}, {\"year\": 2000, \"country\": \"Greece\", \"cluster\": 1, \"pop\": 10559110, \"life_expect\": 78.256, \"fertility\": 1.2770000000000001}, {\"year\": 2000, \"country\": \"Grenada\", \"cluster\": 3, \"pop\": 89312, \"life_expect\": 67.746, \"fertility\": 2.429}, {\"year\": 2000, \"country\": \"Haiti\", \"cluster\": 3, \"pop\": 7306302, \"life_expect\": 58.137, \"fertility\": 4.0}, {\"year\": 2000, \"country\": \"Hong Kong\", \"cluster\": 4, \"pop\": 6658720, \"life_expect\": 81.495, \"fertility\": 0.9400000000000001}, {\"year\": 2000, \"country\": \"Iceland\", \"cluster\": 1, \"pop\": 281043, \"life_expect\": 80.5, \"fertility\": 1.9929999999999999}, {\"year\": 2000, \"country\": \"India\", \"cluster\": 0, \"pop\": 1007702000, \"life_expect\": 62.879, \"fertility\": 3.1132}, {\"year\": 2000, \"country\": \"Indonesia\", \"cluster\": 4, \"pop\": 206265000, \"life_expect\": 68.588, \"fertility\": 2.3761}, {\"year\": 2000, \"country\": \"Iran\", \"cluster\": 5, \"pop\": 65660289, \"life_expect\": 69.451, \"fertility\": 2.124}, {\"year\": 2000, \"country\": \"Iraq\", \"cluster\": 5, \"pop\": 22675617, \"life_expect\": 57.046, \"fertility\": 4.858}, {\"year\": 2000, \"country\": \"Ireland\", \"cluster\": 1, \"pop\": 3791690, \"life_expect\": 77.783, \"fertility\": 1.9689999999999999}, {\"year\": 2000, \"country\": \"Israel\", \"cluster\": 5, \"pop\": 5842454, \"life_expect\": 79.696, \"fertility\": 2.906}, {\"year\": 2000, \"country\": \"Italy\", \"cluster\": 1, \"pop\": 57719337, \"life_expect\": 80.24, \"fertility\": 1.286}, {\"year\": 2000, \"country\": \"Jamaica\", \"cluster\": 3, \"pop\": 2615467, \"life_expect\": 72.047, \"fertility\": 2.628}, {\"year\": 2000, \"country\": \"Japan\", \"cluster\": 4, \"pop\": 126699784, \"life_expect\": 82.0, \"fertility\": 1.291}, {\"year\": 2000, \"country\": \"Kenya\", \"cluster\": 2, \"pop\": 29985839, \"life_expect\": 50.992, \"fertility\": 5.0}, {\"year\": 2000, \"country\": \"South Korea\", \"cluster\": 4, \"pop\": 21647682, \"life_expect\": 66.662, \"fertility\": 1.9173}, {\"year\": 2000, \"country\": \"North Korea\", \"cluster\": 4, \"pop\": 47351083, \"life_expect\": 77.045, \"fertility\": 1.242}, {\"year\": 2000, \"country\": \"Lebanon\", \"cluster\": 5, \"pop\": 3578036, \"life_expect\": 71.028, \"fertility\": 2.319}, {\"year\": 2000, \"country\": \"Mexico\", \"cluster\": 3, \"pop\": 99926620, \"life_expect\": 74.902, \"fertility\": 2.4005}, {\"year\": 2000, \"country\": \"Netherlands\", \"cluster\": 1, \"pop\": 15907853, \"life_expect\": 78.53, \"fertility\": 1.726}, {\"year\": 2000, \"country\": \"New Zealand\", \"cluster\": 4, \"pop\": 3819762, \"life_expect\": 79.11, \"fertility\": 1.964}, {\"year\": 2000, \"country\": \"Nigeria\", \"cluster\": 2, \"pop\": 114306700, \"life_expect\": 46.608, \"fertility\": 5.845}, {\"year\": 2000, \"country\": \"Norway\", \"cluster\": 1, \"pop\": 4492400, \"life_expect\": 79.05, \"fertility\": 1.8010000000000002}, {\"year\": 2000, \"country\": \"Pakistan\", \"cluster\": 0, \"pop\": 146342958, \"life_expect\": 63.61, \"fertility\": 3.9936}, {\"year\": 2000, \"country\": \"Peru\", \"cluster\": 3, \"pop\": 25979722, \"life_expect\": 69.906, \"fertility\": 2.7005}, {\"year\": 2000, \"country\": \"Philippines\", \"cluster\": 4, \"pop\": 79739825, \"life_expect\": 70.303, \"fertility\": 3.5436}, {\"year\": 2000, \"country\": \"Poland\", \"cluster\": 1, \"pop\": 38654164, \"life_expect\": 74.67, \"fertility\": 1.251}, {\"year\": 2000, \"country\": \"Portugal\", \"cluster\": 1, \"pop\": 10335597, \"life_expect\": 77.29, \"fertility\": 1.454}, {\"year\": 2000, \"country\": \"Rwanda\", \"cluster\": 2, \"pop\": 7507056, \"life_expect\": 43.413, \"fertility\": 6.01}, {\"year\": 2000, \"country\": \"Saudi Arabia\", \"cluster\": 5, \"pop\": 23153090, \"life_expect\": 71.626, \"fertility\": 3.81}, {\"year\": 2000, \"country\": \"South Africa\", \"cluster\": 2, \"pop\": 44066197, \"life_expect\": 53.365, \"fertility\": 2.802}, {\"year\": 2000, \"country\": \"Spain\", \"cluster\": 1, \"pop\": 40016081, \"life_expect\": 79.78, \"fertility\": 1.287}, {\"year\": 2000, \"country\": \"Switzerland\", \"cluster\": 1, \"pop\": 7266920, \"life_expect\": 80.62, \"fertility\": 1.415}, {\"year\": 2000, \"country\": \"Turkey\", \"cluster\": 1, \"pop\": 65666677, \"life_expect\": 70.845, \"fertility\": 2.23}, {\"year\": 2000, \"country\": \"United Kingdom\", \"cluster\": 1, \"pop\": 59522468, \"life_expect\": 78.471, \"fertility\": 1.695}, {\"year\": 2000, \"country\": \"United States\", \"cluster\": 3, \"pop\": 282338631, \"life_expect\": 77.31, \"fertility\": 2.038}, {\"year\": 2000, \"country\": \"Venezuela\", \"cluster\": 3, \"pop\": 23542649, \"life_expect\": 72.766, \"fertility\": 2.723}]}}, {\"mode\": \"vega-lite\"});\n</script>",
      "text/plain": "alt.Chart(...)"
     },
     "execution_count": 8,
     "metadata": {},
     "output_type": "execute_result"
    }
   ],
   "source": [
    "alt.Chart(data2000).mark_tick().encode(\n",
    "    alt.X('fertility:Q'),\n",
    "    alt.Y('cluster:N'),\n",
    "    alt.Shape('cluster:N')\n",
    ")"
   ]
  },
  {
   "cell_type": "markdown",
   "source": [
    "At this point it may seem that all we've done is replace the point with a circle, then a square, and finally a line. That is true. But remember, the first few notebooks focus on exposing you to the building blocks of the grammar, so that in the future you are aware of the possiblities. With the understanding of the blocks in place, you will be equipped to create more novel visual representations of data.\n"
   ],
   "metadata": {
    "collapsed": false,
    "pycharm": {
     "name": "#%% md\n"
    }
   }
  },
  {
   "cell_type": "markdown",
   "source": [
    "## Bar\n",
    "\n",
    "The `bar` mark type draws a rectangle with a position, width, and height.\n",
    "The plot below is a simple bar chart of the population (`pop`) for each country."
   ],
   "metadata": {
    "collapsed": false,
    "pycharm": {
     "name": "#%% md\n"
    }
   }
  },
  {
   "cell_type": "code",
   "execution_count": 9,
   "id": "eea40704-889c-4ef3-b91f-6d6d7e6709c4",
   "metadata": {
    "colab": {
     "base_uri": "https://localhost:8080/",
     "height": 445
    },
    "colab_type": "code",
    "id": "eFN9Kw85xFQK",
    "outputId": "8da431d3-9ba7-4ecf-de55-e478c4527a39",
    "pycharm": {
     "name": "#%%\n"
    }
   },
   "outputs": [
    {
     "data": {
      "text/html": "\n<div id=\"altair-viz-c4b494e83f234d61a42ee6194db026c2\"></div>\n<script type=\"text/javascript\">\n  (function(spec, embedOpt){\n    let outputDiv = document.currentScript.previousElementSibling;\n    if (outputDiv.id !== \"altair-viz-c4b494e83f234d61a42ee6194db026c2\") {\n      outputDiv = document.getElementById(\"altair-viz-c4b494e83f234d61a42ee6194db026c2\");\n    }\n    const paths = {\n      \"vega\": \"https://cdn.jsdelivr.net/npm//vega@5?noext\",\n      \"vega-lib\": \"https://cdn.jsdelivr.net/npm//vega-lib?noext\",\n      \"vega-lite\": \"https://cdn.jsdelivr.net/npm//vega-lite@4.8.1?noext\",\n      \"vega-embed\": \"https://cdn.jsdelivr.net/npm//vega-embed@6?noext\",\n    };\n\n    function loadScript(lib) {\n      return new Promise(function(resolve, reject) {\n        var s = document.createElement('script');\n        s.src = paths[lib];\n        s.async = true;\n        s.onload = () => resolve(paths[lib]);\n        s.onerror = () => reject(`Error loading script: ${paths[lib]}`);\n        document.getElementsByTagName(\"head\")[0].appendChild(s);\n      });\n    }\n\n    function showError(err) {\n      outputDiv.innerHTML = `<div class=\"error\" style=\"color:red;\">${err}</div>`;\n      throw err;\n    }\n\n    function displayChart(vegaEmbed) {\n      vegaEmbed(outputDiv, spec, embedOpt)\n        .catch(err => showError(`Javascript Error: ${err.message}<br>This usually means there's a typo in your chart specification. See the javascript console for the full traceback.`));\n    }\n\n    if(typeof define === \"function\" && define.amd) {\n      requirejs.config({paths});\n      require([\"vega-embed\"], displayChart, err => showError(`Error loading script: ${err.message}`));\n    } else if (typeof vegaEmbed === \"function\") {\n      displayChart(vegaEmbed);\n    } else {\n      loadScript(\"vega\")\n        .then(() => loadScript(\"vega-lite\"))\n        .then(() => loadScript(\"vega-embed\"))\n        .catch(showError)\n        .then(() => displayChart(vegaEmbed));\n    }\n  })({\"config\": {\"view\": {\"continuousWidth\": 400, \"continuousHeight\": 300}}, \"data\": {\"name\": \"data-fdeb0b749a6385830bd1445d39ad6ea0\"}, \"mark\": \"bar\", \"encoding\": {\"x\": {\"type\": \"nominal\", \"field\": \"country\"}, \"y\": {\"type\": \"quantitative\", \"field\": \"pop\"}}, \"$schema\": \"https://vega.github.io/schema/vega-lite/v4.8.1.json\", \"datasets\": {\"data-fdeb0b749a6385830bd1445d39ad6ea0\": [{\"year\": 2000, \"country\": \"Afghanistan\", \"cluster\": 0, \"pop\": 23898198, \"life_expect\": 42.129, \"fertility\": 7.4792}, {\"year\": 2000, \"country\": \"Argentina\", \"cluster\": 3, \"pop\": 37497728, \"life_expect\": 74.34, \"fertility\": 2.35}, {\"year\": 2000, \"country\": \"Aruba\", \"cluster\": 3, \"pop\": 69539, \"life_expect\": 73.451, \"fertility\": 2.124}, {\"year\": 2000, \"country\": \"Australia\", \"cluster\": 4, \"pop\": 19164620, \"life_expect\": 80.37, \"fertility\": 1.756}, {\"year\": 2000, \"country\": \"Austria\", \"cluster\": 1, \"pop\": 8113413, \"life_expect\": 78.98, \"fertility\": 1.3820000000000001}, {\"year\": 2000, \"country\": \"Bahamas\", \"cluster\": 3, \"pop\": 290075, \"life_expect\": 71.068, \"fertility\": 2.1111}, {\"year\": 2000, \"country\": \"Bangladesh\", \"cluster\": 0, \"pop\": 130406594, \"life_expect\": 62.013, \"fertility\": 3.224}, {\"year\": 2000, \"country\": \"Barbados\", \"cluster\": 3, \"pop\": 273483, \"life_expect\": 75.97, \"fertility\": 1.5}, {\"year\": 2000, \"country\": \"Belgium\", \"cluster\": 1, \"pop\": 10263618, \"life_expect\": 78.32, \"fertility\": 1.638}, {\"year\": 2000, \"country\": \"Bolivia\", \"cluster\": 3, \"pop\": 8152620, \"life_expect\": 63.883, \"fertility\": 3.9585}, {\"year\": 2000, \"country\": \"Brazil\", \"cluster\": 3, \"pop\": 175552771, \"life_expect\": 71.006, \"fertility\": 2.345}, {\"year\": 2000, \"country\": \"Canada\", \"cluster\": 3, \"pop\": 31278097, \"life_expect\": 79.77, \"fertility\": 1.522}, {\"year\": 2000, \"country\": \"Chile\", \"cluster\": 3, \"pop\": 15153450, \"life_expect\": 77.86, \"fertility\": 2.0}, {\"year\": 2000, \"country\": \"China\", \"cluster\": 4, \"pop\": 1262645000, \"life_expect\": 72.028, \"fertility\": 1.7000000000000002}, {\"year\": 2000, \"country\": \"Colombia\", \"cluster\": 3, \"pop\": 39685655, \"life_expect\": 71.682, \"fertility\": 2.4705}, {\"year\": 2000, \"country\": \"Costa Rica\", \"cluster\": 3, \"pop\": 3710558, \"life_expect\": 78.123, \"fertility\": 2.2815}, {\"year\": 2000, \"country\": \"Croatia\", \"cluster\": 1, \"pop\": 4410830, \"life_expect\": 74.876, \"fertility\": 1.348}, {\"year\": 2000, \"country\": \"Cuba\", \"cluster\": 3, \"pop\": 11134273, \"life_expect\": 77.158, \"fertility\": 1.63}, {\"year\": 2000, \"country\": \"Dominican Republic\", \"cluster\": 3, \"pop\": 8385828, \"life_expect\": 70.847, \"fertility\": 2.95}, {\"year\": 2000, \"country\": \"Ecuador\", \"cluster\": 3, \"pop\": 12505204, \"life_expect\": 74.173, \"fertility\": 2.8175}, {\"year\": 2000, \"country\": \"Egypt\", \"cluster\": 5, \"pop\": 70492342, \"life_expect\": 69.806, \"fertility\": 3.174}, {\"year\": 2000, \"country\": \"El Salvador\", \"cluster\": 3, \"pop\": 6122515, \"life_expect\": 70.734, \"fertility\": 2.883}, {\"year\": 2000, \"country\": \"Finland\", \"cluster\": 1, \"pop\": 5168595, \"life_expect\": 78.37, \"fertility\": 1.754}, {\"year\": 2000, \"country\": \"France\", \"cluster\": 1, \"pop\": 59381628, \"life_expect\": 79.59, \"fertility\": 1.8833000000000002}, {\"year\": 2000, \"country\": \"Georgia\", \"cluster\": 1, \"pop\": 4777209, \"life_expect\": 70.476, \"fertility\": 1.478}, {\"year\": 2000, \"country\": \"Germany\", \"cluster\": 1, \"pop\": 82187909, \"life_expect\": 78.67, \"fertility\": 1.346}, {\"year\": 2000, \"country\": \"Greece\", \"cluster\": 1, \"pop\": 10559110, \"life_expect\": 78.256, \"fertility\": 1.2770000000000001}, {\"year\": 2000, \"country\": \"Grenada\", \"cluster\": 3, \"pop\": 89312, \"life_expect\": 67.746, \"fertility\": 2.429}, {\"year\": 2000, \"country\": \"Haiti\", \"cluster\": 3, \"pop\": 7306302, \"life_expect\": 58.137, \"fertility\": 4.0}, {\"year\": 2000, \"country\": \"Hong Kong\", \"cluster\": 4, \"pop\": 6658720, \"life_expect\": 81.495, \"fertility\": 0.9400000000000001}, {\"year\": 2000, \"country\": \"Iceland\", \"cluster\": 1, \"pop\": 281043, \"life_expect\": 80.5, \"fertility\": 1.9929999999999999}, {\"year\": 2000, \"country\": \"India\", \"cluster\": 0, \"pop\": 1007702000, \"life_expect\": 62.879, \"fertility\": 3.1132}, {\"year\": 2000, \"country\": \"Indonesia\", \"cluster\": 4, \"pop\": 206265000, \"life_expect\": 68.588, \"fertility\": 2.3761}, {\"year\": 2000, \"country\": \"Iran\", \"cluster\": 5, \"pop\": 65660289, \"life_expect\": 69.451, \"fertility\": 2.124}, {\"year\": 2000, \"country\": \"Iraq\", \"cluster\": 5, \"pop\": 22675617, \"life_expect\": 57.046, \"fertility\": 4.858}, {\"year\": 2000, \"country\": \"Ireland\", \"cluster\": 1, \"pop\": 3791690, \"life_expect\": 77.783, \"fertility\": 1.9689999999999999}, {\"year\": 2000, \"country\": \"Israel\", \"cluster\": 5, \"pop\": 5842454, \"life_expect\": 79.696, \"fertility\": 2.906}, {\"year\": 2000, \"country\": \"Italy\", \"cluster\": 1, \"pop\": 57719337, \"life_expect\": 80.24, \"fertility\": 1.286}, {\"year\": 2000, \"country\": \"Jamaica\", \"cluster\": 3, \"pop\": 2615467, \"life_expect\": 72.047, \"fertility\": 2.628}, {\"year\": 2000, \"country\": \"Japan\", \"cluster\": 4, \"pop\": 126699784, \"life_expect\": 82.0, \"fertility\": 1.291}, {\"year\": 2000, \"country\": \"Kenya\", \"cluster\": 2, \"pop\": 29985839, \"life_expect\": 50.992, \"fertility\": 5.0}, {\"year\": 2000, \"country\": \"South Korea\", \"cluster\": 4, \"pop\": 21647682, \"life_expect\": 66.662, \"fertility\": 1.9173}, {\"year\": 2000, \"country\": \"North Korea\", \"cluster\": 4, \"pop\": 47351083, \"life_expect\": 77.045, \"fertility\": 1.242}, {\"year\": 2000, \"country\": \"Lebanon\", \"cluster\": 5, \"pop\": 3578036, \"life_expect\": 71.028, \"fertility\": 2.319}, {\"year\": 2000, \"country\": \"Mexico\", \"cluster\": 3, \"pop\": 99926620, \"life_expect\": 74.902, \"fertility\": 2.4005}, {\"year\": 2000, \"country\": \"Netherlands\", \"cluster\": 1, \"pop\": 15907853, \"life_expect\": 78.53, \"fertility\": 1.726}, {\"year\": 2000, \"country\": \"New Zealand\", \"cluster\": 4, \"pop\": 3819762, \"life_expect\": 79.11, \"fertility\": 1.964}, {\"year\": 2000, \"country\": \"Nigeria\", \"cluster\": 2, \"pop\": 114306700, \"life_expect\": 46.608, \"fertility\": 5.845}, {\"year\": 2000, \"country\": \"Norway\", \"cluster\": 1, \"pop\": 4492400, \"life_expect\": 79.05, \"fertility\": 1.8010000000000002}, {\"year\": 2000, \"country\": \"Pakistan\", \"cluster\": 0, \"pop\": 146342958, \"life_expect\": 63.61, \"fertility\": 3.9936}, {\"year\": 2000, \"country\": \"Peru\", \"cluster\": 3, \"pop\": 25979722, \"life_expect\": 69.906, \"fertility\": 2.7005}, {\"year\": 2000, \"country\": \"Philippines\", \"cluster\": 4, \"pop\": 79739825, \"life_expect\": 70.303, \"fertility\": 3.5436}, {\"year\": 2000, \"country\": \"Poland\", \"cluster\": 1, \"pop\": 38654164, \"life_expect\": 74.67, \"fertility\": 1.251}, {\"year\": 2000, \"country\": \"Portugal\", \"cluster\": 1, \"pop\": 10335597, \"life_expect\": 77.29, \"fertility\": 1.454}, {\"year\": 2000, \"country\": \"Rwanda\", \"cluster\": 2, \"pop\": 7507056, \"life_expect\": 43.413, \"fertility\": 6.01}, {\"year\": 2000, \"country\": \"Saudi Arabia\", \"cluster\": 5, \"pop\": 23153090, \"life_expect\": 71.626, \"fertility\": 3.81}, {\"year\": 2000, \"country\": \"South Africa\", \"cluster\": 2, \"pop\": 44066197, \"life_expect\": 53.365, \"fertility\": 2.802}, {\"year\": 2000, \"country\": \"Spain\", \"cluster\": 1, \"pop\": 40016081, \"life_expect\": 79.78, \"fertility\": 1.287}, {\"year\": 2000, \"country\": \"Switzerland\", \"cluster\": 1, \"pop\": 7266920, \"life_expect\": 80.62, \"fertility\": 1.415}, {\"year\": 2000, \"country\": \"Turkey\", \"cluster\": 1, \"pop\": 65666677, \"life_expect\": 70.845, \"fertility\": 2.23}, {\"year\": 2000, \"country\": \"United Kingdom\", \"cluster\": 1, \"pop\": 59522468, \"life_expect\": 78.471, \"fertility\": 1.695}, {\"year\": 2000, \"country\": \"United States\", \"cluster\": 3, \"pop\": 282338631, \"life_expect\": 77.31, \"fertility\": 2.038}, {\"year\": 2000, \"country\": \"Venezuela\", \"cluster\": 3, \"pop\": 23542649, \"life_expect\": 72.766, \"fertility\": 2.723}]}}, {\"mode\": \"vega-lite\"});\n</script>",
      "text/plain": "alt.Chart(...)"
     },
     "execution_count": 9,
     "metadata": {},
     "output_type": "execute_result"
    }
   ],
   "source": [
    "alt.Chart(data2000).mark_bar().encode(\n",
    "    alt.X('country:N'),\n",
    "    alt.Y('pop:Q')\n",
    ")"
   ]
  },
  {
   "cell_type": "markdown",
   "id": "746ce4d7-ed79-4402-b48a-36bd9ead4065",
   "metadata": {
    "colab_type": "text",
    "id": "rHX8bKgbzW3I",
    "pycharm": {
     "name": "#%% md\n"
    }
   },
   "source": [
    "If we prefer to have a column chart we can swap the channels that are encoding `country` and `pop`."
   ]
  },
  {
   "cell_type": "code",
   "execution_count": 10,
   "outputs": [
    {
     "data": {
      "text/html": "\n<div id=\"altair-viz-c628f13b97244be8879628a320b8fca8\"></div>\n<script type=\"text/javascript\">\n  (function(spec, embedOpt){\n    let outputDiv = document.currentScript.previousElementSibling;\n    if (outputDiv.id !== \"altair-viz-c628f13b97244be8879628a320b8fca8\") {\n      outputDiv = document.getElementById(\"altair-viz-c628f13b97244be8879628a320b8fca8\");\n    }\n    const paths = {\n      \"vega\": \"https://cdn.jsdelivr.net/npm//vega@5?noext\",\n      \"vega-lib\": \"https://cdn.jsdelivr.net/npm//vega-lib?noext\",\n      \"vega-lite\": \"https://cdn.jsdelivr.net/npm//vega-lite@4.8.1?noext\",\n      \"vega-embed\": \"https://cdn.jsdelivr.net/npm//vega-embed@6?noext\",\n    };\n\n    function loadScript(lib) {\n      return new Promise(function(resolve, reject) {\n        var s = document.createElement('script');\n        s.src = paths[lib];\n        s.async = true;\n        s.onload = () => resolve(paths[lib]);\n        s.onerror = () => reject(`Error loading script: ${paths[lib]}`);\n        document.getElementsByTagName(\"head\")[0].appendChild(s);\n      });\n    }\n\n    function showError(err) {\n      outputDiv.innerHTML = `<div class=\"error\" style=\"color:red;\">${err}</div>`;\n      throw err;\n    }\n\n    function displayChart(vegaEmbed) {\n      vegaEmbed(outputDiv, spec, embedOpt)\n        .catch(err => showError(`Javascript Error: ${err.message}<br>This usually means there's a typo in your chart specification. See the javascript console for the full traceback.`));\n    }\n\n    if(typeof define === \"function\" && define.amd) {\n      requirejs.config({paths});\n      require([\"vega-embed\"], displayChart, err => showError(`Error loading script: ${err.message}`));\n    } else if (typeof vegaEmbed === \"function\") {\n      displayChart(vegaEmbed);\n    } else {\n      loadScript(\"vega\")\n        .then(() => loadScript(\"vega-lite\"))\n        .then(() => loadScript(\"vega-embed\"))\n        .catch(showError)\n        .then(() => displayChart(vegaEmbed));\n    }\n  })({\"config\": {\"view\": {\"continuousWidth\": 400, \"continuousHeight\": 300}}, \"data\": {\"name\": \"data-fdeb0b749a6385830bd1445d39ad6ea0\"}, \"mark\": \"bar\", \"encoding\": {\"x\": {\"type\": \"quantitative\", \"field\": \"pop\"}, \"y\": {\"type\": \"nominal\", \"field\": \"country\"}}, \"$schema\": \"https://vega.github.io/schema/vega-lite/v4.8.1.json\", \"datasets\": {\"data-fdeb0b749a6385830bd1445d39ad6ea0\": [{\"year\": 2000, \"country\": \"Afghanistan\", \"cluster\": 0, \"pop\": 23898198, \"life_expect\": 42.129, \"fertility\": 7.4792}, {\"year\": 2000, \"country\": \"Argentina\", \"cluster\": 3, \"pop\": 37497728, \"life_expect\": 74.34, \"fertility\": 2.35}, {\"year\": 2000, \"country\": \"Aruba\", \"cluster\": 3, \"pop\": 69539, \"life_expect\": 73.451, \"fertility\": 2.124}, {\"year\": 2000, \"country\": \"Australia\", \"cluster\": 4, \"pop\": 19164620, \"life_expect\": 80.37, \"fertility\": 1.756}, {\"year\": 2000, \"country\": \"Austria\", \"cluster\": 1, \"pop\": 8113413, \"life_expect\": 78.98, \"fertility\": 1.3820000000000001}, {\"year\": 2000, \"country\": \"Bahamas\", \"cluster\": 3, \"pop\": 290075, \"life_expect\": 71.068, \"fertility\": 2.1111}, {\"year\": 2000, \"country\": \"Bangladesh\", \"cluster\": 0, \"pop\": 130406594, \"life_expect\": 62.013, \"fertility\": 3.224}, {\"year\": 2000, \"country\": \"Barbados\", \"cluster\": 3, \"pop\": 273483, \"life_expect\": 75.97, \"fertility\": 1.5}, {\"year\": 2000, \"country\": \"Belgium\", \"cluster\": 1, \"pop\": 10263618, \"life_expect\": 78.32, \"fertility\": 1.638}, {\"year\": 2000, \"country\": \"Bolivia\", \"cluster\": 3, \"pop\": 8152620, \"life_expect\": 63.883, \"fertility\": 3.9585}, {\"year\": 2000, \"country\": \"Brazil\", \"cluster\": 3, \"pop\": 175552771, \"life_expect\": 71.006, \"fertility\": 2.345}, {\"year\": 2000, \"country\": \"Canada\", \"cluster\": 3, \"pop\": 31278097, \"life_expect\": 79.77, \"fertility\": 1.522}, {\"year\": 2000, \"country\": \"Chile\", \"cluster\": 3, \"pop\": 15153450, \"life_expect\": 77.86, \"fertility\": 2.0}, {\"year\": 2000, \"country\": \"China\", \"cluster\": 4, \"pop\": 1262645000, \"life_expect\": 72.028, \"fertility\": 1.7000000000000002}, {\"year\": 2000, \"country\": \"Colombia\", \"cluster\": 3, \"pop\": 39685655, \"life_expect\": 71.682, \"fertility\": 2.4705}, {\"year\": 2000, \"country\": \"Costa Rica\", \"cluster\": 3, \"pop\": 3710558, \"life_expect\": 78.123, \"fertility\": 2.2815}, {\"year\": 2000, \"country\": \"Croatia\", \"cluster\": 1, \"pop\": 4410830, \"life_expect\": 74.876, \"fertility\": 1.348}, {\"year\": 2000, \"country\": \"Cuba\", \"cluster\": 3, \"pop\": 11134273, \"life_expect\": 77.158, \"fertility\": 1.63}, {\"year\": 2000, \"country\": \"Dominican Republic\", \"cluster\": 3, \"pop\": 8385828, \"life_expect\": 70.847, \"fertility\": 2.95}, {\"year\": 2000, \"country\": \"Ecuador\", \"cluster\": 3, \"pop\": 12505204, \"life_expect\": 74.173, \"fertility\": 2.8175}, {\"year\": 2000, \"country\": \"Egypt\", \"cluster\": 5, \"pop\": 70492342, \"life_expect\": 69.806, \"fertility\": 3.174}, {\"year\": 2000, \"country\": \"El Salvador\", \"cluster\": 3, \"pop\": 6122515, \"life_expect\": 70.734, \"fertility\": 2.883}, {\"year\": 2000, \"country\": \"Finland\", \"cluster\": 1, \"pop\": 5168595, \"life_expect\": 78.37, \"fertility\": 1.754}, {\"year\": 2000, \"country\": \"France\", \"cluster\": 1, \"pop\": 59381628, \"life_expect\": 79.59, \"fertility\": 1.8833000000000002}, {\"year\": 2000, \"country\": \"Georgia\", \"cluster\": 1, \"pop\": 4777209, \"life_expect\": 70.476, \"fertility\": 1.478}, {\"year\": 2000, \"country\": \"Germany\", \"cluster\": 1, \"pop\": 82187909, \"life_expect\": 78.67, \"fertility\": 1.346}, {\"year\": 2000, \"country\": \"Greece\", \"cluster\": 1, \"pop\": 10559110, \"life_expect\": 78.256, \"fertility\": 1.2770000000000001}, {\"year\": 2000, \"country\": \"Grenada\", \"cluster\": 3, \"pop\": 89312, \"life_expect\": 67.746, \"fertility\": 2.429}, {\"year\": 2000, \"country\": \"Haiti\", \"cluster\": 3, \"pop\": 7306302, \"life_expect\": 58.137, \"fertility\": 4.0}, {\"year\": 2000, \"country\": \"Hong Kong\", \"cluster\": 4, \"pop\": 6658720, \"life_expect\": 81.495, \"fertility\": 0.9400000000000001}, {\"year\": 2000, \"country\": \"Iceland\", \"cluster\": 1, \"pop\": 281043, \"life_expect\": 80.5, \"fertility\": 1.9929999999999999}, {\"year\": 2000, \"country\": \"India\", \"cluster\": 0, \"pop\": 1007702000, \"life_expect\": 62.879, \"fertility\": 3.1132}, {\"year\": 2000, \"country\": \"Indonesia\", \"cluster\": 4, \"pop\": 206265000, \"life_expect\": 68.588, \"fertility\": 2.3761}, {\"year\": 2000, \"country\": \"Iran\", \"cluster\": 5, \"pop\": 65660289, \"life_expect\": 69.451, \"fertility\": 2.124}, {\"year\": 2000, \"country\": \"Iraq\", \"cluster\": 5, \"pop\": 22675617, \"life_expect\": 57.046, \"fertility\": 4.858}, {\"year\": 2000, \"country\": \"Ireland\", \"cluster\": 1, \"pop\": 3791690, \"life_expect\": 77.783, \"fertility\": 1.9689999999999999}, {\"year\": 2000, \"country\": \"Israel\", \"cluster\": 5, \"pop\": 5842454, \"life_expect\": 79.696, \"fertility\": 2.906}, {\"year\": 2000, \"country\": \"Italy\", \"cluster\": 1, \"pop\": 57719337, \"life_expect\": 80.24, \"fertility\": 1.286}, {\"year\": 2000, \"country\": \"Jamaica\", \"cluster\": 3, \"pop\": 2615467, \"life_expect\": 72.047, \"fertility\": 2.628}, {\"year\": 2000, \"country\": \"Japan\", \"cluster\": 4, \"pop\": 126699784, \"life_expect\": 82.0, \"fertility\": 1.291}, {\"year\": 2000, \"country\": \"Kenya\", \"cluster\": 2, \"pop\": 29985839, \"life_expect\": 50.992, \"fertility\": 5.0}, {\"year\": 2000, \"country\": \"South Korea\", \"cluster\": 4, \"pop\": 21647682, \"life_expect\": 66.662, \"fertility\": 1.9173}, {\"year\": 2000, \"country\": \"North Korea\", \"cluster\": 4, \"pop\": 47351083, \"life_expect\": 77.045, \"fertility\": 1.242}, {\"year\": 2000, \"country\": \"Lebanon\", \"cluster\": 5, \"pop\": 3578036, \"life_expect\": 71.028, \"fertility\": 2.319}, {\"year\": 2000, \"country\": \"Mexico\", \"cluster\": 3, \"pop\": 99926620, \"life_expect\": 74.902, \"fertility\": 2.4005}, {\"year\": 2000, \"country\": \"Netherlands\", \"cluster\": 1, \"pop\": 15907853, \"life_expect\": 78.53, \"fertility\": 1.726}, {\"year\": 2000, \"country\": \"New Zealand\", \"cluster\": 4, \"pop\": 3819762, \"life_expect\": 79.11, \"fertility\": 1.964}, {\"year\": 2000, \"country\": \"Nigeria\", \"cluster\": 2, \"pop\": 114306700, \"life_expect\": 46.608, \"fertility\": 5.845}, {\"year\": 2000, \"country\": \"Norway\", \"cluster\": 1, \"pop\": 4492400, \"life_expect\": 79.05, \"fertility\": 1.8010000000000002}, {\"year\": 2000, \"country\": \"Pakistan\", \"cluster\": 0, \"pop\": 146342958, \"life_expect\": 63.61, \"fertility\": 3.9936}, {\"year\": 2000, \"country\": \"Peru\", \"cluster\": 3, \"pop\": 25979722, \"life_expect\": 69.906, \"fertility\": 2.7005}, {\"year\": 2000, \"country\": \"Philippines\", \"cluster\": 4, \"pop\": 79739825, \"life_expect\": 70.303, \"fertility\": 3.5436}, {\"year\": 2000, \"country\": \"Poland\", \"cluster\": 1, \"pop\": 38654164, \"life_expect\": 74.67, \"fertility\": 1.251}, {\"year\": 2000, \"country\": \"Portugal\", \"cluster\": 1, \"pop\": 10335597, \"life_expect\": 77.29, \"fertility\": 1.454}, {\"year\": 2000, \"country\": \"Rwanda\", \"cluster\": 2, \"pop\": 7507056, \"life_expect\": 43.413, \"fertility\": 6.01}, {\"year\": 2000, \"country\": \"Saudi Arabia\", \"cluster\": 5, \"pop\": 23153090, \"life_expect\": 71.626, \"fertility\": 3.81}, {\"year\": 2000, \"country\": \"South Africa\", \"cluster\": 2, \"pop\": 44066197, \"life_expect\": 53.365, \"fertility\": 2.802}, {\"year\": 2000, \"country\": \"Spain\", \"cluster\": 1, \"pop\": 40016081, \"life_expect\": 79.78, \"fertility\": 1.287}, {\"year\": 2000, \"country\": \"Switzerland\", \"cluster\": 1, \"pop\": 7266920, \"life_expect\": 80.62, \"fertility\": 1.415}, {\"year\": 2000, \"country\": \"Turkey\", \"cluster\": 1, \"pop\": 65666677, \"life_expect\": 70.845, \"fertility\": 2.23}, {\"year\": 2000, \"country\": \"United Kingdom\", \"cluster\": 1, \"pop\": 59522468, \"life_expect\": 78.471, \"fertility\": 1.695}, {\"year\": 2000, \"country\": \"United States\", \"cluster\": 3, \"pop\": 282338631, \"life_expect\": 77.31, \"fertility\": 2.038}, {\"year\": 2000, \"country\": \"Venezuela\", \"cluster\": 3, \"pop\": 23542649, \"life_expect\": 72.766, \"fertility\": 2.723}]}}, {\"mode\": \"vega-lite\"});\n</script>",
      "text/plain": "alt.Chart(...)"
     },
     "execution_count": 10,
     "metadata": {},
     "output_type": "execute_result"
    }
   ],
   "source": [
    "alt.Chart(data2000).mark_bar().encode(\n",
    "    alt.Y('country:N'),\n",
    "    alt.X('pop:Q')\n",
    ")"
   ],
   "metadata": {
    "collapsed": false,
    "pycharm": {
     "name": "#%%\n"
    }
   }
  },
  {
   "cell_type": "markdown",
   "source": [
    "The width of the bars in a bar plot are controlled through the `size` property in the `mark_bar()`.\n",
    "Changing the width of the bar does not change the size of the plot but just the size of the bars as shonw below."
   ],
   "metadata": {
    "collapsed": false,
    "pycharm": {
     "name": "#%% md\n"
    }
   }
  },
  {
   "cell_type": "code",
   "execution_count": 12,
   "outputs": [
    {
     "data": {
      "text/html": "\n<div id=\"altair-viz-51a569e150dd4bd79e09d0a66eaa30f3\"></div>\n<script type=\"text/javascript\">\n  (function(spec, embedOpt){\n    let outputDiv = document.currentScript.previousElementSibling;\n    if (outputDiv.id !== \"altair-viz-51a569e150dd4bd79e09d0a66eaa30f3\") {\n      outputDiv = document.getElementById(\"altair-viz-51a569e150dd4bd79e09d0a66eaa30f3\");\n    }\n    const paths = {\n      \"vega\": \"https://cdn.jsdelivr.net/npm//vega@5?noext\",\n      \"vega-lib\": \"https://cdn.jsdelivr.net/npm//vega-lib?noext\",\n      \"vega-lite\": \"https://cdn.jsdelivr.net/npm//vega-lite@4.8.1?noext\",\n      \"vega-embed\": \"https://cdn.jsdelivr.net/npm//vega-embed@6?noext\",\n    };\n\n    function loadScript(lib) {\n      return new Promise(function(resolve, reject) {\n        var s = document.createElement('script');\n        s.src = paths[lib];\n        s.async = true;\n        s.onload = () => resolve(paths[lib]);\n        s.onerror = () => reject(`Error loading script: ${paths[lib]}`);\n        document.getElementsByTagName(\"head\")[0].appendChild(s);\n      });\n    }\n\n    function showError(err) {\n      outputDiv.innerHTML = `<div class=\"error\" style=\"color:red;\">${err}</div>`;\n      throw err;\n    }\n\n    function displayChart(vegaEmbed) {\n      vegaEmbed(outputDiv, spec, embedOpt)\n        .catch(err => showError(`Javascript Error: ${err.message}<br>This usually means there's a typo in your chart specification. See the javascript console for the full traceback.`));\n    }\n\n    if(typeof define === \"function\" && define.amd) {\n      requirejs.config({paths});\n      require([\"vega-embed\"], displayChart, err => showError(`Error loading script: ${err.message}`));\n    } else if (typeof vegaEmbed === \"function\") {\n      displayChart(vegaEmbed);\n    } else {\n      loadScript(\"vega\")\n        .then(() => loadScript(\"vega-lite\"))\n        .then(() => loadScript(\"vega-embed\"))\n        .catch(showError)\n        .then(() => displayChart(vegaEmbed));\n    }\n  })({\"config\": {\"view\": {\"continuousWidth\": 400, \"continuousHeight\": 300}}, \"data\": {\"name\": \"data-fdeb0b749a6385830bd1445d39ad6ea0\"}, \"mark\": {\"type\": \"bar\", \"size\": 10}, \"encoding\": {\"x\": {\"type\": \"quantitative\", \"field\": \"pop\"}, \"y\": {\"type\": \"nominal\", \"field\": \"country\"}}, \"$schema\": \"https://vega.github.io/schema/vega-lite/v4.8.1.json\", \"datasets\": {\"data-fdeb0b749a6385830bd1445d39ad6ea0\": [{\"year\": 2000, \"country\": \"Afghanistan\", \"cluster\": 0, \"pop\": 23898198, \"life_expect\": 42.129, \"fertility\": 7.4792}, {\"year\": 2000, \"country\": \"Argentina\", \"cluster\": 3, \"pop\": 37497728, \"life_expect\": 74.34, \"fertility\": 2.35}, {\"year\": 2000, \"country\": \"Aruba\", \"cluster\": 3, \"pop\": 69539, \"life_expect\": 73.451, \"fertility\": 2.124}, {\"year\": 2000, \"country\": \"Australia\", \"cluster\": 4, \"pop\": 19164620, \"life_expect\": 80.37, \"fertility\": 1.756}, {\"year\": 2000, \"country\": \"Austria\", \"cluster\": 1, \"pop\": 8113413, \"life_expect\": 78.98, \"fertility\": 1.3820000000000001}, {\"year\": 2000, \"country\": \"Bahamas\", \"cluster\": 3, \"pop\": 290075, \"life_expect\": 71.068, \"fertility\": 2.1111}, {\"year\": 2000, \"country\": \"Bangladesh\", \"cluster\": 0, \"pop\": 130406594, \"life_expect\": 62.013, \"fertility\": 3.224}, {\"year\": 2000, \"country\": \"Barbados\", \"cluster\": 3, \"pop\": 273483, \"life_expect\": 75.97, \"fertility\": 1.5}, {\"year\": 2000, \"country\": \"Belgium\", \"cluster\": 1, \"pop\": 10263618, \"life_expect\": 78.32, \"fertility\": 1.638}, {\"year\": 2000, \"country\": \"Bolivia\", \"cluster\": 3, \"pop\": 8152620, \"life_expect\": 63.883, \"fertility\": 3.9585}, {\"year\": 2000, \"country\": \"Brazil\", \"cluster\": 3, \"pop\": 175552771, \"life_expect\": 71.006, \"fertility\": 2.345}, {\"year\": 2000, \"country\": \"Canada\", \"cluster\": 3, \"pop\": 31278097, \"life_expect\": 79.77, \"fertility\": 1.522}, {\"year\": 2000, \"country\": \"Chile\", \"cluster\": 3, \"pop\": 15153450, \"life_expect\": 77.86, \"fertility\": 2.0}, {\"year\": 2000, \"country\": \"China\", \"cluster\": 4, \"pop\": 1262645000, \"life_expect\": 72.028, \"fertility\": 1.7000000000000002}, {\"year\": 2000, \"country\": \"Colombia\", \"cluster\": 3, \"pop\": 39685655, \"life_expect\": 71.682, \"fertility\": 2.4705}, {\"year\": 2000, \"country\": \"Costa Rica\", \"cluster\": 3, \"pop\": 3710558, \"life_expect\": 78.123, \"fertility\": 2.2815}, {\"year\": 2000, \"country\": \"Croatia\", \"cluster\": 1, \"pop\": 4410830, \"life_expect\": 74.876, \"fertility\": 1.348}, {\"year\": 2000, \"country\": \"Cuba\", \"cluster\": 3, \"pop\": 11134273, \"life_expect\": 77.158, \"fertility\": 1.63}, {\"year\": 2000, \"country\": \"Dominican Republic\", \"cluster\": 3, \"pop\": 8385828, \"life_expect\": 70.847, \"fertility\": 2.95}, {\"year\": 2000, \"country\": \"Ecuador\", \"cluster\": 3, \"pop\": 12505204, \"life_expect\": 74.173, \"fertility\": 2.8175}, {\"year\": 2000, \"country\": \"Egypt\", \"cluster\": 5, \"pop\": 70492342, \"life_expect\": 69.806, \"fertility\": 3.174}, {\"year\": 2000, \"country\": \"El Salvador\", \"cluster\": 3, \"pop\": 6122515, \"life_expect\": 70.734, \"fertility\": 2.883}, {\"year\": 2000, \"country\": \"Finland\", \"cluster\": 1, \"pop\": 5168595, \"life_expect\": 78.37, \"fertility\": 1.754}, {\"year\": 2000, \"country\": \"France\", \"cluster\": 1, \"pop\": 59381628, \"life_expect\": 79.59, \"fertility\": 1.8833000000000002}, {\"year\": 2000, \"country\": \"Georgia\", \"cluster\": 1, \"pop\": 4777209, \"life_expect\": 70.476, \"fertility\": 1.478}, {\"year\": 2000, \"country\": \"Germany\", \"cluster\": 1, \"pop\": 82187909, \"life_expect\": 78.67, \"fertility\": 1.346}, {\"year\": 2000, \"country\": \"Greece\", \"cluster\": 1, \"pop\": 10559110, \"life_expect\": 78.256, \"fertility\": 1.2770000000000001}, {\"year\": 2000, \"country\": \"Grenada\", \"cluster\": 3, \"pop\": 89312, \"life_expect\": 67.746, \"fertility\": 2.429}, {\"year\": 2000, \"country\": \"Haiti\", \"cluster\": 3, \"pop\": 7306302, \"life_expect\": 58.137, \"fertility\": 4.0}, {\"year\": 2000, \"country\": \"Hong Kong\", \"cluster\": 4, \"pop\": 6658720, \"life_expect\": 81.495, \"fertility\": 0.9400000000000001}, {\"year\": 2000, \"country\": \"Iceland\", \"cluster\": 1, \"pop\": 281043, \"life_expect\": 80.5, \"fertility\": 1.9929999999999999}, {\"year\": 2000, \"country\": \"India\", \"cluster\": 0, \"pop\": 1007702000, \"life_expect\": 62.879, \"fertility\": 3.1132}, {\"year\": 2000, \"country\": \"Indonesia\", \"cluster\": 4, \"pop\": 206265000, \"life_expect\": 68.588, \"fertility\": 2.3761}, {\"year\": 2000, \"country\": \"Iran\", \"cluster\": 5, \"pop\": 65660289, \"life_expect\": 69.451, \"fertility\": 2.124}, {\"year\": 2000, \"country\": \"Iraq\", \"cluster\": 5, \"pop\": 22675617, \"life_expect\": 57.046, \"fertility\": 4.858}, {\"year\": 2000, \"country\": \"Ireland\", \"cluster\": 1, \"pop\": 3791690, \"life_expect\": 77.783, \"fertility\": 1.9689999999999999}, {\"year\": 2000, \"country\": \"Israel\", \"cluster\": 5, \"pop\": 5842454, \"life_expect\": 79.696, \"fertility\": 2.906}, {\"year\": 2000, \"country\": \"Italy\", \"cluster\": 1, \"pop\": 57719337, \"life_expect\": 80.24, \"fertility\": 1.286}, {\"year\": 2000, \"country\": \"Jamaica\", \"cluster\": 3, \"pop\": 2615467, \"life_expect\": 72.047, \"fertility\": 2.628}, {\"year\": 2000, \"country\": \"Japan\", \"cluster\": 4, \"pop\": 126699784, \"life_expect\": 82.0, \"fertility\": 1.291}, {\"year\": 2000, \"country\": \"Kenya\", \"cluster\": 2, \"pop\": 29985839, \"life_expect\": 50.992, \"fertility\": 5.0}, {\"year\": 2000, \"country\": \"South Korea\", \"cluster\": 4, \"pop\": 21647682, \"life_expect\": 66.662, \"fertility\": 1.9173}, {\"year\": 2000, \"country\": \"North Korea\", \"cluster\": 4, \"pop\": 47351083, \"life_expect\": 77.045, \"fertility\": 1.242}, {\"year\": 2000, \"country\": \"Lebanon\", \"cluster\": 5, \"pop\": 3578036, \"life_expect\": 71.028, \"fertility\": 2.319}, {\"year\": 2000, \"country\": \"Mexico\", \"cluster\": 3, \"pop\": 99926620, \"life_expect\": 74.902, \"fertility\": 2.4005}, {\"year\": 2000, \"country\": \"Netherlands\", \"cluster\": 1, \"pop\": 15907853, \"life_expect\": 78.53, \"fertility\": 1.726}, {\"year\": 2000, \"country\": \"New Zealand\", \"cluster\": 4, \"pop\": 3819762, \"life_expect\": 79.11, \"fertility\": 1.964}, {\"year\": 2000, \"country\": \"Nigeria\", \"cluster\": 2, \"pop\": 114306700, \"life_expect\": 46.608, \"fertility\": 5.845}, {\"year\": 2000, \"country\": \"Norway\", \"cluster\": 1, \"pop\": 4492400, \"life_expect\": 79.05, \"fertility\": 1.8010000000000002}, {\"year\": 2000, \"country\": \"Pakistan\", \"cluster\": 0, \"pop\": 146342958, \"life_expect\": 63.61, \"fertility\": 3.9936}, {\"year\": 2000, \"country\": \"Peru\", \"cluster\": 3, \"pop\": 25979722, \"life_expect\": 69.906, \"fertility\": 2.7005}, {\"year\": 2000, \"country\": \"Philippines\", \"cluster\": 4, \"pop\": 79739825, \"life_expect\": 70.303, \"fertility\": 3.5436}, {\"year\": 2000, \"country\": \"Poland\", \"cluster\": 1, \"pop\": 38654164, \"life_expect\": 74.67, \"fertility\": 1.251}, {\"year\": 2000, \"country\": \"Portugal\", \"cluster\": 1, \"pop\": 10335597, \"life_expect\": 77.29, \"fertility\": 1.454}, {\"year\": 2000, \"country\": \"Rwanda\", \"cluster\": 2, \"pop\": 7507056, \"life_expect\": 43.413, \"fertility\": 6.01}, {\"year\": 2000, \"country\": \"Saudi Arabia\", \"cluster\": 5, \"pop\": 23153090, \"life_expect\": 71.626, \"fertility\": 3.81}, {\"year\": 2000, \"country\": \"South Africa\", \"cluster\": 2, \"pop\": 44066197, \"life_expect\": 53.365, \"fertility\": 2.802}, {\"year\": 2000, \"country\": \"Spain\", \"cluster\": 1, \"pop\": 40016081, \"life_expect\": 79.78, \"fertility\": 1.287}, {\"year\": 2000, \"country\": \"Switzerland\", \"cluster\": 1, \"pop\": 7266920, \"life_expect\": 80.62, \"fertility\": 1.415}, {\"year\": 2000, \"country\": \"Turkey\", \"cluster\": 1, \"pop\": 65666677, \"life_expect\": 70.845, \"fertility\": 2.23}, {\"year\": 2000, \"country\": \"United Kingdom\", \"cluster\": 1, \"pop\": 59522468, \"life_expect\": 78.471, \"fertility\": 1.695}, {\"year\": 2000, \"country\": \"United States\", \"cluster\": 3, \"pop\": 282338631, \"life_expect\": 77.31, \"fertility\": 2.038}, {\"year\": 2000, \"country\": \"Venezuela\", \"cluster\": 3, \"pop\": 23542649, \"life_expect\": 72.766, \"fertility\": 2.723}]}}, {\"mode\": \"vega-lite\"});\n</script>",
      "text/plain": "alt.Chart(...)"
     },
     "execution_count": 12,
     "metadata": {},
     "output_type": "execute_result"
    }
   ],
   "source": [
    "alt.Chart(data2000).mark_bar(size=10).encode(\n",
    "    alt.Y('country:N'),\n",
    "    alt.X('pop:Q')\n",
    ")"
   ],
   "metadata": {
    "collapsed": false,
    "pycharm": {
     "name": "#%%\n"
    }
   }
  },
  {
   "cell_type": "markdown",
   "source": [
    "The width of the chart containing the bar plot can be controlled through setting the width property of the chart, either to a pixel value for any chart, or to a step value in the case of discrete scales."
   ],
   "metadata": {
    "collapsed": false,
    "pycharm": {
     "name": "#%% md\n"
    }
   }
  },
  {
   "cell_type": "code",
   "execution_count": 17,
   "outputs": [
    {
     "data": {
      "text/html": "\n<div id=\"altair-viz-665421e2c14f435e83eb49679b26124d\"></div>\n<script type=\"text/javascript\">\n  (function(spec, embedOpt){\n    let outputDiv = document.currentScript.previousElementSibling;\n    if (outputDiv.id !== \"altair-viz-665421e2c14f435e83eb49679b26124d\") {\n      outputDiv = document.getElementById(\"altair-viz-665421e2c14f435e83eb49679b26124d\");\n    }\n    const paths = {\n      \"vega\": \"https://cdn.jsdelivr.net/npm//vega@5?noext\",\n      \"vega-lib\": \"https://cdn.jsdelivr.net/npm//vega-lib?noext\",\n      \"vega-lite\": \"https://cdn.jsdelivr.net/npm//vega-lite@4.8.1?noext\",\n      \"vega-embed\": \"https://cdn.jsdelivr.net/npm//vega-embed@6?noext\",\n    };\n\n    function loadScript(lib) {\n      return new Promise(function(resolve, reject) {\n        var s = document.createElement('script');\n        s.src = paths[lib];\n        s.async = true;\n        s.onload = () => resolve(paths[lib]);\n        s.onerror = () => reject(`Error loading script: ${paths[lib]}`);\n        document.getElementsByTagName(\"head\")[0].appendChild(s);\n      });\n    }\n\n    function showError(err) {\n      outputDiv.innerHTML = `<div class=\"error\" style=\"color:red;\">${err}</div>`;\n      throw err;\n    }\n\n    function displayChart(vegaEmbed) {\n      vegaEmbed(outputDiv, spec, embedOpt)\n        .catch(err => showError(`Javascript Error: ${err.message}<br>This usually means there's a typo in your chart specification. See the javascript console for the full traceback.`));\n    }\n\n    if(typeof define === \"function\" && define.amd) {\n      requirejs.config({paths});\n      require([\"vega-embed\"], displayChart, err => showError(`Error loading script: ${err.message}`));\n    } else if (typeof vegaEmbed === \"function\") {\n      displayChart(vegaEmbed);\n    } else {\n      loadScript(\"vega\")\n        .then(() => loadScript(\"vega-lite\"))\n        .then(() => loadScript(\"vega-embed\"))\n        .catch(showError)\n        .then(() => displayChart(vegaEmbed));\n    }\n  })({\"config\": {\"view\": {\"continuousWidth\": 400, \"continuousHeight\": 300}}, \"data\": {\"name\": \"data-fdeb0b749a6385830bd1445d39ad6ea0\"}, \"mark\": {\"type\": \"bar\", \"size\": 10}, \"encoding\": {\"x\": {\"type\": \"quantitative\", \"field\": \"pop\"}, \"y\": {\"type\": \"nominal\", \"field\": \"country\"}}, \"height\": 600, \"$schema\": \"https://vega.github.io/schema/vega-lite/v4.8.1.json\", \"datasets\": {\"data-fdeb0b749a6385830bd1445d39ad6ea0\": [{\"year\": 2000, \"country\": \"Afghanistan\", \"cluster\": 0, \"pop\": 23898198, \"life_expect\": 42.129, \"fertility\": 7.4792}, {\"year\": 2000, \"country\": \"Argentina\", \"cluster\": 3, \"pop\": 37497728, \"life_expect\": 74.34, \"fertility\": 2.35}, {\"year\": 2000, \"country\": \"Aruba\", \"cluster\": 3, \"pop\": 69539, \"life_expect\": 73.451, \"fertility\": 2.124}, {\"year\": 2000, \"country\": \"Australia\", \"cluster\": 4, \"pop\": 19164620, \"life_expect\": 80.37, \"fertility\": 1.756}, {\"year\": 2000, \"country\": \"Austria\", \"cluster\": 1, \"pop\": 8113413, \"life_expect\": 78.98, \"fertility\": 1.3820000000000001}, {\"year\": 2000, \"country\": \"Bahamas\", \"cluster\": 3, \"pop\": 290075, \"life_expect\": 71.068, \"fertility\": 2.1111}, {\"year\": 2000, \"country\": \"Bangladesh\", \"cluster\": 0, \"pop\": 130406594, \"life_expect\": 62.013, \"fertility\": 3.224}, {\"year\": 2000, \"country\": \"Barbados\", \"cluster\": 3, \"pop\": 273483, \"life_expect\": 75.97, \"fertility\": 1.5}, {\"year\": 2000, \"country\": \"Belgium\", \"cluster\": 1, \"pop\": 10263618, \"life_expect\": 78.32, \"fertility\": 1.638}, {\"year\": 2000, \"country\": \"Bolivia\", \"cluster\": 3, \"pop\": 8152620, \"life_expect\": 63.883, \"fertility\": 3.9585}, {\"year\": 2000, \"country\": \"Brazil\", \"cluster\": 3, \"pop\": 175552771, \"life_expect\": 71.006, \"fertility\": 2.345}, {\"year\": 2000, \"country\": \"Canada\", \"cluster\": 3, \"pop\": 31278097, \"life_expect\": 79.77, \"fertility\": 1.522}, {\"year\": 2000, \"country\": \"Chile\", \"cluster\": 3, \"pop\": 15153450, \"life_expect\": 77.86, \"fertility\": 2.0}, {\"year\": 2000, \"country\": \"China\", \"cluster\": 4, \"pop\": 1262645000, \"life_expect\": 72.028, \"fertility\": 1.7000000000000002}, {\"year\": 2000, \"country\": \"Colombia\", \"cluster\": 3, \"pop\": 39685655, \"life_expect\": 71.682, \"fertility\": 2.4705}, {\"year\": 2000, \"country\": \"Costa Rica\", \"cluster\": 3, \"pop\": 3710558, \"life_expect\": 78.123, \"fertility\": 2.2815}, {\"year\": 2000, \"country\": \"Croatia\", \"cluster\": 1, \"pop\": 4410830, \"life_expect\": 74.876, \"fertility\": 1.348}, {\"year\": 2000, \"country\": \"Cuba\", \"cluster\": 3, \"pop\": 11134273, \"life_expect\": 77.158, \"fertility\": 1.63}, {\"year\": 2000, \"country\": \"Dominican Republic\", \"cluster\": 3, \"pop\": 8385828, \"life_expect\": 70.847, \"fertility\": 2.95}, {\"year\": 2000, \"country\": \"Ecuador\", \"cluster\": 3, \"pop\": 12505204, \"life_expect\": 74.173, \"fertility\": 2.8175}, {\"year\": 2000, \"country\": \"Egypt\", \"cluster\": 5, \"pop\": 70492342, \"life_expect\": 69.806, \"fertility\": 3.174}, {\"year\": 2000, \"country\": \"El Salvador\", \"cluster\": 3, \"pop\": 6122515, \"life_expect\": 70.734, \"fertility\": 2.883}, {\"year\": 2000, \"country\": \"Finland\", \"cluster\": 1, \"pop\": 5168595, \"life_expect\": 78.37, \"fertility\": 1.754}, {\"year\": 2000, \"country\": \"France\", \"cluster\": 1, \"pop\": 59381628, \"life_expect\": 79.59, \"fertility\": 1.8833000000000002}, {\"year\": 2000, \"country\": \"Georgia\", \"cluster\": 1, \"pop\": 4777209, \"life_expect\": 70.476, \"fertility\": 1.478}, {\"year\": 2000, \"country\": \"Germany\", \"cluster\": 1, \"pop\": 82187909, \"life_expect\": 78.67, \"fertility\": 1.346}, {\"year\": 2000, \"country\": \"Greece\", \"cluster\": 1, \"pop\": 10559110, \"life_expect\": 78.256, \"fertility\": 1.2770000000000001}, {\"year\": 2000, \"country\": \"Grenada\", \"cluster\": 3, \"pop\": 89312, \"life_expect\": 67.746, \"fertility\": 2.429}, {\"year\": 2000, \"country\": \"Haiti\", \"cluster\": 3, \"pop\": 7306302, \"life_expect\": 58.137, \"fertility\": 4.0}, {\"year\": 2000, \"country\": \"Hong Kong\", \"cluster\": 4, \"pop\": 6658720, \"life_expect\": 81.495, \"fertility\": 0.9400000000000001}, {\"year\": 2000, \"country\": \"Iceland\", \"cluster\": 1, \"pop\": 281043, \"life_expect\": 80.5, \"fertility\": 1.9929999999999999}, {\"year\": 2000, \"country\": \"India\", \"cluster\": 0, \"pop\": 1007702000, \"life_expect\": 62.879, \"fertility\": 3.1132}, {\"year\": 2000, \"country\": \"Indonesia\", \"cluster\": 4, \"pop\": 206265000, \"life_expect\": 68.588, \"fertility\": 2.3761}, {\"year\": 2000, \"country\": \"Iran\", \"cluster\": 5, \"pop\": 65660289, \"life_expect\": 69.451, \"fertility\": 2.124}, {\"year\": 2000, \"country\": \"Iraq\", \"cluster\": 5, \"pop\": 22675617, \"life_expect\": 57.046, \"fertility\": 4.858}, {\"year\": 2000, \"country\": \"Ireland\", \"cluster\": 1, \"pop\": 3791690, \"life_expect\": 77.783, \"fertility\": 1.9689999999999999}, {\"year\": 2000, \"country\": \"Israel\", \"cluster\": 5, \"pop\": 5842454, \"life_expect\": 79.696, \"fertility\": 2.906}, {\"year\": 2000, \"country\": \"Italy\", \"cluster\": 1, \"pop\": 57719337, \"life_expect\": 80.24, \"fertility\": 1.286}, {\"year\": 2000, \"country\": \"Jamaica\", \"cluster\": 3, \"pop\": 2615467, \"life_expect\": 72.047, \"fertility\": 2.628}, {\"year\": 2000, \"country\": \"Japan\", \"cluster\": 4, \"pop\": 126699784, \"life_expect\": 82.0, \"fertility\": 1.291}, {\"year\": 2000, \"country\": \"Kenya\", \"cluster\": 2, \"pop\": 29985839, \"life_expect\": 50.992, \"fertility\": 5.0}, {\"year\": 2000, \"country\": \"South Korea\", \"cluster\": 4, \"pop\": 21647682, \"life_expect\": 66.662, \"fertility\": 1.9173}, {\"year\": 2000, \"country\": \"North Korea\", \"cluster\": 4, \"pop\": 47351083, \"life_expect\": 77.045, \"fertility\": 1.242}, {\"year\": 2000, \"country\": \"Lebanon\", \"cluster\": 5, \"pop\": 3578036, \"life_expect\": 71.028, \"fertility\": 2.319}, {\"year\": 2000, \"country\": \"Mexico\", \"cluster\": 3, \"pop\": 99926620, \"life_expect\": 74.902, \"fertility\": 2.4005}, {\"year\": 2000, \"country\": \"Netherlands\", \"cluster\": 1, \"pop\": 15907853, \"life_expect\": 78.53, \"fertility\": 1.726}, {\"year\": 2000, \"country\": \"New Zealand\", \"cluster\": 4, \"pop\": 3819762, \"life_expect\": 79.11, \"fertility\": 1.964}, {\"year\": 2000, \"country\": \"Nigeria\", \"cluster\": 2, \"pop\": 114306700, \"life_expect\": 46.608, \"fertility\": 5.845}, {\"year\": 2000, \"country\": \"Norway\", \"cluster\": 1, \"pop\": 4492400, \"life_expect\": 79.05, \"fertility\": 1.8010000000000002}, {\"year\": 2000, \"country\": \"Pakistan\", \"cluster\": 0, \"pop\": 146342958, \"life_expect\": 63.61, \"fertility\": 3.9936}, {\"year\": 2000, \"country\": \"Peru\", \"cluster\": 3, \"pop\": 25979722, \"life_expect\": 69.906, \"fertility\": 2.7005}, {\"year\": 2000, \"country\": \"Philippines\", \"cluster\": 4, \"pop\": 79739825, \"life_expect\": 70.303, \"fertility\": 3.5436}, {\"year\": 2000, \"country\": \"Poland\", \"cluster\": 1, \"pop\": 38654164, \"life_expect\": 74.67, \"fertility\": 1.251}, {\"year\": 2000, \"country\": \"Portugal\", \"cluster\": 1, \"pop\": 10335597, \"life_expect\": 77.29, \"fertility\": 1.454}, {\"year\": 2000, \"country\": \"Rwanda\", \"cluster\": 2, \"pop\": 7507056, \"life_expect\": 43.413, \"fertility\": 6.01}, {\"year\": 2000, \"country\": \"Saudi Arabia\", \"cluster\": 5, \"pop\": 23153090, \"life_expect\": 71.626, \"fertility\": 3.81}, {\"year\": 2000, \"country\": \"South Africa\", \"cluster\": 2, \"pop\": 44066197, \"life_expect\": 53.365, \"fertility\": 2.802}, {\"year\": 2000, \"country\": \"Spain\", \"cluster\": 1, \"pop\": 40016081, \"life_expect\": 79.78, \"fertility\": 1.287}, {\"year\": 2000, \"country\": \"Switzerland\", \"cluster\": 1, \"pop\": 7266920, \"life_expect\": 80.62, \"fertility\": 1.415}, {\"year\": 2000, \"country\": \"Turkey\", \"cluster\": 1, \"pop\": 65666677, \"life_expect\": 70.845, \"fertility\": 2.23}, {\"year\": 2000, \"country\": \"United Kingdom\", \"cluster\": 1, \"pop\": 59522468, \"life_expect\": 78.471, \"fertility\": 1.695}, {\"year\": 2000, \"country\": \"United States\", \"cluster\": 3, \"pop\": 282338631, \"life_expect\": 77.31, \"fertility\": 2.038}, {\"year\": 2000, \"country\": \"Venezuela\", \"cluster\": 3, \"pop\": 23542649, \"life_expect\": 72.766, \"fertility\": 2.723}]}}, {\"mode\": \"vega-lite\"});\n</script>",
      "text/plain": "alt.Chart(...)"
     },
     "execution_count": 17,
     "metadata": {},
     "output_type": "execute_result"
    }
   ],
   "source": [
    "alt.Chart(data2000).mark_bar(size=10).encode(\n",
    "    alt.Y('country:N'),\n",
    "    alt.X('pop:Q')\n",
    ").properties(height=600)"
   ],
   "metadata": {
    "collapsed": false,
    "pycharm": {
     "name": "#%%\n"
    }
   }
  },
  {
   "cell_type": "markdown",
   "source": [
    "Play around with the size of each bar and the height of the chart to explore what happens when the chart size is inadequate"
   ],
   "metadata": {
    "collapsed": false,
    "pycharm": {
     "name": "#%% md\n"
    }
   }
  },
  {
   "cell_type": "markdown",
   "id": "3a764196-512a-4e92-92d1-9efaa2075c18",
   "metadata": {
    "colab_type": "text",
    "id": "OAmIxLRarios",
    "pycharm": {
     "name": "#%% md\n"
    }
   },
   "source": [
    "## Summary\n",
    "In this notebook you were exposed to five graphical marks.\n",
    "It may seems a bit simplistic but you have now been exposed to all the main aspects of the visualization grammar.\n",
    "You are now equipped to create common visualizations.\n",
    "For a comprehensive reference &ndash; including features we've skipped over here! &ndash; see the Altair [marks](https://altair-viz.github.io/user_guide/marks.html) and [encoding](https://altair-viz.github.io/user_guide/encoding.html) documentation.\n",
    "\n",
    "This is an important milestone, you now know to use Altair to create the bar chart, one of the most widely known and used plots in the Modern era.\n",
    "The next lesson shows you have to create the common variations of the bar chart."
   ]
  }
 ],
 "metadata": {
  "kernelspec": {
   "display_name": "Python 3",
   "language": "python",
   "name": "python3"
  },
  "language_info": {
   "codemirror_mode": {
    "name": "ipython",
    "version": 3
   },
   "file_extension": ".py",
   "mimetype": "text/x-python",
   "name": "python",
   "nbconvert_exporter": "python",
   "pygments_lexer": "ipython3",
   "version": "3.9.4"
  }
 },
 "nbformat": 4,
 "nbformat_minor": 5
}