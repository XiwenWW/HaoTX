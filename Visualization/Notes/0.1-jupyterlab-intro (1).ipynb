{
 "cells": [
  {
   "cell_type": "markdown",
   "metadata": {
    "pycharm": {
     "name": "#%% md\n"
    }
   },
   "source": [
    "# Introduction to JupyterLab\n",
    "\n",
    "## Learning outcomes\n",
    "- Launch JupyterLab\n",
    "- Use the Notebook interface inside Jupyterlab\n",
    "- Know your way around the JupyterLab user interface\n",
    "---"
   ]
  },
  {
   "cell_type": "markdown",
   "metadata": {
    "pycharm": {
     "name": "#%% md\n"
    }
   },
   "source": [
    "## What is JupyterLab\n",
    "\n",
    "- The most rudimentary interaction with programming languages such as Python\n",
    "is via interactive shells run from a terminal.\n",
    "    - This provides access to the full functionality of the language,\n",
    "      but is a barebones experience without any conveniences added.\n",
    "    - If you want to edit a script or view a plot that you created,\n",
    "      you need to open a text editor and image viewer separately.\n",
    "- If you prefer a more holistic experience,\n",
    "  with many of conveniences nicely organized in the same interface,\n",
    "  you can use an integrated development environment (or IDE for short).\n",
    "    - IDEs often include a shell, a file browser, debugging tools, version control, a text editor with autocompletion and syntax highlighting, and an area where plots show up.\n",
    "    - A core idea of IDEs is to provide all the tools you need in one place.\n",
    "    - Commons IDEs that you might have heard of include Visual Studio Code and RStudio,\n",
    "      and today we will be learning about JupyterLab,\n",
    "      which is and IDE to work with many programming languages,\n",
    "      including R, Python, Julia, and many more.\n",
    "        - A core concept tightly linked to JupyterLab are Jupyter Notebooks,\n",
    "          which will be one of the main topics in this talk.\n",
    "          Let's see how we can launch them."
   ]
  },
  {
   "cell_type": "markdown",
   "metadata": {
    "pycharm": {
     "name": "#%% md\n"
    }
   },
   "source": [
    "## How to access JupyterLab\n",
    "\n",
    "### Online\n",
    "- We could install and run JupyterLab just like any other program on Windows, MacOS, or Linux.\n",
    "\n",
    "- However, one of the advantages of JupyterLab is that it is easy to use without installing anything.\n",
    "\n",
    "- To try JupyterLab, use your web browser to visit the [UBC Jupyter Server](https://ubc.syzygy.ca/) and login with your CWL (Firefox, and Chrome are supported). To enter to JupyterLab, change the end of the URL from `tree` to `lab`. Your final URL will be similar to: https://ubc.syzygy.ca/jupyter/user/your_cwl/lab\n",
    "\n",
    "### Installed version on your computer\n",
    "- If you have already completed the [installation instructions](../intro.html#laptop), you can open the terminal and write `jupyter lab`.\n",
    "\n",
    "- JupyterLab will open in a browser whether you run it locally or you are using it through UBC server. Note that if you are running JupyterLab in your machine, the URL could be similar to _https://localhost:8888/lab_. In this case \"localhost\" is referring to your computer, not to a webpage."
   ]
  },
  {
   "cell_type": "markdown",
   "source": [
    "## Using Jupyter Notebooks\n",
    "\n",
    "- We're greeted by the launcher tab where we see that we can start either a Notebook or Console for Python, as well as some other utility programs.\n",
    "- Let's start by explaining one of the most popular options, the Jupyter Notebook.\n",
    "- The Notebook provides and interface where you can mix text, code, mathematical expressions, plot output, videos, and more, all in the same file.\n",
    "    - So instead of the traditional IDE experience\n",
    "      where you would write code in a text file\n",
    "      and then have figures pop up in a different panel,\n",
    "      this information now all resides in the same document,\n",
    "      which facilitates reproducibility and collaboration.\n",
    "    - The Notebooks can be exported to many formats, including PDF and HTML,\n",
    "      which makes it easy to share your project with anyone."
   ],
   "metadata": {
    "collapsed": false,
    "pycharm": {
     "name": "#%% md\n"
    }
   }
  },
  {
   "cell_type": "markdown",
   "source": [
    "- The cell that is encircled in blue is where we can input Python code,\n",
    "  click here and type any mathematical expression,\n",
    "  and then run the cell by clicking the play button in the top toolbar:"
   ],
   "metadata": {
    "collapsed": false,
    "pycharm": {
     "name": "#%% md\n"
    }
   }
  },
  {
   "cell_type": "code",
   "execution_count": 1,
   "metadata": {
    "pycharm": {
     "name": "#%%\n"
    }
   },
   "outputs": [
    {
     "data": {
      "text/plain": [
       "7"
      ]
     },
     "execution_count": 1,
     "metadata": {},
     "output_type": "execute_result"
    }
   ],
   "source": [
    "3 + 4"
   ]
  },
  {
   "cell_type": "markdown",
   "metadata": {
    "pycharm": {
     "name": "#%% md\n"
    }
   },
   "source": [
    "- As you can see, the output is returned just under input, and a new input cell was created.\n",
    "    - We could also have clicked the plus sign to create a new cell.\n",
    "- Here, we can do anything we can do in Python,\n",
    "  e.g. variable assignment:"
   ]
  },
  {
   "cell_type": "code",
   "execution_count": 2,
   "metadata": {
    "pycharm": {
     "name": "#%%\n"
    }
   },
   "outputs": [],
   "source": [
    "a = 5"
   ]
  },
  {
   "cell_type": "markdown",
   "metadata": {
    "pycharm": {
     "name": "#%% md\n"
    }
   },
   "source": [
    "- There is no output because we just assigned a value to a variable,\n",
    "  without asking for the value of that variable,\n",
    "  which we can do by typing out the variable name:"
   ]
  },
  {
   "cell_type": "code",
   "execution_count": 3,
   "metadata": {
    "pycharm": {
     "name": "#%%\n"
    }
   },
   "outputs": [
    {
     "data": {
      "text/plain": [
       "5"
      ]
     },
     "execution_count": 3,
     "metadata": {},
     "output_type": "execute_result"
    }
   ],
   "source": [
    "a"
   ]
  },
  {
   "cell_type": "markdown",
   "metadata": {
    "pycharm": {
     "name": "#%% md\n"
    }
   },
   "source": [
    "- Jupyter Notebooks also supports editing code on multiple lines,\n",
    "  so we could have done this instead:"
   ]
  },
  {
   "cell_type": "code",
   "execution_count": 4,
   "metadata": {
    "pycharm": {
     "name": "#%%\n"
    }
   },
   "outputs": [
    {
     "data": {
      "text/plain": [
       "3"
      ]
     },
     "execution_count": 4,
     "metadata": {},
     "output_type": "execute_result"
    }
   ],
   "source": [
    "a = 3\n",
    "a"
   ]
  },
  {
   "cell_type": "markdown",
   "metadata": {
    "pycharm": {
     "name": "#%% md\n"
    }
   },
   "source": [
    "- You might have noticed that there is a little counter on the left of each cell.\n",
    "  This counter keeps track of in which order the cells were executed,\n",
    "  so that you are aware if cells have been run out of sequential order.\n",
    "- The counter symbol changes to an * when a computation is running,\n",
    "  to indicate that Python is busy and won't be able to execute new cells\n",
    "  until the current one finishes (the delay is only noticeable for longer computations).\n",
    "- We can also click this blue bar to the left to collapse and expand the output and input.\n",
    "    - This can be handy if we have a long code cell,\n",
    "      or some notes that we're planning on moving later.\n",
    "- The notebook is saved automatically every two minutes, and it can be saved manually by clicking the floppy disk symbol in the toolbar, or by hitting Ctrl + s.\n",
    "  Both input and output cells are saved, so any plots that you make will be present in the notebook next time you open it, without needing to rerun the code cells.\n",
    "- Other important icons in the toolbar are the ones to cut, copy, and paste a cell.\n",
    "    - If you want to get rid of a cell, you can cut it out without pasting in back in.\n",
    "- The remaining icons are:\n",
    "    - the play button to run a cell (which we already used),\n",
    "    - the stop button which we can use if a cells has gotten stuck running some code and we want to interrupt it,\n",
    "    - the restart button which restarts the background Python process that is connected to the notebook\n",
    "      (so if we click this, our variables will need to be redefined),\n",
    "    - and last the restart and run all button\n",
    "      (this is really important and should always be executed before sharing a notebook,\n",
    "      to make sure that everything will work when someone else runs it from top to bottom,\n",
    "      since the cells can be executed out of order)\n",
    "- You can also access these by right clicking on a cell."
   ]
  },
  {
   "cell_type": "markdown",
   "metadata": {
    "pycharm": {
     "name": "#%% md\n"
    }
   },
   "source": [
    "### Working with text via Markdown cells\n",
    "\n",
    "You can change the input cell type from Python code to Markdown by clicking on the little dropdown menu in the toolbar that reads \"Code\"."
   ]
  },
  {
   "cell_type": "markdown",
   "metadata": {
    "pycharm": {
     "name": "#%% md\n"
    }
   },
   "source": [
    "- Markdown is a simple formatting system which allows you to document your analysis within the notebook. This is also great for creating tutorials and even books as we will see later.\n",
    "- It is a plain text format that includes brief markup tags that indicates how text should be rendered, e.g. * indicates italics and ** indicates bold typeface. If you have commented on online forums or used a chat application, you might already be familiar with markdown. Below is a short example of the syntax:\n",
    "\n",
    "```\n",
    "### Heading level three\n",
    "\n",
    "- A bullet point\n",
    "- *Emphasis in italics*\n",
    "- **Strong emphasis in bold**\n",
    "- This is a [link to learn more about markdown](https://guides.github.com/features/mastering-markdown/).\n",
    "- Support for $\\LaTeX$ equations: \n",
    "$$f'(a) = \\lim_{x \\to a} \\frac{f(x) - f(a)}{x-a}$$\n",
    "\n",
    "```\n",
    "\n",
    "will be rendered as:\n",
    "\n",
    "\n",
    "### Heading level three\n",
    "\n",
    "- A bullet point\n",
    "- *Emphasis in italics*\n",
    "- **Strong emphasis in bold**\n",
    "- This is a [link to learn more about markdown](https://guides.github.com/features/mastering-markdown/).\n",
    "- Support for $\\LaTeX$ equations: \n",
    "$$f'(a) = \\lim_{x \\to a} \\frac{f(x) - f(a)}{x-a}$$"
   ]
  },
  {
   "cell_type": "markdown",
   "metadata": {
    "pycharm": {
     "name": "#%% md\n"
    }
   },
   "source": [
    "- Let's create a cell with a heading for this tutorial `# JupyterLab tutorial`,\n",
    "  and then click and drag to position it on the top of the notebook."
   ]
  },
  {
   "cell_type": "markdown",
   "metadata": {
    "pycharm": {
     "name": "#%% md\n"
    }
   },
   "source": [
    "### Static figure creation\n",
    "\n",
    "- To show an example of how plots are rendered,\n",
    "  we will use the seaborn plotting package which is a high level interface to the more widely known matplotlib package.\n",
    "- This is just to illustrate how plots show up in the notebook rather than a tutorial on how to plot in Python\n",
    "  so I will not go into details on what these commands mean."
   ]
  },
  {
   "cell_type": "code",
   "execution_count": 5,
   "metadata": {
    "pycharm": {
     "name": "#%%\n"
    }
   },
   "outputs": [
    {
     "data": {
      "text/plain": [
       "<matplotlib.collections.PathCollection at 0x26cb8e1bd60>"
      ]
     },
     "execution_count": 5,
     "metadata": {},
     "output_type": "execute_result"
    },
    {
     "data": {
      "image/png": "[encoded data removed]",
      "text/plain": [
       "<Figure size 432x288 with 1 Axes>"
      ]
     },
     "metadata": {
      "needs_background": "light"
     },
     "output_type": "display_data"
    }
   ],
   "source": [
    "# Please note, you don't have to understand what is going on in this cell\n",
    "# it is just to show you how a static plot looks inside JupyterLab\n",
    "\n",
    "import numpy as np\n",
    "import matplotlib.pyplot as plt\n",
    "\n",
    "N = 50\n",
    "x = np.random.rand(N)\n",
    "y = np.random.rand(N)\n",
    "colors = np.random.rand(N)\n",
    "area = (30 * np.random.rand(N))**2  # 0 to 15 point radii\n",
    "\n",
    "plt.scatter(x, y, s=area, c=colors, alpha=0.5)"
   ]
  },
  {
   "cell_type": "markdown",
   "metadata": {
    "pycharm": {
     "name": "#%% md\n"
    }
   },
   "source": [
    "- The above is a static figure,\n",
    "  which means an image is created and included in the notebook.\n",
    "    - To save this image, you can either use a save command in the plotting library or you can hold shift and right click. Just right clicking is the JupyterLab menu, but holding shift brings up the browser menu, which includes the common options for images such as open in new tab and save."
   ]
  },
  {
   "cell_type": "markdown",
   "metadata": {
    "pycharm": {
     "name": "#%% md\n"
    }
   },
   "source": [
    "### Exporting notebooks\n",
    "\n",
    "- The combination of code, plots, and markdown is powerful. With these three elements, you can keep all your analysis code and interpretations in the same document, instead of spread across different files.\n",
    "- Notebooks are excellent tools to build entire reports, since they can contain formatting such as a table of contents, links to sections and files, footnotes, images, bibliographies, and even videos, which we will learn more about later in the workshop.\n",
    "- You can export the notebook to different file types via File --> Export Notebook As....\n",
    "    - When you export to PDF for the first time on your own machine, you might be asked to download the Latex packages, which are needed to create the PDF.\n",
    "    - An alternative to exporting to PDF via latex is to use the WebPDF option which makes the exported PDF have a more similar style to how the notebook looks in JupyterLab.\n",
    "    - If we would export this notebook to HTML, we would still retain the interactivity of the plots we created!"
   ]
  },
  {
   "cell_type": "markdown",
   "metadata": {
    "pycharm": {
     "name": "#%% md\n"
    }
   },
   "source": [
    "## JupyterLab sidebars\n",
    "\n",
    "Now that you know the basics of how to work inside Jupyter Notebooks,\n",
    "  let's continue explorer the JupyterLab user interface.\n",
    "\n",
    "**Left sidebar**\n",
    "- File browser - The topmost icon in the sidebar to the left shows the file tree of your current folder, highlights include:\n",
    "    - the icon for uploading files from your computer to the UBC Jupyter server (or your folder if you run locally)\n",
    "    - right clicking a file to download it to your computer \n",
    "    - clicking the `+` sign takes us back to the launcher menu where we started\n",
    "- Running terminals and kernels - Overview of all running applications.\n",
    "- Table of Contents - It allows navigate the structure of the document easily. \n",
    "- Extension Manager -The puzzle piece at the bottom is where you can install extensions.\n",
    "\n",
    "\n",
    "**Right sidebar**\n",
    "- Property Inspector - This is a bit more advanced as it allows you to add metadata to cells.\n",
    "    - One aspect worth highlighting here is the ability to denote cells as part of a slide show, that you can download via `File -> Export notebook as`.\n",
    "- Debugger - Facilitates code debugging."
   ]
  },
  {
   "cell_type": "markdown",
   "metadata": {
    "pycharm": {
     "name": "#%% md\n"
    }
   },
   "source": [
    "## Additional JupyterLab applications\n",
    "\n",
    "- JupyterLab can run applications other than notebooks,\n",
    "e.g. there is a Python console, a text editor, and a terminal emulator.\n",
    "    - These can be opened via the launcher page or `File --> New`.\n",
    "    - Applications can be placed side by side by dragging and dropping their windows,\n",
    "      so we could be running a terminal and notebook next to each other.\n",
    "- Command palette - <kbd>Ctrl/Cmd</kbd> + <kbd>Shift</kbd> + <kbd>C</kbd> or `View --> Activate Command Palette` - \n",
    " Enable users to invoke commands directly."
   ]
  },
  {
   "cell_type": "markdown",
   "metadata": {
    "pycharm": {
     "name": "#%% md\n"
    }
   },
   "source": [
    "### How to get help in the notebook\n",
    "\n",
    "- One application that is especially helpful to run next to a notebook\n",
    "  is the Contextual Help (launch by pressing <kbd>Ctrl/Cmd</kbd> + <kbd>Shift</kbd> + <kbd>C</kbd> and searching for it).\n",
    "- This application displays documentation automatically as you type.\n",
    "- When you're using unfamiliar packages and functions,\n",
    "  it is a good habit to leave the Contextual Help open next to the notebook.\n",
    "- If you don't like having a split screen,\n",
    "  you can instead press <kbd>Shift</kbd> + <kbd>Tab</kbd>\n",
    "  to bring up a help dialogue.\n",
    "- JupyterLab also supports tab completion,\n",
    "  you can start typing a name and then press tab to see suggestions to expand to.\n",
    "- Additional help is available via the \"Help\" menu,\n",
    "  which links to useful online resources\n",
    "  (for example `Help --> JupyterLab Reference`).\n",
    "  \n",
    "Note about UBC Jupyter Server:\n",
    "\n",
    "  - All your files will be saved between restarts,\n",
    "      but any Python packages you have installed yourself will be reset,\n",
    "      so you need to contact UBC IT to have additional Python packages installed with persistence."
   ]
  }
 ],
 "metadata": {
  "kernelspec": {
   "display_name": "Python 3",
   "language": "python",
   "name": "python3"
  },
  "language_info": {
   "codemirror_mode": {
    "name": "ipython",
    "version": 3
   },
   "file_extension": ".py",
   "mimetype": "text/x-python",
   "name": "python",
   "nbconvert_exporter": "python",
   "pygments_lexer": "ipython3",
   "version": "3.9.7"
  },
  "toc-autonumbering": false,
  "toc-showcode": false,
  "toc-showmarkdowntxt": false,
  "toc-showtags": false
 },
 "nbformat": 4,
 "nbformat_minor": 4
}