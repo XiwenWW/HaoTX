{
 "cells": [
  {
   "cell_type": "code",
   "execution_count": 1,
   "id": "fdcbe86c",
   "metadata": {
    "deletable": false,
    "editable": false,
    "pycharm": {
     "name": "#%%\n"
    }
   },
   "outputs": [],
   "source": [
    "# Initialize Otter\n",
    "import otter\n",
    "grader = otter.Notebook(\"lab2.ipynb\")"
   ]
  },
  {
   "cell_type": "markdown",
   "id": "49ac3986",
   "metadata": {
    "pycharm": {
     "name": "#%% md\n"
    }
   },
   "source": [
    "# Lab 2 - Bar charts\n",
    "\n",
    "The questions in each lab will be autograded, and all the autograded tests will give you immediate feedback directly in the notebook. This way you can quickly iterate and learn how to create your visualization during the lab time. After you upload your lab on gradescope, the same tests will run again and you will be able to see your score right away."
   ]
  },
  {
   "cell_type": "markdown",
   "id": "71eae8ac",
   "metadata": {
    "pycharm": {
     "name": "#%% md\n"
    }
   },
   "source": [
    "## Submission instructions\n",
    "\n",
    "<div class=\"alert alert-info\" style=\"color:black\">\n",
    "<ul>\n",
    "  <li>Download this lab from the Jupyter Book web page by clicking the download symbol at the top right of the page and selecting the <code>.ipynb</code> format.</li>\n",
    "  <li>To submit this lab, answer all the questions and then upload the completed lab to Gradescope.</li>\n",
    "    <ul>\n",
    "      <li>Before submitting, make sure you restart the kernel and rerun all cells (click the ▶▶-button).</li>\n",
    "    </ul>\n",
    "  <li>Don't change any variable names that are given to you, don't move cells around, and don't include any code to install packages in the notebook.</li>\n",
    "  </li>\n",
    "</ul>\n",
    "</div>"
   ]
  },
  {
   "cell_type": "markdown",
   "id": "79c3c926",
   "metadata": {
    "pycharm": {
     "name": "#%% md\n"
    }
   },
   "source": [
    "## The Gapminder dataset\n",
    "\n",
    "We will continue working with the Gapminder dataset in this lab,\n",
    "so here we are repeating the description of what each column contains\n",
    "so that you can refer back to throughout the lab.\n",
    "\n",
    "| Column                | Description                                                                                  |\n",
    "|-----------------------|----------------------------------------------------------------------------------------------|\n",
    "| country               | Country name                                                                                 |\n",
    "| year                  | Year of observation                                                                          |\n",
    "| population            | Population in the country at each year                                                       |\n",
    "| region                | Continent the country belongs to                                                             |\n",
    "| sub_region            | Sub-region the country belongs to                                                            |\n",
    "| income_group          | Income group [as specified by the world bank in 2018]                                                |\n",
    "| life_expectancy       | The mean number of years a newborn would <br>live if mortality patterns remained constant    |\n",
    "| income                | GDP per capita (in USD) <em>adjusted <br>for differences in purchasing power</em>            |\n",
    "| children_per_woman    | Average number of children born per woman                                                    |\n",
    "| child_mortality       | Deaths of children under 5 years <break>of age per 1000 live births                          |\n",
    "| pop_density           | Average number of people per km<sup>2</sup>                                                  |\n",
    "| co2_per_capita        | CO2 emissions from fossil fuels (tonnes per capita)                                          |\n",
    "| years_in_school_men   | Mean number of years in primary, secondary,<br>and tertiary school for 25-36 years old men   |\n",
    "| years_in_school_women | Mean number of years in primary, secondary,<br>and tertiary school for 25-36 years old women |\n",
    "\n",
    "[as specified by the world bank in 2018]: https://datahelpdesk.worldbank.org/knowledgebase/articles/378833-how-are-the-income-group-thresholds-determined"
   ]
  },
  {
   "cell_type": "code",
   "execution_count": 2,
   "id": "89c05e90",
   "metadata": {
    "pycharm": {
     "name": "#%%\n"
    }
   },
   "outputs": [
    {
     "data": {
      "text/plain": [
       "RendererRegistry.enable('mimetype')"
      ]
     },
     "execution_count": 2,
     "metadata": {},
     "output_type": "execute_result"
    }
   ],
   "source": [
    "# Run this cell to ensure that altair plots show up on gradescope\n",
    "# We will talk more about what these lines do later in the course\n",
    "import altair as alt\n",
    "\n",
    "# Handle large data sets without embedding them in the notebook\n",
    "alt.data_transformers.enable('data_server')\n",
    "# Include an image for each plot since Gradescope only supports displaying plots as images\n",
    "alt.renderers.enable('mimetype')"
   ]
  },
  {
   "cell_type": "markdown",
   "id": "e2fc7c42",
   "metadata": {
    "pycharm": {
     "name": "#%% md\n"
    }
   },
   "source": [
    "### Question 1\n",
    "\n",
    "<div class=\"alert alert-info\" style=\"color:black\">\n",
    "\n",
    "I have uploaded the <a href=https://raw.githubusercontent.com/UofTCoders/workshops-dc-py/master/data/processed/world-data-gapminder.csv> 2018 Gapminder data at this URL.</a> Use <code>read_csv</code> from <code>pandas</code> to load the data directly from the URL and assign it a suitable variable name. Set the <code>parse_dates</code> parameter to <code>['year']</code> to ensure that Altair recognizes this columns as time data.\n",
    "\n",
    "Filter the dataframe to only keep observations from a single year, 1982 and assigned this to a new variable name `gm_1982`. Create a bar chart of this filtered dataframe, which encodes the count of each region on the `x` channel and is sorted by count with the longest bar the closest to the x-axis line.<a href=\"https://altair-viz.github.io/gallery/bar_chart_sorted.html\">Here is an example of how to sort in Altair</a>\n",
    "</div>\n",
    "\n",
    "_Points:_ 3"
   ]
  },
  {
   "cell_type": "code",
   "execution_count": 3,
   "id": "4f91dc0d",
   "metadata": {
    "pycharm": {
     "name": "#%%\n"
    },
    "tags": []
   },
   "outputs": [
    {
     "data": {
      "application/vnd.vegalite.v4+json": {
       "$schema": "https://vega.github.io/schema/vega-lite/v4.17.0.json",
       "config": {
        "view": {
         "continuousHeight": 300,
         "continuousWidth": 400
        }
       },
       "data": {
        "url": "http://localhost:59816/a72ddd0a1316fb182aa61016c0d23cac.json"
       },
       "encoding": {
        "x": {
         "aggregate": "count",
         "field": "region",
         "type": "quantitative"
        },
        "y": {
         "field": "region",
         "sort": "x",
         "type": "nominal"
        }
       },
       "mark": "bar"
      },
      "image/png": "[encoded data removed]",
      "text/plain": [
       "<VegaLite 4 object>\n",
       "\n",
       "If you see this message, it means the renderer has not been properly enabled\n",
       "for the frontend that you are using. For more information, see\n",
       "https://altair-viz.github.io/user_guide/troubleshooting.html\n"
      ]
     },
     "execution_count": 3,
     "metadata": {},
     "output_type": "execute_result"
    }
   ],
   "source": [
    "import pandas as pd\n",
    "\n",
    "\n",
    "url = 'https://raw.githubusercontent.com/UofTCoders/workshops-dc-py/master/data/processed/world-data-gapminder.csv'\n",
    "# Read in the data using pandas\n",
    "gm = pd.read_csv(url, parse_dates = ['year'])\n",
    "# Only keep data from the year 1982\n",
    "gm_1982 = gm[gm[\"year\"].dt.year==1982]\n",
    "\n",
    "bar_num_countries = alt.Chart(gm_1982).mark_bar().encode(\n",
    "    x='count(region):Q',\n",
    "    y=alt.Y('region:N', sort='x')\n",
    ")\n",
    "\n",
    "# Show the chart\n",
    "bar_num_countries"
   ]
  },
  {
   "cell_type": "code",
   "execution_count": 4,
   "id": "abffca44",
   "metadata": {
    "deletable": false,
    "editable": false,
    "pycharm": {
     "name": "#%%\n"
    }
   },
   "outputs": [
    {
     "data": {
      "text/html": [
       "<p><strong><pre style='display: inline;'>q1</pre></strong> passed! ✨</p><p><strong><pre style='display: inline;'>q1 - 1</pre> message:</strong> All your variables have the expected name and type</p>"
      ],
      "text/plain": [
       "q1 results: All test cases passed!\n",
       "q1 - 1 message: All your variables have the expected name and type"
      ]
     },
     "execution_count": 4,
     "metadata": {},
     "output_type": "execute_result"
    }
   ],
   "source": [
    "grader.check(\"q1\")"
   ]
  },
  {
   "cell_type": "markdown",
   "id": "d01b16af",
   "metadata": {
    "pycharm": {
     "name": "#%% md\n"
    },
    "tags": []
   },
   "source": [
    "### Question 2\n",
    "\n",
    "<div class=\"alert alert-info\" style=\"color:black\">\n",
    "\n",
    "Filter the dataframe to only keep observations from a single continent, \"Europe\" and assign this to a new variable name `gm_1982_europe`.\n",
    "\n",
    "</div>\n",
    "\n",
    "_Points:_ 1"
   ]
  },
  {
   "cell_type": "code",
   "execution_count": 5,
   "id": "770069f5",
   "metadata": {
    "pycharm": {
     "name": "#%%\n"
    },
    "tags": []
   },
   "outputs": [
    {
     "data": {
      "text/html": [
       "<div>\n",
       "<style scoped>\n",
       "    .dataframe tbody tr th:only-of-type {\n",
       "        vertical-align: middle;\n",
       "    }\n",
       "\n",
       "    .dataframe tbody tr th {\n",
       "        vertical-align: top;\n",
       "    }\n",
       "\n",
       "    .dataframe thead th {\n",
       "        text-align: right;\n",
       "    }\n",
       "</style>\n",
       "<table border=\"1\" class=\"dataframe\">\n",
       "  <thead>\n",
       "    <tr style=\"text-align: right;\">\n",
       "      <th></th>\n",
       "      <th>country</th>\n",
       "      <th>year</th>\n",
       "      <th>population</th>\n",
       "      <th>region</th>\n",
       "      <th>sub_region</th>\n",
       "      <th>income_group</th>\n",
       "      <th>life_expectancy</th>\n",
       "      <th>income</th>\n",
       "      <th>children_per_woman</th>\n",
       "      <th>child_mortality</th>\n",
       "      <th>pop_density</th>\n",
       "      <th>co2_per_capita</th>\n",
       "      <th>years_in_school_men</th>\n",
       "      <th>years_in_school_women</th>\n",
       "    </tr>\n",
       "  </thead>\n",
       "  <tbody>\n",
       "    <tr>\n",
       "      <th>401</th>\n",
       "      <td>Albania</td>\n",
       "      <td>1982-01-01</td>\n",
       "      <td>2790000</td>\n",
       "      <td>Europe</td>\n",
       "      <td>Southern Europe</td>\n",
       "      <td>Upper middle</td>\n",
       "      <td>72.5</td>\n",
       "      <td>4410</td>\n",
       "      <td>3.45</td>\n",
       "      <td>66.8</td>\n",
       "      <td>102.00</td>\n",
       "      <td>2.62</td>\n",
       "      <td>7.59</td>\n",
       "      <td>7.04</td>\n",
       "    </tr>\n",
       "    <tr>\n",
       "      <th>1934</th>\n",
       "      <td>Austria</td>\n",
       "      <td>1982-01-01</td>\n",
       "      <td>7600000</td>\n",
       "      <td>Europe</td>\n",
       "      <td>Western Europe</td>\n",
       "      <td>High</td>\n",
       "      <td>73.0</td>\n",
       "      <td>25800</td>\n",
       "      <td>1.66</td>\n",
       "      <td>14.8</td>\n",
       "      <td>92.20</td>\n",
       "      <td>7.09</td>\n",
       "      <td>9.76</td>\n",
       "      <td>8.82</td>\n",
       "    </tr>\n",
       "    <tr>\n",
       "      <th>3248</th>\n",
       "      <td>Belarus</td>\n",
       "      <td>1982-01-01</td>\n",
       "      <td>9770000</td>\n",
       "      <td>Europe</td>\n",
       "      <td>Eastern Europe</td>\n",
       "      <td>Upper middle</td>\n",
       "      <td>70.5</td>\n",
       "      <td>7250</td>\n",
       "      <td>2.09</td>\n",
       "      <td>19.4</td>\n",
       "      <td>48.10</td>\n",
       "      <td>9.34</td>\n",
       "      <td>9.26</td>\n",
       "      <td>9.43</td>\n",
       "    </tr>\n",
       "    <tr>\n",
       "      <th>3467</th>\n",
       "      <td>Belgium</td>\n",
       "      <td>1982-01-01</td>\n",
       "      <td>9890000</td>\n",
       "      <td>Europe</td>\n",
       "      <td>Western Europe</td>\n",
       "      <td>High</td>\n",
       "      <td>73.7</td>\n",
       "      <td>25800</td>\n",
       "      <td>1.59</td>\n",
       "      <td>13.3</td>\n",
       "      <td>327.00</td>\n",
       "      <td>11.90</td>\n",
       "      <td>9.80</td>\n",
       "      <td>9.72</td>\n",
       "    </tr>\n",
       "    <tr>\n",
       "      <th>4562</th>\n",
       "      <td>Bosnia and Herzegovina</td>\n",
       "      <td>1982-01-01</td>\n",
       "      <td>4270000</td>\n",
       "      <td>Europe</td>\n",
       "      <td>Southern Europe</td>\n",
       "      <td>Upper middle</td>\n",
       "      <td>70.1</td>\n",
       "      <td>3350</td>\n",
       "      <td>2.03</td>\n",
       "      <td>30.2</td>\n",
       "      <td>83.60</td>\n",
       "      <td>NaN</td>\n",
       "      <td>6.77</td>\n",
       "      <td>5.88</td>\n",
       "    </tr>\n",
       "    <tr>\n",
       "      <th>5219</th>\n",
       "      <td>Bulgaria</td>\n",
       "      <td>1982-01-01</td>\n",
       "      <td>8930000</td>\n",
       "      <td>Europe</td>\n",
       "      <td>Eastern Europe</td>\n",
       "      <td>Upper middle</td>\n",
       "      <td>71.3</td>\n",
       "      <td>10600</td>\n",
       "      <td>2.06</td>\n",
       "      <td>22.2</td>\n",
       "      <td>82.30</td>\n",
       "      <td>10.10</td>\n",
       "      <td>9.66</td>\n",
       "      <td>9.78</td>\n",
       "    </tr>\n",
       "    <tr>\n",
       "      <th>8723</th>\n",
       "      <td>Croatia</td>\n",
       "      <td>1982-01-01</td>\n",
       "      <td>4650000</td>\n",
       "      <td>Europe</td>\n",
       "      <td>Southern Europe</td>\n",
       "      <td>High</td>\n",
       "      <td>70.8</td>\n",
       "      <td>19300</td>\n",
       "      <td>1.98</td>\n",
       "      <td>21.8</td>\n",
       "      <td>83.00</td>\n",
       "      <td>NaN</td>\n",
       "      <td>7.79</td>\n",
       "      <td>7.54</td>\n",
       "    </tr>\n",
       "    <tr>\n",
       "      <th>9380</th>\n",
       "      <td>Czech Republic</td>\n",
       "      <td>1982-01-01</td>\n",
       "      <td>10400000</td>\n",
       "      <td>Europe</td>\n",
       "      <td>Eastern Europe</td>\n",
       "      <td>High</td>\n",
       "      <td>70.7</td>\n",
       "      <td>18800</td>\n",
       "      <td>2.04</td>\n",
       "      <td>15.1</td>\n",
       "      <td>134.00</td>\n",
       "      <td>17.50</td>\n",
       "      <td>10.30</td>\n",
       "      <td>9.91</td>\n",
       "    </tr>\n",
       "    <tr>\n",
       "      <th>9599</th>\n",
       "      <td>Denmark</td>\n",
       "      <td>1982-01-01</td>\n",
       "      <td>5120000</td>\n",
       "      <td>Europe</td>\n",
       "      <td>Northern Europe</td>\n",
       "      <td>High</td>\n",
       "      <td>74.6</td>\n",
       "      <td>28000</td>\n",
       "      <td>1.43</td>\n",
       "      <td>9.6</td>\n",
       "      <td>121.00</td>\n",
       "      <td>10.50</td>\n",
       "      <td>10.60</td>\n",
       "      <td>10.40</td>\n",
       "    </tr>\n",
       "    <tr>\n",
       "      <th>11351</th>\n",
       "      <td>Estonia</td>\n",
       "      <td>1982-01-01</td>\n",
       "      <td>1490000</td>\n",
       "      <td>Europe</td>\n",
       "      <td>Northern Europe</td>\n",
       "      <td>High</td>\n",
       "      <td>69.5</td>\n",
       "      <td>12900</td>\n",
       "      <td>2.10</td>\n",
       "      <td>20.9</td>\n",
       "      <td>35.20</td>\n",
       "      <td>NaN</td>\n",
       "      <td>9.11</td>\n",
       "      <td>9.29</td>\n",
       "    </tr>\n",
       "    <tr>\n",
       "      <th>12008</th>\n",
       "      <td>Finland</td>\n",
       "      <td>1982-01-01</td>\n",
       "      <td>4840000</td>\n",
       "      <td>Europe</td>\n",
       "      <td>Northern Europe</td>\n",
       "      <td>High</td>\n",
       "      <td>74.2</td>\n",
       "      <td>23100</td>\n",
       "      <td>1.72</td>\n",
       "      <td>7.9</td>\n",
       "      <td>15.90</td>\n",
       "      <td>8.91</td>\n",
       "      <td>10.10</td>\n",
       "      <td>10.20</td>\n",
       "    </tr>\n",
       "    <tr>\n",
       "      <th>12227</th>\n",
       "      <td>France</td>\n",
       "      <td>1982-01-01</td>\n",
       "      <td>54500000</td>\n",
       "      <td>Europe</td>\n",
       "      <td>Western Europe</td>\n",
       "      <td>High</td>\n",
       "      <td>75.0</td>\n",
       "      <td>24800</td>\n",
       "      <td>1.84</td>\n",
       "      <td>11.5</td>\n",
       "      <td>99.60</td>\n",
       "      <td>8.01</td>\n",
       "      <td>9.24</td>\n",
       "      <td>8.97</td>\n",
       "    </tr>\n",
       "    <tr>\n",
       "      <th>13103</th>\n",
       "      <td>Germany</td>\n",
       "      <td>1982-01-01</td>\n",
       "      <td>77900000</td>\n",
       "      <td>Europe</td>\n",
       "      <td>Western Europe</td>\n",
       "      <td>High</td>\n",
       "      <td>73.4</td>\n",
       "      <td>27500</td>\n",
       "      <td>1.46</td>\n",
       "      <td>13.2</td>\n",
       "      <td>224.00</td>\n",
       "      <td>13.10</td>\n",
       "      <td>9.60</td>\n",
       "      <td>8.99</td>\n",
       "    </tr>\n",
       "    <tr>\n",
       "      <th>13541</th>\n",
       "      <td>Greece</td>\n",
       "      <td>1982-01-01</td>\n",
       "      <td>9800000</td>\n",
       "      <td>Europe</td>\n",
       "      <td>Southern Europe</td>\n",
       "      <td>High</td>\n",
       "      <td>77.3</td>\n",
       "      <td>18000</td>\n",
       "      <td>2.10</td>\n",
       "      <td>17.2</td>\n",
       "      <td>76.10</td>\n",
       "      <td>5.32</td>\n",
       "      <td>8.83</td>\n",
       "      <td>8.33</td>\n",
       "    </tr>\n",
       "    <tr>\n",
       "      <th>15293</th>\n",
       "      <td>Hungary</td>\n",
       "      <td>1982-01-01</td>\n",
       "      <td>10700000</td>\n",
       "      <td>Europe</td>\n",
       "      <td>Eastern Europe</td>\n",
       "      <td>High</td>\n",
       "      <td>69.2</td>\n",
       "      <td>17300</td>\n",
       "      <td>1.89</td>\n",
       "      <td>22.0</td>\n",
       "      <td>118.00</td>\n",
       "      <td>8.11</td>\n",
       "      <td>9.76</td>\n",
       "      <td>9.57</td>\n",
       "    </tr>\n",
       "    <tr>\n",
       "      <th>15512</th>\n",
       "      <td>Iceland</td>\n",
       "      <td>1982-01-01</td>\n",
       "      <td>233000</td>\n",
       "      <td>Europe</td>\n",
       "      <td>Northern Europe</td>\n",
       "      <td>High</td>\n",
       "      <td>77.0</td>\n",
       "      <td>25800</td>\n",
       "      <td>2.23</td>\n",
       "      <td>8.7</td>\n",
       "      <td>2.33</td>\n",
       "      <td>6.85</td>\n",
       "      <td>9.62</td>\n",
       "      <td>9.71</td>\n",
       "    </tr>\n",
       "    <tr>\n",
       "      <th>16607</th>\n",
       "      <td>Ireland</td>\n",
       "      <td>1982-01-01</td>\n",
       "      <td>3510000</td>\n",
       "      <td>Europe</td>\n",
       "      <td>Northern Europe</td>\n",
       "      <td>High</td>\n",
       "      <td>73.2</td>\n",
       "      <td>16400</td>\n",
       "      <td>2.79</td>\n",
       "      <td>12.4</td>\n",
       "      <td>50.90</td>\n",
       "      <td>7.29</td>\n",
       "      <td>9.14</td>\n",
       "      <td>9.14</td>\n",
       "    </tr>\n",
       "    <tr>\n",
       "      <th>17045</th>\n",
       "      <td>Italy</td>\n",
       "      <td>1982-01-01</td>\n",
       "      <td>56700000</td>\n",
       "      <td>Europe</td>\n",
       "      <td>Southern Europe</td>\n",
       "      <td>High</td>\n",
       "      <td>74.8</td>\n",
       "      <td>23700</td>\n",
       "      <td>1.55</td>\n",
       "      <td>14.3</td>\n",
       "      <td>193.00</td>\n",
       "      <td>6.52</td>\n",
       "      <td>9.85</td>\n",
       "      <td>9.53</td>\n",
       "    </tr>\n",
       "    <tr>\n",
       "      <th>19235</th>\n",
       "      <td>Latvia</td>\n",
       "      <td>1982-01-01</td>\n",
       "      <td>2540000</td>\n",
       "      <td>Europe</td>\n",
       "      <td>Northern Europe</td>\n",
       "      <td>High</td>\n",
       "      <td>69.3</td>\n",
       "      <td>11600</td>\n",
       "      <td>2.02</td>\n",
       "      <td>20.3</td>\n",
       "      <td>40.80</td>\n",
       "      <td>NaN</td>\n",
       "      <td>9.74</td>\n",
       "      <td>9.53</td>\n",
       "    </tr>\n",
       "    <tr>\n",
       "      <th>20330</th>\n",
       "      <td>Lithuania</td>\n",
       "      <td>1982-01-01</td>\n",
       "      <td>3480000</td>\n",
       "      <td>Europe</td>\n",
       "      <td>Northern Europe</td>\n",
       "      <td>High</td>\n",
       "      <td>70.7</td>\n",
       "      <td>15000</td>\n",
       "      <td>2.05</td>\n",
       "      <td>19.3</td>\n",
       "      <td>55.50</td>\n",
       "      <td>6.64</td>\n",
       "      <td>10.00</td>\n",
       "      <td>9.95</td>\n",
       "    </tr>\n",
       "    <tr>\n",
       "      <th>20549</th>\n",
       "      <td>Luxembourg</td>\n",
       "      <td>1982-01-01</td>\n",
       "      <td>365000</td>\n",
       "      <td>Europe</td>\n",
       "      <td>Western Europe</td>\n",
       "      <td>High</td>\n",
       "      <td>73.0</td>\n",
       "      <td>36400</td>\n",
       "      <td>1.45</td>\n",
       "      <td>12.6</td>\n",
       "      <td>141.00</td>\n",
       "      <td>24.30</td>\n",
       "      <td>9.30</td>\n",
       "      <td>8.79</td>\n",
       "    </tr>\n",
       "    <tr>\n",
       "      <th>20768</th>\n",
       "      <td>Macedonia, FYR</td>\n",
       "      <td>1982-01-01</td>\n",
       "      <td>1960000</td>\n",
       "      <td>Europe</td>\n",
       "      <td>Southern Europe</td>\n",
       "      <td>Upper middle</td>\n",
       "      <td>69.5</td>\n",
       "      <td>10300</td>\n",
       "      <td>2.45</td>\n",
       "      <td>55.2</td>\n",
       "      <td>77.50</td>\n",
       "      <td>NaN</td>\n",
       "      <td>8.23</td>\n",
       "      <td>7.69</td>\n",
       "    </tr>\n",
       "    <tr>\n",
       "      <th>22082</th>\n",
       "      <td>Malta</td>\n",
       "      <td>1982-01-01</td>\n",
       "      <td>339000</td>\n",
       "      <td>Europe</td>\n",
       "      <td>Southern Europe</td>\n",
       "      <td>High</td>\n",
       "      <td>72.1</td>\n",
       "      <td>11600</td>\n",
       "      <td>1.98</td>\n",
       "      <td>15.7</td>\n",
       "      <td>1060.00</td>\n",
       "      <td>3.87</td>\n",
       "      <td>7.90</td>\n",
       "      <td>7.30</td>\n",
       "    </tr>\n",
       "    <tr>\n",
       "      <th>22958</th>\n",
       "      <td>Moldova</td>\n",
       "      <td>1982-01-01</td>\n",
       "      <td>4090000</td>\n",
       "      <td>Europe</td>\n",
       "      <td>Eastern Europe</td>\n",
       "      <td>Lower middle</td>\n",
       "      <td>65.1</td>\n",
       "      <td>6120</td>\n",
       "      <td>2.55</td>\n",
       "      <td>46.7</td>\n",
       "      <td>125.00</td>\n",
       "      <td>5.35</td>\n",
       "      <td>8.56</td>\n",
       "      <td>9.14</td>\n",
       "    </tr>\n",
       "    <tr>\n",
       "      <th>23396</th>\n",
       "      <td>Montenegro</td>\n",
       "      <td>1982-01-01</td>\n",
       "      <td>595000</td>\n",
       "      <td>Europe</td>\n",
       "      <td>Southern Europe</td>\n",
       "      <td>Upper middle</td>\n",
       "      <td>74.1</td>\n",
       "      <td>17400</td>\n",
       "      <td>2.21</td>\n",
       "      <td>28.6</td>\n",
       "      <td>44.30</td>\n",
       "      <td>NaN</td>\n",
       "      <td>8.39</td>\n",
       "      <td>7.67</td>\n",
       "    </tr>\n",
       "    <tr>\n",
       "      <th>24710</th>\n",
       "      <td>Netherlands</td>\n",
       "      <td>1982-01-01</td>\n",
       "      <td>14300000</td>\n",
       "      <td>Europe</td>\n",
       "      <td>Western Europe</td>\n",
       "      <td>High</td>\n",
       "      <td>76.1</td>\n",
       "      <td>25100</td>\n",
       "      <td>1.50</td>\n",
       "      <td>10.4</td>\n",
       "      <td>424.00</td>\n",
       "      <td>9.40</td>\n",
       "      <td>10.40</td>\n",
       "      <td>9.56</td>\n",
       "    </tr>\n",
       "    <tr>\n",
       "      <th>26024</th>\n",
       "      <td>Norway</td>\n",
       "      <td>1982-01-01</td>\n",
       "      <td>4110000</td>\n",
       "      <td>Europe</td>\n",
       "      <td>Northern Europe</td>\n",
       "      <td>High</td>\n",
       "      <td>76.0</td>\n",
       "      <td>34400</td>\n",
       "      <td>1.71</td>\n",
       "      <td>9.9</td>\n",
       "      <td>11.30</td>\n",
       "      <td>9.98</td>\n",
       "      <td>10.70</td>\n",
       "      <td>10.40</td>\n",
       "    </tr>\n",
       "    <tr>\n",
       "      <th>27995</th>\n",
       "      <td>Poland</td>\n",
       "      <td>1982-01-01</td>\n",
       "      <td>36200000</td>\n",
       "      <td>Europe</td>\n",
       "      <td>Eastern Europe</td>\n",
       "      <td>High</td>\n",
       "      <td>71.2</td>\n",
       "      <td>10600</td>\n",
       "      <td>2.30</td>\n",
       "      <td>22.7</td>\n",
       "      <td>118.00</td>\n",
       "      <td>11.70</td>\n",
       "      <td>10.30</td>\n",
       "      <td>10.30</td>\n",
       "    </tr>\n",
       "    <tr>\n",
       "      <th>28214</th>\n",
       "      <td>Portugal</td>\n",
       "      <td>1982-01-01</td>\n",
       "      <td>9930000</td>\n",
       "      <td>Europe</td>\n",
       "      <td>Southern Europe</td>\n",
       "      <td>High</td>\n",
       "      <td>72.4</td>\n",
       "      <td>15400</td>\n",
       "      <td>2.07</td>\n",
       "      <td>24.3</td>\n",
       "      <td>108.00</td>\n",
       "      <td>2.95</td>\n",
       "      <td>6.09</td>\n",
       "      <td>6.11</td>\n",
       "    </tr>\n",
       "    <tr>\n",
       "      <th>28652</th>\n",
       "      <td>Romania</td>\n",
       "      <td>1982-01-01</td>\n",
       "      <td>22800000</td>\n",
       "      <td>Europe</td>\n",
       "      <td>Eastern Europe</td>\n",
       "      <td>Upper middle</td>\n",
       "      <td>70.0</td>\n",
       "      <td>13500</td>\n",
       "      <td>2.32</td>\n",
       "      <td>32.8</td>\n",
       "      <td>99.20</td>\n",
       "      <td>8.57</td>\n",
       "      <td>9.74</td>\n",
       "      <td>9.22</td>\n",
       "    </tr>\n",
       "    <tr>\n",
       "      <th>28871</th>\n",
       "      <td>Russia</td>\n",
       "      <td>1982-01-01</td>\n",
       "      <td>140000000</td>\n",
       "      <td>Europe</td>\n",
       "      <td>Eastern Europe</td>\n",
       "      <td>Upper middle</td>\n",
       "      <td>67.8</td>\n",
       "      <td>19000</td>\n",
       "      <td>1.96</td>\n",
       "      <td>26.6</td>\n",
       "      <td>8.55</td>\n",
       "      <td>15.50</td>\n",
       "      <td>10.10</td>\n",
       "      <td>10.10</td>\n",
       "    </tr>\n",
       "    <tr>\n",
       "      <th>29966</th>\n",
       "      <td>Serbia</td>\n",
       "      <td>1982-01-01</td>\n",
       "      <td>9060000</td>\n",
       "      <td>Europe</td>\n",
       "      <td>Southern Europe</td>\n",
       "      <td>Upper middle</td>\n",
       "      <td>71.8</td>\n",
       "      <td>16400</td>\n",
       "      <td>2.33</td>\n",
       "      <td>43.6</td>\n",
       "      <td>104.00</td>\n",
       "      <td>NaN</td>\n",
       "      <td>7.91</td>\n",
       "      <td>7.52</td>\n",
       "    </tr>\n",
       "    <tr>\n",
       "      <th>30842</th>\n",
       "      <td>Slovak Republic</td>\n",
       "      <td>1982-01-01</td>\n",
       "      <td>5070000</td>\n",
       "      <td>Europe</td>\n",
       "      <td>Eastern Europe</td>\n",
       "      <td>High</td>\n",
       "      <td>70.8</td>\n",
       "      <td>13900</td>\n",
       "      <td>2.30</td>\n",
       "      <td>20.7</td>\n",
       "      <td>106.00</td>\n",
       "      <td>11.40</td>\n",
       "      <td>9.66</td>\n",
       "      <td>9.15</td>\n",
       "    </tr>\n",
       "    <tr>\n",
       "      <th>31061</th>\n",
       "      <td>Slovenia</td>\n",
       "      <td>1982-01-01</td>\n",
       "      <td>1880000</td>\n",
       "      <td>Europe</td>\n",
       "      <td>Southern Europe</td>\n",
       "      <td>High</td>\n",
       "      <td>70.8</td>\n",
       "      <td>20700</td>\n",
       "      <td>1.96</td>\n",
       "      <td>17.1</td>\n",
       "      <td>93.40</td>\n",
       "      <td>NaN</td>\n",
       "      <td>9.05</td>\n",
       "      <td>8.84</td>\n",
       "    </tr>\n",
       "    <tr>\n",
       "      <th>32375</th>\n",
       "      <td>Spain</td>\n",
       "      <td>1982-01-01</td>\n",
       "      <td>38300000</td>\n",
       "      <td>Europe</td>\n",
       "      <td>Southern Europe</td>\n",
       "      <td>High</td>\n",
       "      <td>76.0</td>\n",
       "      <td>18100</td>\n",
       "      <td>1.96</td>\n",
       "      <td>12.9</td>\n",
       "      <td>76.80</td>\n",
       "      <td>5.48</td>\n",
       "      <td>8.10</td>\n",
       "      <td>7.75</td>\n",
       "    </tr>\n",
       "    <tr>\n",
       "      <th>33470</th>\n",
       "      <td>Sweden</td>\n",
       "      <td>1982-01-01</td>\n",
       "      <td>8330000</td>\n",
       "      <td>Europe</td>\n",
       "      <td>Northern Europe</td>\n",
       "      <td>High</td>\n",
       "      <td>76.4</td>\n",
       "      <td>26500</td>\n",
       "      <td>1.63</td>\n",
       "      <td>8.0</td>\n",
       "      <td>20.30</td>\n",
       "      <td>7.48</td>\n",
       "      <td>10.60</td>\n",
       "      <td>10.40</td>\n",
       "    </tr>\n",
       "    <tr>\n",
       "      <th>33689</th>\n",
       "      <td>Switzerland</td>\n",
       "      <td>1982-01-01</td>\n",
       "      <td>6340000</td>\n",
       "      <td>Europe</td>\n",
       "      <td>Western Europe</td>\n",
       "      <td>High</td>\n",
       "      <td>76.0</td>\n",
       "      <td>41100</td>\n",
       "      <td>1.52</td>\n",
       "      <td>9.7</td>\n",
       "      <td>160.00</td>\n",
       "      <td>5.78</td>\n",
       "      <td>10.40</td>\n",
       "      <td>9.22</td>\n",
       "    </tr>\n",
       "    <tr>\n",
       "      <th>36536</th>\n",
       "      <td>Ukraine</td>\n",
       "      <td>1982-01-01</td>\n",
       "      <td>50400000</td>\n",
       "      <td>Europe</td>\n",
       "      <td>Eastern Europe</td>\n",
       "      <td>Lower middle</td>\n",
       "      <td>69.0</td>\n",
       "      <td>9570</td>\n",
       "      <td>2.00</td>\n",
       "      <td>25.3</td>\n",
       "      <td>87.00</td>\n",
       "      <td>13.10</td>\n",
       "      <td>9.28</td>\n",
       "      <td>9.27</td>\n",
       "    </tr>\n",
       "    <tr>\n",
       "      <th>36974</th>\n",
       "      <td>United Kingdom</td>\n",
       "      <td>1982-01-01</td>\n",
       "      <td>56300000</td>\n",
       "      <td>Europe</td>\n",
       "      <td>Northern Europe</td>\n",
       "      <td>High</td>\n",
       "      <td>74.0</td>\n",
       "      <td>20800</td>\n",
       "      <td>1.76</td>\n",
       "      <td>12.7</td>\n",
       "      <td>233.00</td>\n",
       "      <td>9.74</td>\n",
       "      <td>10.30</td>\n",
       "      <td>9.83</td>\n",
       "    </tr>\n",
       "  </tbody>\n",
       "</table>\n",
       "</div>"
      ],
      "text/plain": [
       "                      country       year  population  region       sub_region  \\\n",
       "401                   Albania 1982-01-01     2790000  Europe  Southern Europe   \n",
       "1934                  Austria 1982-01-01     7600000  Europe   Western Europe   \n",
       "3248                  Belarus 1982-01-01     9770000  Europe   Eastern Europe   \n",
       "3467                  Belgium 1982-01-01     9890000  Europe   Western Europe   \n",
       "4562   Bosnia and Herzegovina 1982-01-01     4270000  Europe  Southern Europe   \n",
       "5219                 Bulgaria 1982-01-01     8930000  Europe   Eastern Europe   \n",
       "8723                  Croatia 1982-01-01     4650000  Europe  Southern Europe   \n",
       "9380           Czech Republic 1982-01-01    10400000  Europe   Eastern Europe   \n",
       "9599                  Denmark 1982-01-01     5120000  Europe  Northern Europe   \n",
       "11351                 Estonia 1982-01-01     1490000  Europe  Northern Europe   \n",
       "12008                 Finland 1982-01-01     4840000  Europe  Northern Europe   \n",
       "12227                  France 1982-01-01    54500000  Europe   Western Europe   \n",
       "13103                 Germany 1982-01-01    77900000  Europe   Western Europe   \n",
       "13541                  Greece 1982-01-01     9800000  Europe  Southern Europe   \n",
       "15293                 Hungary 1982-01-01    10700000  Europe   Eastern Europe   \n",
       "15512                 Iceland 1982-01-01      233000  Europe  Northern Europe   \n",
       "16607                 Ireland 1982-01-01     3510000  Europe  Northern Europe   \n",
       "17045                   Italy 1982-01-01    56700000  Europe  Southern Europe   \n",
       "19235                  Latvia 1982-01-01     2540000  Europe  Northern Europe   \n",
       "20330               Lithuania 1982-01-01     3480000  Europe  Northern Europe   \n",
       "20549              Luxembourg 1982-01-01      365000  Europe   Western Europe   \n",
       "20768          Macedonia, FYR 1982-01-01     1960000  Europe  Southern Europe   \n",
       "22082                   Malta 1982-01-01      339000  Europe  Southern Europe   \n",
       "22958                 Moldova 1982-01-01     4090000  Europe   Eastern Europe   \n",
       "23396              Montenegro 1982-01-01      595000  Europe  Southern Europe   \n",
       "24710             Netherlands 1982-01-01    14300000  Europe   Western Europe   \n",
       "26024                  Norway 1982-01-01     4110000  Europe  Northern Europe   \n",
       "27995                  Poland 1982-01-01    36200000  Europe   Eastern Europe   \n",
       "28214                Portugal 1982-01-01     9930000  Europe  Southern Europe   \n",
       "28652                 Romania 1982-01-01    22800000  Europe   Eastern Europe   \n",
       "28871                  Russia 1982-01-01   140000000  Europe   Eastern Europe   \n",
       "29966                  Serbia 1982-01-01     9060000  Europe  Southern Europe   \n",
       "30842         Slovak Republic 1982-01-01     5070000  Europe   Eastern Europe   \n",
       "31061                Slovenia 1982-01-01     1880000  Europe  Southern Europe   \n",
       "32375                   Spain 1982-01-01    38300000  Europe  Southern Europe   \n",
       "33470                  Sweden 1982-01-01     8330000  Europe  Northern Europe   \n",
       "33689             Switzerland 1982-01-01     6340000  Europe   Western Europe   \n",
       "36536                 Ukraine 1982-01-01    50400000  Europe   Eastern Europe   \n",
       "36974          United Kingdom 1982-01-01    56300000  Europe  Northern Europe   \n",
       "\n",
       "       income_group  life_expectancy  income  children_per_woman  \\\n",
       "401    Upper middle             72.5    4410                3.45   \n",
       "1934           High             73.0   25800                1.66   \n",
       "3248   Upper middle             70.5    7250                2.09   \n",
       "3467           High             73.7   25800                1.59   \n",
       "4562   Upper middle             70.1    3350                2.03   \n",
       "5219   Upper middle             71.3   10600                2.06   \n",
       "8723           High             70.8   19300                1.98   \n",
       "9380           High             70.7   18800                2.04   \n",
       "9599           High             74.6   28000                1.43   \n",
       "11351          High             69.5   12900                2.10   \n",
       "12008          High             74.2   23100                1.72   \n",
       "12227          High             75.0   24800                1.84   \n",
       "13103          High             73.4   27500                1.46   \n",
       "13541          High             77.3   18000                2.10   \n",
       "15293          High             69.2   17300                1.89   \n",
       "15512          High             77.0   25800                2.23   \n",
       "16607          High             73.2   16400                2.79   \n",
       "17045          High             74.8   23700                1.55   \n",
       "19235          High             69.3   11600                2.02   \n",
       "20330          High             70.7   15000                2.05   \n",
       "20549          High             73.0   36400                1.45   \n",
       "20768  Upper middle             69.5   10300                2.45   \n",
       "22082          High             72.1   11600                1.98   \n",
       "22958  Lower middle             65.1    6120                2.55   \n",
       "23396  Upper middle             74.1   17400                2.21   \n",
       "24710          High             76.1   25100                1.50   \n",
       "26024          High             76.0   34400                1.71   \n",
       "27995          High             71.2   10600                2.30   \n",
       "28214          High             72.4   15400                2.07   \n",
       "28652  Upper middle             70.0   13500                2.32   \n",
       "28871  Upper middle             67.8   19000                1.96   \n",
       "29966  Upper middle             71.8   16400                2.33   \n",
       "30842          High             70.8   13900                2.30   \n",
       "31061          High             70.8   20700                1.96   \n",
       "32375          High             76.0   18100                1.96   \n",
       "33470          High             76.4   26500                1.63   \n",
       "33689          High             76.0   41100                1.52   \n",
       "36536  Lower middle             69.0    9570                2.00   \n",
       "36974          High             74.0   20800                1.76   \n",
       "\n",
       "       child_mortality  pop_density  co2_per_capita  years_in_school_men  \\\n",
       "401               66.8       102.00            2.62                 7.59   \n",
       "1934              14.8        92.20            7.09                 9.76   \n",
       "3248              19.4        48.10            9.34                 9.26   \n",
       "3467              13.3       327.00           11.90                 9.80   \n",
       "4562              30.2        83.60             NaN                 6.77   \n",
       "5219              22.2        82.30           10.10                 9.66   \n",
       "8723              21.8        83.00             NaN                 7.79   \n",
       "9380              15.1       134.00           17.50                10.30   \n",
       "9599               9.6       121.00           10.50                10.60   \n",
       "11351             20.9        35.20             NaN                 9.11   \n",
       "12008              7.9        15.90            8.91                10.10   \n",
       "12227             11.5        99.60            8.01                 9.24   \n",
       "13103             13.2       224.00           13.10                 9.60   \n",
       "13541             17.2        76.10            5.32                 8.83   \n",
       "15293             22.0       118.00            8.11                 9.76   \n",
       "15512              8.7         2.33            6.85                 9.62   \n",
       "16607             12.4        50.90            7.29                 9.14   \n",
       "17045             14.3       193.00            6.52                 9.85   \n",
       "19235             20.3        40.80             NaN                 9.74   \n",
       "20330             19.3        55.50            6.64                10.00   \n",
       "20549             12.6       141.00           24.30                 9.30   \n",
       "20768             55.2        77.50             NaN                 8.23   \n",
       "22082             15.7      1060.00            3.87                 7.90   \n",
       "22958             46.7       125.00            5.35                 8.56   \n",
       "23396             28.6        44.30             NaN                 8.39   \n",
       "24710             10.4       424.00            9.40                10.40   \n",
       "26024              9.9        11.30            9.98                10.70   \n",
       "27995             22.7       118.00           11.70                10.30   \n",
       "28214             24.3       108.00            2.95                 6.09   \n",
       "28652             32.8        99.20            8.57                 9.74   \n",
       "28871             26.6         8.55           15.50                10.10   \n",
       "29966             43.6       104.00             NaN                 7.91   \n",
       "30842             20.7       106.00           11.40                 9.66   \n",
       "31061             17.1        93.40             NaN                 9.05   \n",
       "32375             12.9        76.80            5.48                 8.10   \n",
       "33470              8.0        20.30            7.48                10.60   \n",
       "33689              9.7       160.00            5.78                10.40   \n",
       "36536             25.3        87.00           13.10                 9.28   \n",
       "36974             12.7       233.00            9.74                10.30   \n",
       "\n",
       "       years_in_school_women  \n",
       "401                     7.04  \n",
       "1934                    8.82  \n",
       "3248                    9.43  \n",
       "3467                    9.72  \n",
       "4562                    5.88  \n",
       "5219                    9.78  \n",
       "8723                    7.54  \n",
       "9380                    9.91  \n",
       "9599                   10.40  \n",
       "11351                   9.29  \n",
       "12008                  10.20  \n",
       "12227                   8.97  \n",
       "13103                   8.99  \n",
       "13541                   8.33  \n",
       "15293                   9.57  \n",
       "15512                   9.71  \n",
       "16607                   9.14  \n",
       "17045                   9.53  \n",
       "19235                   9.53  \n",
       "20330                   9.95  \n",
       "20549                   8.79  \n",
       "20768                   7.69  \n",
       "22082                   7.30  \n",
       "22958                   9.14  \n",
       "23396                   7.67  \n",
       "24710                   9.56  \n",
       "26024                  10.40  \n",
       "27995                  10.30  \n",
       "28214                   6.11  \n",
       "28652                   9.22  \n",
       "28871                  10.10  \n",
       "29966                   7.52  \n",
       "30842                   9.15  \n",
       "31061                   8.84  \n",
       "32375                   7.75  \n",
       "33470                  10.40  \n",
       "33689                   9.22  \n",
       "36536                   9.27  \n",
       "36974                   9.83  "
      ]
     },
     "execution_count": 5,
     "metadata": {},
     "output_type": "execute_result"
    }
   ],
   "source": [
    "gm_1982_europe = gm_1982[gm_1982[\"region\"]==\"Europe\"]\n",
    "gm_1982_europe "
   ]
  },
  {
   "cell_type": "code",
   "execution_count": 6,
   "id": "ba6a758c",
   "metadata": {
    "deletable": false,
    "editable": false,
    "pycharm": {
     "name": "#%%\n"
    }
   },
   "outputs": [
    {
     "data": {
      "text/html": [
       "<p><strong><pre style='display: inline;'>q2</pre></strong> passed! ✨</p><p><strong><pre style='display: inline;'>q2 - 1</pre> message:</strong> All your variables have the expected name and type</p>"
      ],
      "text/plain": [
       "q2 results: All test cases passed!\n",
       "q2 - 1 message: All your variables have the expected name and type"
      ]
     },
     "execution_count": 6,
     "metadata": {},
     "output_type": "execute_result"
    }
   ],
   "source": [
    "grader.check(\"q2\")"
   ]
  },
  {
   "cell_type": "markdown",
   "id": "b4299899",
   "metadata": {
    "pycharm": {
     "name": "#%% md\n"
    },
    "tags": []
   },
   "source": [
    "<!-- BEGIN QUESTION -->\n",
    "\n",
    "### Question 3\n",
    "\n",
    "<div class=\"alert alert-info\" style=\"color:black\">\n",
    "\n",
    "Create a sorted bar chart for all the European nations\n",
    "showing their life expectancy in 1982.\n",
    "The countries should be spread out on the y-axis\n",
    "with the nation with the longest life expectancy the closest to the x-axis.\n",
    "    \n",
    "</div>\n",
    "\n",
    "_Points:_ 3"
   ]
  },
  {
   "cell_type": "code",
   "execution_count": 7,
   "id": "d39a9811-3169-4bb6-8a54-3d8b5160b5d0",
   "metadata": {},
   "outputs": [
    {
     "data": {
      "text/html": [
       "<div>\n",
       "<style scoped>\n",
       "    .dataframe tbody tr th:only-of-type {\n",
       "        vertical-align: middle;\n",
       "    }\n",
       "\n",
       "    .dataframe tbody tr th {\n",
       "        vertical-align: top;\n",
       "    }\n",
       "\n",
       "    .dataframe thead th {\n",
       "        text-align: right;\n",
       "    }\n",
       "</style>\n",
       "<table border=\"1\" class=\"dataframe\">\n",
       "  <thead>\n",
       "    <tr style=\"text-align: right;\">\n",
       "      <th></th>\n",
       "      <th>country</th>\n",
       "      <th>year</th>\n",
       "      <th>population</th>\n",
       "      <th>region</th>\n",
       "      <th>sub_region</th>\n",
       "      <th>income_group</th>\n",
       "      <th>life_expectancy</th>\n",
       "      <th>income</th>\n",
       "      <th>children_per_woman</th>\n",
       "      <th>child_mortality</th>\n",
       "      <th>pop_density</th>\n",
       "      <th>co2_per_capita</th>\n",
       "      <th>years_in_school_men</th>\n",
       "      <th>years_in_school_women</th>\n",
       "    </tr>\n",
       "  </thead>\n",
       "  <tbody>\n",
       "    <tr>\n",
       "      <th>401</th>\n",
       "      <td>Albania</td>\n",
       "      <td>1982-01-01</td>\n",
       "      <td>2790000</td>\n",
       "      <td>Europe</td>\n",
       "      <td>Southern Europe</td>\n",
       "      <td>Upper middle</td>\n",
       "      <td>72.5</td>\n",
       "      <td>4410</td>\n",
       "      <td>3.45</td>\n",
       "      <td>66.8</td>\n",
       "      <td>102.0</td>\n",
       "      <td>2.62</td>\n",
       "      <td>7.59</td>\n",
       "      <td>7.04</td>\n",
       "    </tr>\n",
       "    <tr>\n",
       "      <th>1934</th>\n",
       "      <td>Austria</td>\n",
       "      <td>1982-01-01</td>\n",
       "      <td>7600000</td>\n",
       "      <td>Europe</td>\n",
       "      <td>Western Europe</td>\n",
       "      <td>High</td>\n",
       "      <td>73.0</td>\n",
       "      <td>25800</td>\n",
       "      <td>1.66</td>\n",
       "      <td>14.8</td>\n",
       "      <td>92.2</td>\n",
       "      <td>7.09</td>\n",
       "      <td>9.76</td>\n",
       "      <td>8.82</td>\n",
       "    </tr>\n",
       "    <tr>\n",
       "      <th>3248</th>\n",
       "      <td>Belarus</td>\n",
       "      <td>1982-01-01</td>\n",
       "      <td>9770000</td>\n",
       "      <td>Europe</td>\n",
       "      <td>Eastern Europe</td>\n",
       "      <td>Upper middle</td>\n",
       "      <td>70.5</td>\n",
       "      <td>7250</td>\n",
       "      <td>2.09</td>\n",
       "      <td>19.4</td>\n",
       "      <td>48.1</td>\n",
       "      <td>9.34</td>\n",
       "      <td>9.26</td>\n",
       "      <td>9.43</td>\n",
       "    </tr>\n",
       "    <tr>\n",
       "      <th>3467</th>\n",
       "      <td>Belgium</td>\n",
       "      <td>1982-01-01</td>\n",
       "      <td>9890000</td>\n",
       "      <td>Europe</td>\n",
       "      <td>Western Europe</td>\n",
       "      <td>High</td>\n",
       "      <td>73.7</td>\n",
       "      <td>25800</td>\n",
       "      <td>1.59</td>\n",
       "      <td>13.3</td>\n",
       "      <td>327.0</td>\n",
       "      <td>11.90</td>\n",
       "      <td>9.80</td>\n",
       "      <td>9.72</td>\n",
       "    </tr>\n",
       "    <tr>\n",
       "      <th>4562</th>\n",
       "      <td>Bosnia and Herzegovina</td>\n",
       "      <td>1982-01-01</td>\n",
       "      <td>4270000</td>\n",
       "      <td>Europe</td>\n",
       "      <td>Southern Europe</td>\n",
       "      <td>Upper middle</td>\n",
       "      <td>70.1</td>\n",
       "      <td>3350</td>\n",
       "      <td>2.03</td>\n",
       "      <td>30.2</td>\n",
       "      <td>83.6</td>\n",
       "      <td>NaN</td>\n",
       "      <td>6.77</td>\n",
       "      <td>5.88</td>\n",
       "    </tr>\n",
       "  </tbody>\n",
       "</table>\n",
       "</div>"
      ],
      "text/plain": [
       "                     country       year  population  region       sub_region  \\\n",
       "401                  Albania 1982-01-01     2790000  Europe  Southern Europe   \n",
       "1934                 Austria 1982-01-01     7600000  Europe   Western Europe   \n",
       "3248                 Belarus 1982-01-01     9770000  Europe   Eastern Europe   \n",
       "3467                 Belgium 1982-01-01     9890000  Europe   Western Europe   \n",
       "4562  Bosnia and Herzegovina 1982-01-01     4270000  Europe  Southern Europe   \n",
       "\n",
       "      income_group  life_expectancy  income  children_per_woman  \\\n",
       "401   Upper middle             72.5    4410                3.45   \n",
       "1934          High             73.0   25800                1.66   \n",
       "3248  Upper middle             70.5    7250                2.09   \n",
       "3467          High             73.7   25800                1.59   \n",
       "4562  Upper middle             70.1    3350                2.03   \n",
       "\n",
       "      child_mortality  pop_density  co2_per_capita  years_in_school_men  \\\n",
       "401              66.8        102.0            2.62                 7.59   \n",
       "1934             14.8         92.2            7.09                 9.76   \n",
       "3248             19.4         48.1            9.34                 9.26   \n",
       "3467             13.3        327.0           11.90                 9.80   \n",
       "4562             30.2         83.6             NaN                 6.77   \n",
       "\n",
       "      years_in_school_women  \n",
       "401                    7.04  \n",
       "1934                   8.82  \n",
       "3248                   9.43  \n",
       "3467                   9.72  \n",
       "4562                   5.88  "
      ]
     },
     "execution_count": 7,
     "metadata": {},
     "output_type": "execute_result"
    }
   ],
   "source": [
    "gm_1982_europe.head()"
   ]
  },
  {
   "cell_type": "code",
   "execution_count": 8,
   "id": "e58347cb",
   "metadata": {
    "pycharm": {
     "name": "#%%\n"
    },
    "tags": []
   },
   "outputs": [
    {
     "data": {
      "application/vnd.vegalite.v4+json": {
       "$schema": "https://vega.github.io/schema/vega-lite/v4.17.0.json",
       "config": {
        "view": {
         "continuousHeight": 300,
         "continuousWidth": 400
        }
       },
       "data": {
        "url": "http://localhost:59816/6cac26a4d8747ca15c428aab2dd8bb5b.json"
       },
       "encoding": {
        "x": {
         "field": "life_expectancy",
         "type": "quantitative"
        },
        "y": {
         "field": "country",
         "sort": "x",
         "type": "nominal"
        }
       },
       "mark": "bar"
      },
      "image/png": "[encoded data removed]",
      "text/plain": [
       "<VegaLite 4 object>\n",
       "\n",
       "If you see this message, it means the renderer has not been properly enabled\n",
       "for the frontend that you are using. For more information, see\n",
       "https://altair-viz.github.io/user_guide/troubleshooting.html\n"
      ]
     },
     "execution_count": 8,
     "metadata": {},
     "output_type": "execute_result"
    }
   ],
   "source": [
    "bar_life_exp = alt.Chart(gm_1982_europe).mark_bar().encode(\n",
    "    x='life_expectancy:Q',\n",
    "    y=alt.Y('country:N', sort='x')\n",
    ")\n",
    "\n",
    "# Show the chart\n",
    "bar_life_exp"
   ]
  },
  {
   "cell_type": "code",
   "execution_count": 9,
   "id": "d36e5e0f",
   "metadata": {
    "deletable": false,
    "editable": false,
    "pycharm": {
     "name": "#%%\n"
    }
   },
   "outputs": [
    {
     "data": {
      "text/html": [
       "<p><strong><pre style='display: inline;'>q3</pre></strong> passed! 🎉</p><p><strong><pre style='display: inline;'>q3 - 1</pre> message:</strong> All your variables have the expected name and type</p>"
      ],
      "text/plain": [
       "q3 results: All test cases passed!\n",
       "q3 - 1 message: All your variables have the expected name and type"
      ]
     },
     "execution_count": 9,
     "metadata": {},
     "output_type": "execute_result"
    }
   ],
   "source": [
    "grader.check(\"q3\")"
   ]
  },
  {
   "cell_type": "markdown",
   "id": "515ef793",
   "metadata": {
    "pycharm": {
     "name": "#%% md\n"
    },
    "tags": []
   },
   "source": [
    "<!-- END QUESTION -->\n",
    "\n",
    "### Question 4\n",
    "\n",
    "<div class=\"alert alert-info\" style=\"color:black\">\n",
    "\n",
    "<ol type=\"1\">\n",
    "<li>Start with the entire gapminder data set and filter it to include only the most recent year when <code>'co2_per_capita'</code> was measured (it is up to you how you find out which year this is).</li>\n",
    "<li>Use the data frame <code>nlargest</code> method to select the top 40 countries in CO2 production per capita for that year.</li>\n",
    "<li>Since we have only one value per country per year, let’s create a bar chart to visualize it. Encode the CO2 per capita as on the x-axis and the country on the y-axis.</li>\n",
    "<li>Sort your bar chart so that the highest CO2 per capita is the closest to the x-axis (the bottom of the chart). </li>\n",
    "<li>Finally, encode the income group with color. You can use the default color palette provided. </li>\n",
    "\n",
    "</ol>\n",
    "</div>\n",
    "\n",
    "</div>\n",
    "\n",
    "_Points:_ 3"
   ]
  },
  {
   "cell_type": "code",
   "execution_count": 10,
   "id": "aa9831f6-c948-4c85-a059-fca4daa1d239",
   "metadata": {},
   "outputs": [
    {
     "data": {
      "text/html": [
       "<div>\n",
       "<style scoped>\n",
       "    .dataframe tbody tr th:only-of-type {\n",
       "        vertical-align: middle;\n",
       "    }\n",
       "\n",
       "    .dataframe tbody tr th {\n",
       "        vertical-align: top;\n",
       "    }\n",
       "\n",
       "    .dataframe thead th {\n",
       "        text-align: right;\n",
       "    }\n",
       "</style>\n",
       "<table border=\"1\" class=\"dataframe\">\n",
       "  <thead>\n",
       "    <tr style=\"text-align: right;\">\n",
       "      <th></th>\n",
       "      <th>country</th>\n",
       "      <th>year</th>\n",
       "      <th>population</th>\n",
       "      <th>region</th>\n",
       "      <th>sub_region</th>\n",
       "      <th>income_group</th>\n",
       "      <th>life_expectancy</th>\n",
       "      <th>income</th>\n",
       "      <th>children_per_woman</th>\n",
       "      <th>child_mortality</th>\n",
       "      <th>pop_density</th>\n",
       "      <th>co2_per_capita</th>\n",
       "      <th>years_in_school_men</th>\n",
       "      <th>years_in_school_women</th>\n",
       "    </tr>\n",
       "  </thead>\n",
       "  <tbody>\n",
       "    <tr>\n",
       "      <th>38977</th>\n",
       "      <td>Zimbabwe</td>\n",
       "      <td>2014-01-01</td>\n",
       "      <td>15400000</td>\n",
       "      <td>Africa</td>\n",
       "      <td>Sub-Saharan Africa</td>\n",
       "      <td>Low</td>\n",
       "      <td>57.0</td>\n",
       "      <td>1910</td>\n",
       "      <td>3.90</td>\n",
       "      <td>64.3</td>\n",
       "      <td>39.8</td>\n",
       "      <td>0.78</td>\n",
       "      <td>10.9</td>\n",
       "      <td>10.0</td>\n",
       "    </tr>\n",
       "    <tr>\n",
       "      <th>38978</th>\n",
       "      <td>Zimbabwe</td>\n",
       "      <td>2015-01-01</td>\n",
       "      <td>15800000</td>\n",
       "      <td>Africa</td>\n",
       "      <td>Sub-Saharan Africa</td>\n",
       "      <td>Low</td>\n",
       "      <td>58.3</td>\n",
       "      <td>1890</td>\n",
       "      <td>3.84</td>\n",
       "      <td>59.9</td>\n",
       "      <td>40.8</td>\n",
       "      <td>NaN</td>\n",
       "      <td>11.1</td>\n",
       "      <td>10.2</td>\n",
       "    </tr>\n",
       "    <tr>\n",
       "      <th>38979</th>\n",
       "      <td>Zimbabwe</td>\n",
       "      <td>2016-01-01</td>\n",
       "      <td>16200000</td>\n",
       "      <td>Africa</td>\n",
       "      <td>Sub-Saharan Africa</td>\n",
       "      <td>Low</td>\n",
       "      <td>59.3</td>\n",
       "      <td>1860</td>\n",
       "      <td>3.76</td>\n",
       "      <td>56.4</td>\n",
       "      <td>41.7</td>\n",
       "      <td>NaN</td>\n",
       "      <td>NaN</td>\n",
       "      <td>NaN</td>\n",
       "    </tr>\n",
       "    <tr>\n",
       "      <th>38980</th>\n",
       "      <td>Zimbabwe</td>\n",
       "      <td>2017-01-01</td>\n",
       "      <td>16500000</td>\n",
       "      <td>Africa</td>\n",
       "      <td>Sub-Saharan Africa</td>\n",
       "      <td>Low</td>\n",
       "      <td>59.8</td>\n",
       "      <td>1910</td>\n",
       "      <td>3.68</td>\n",
       "      <td>56.8</td>\n",
       "      <td>42.7</td>\n",
       "      <td>NaN</td>\n",
       "      <td>NaN</td>\n",
       "      <td>NaN</td>\n",
       "    </tr>\n",
       "    <tr>\n",
       "      <th>38981</th>\n",
       "      <td>Zimbabwe</td>\n",
       "      <td>2018-01-01</td>\n",
       "      <td>16900000</td>\n",
       "      <td>Africa</td>\n",
       "      <td>Sub-Saharan Africa</td>\n",
       "      <td>Low</td>\n",
       "      <td>60.2</td>\n",
       "      <td>1950</td>\n",
       "      <td>3.61</td>\n",
       "      <td>55.5</td>\n",
       "      <td>43.7</td>\n",
       "      <td>NaN</td>\n",
       "      <td>NaN</td>\n",
       "      <td>NaN</td>\n",
       "    </tr>\n",
       "  </tbody>\n",
       "</table>\n",
       "</div>"
      ],
      "text/plain": [
       "        country       year  population  region          sub_region  \\\n",
       "38977  Zimbabwe 2014-01-01    15400000  Africa  Sub-Saharan Africa   \n",
       "38978  Zimbabwe 2015-01-01    15800000  Africa  Sub-Saharan Africa   \n",
       "38979  Zimbabwe 2016-01-01    16200000  Africa  Sub-Saharan Africa   \n",
       "38980  Zimbabwe 2017-01-01    16500000  Africa  Sub-Saharan Africa   \n",
       "38981  Zimbabwe 2018-01-01    16900000  Africa  Sub-Saharan Africa   \n",
       "\n",
       "      income_group  life_expectancy  income  children_per_woman  \\\n",
       "38977          Low             57.0    1910                3.90   \n",
       "38978          Low             58.3    1890                3.84   \n",
       "38979          Low             59.3    1860                3.76   \n",
       "38980          Low             59.8    1910                3.68   \n",
       "38981          Low             60.2    1950                3.61   \n",
       "\n",
       "       child_mortality  pop_density  co2_per_capita  years_in_school_men  \\\n",
       "38977             64.3         39.8            0.78                 10.9   \n",
       "38978             59.9         40.8             NaN                 11.1   \n",
       "38979             56.4         41.7             NaN                  NaN   \n",
       "38980             56.8         42.7             NaN                  NaN   \n",
       "38981             55.5         43.7             NaN                  NaN   \n",
       "\n",
       "       years_in_school_women  \n",
       "38977                   10.0  \n",
       "38978                   10.2  \n",
       "38979                    NaN  \n",
       "38980                    NaN  \n",
       "38981                    NaN  "
      ]
     },
     "execution_count": 10,
     "metadata": {},
     "output_type": "execute_result"
    }
   ],
   "source": [
    "gm.tail()"
   ]
  },
  {
   "cell_type": "code",
   "execution_count": 11,
   "id": "26f587c0",
   "metadata": {
    "pycharm": {
     "is_executing": true,
     "name": "#%%\n"
    },
    "tags": []
   },
   "outputs": [
    {
     "data": {
      "application/vnd.vegalite.v4+json": {
       "$schema": "https://vega.github.io/schema/vega-lite/v4.17.0.json",
       "config": {
        "view": {
         "continuousHeight": 300,
         "continuousWidth": 400
        }
       },
       "data": {
        "url": "http://localhost:59816/af812e4ad8791de69d2782b22be2ac24.json"
       },
       "encoding": {
        "color": {
         "field": "income_group",
         "type": "nominal"
        },
        "x": {
         "field": "co2_per_capita",
         "type": "quantitative"
        },
        "y": {
         "field": "country",
         "sort": "x",
         "type": "nominal"
        }
       },
       "mark": "bar"
      },
      "image/png": "[encoded data removed]",
      "text/plain": [
       "<VegaLite 4 object>\n",
       "\n",
       "If you see this message, it means the renderer has not been properly enabled\n",
       "for the frontend that you are using. For more information, see\n",
       "https://altair-viz.github.io/user_guide/troubleshooting.html\n"
      ]
     },
     "execution_count": 11,
     "metadata": {},
     "output_type": "execute_result"
    }
   ],
   "source": [
    "gm_most_recent = gm[gm[\"year\"].dt.year==2014]\n",
    "\n",
    "gm_40_largest_co2 = gm_most_recent.nlargest(40, \"co2_per_capita\")\n",
    "\n",
    "bar_co2 = alt.Chart(gm_40_largest_co2).mark_bar().encode(\n",
    "    alt.X('co2_per_capita:Q'),\n",
    "    alt.Y('country:N', sort='x'),\n",
    "    alt.Color('income_group')\n",
    ")\n",
    "\n",
    "\n",
    "# Show the chart\n",
    "bar_co2"
   ]
  },
  {
   "cell_type": "code",
   "execution_count": 12,
   "id": "5f47c691",
   "metadata": {
    "deletable": false,
    "editable": false,
    "pycharm": {
     "name": "#%%\n"
    }
   },
   "outputs": [
    {
     "data": {
      "text/html": [
       "<p><strong><pre style='display: inline;'>q4</pre></strong> passed! 🌈</p><p><strong><pre style='display: inline;'>q4 - 1</pre> message:</strong> All your variables have the expected name and type</p>"
      ],
      "text/plain": [
       "q4 results: All test cases passed!\n",
       "q4 - 1 message: All your variables have the expected name and type"
      ]
     },
     "execution_count": 12,
     "metadata": {},
     "output_type": "execute_result"
    }
   ],
   "source": [
    "grader.check(\"q4\")"
   ]
  },
  {
   "cell_type": "markdown",
   "id": "7ee3cfce",
   "metadata": {
    "pycharm": {
     "name": "#%% md\n"
    },
    "tags": []
   },
   "source": [
    "### Question 5\n",
    "\n",
    "<div class=\"alert alert-info\" style=\"color:black\">\n",
    "\n",
    "<ol type=\"1\">\n",
    "<li>From the full gapminder dataset select only the observations from the years 1934, 1954, 1974, 1994, and 2014.</li>\n",
    "<li>In addition to the co2 per capita, the total population also matter for a country’s overall co2 emissions. Compute a new column in the gapminder data set called <code>'co2_total'</code> which contains the total co2 emissions for each country.</li>\n",
    "<li>Plot this new column over time in a bar chart with time on the x-axis. Instead of plotting one bar for each country, plot one stacked bar for each year colored by the region. The stacked bars should represent the sum of all countries co2 emissions in that region.</li>\n",
    "<li>Decide whether plotting the year as a temporal, nominal, or ordinal data type makes the most sense for this plot.</li>\n",
    "</ol>\n",
    "</div>\n",
    "\n",
    "</div>\n",
    "\n",
    "_Points:_ 3"
   ]
  },
  {
   "cell_type": "code",
   "execution_count": 13,
   "id": "f0fa99a6-cf3e-4b94-81e5-e7e7134f5d58",
   "metadata": {},
   "outputs": [
    {
     "data": {
      "text/html": [
       "<div>\n",
       "<style scoped>\n",
       "    .dataframe tbody tr th:only-of-type {\n",
       "        vertical-align: middle;\n",
       "    }\n",
       "\n",
       "    .dataframe tbody tr th {\n",
       "        vertical-align: top;\n",
       "    }\n",
       "\n",
       "    .dataframe thead th {\n",
       "        text-align: right;\n",
       "    }\n",
       "</style>\n",
       "<table border=\"1\" class=\"dataframe\">\n",
       "  <thead>\n",
       "    <tr style=\"text-align: right;\">\n",
       "      <th></th>\n",
       "      <th>country</th>\n",
       "      <th>year</th>\n",
       "      <th>population</th>\n",
       "      <th>region</th>\n",
       "      <th>sub_region</th>\n",
       "      <th>income_group</th>\n",
       "      <th>life_expectancy</th>\n",
       "      <th>income</th>\n",
       "      <th>children_per_woman</th>\n",
       "      <th>child_mortality</th>\n",
       "      <th>pop_density</th>\n",
       "      <th>co2_per_capita</th>\n",
       "      <th>years_in_school_men</th>\n",
       "      <th>years_in_school_women</th>\n",
       "    </tr>\n",
       "  </thead>\n",
       "  <tbody>\n",
       "    <tr>\n",
       "      <th>0</th>\n",
       "      <td>Afghanistan</td>\n",
       "      <td>1800-01-01</td>\n",
       "      <td>3280000</td>\n",
       "      <td>Asia</td>\n",
       "      <td>Southern Asia</td>\n",
       "      <td>Low</td>\n",
       "      <td>28.2</td>\n",
       "      <td>603</td>\n",
       "      <td>7.0</td>\n",
       "      <td>469.0</td>\n",
       "      <td>NaN</td>\n",
       "      <td>NaN</td>\n",
       "      <td>NaN</td>\n",
       "      <td>NaN</td>\n",
       "    </tr>\n",
       "    <tr>\n",
       "      <th>1</th>\n",
       "      <td>Afghanistan</td>\n",
       "      <td>1801-01-01</td>\n",
       "      <td>3280000</td>\n",
       "      <td>Asia</td>\n",
       "      <td>Southern Asia</td>\n",
       "      <td>Low</td>\n",
       "      <td>28.2</td>\n",
       "      <td>603</td>\n",
       "      <td>7.0</td>\n",
       "      <td>469.0</td>\n",
       "      <td>NaN</td>\n",
       "      <td>NaN</td>\n",
       "      <td>NaN</td>\n",
       "      <td>NaN</td>\n",
       "    </tr>\n",
       "    <tr>\n",
       "      <th>2</th>\n",
       "      <td>Afghanistan</td>\n",
       "      <td>1802-01-01</td>\n",
       "      <td>3280000</td>\n",
       "      <td>Asia</td>\n",
       "      <td>Southern Asia</td>\n",
       "      <td>Low</td>\n",
       "      <td>28.2</td>\n",
       "      <td>603</td>\n",
       "      <td>7.0</td>\n",
       "      <td>469.0</td>\n",
       "      <td>NaN</td>\n",
       "      <td>NaN</td>\n",
       "      <td>NaN</td>\n",
       "      <td>NaN</td>\n",
       "    </tr>\n",
       "    <tr>\n",
       "      <th>3</th>\n",
       "      <td>Afghanistan</td>\n",
       "      <td>1803-01-01</td>\n",
       "      <td>3280000</td>\n",
       "      <td>Asia</td>\n",
       "      <td>Southern Asia</td>\n",
       "      <td>Low</td>\n",
       "      <td>28.2</td>\n",
       "      <td>603</td>\n",
       "      <td>7.0</td>\n",
       "      <td>469.0</td>\n",
       "      <td>NaN</td>\n",
       "      <td>NaN</td>\n",
       "      <td>NaN</td>\n",
       "      <td>NaN</td>\n",
       "    </tr>\n",
       "    <tr>\n",
       "      <th>4</th>\n",
       "      <td>Afghanistan</td>\n",
       "      <td>1804-01-01</td>\n",
       "      <td>3280000</td>\n",
       "      <td>Asia</td>\n",
       "      <td>Southern Asia</td>\n",
       "      <td>Low</td>\n",
       "      <td>28.2</td>\n",
       "      <td>603</td>\n",
       "      <td>7.0</td>\n",
       "      <td>469.0</td>\n",
       "      <td>NaN</td>\n",
       "      <td>NaN</td>\n",
       "      <td>NaN</td>\n",
       "      <td>NaN</td>\n",
       "    </tr>\n",
       "  </tbody>\n",
       "</table>\n",
       "</div>"
      ],
      "text/plain": [
       "       country       year  population region     sub_region income_group  \\\n",
       "0  Afghanistan 1800-01-01     3280000   Asia  Southern Asia          Low   \n",
       "1  Afghanistan 1801-01-01     3280000   Asia  Southern Asia          Low   \n",
       "2  Afghanistan 1802-01-01     3280000   Asia  Southern Asia          Low   \n",
       "3  Afghanistan 1803-01-01     3280000   Asia  Southern Asia          Low   \n",
       "4  Afghanistan 1804-01-01     3280000   Asia  Southern Asia          Low   \n",
       "\n",
       "   life_expectancy  income  children_per_woman  child_mortality  pop_density  \\\n",
       "0             28.2     603                 7.0            469.0          NaN   \n",
       "1             28.2     603                 7.0            469.0          NaN   \n",
       "2             28.2     603                 7.0            469.0          NaN   \n",
       "3             28.2     603                 7.0            469.0          NaN   \n",
       "4             28.2     603                 7.0            469.0          NaN   \n",
       "\n",
       "   co2_per_capita  years_in_school_men  years_in_school_women  \n",
       "0             NaN                  NaN                    NaN  \n",
       "1             NaN                  NaN                    NaN  \n",
       "2             NaN                  NaN                    NaN  \n",
       "3             NaN                  NaN                    NaN  \n",
       "4             NaN                  NaN                    NaN  "
      ]
     },
     "execution_count": 13,
     "metadata": {},
     "output_type": "execute_result"
    }
   ],
   "source": [
    "gm.head()"
   ]
  },
  {
   "cell_type": "code",
   "execution_count": 14,
   "id": "b1ba1acf",
   "metadata": {
    "pycharm": {
     "name": "#%%\n"
    },
    "tags": []
   },
   "outputs": [
    {
     "name": "stderr",
     "output_type": "stream",
     "text": [
      "/var/folders/67/_dpwj0sd5dj4b741xchz9bfc0000gn/T/ipykernel_90045/482080040.py:5: SettingWithCopyWarning: \n",
      "A value is trying to be set on a copy of a slice from a DataFrame.\n",
      "Try using .loc[row_indexer,col_indexer] = value instead\n",
      "\n",
      "See the caveats in the documentation: https://pandas.pydata.org/pandas-docs/stable/user_guide/indexing.html#returning-a-view-versus-a-copy\n",
      "  gm_five_years['co2_total'] = gm_five_years['population']*gm_five_years['co2_per_capita']\n"
     ]
    },
    {
     "data": {
      "application/vnd.vegalite.v4+json": {
       "$schema": "https://vega.github.io/schema/vega-lite/v4.17.0.json",
       "config": {
        "view": {
         "continuousHeight": 300,
         "continuousWidth": 400
        }
       },
       "data": {
        "url": "http://localhost:59816/8766002e39f688f73f94c9d770ef45df.json"
       },
       "encoding": {
        "color": {
         "field": "region",
         "type": "nominal"
        },
        "x": {
         "field": "year",
         "type": "ordinal"
        },
        "y": {
         "aggregate": "sum",
         "field": "co2_total",
         "type": "quantitative"
        }
       },
       "mark": "bar"
      },
      "image/png": "[encoded data removed]",
      "text/plain": [
       "<VegaLite 4 object>\n",
       "\n",
       "If you see this message, it means the renderer has not been properly enabled\n",
       "for the frontend that you are using. For more information, see\n",
       "https://altair-viz.github.io/user_guide/troubleshooting.html\n"
      ]
     },
     "execution_count": 14,
     "metadata": {},
     "output_type": "execute_result"
    }
   ],
   "source": [
    "# You might see a `SettingWithCopyWarning` here, which you can ignore for this exercise\n",
    "\n",
    "gm_five_years = gm.query(\"year == 1934 | year == 1954 |year == 1974|year == 1994|year == 2014\")\n",
    "    \n",
    "gm_five_years['co2_total'] = gm_five_years['population']*gm_five_years['co2_per_capita']\n",
    "\n",
    "bar_co2_total = alt.Chart(gm_five_years).mark_bar().encode(\n",
    "    alt.X('year:O'),\n",
    "    alt.Y('sum(co2_total):Q'),\n",
    "    alt.Color('region')\n",
    ")\n",
    "\n",
    "bar_co2_total"
   ]
  },
  {
   "cell_type": "code",
   "execution_count": 15,
   "id": "13c473db",
   "metadata": {
    "deletable": false,
    "editable": false,
    "pycharm": {
     "name": "#%%\n"
    }
   },
   "outputs": [
    {
     "data": {
      "text/html": [
       "<p><strong><pre style='display: inline;'>q5</pre></strong> passed! 🍀</p><p><strong><pre style='display: inline;'>q5 - 1</pre> message:</strong> All your variables have the expected name and type</p>"
      ],
      "text/plain": [
       "q5 results: All test cases passed!\n",
       "q5 - 1 message: All your variables have the expected name and type"
      ]
     },
     "execution_count": 15,
     "metadata": {},
     "output_type": "execute_result"
    }
   ],
   "source": [
    "grader.check(\"q5\")"
   ]
  },
  {
   "cell_type": "markdown",
   "id": "7c6a7512",
   "metadata": {
    "pycharm": {
     "name": "#%% md\n"
    },
    "tags": []
   },
   "source": [
    "### Question 6\n",
    "\n",
    "<div class=\"alert alert-info\" style=\"color:black\">\n",
    "\n",
    "<ol type=\"1\">\n",
    "<li>Create the same bar chart in the previous question, but normalize the stacked bars so that it is easier to see how the proportion of each continent's contributions have changed over time.</li>\n",
    "<li>Since the 1930's, which continents have increased their share of the worlds co2 emissions? Enter you answer as a Python list, e.g. <code>['Africa', 'Americas']`</code>\n",
    "</ol>\n",
    "</div>\n",
    "\n",
    "</div>\n",
    "\n",
    "_Points:_ 1"
   ]
  },
  {
   "cell_type": "code",
   "execution_count": 16,
   "id": "b2dbfaac",
   "metadata": {
    "pycharm": {
     "name": "#%%\n"
    },
    "tags": []
   },
   "outputs": [
    {
     "data": {
      "application/vnd.vegalite.v4+json": {
       "$schema": "https://vega.github.io/schema/vega-lite/v4.17.0.json",
       "config": {
        "view": {
         "continuousHeight": 300,
         "continuousWidth": 400
        }
       },
       "data": {
        "url": "http://localhost:59816/8766002e39f688f73f94c9d770ef45df.json"
       },
       "encoding": {
        "color": {
         "field": "region",
         "type": "nominal"
        },
        "x": {
         "field": "year",
         "type": "ordinal"
        },
        "y": {
         "aggregate": "sum",
         "field": "co2_total",
         "stack": "normalize",
         "type": "quantitative"
        }
       },
       "mark": "bar"
      },
      "image/png": "[encoded data removed]",
      "text/plain": [
       "<VegaLite 4 object>\n",
       "\n",
       "If you see this message, it means the renderer has not been properly enabled\n",
       "for the frontend that you are using. For more information, see\n",
       "https://altair-viz.github.io/user_guide/troubleshooting.html\n"
      ]
     },
     "execution_count": 16,
     "metadata": {},
     "output_type": "execute_result"
    }
   ],
   "source": [
    "bar_co2_total_norm = alt.Chart(gm_five_years).mark_bar().encode(\n",
    "    alt.X('year:O'),\n",
    "    alt.Y('sum(co2_total):Q', stack=\"normalize\"),\n",
    "    alt.Color('region')\n",
    ")\n",
    "\n",
    "# Show the chart\n",
    "bar_co2_total_norm"
   ]
  },
  {
   "cell_type": "code",
   "execution_count": 17,
   "id": "7d7fba25",
   "metadata": {
    "pycharm": {
     "name": "#%%\n"
    },
    "tags": []
   },
   "outputs": [],
   "source": [
    "# Enter your answer to question two as a list, e.g. ['Africa', 'Americas']\n",
    "increased_continents = ['Africa', 'Asia', 'Oceania']"
   ]
  },
  {
   "cell_type": "code",
   "execution_count": 18,
   "id": "d8dbae8e",
   "metadata": {
    "deletable": false,
    "editable": false,
    "pycharm": {
     "name": "#%%\n"
    }
   },
   "outputs": [
    {
     "data": {
      "text/html": [
       "<p><strong><pre style='display: inline;'>q6</pre></strong> passed! 🙌</p><p><strong><pre style='display: inline;'>q6 - 1</pre> message:</strong> All your variables have the expected name and type</p>"
      ],
      "text/plain": [
       "q6 results: All test cases passed!\n",
       "q6 - 1 message: All your variables have the expected name and type"
      ]
     },
     "execution_count": 18,
     "metadata": {},
     "output_type": "execute_result"
    }
   ],
   "source": [
    "grader.check(\"q6\")"
   ]
  },
  {
   "cell_type": "markdown",
   "id": "1c03106a",
   "metadata": {
    "pycharm": {
     "name": "#%% md\n"
    }
   },
   "source": [
    "<div class=\"alert alert-danger\" style=\"color:black\">\n",
    "    \n",
    "**Restart and run all cells before submitting**\n",
    "    \n",
    "Before submitting,\n",
    "don't forget to run all cells in your notebook\n",
    "to make sure there are no errors.\n",
    "You can do this by clicking the ▶▶ button\n",
    "or going to `Kernel -> Restart Kernel and Run All Cells...` in the menu.\n",
    "This is not only important for this course,\n",
    "but a good habit you should get into before ever committing a notebook to GitHub,\n",
    "so that your collaborators can run it from top to bottom\n",
    "without issues.\n",
    "</div>"
   ]
  }
 ],
 "metadata": {
  "kernelspec": {
   "display_name": "dsci320",
   "language": "python",
   "name": "dsci320"
  },
  "language_info": {
   "codemirror_mode": {
    "name": "ipython",
    "version": 3
   },
   "file_extension": ".py",
   "mimetype": "text/x-python",
   "name": "python",
   "nbconvert_exporter": "python",
   "pygments_lexer": "ipython3",
   "version": "3.9.15"
  },
  "otter": {
   "OK_FORMAT": true,
   "tests": {
    "q1": {
     "name": "q1",
     "points": 3,
     "suites": [
      {
       "cases": [
        {
         "code": ">>> assert bar_num_countries is not None\n>>> assert isinstance(bar_num_countries, alt.Chart)\n",
         "failure_message": "Some of your variables have an unexpected name or type",
         "hidden": false,
         "locked": false,
         "points": 0,
         "success_message": "All your variables have the expected name and type"
        },
        {
         "code": ">>> assert bar_num_countries.to_dict()['mark'] == 'bar'\n",
         "failure_message": "Make sure you are using the correct mark type for your plot",
         "hidden": false,
         "locked": false
        },
        {
         "code": ">>> assert bar_num_countries.to_dict()['encoding']['x']['aggregate'] == 'count'\n",
         "failure_message": "The wrong dataframe column is used for the x channel your plot.",
         "hidden": false,
         "locked": false
        },
        {
         "code": ">>> assert bar_num_countries.to_dict()['encoding']['y']['field'] == 'region'\n",
         "failure_message": "The wrong dataframe column is used for the y channel your plot.",
         "hidden": false,
         "locked": false
        },
        {
         "code": ">>> assert bar_num_countries.to_dict()['encoding']['y']['type'] == 'nominal'\n",
         "failure_message": "The wrong data type is used for the y channel in your plot.",
         "hidden": false,
         "locked": false
        },
        {
         "code": ">>> assert bar_num_countries.to_dict()['encoding']['y']['sort'] == 'x'\n",
         "failure_message": "The y-axis is not sorted correctly",
         "hidden": false,
         "locked": false
        }
       ],
       "scored": true,
       "setup": "",
       "teardown": "",
       "type": "doctest"
      }
     ]
    },
    "q2": {
     "name": "q2",
     "points": 1,
     "suites": [
      {
       "cases": [
        {
         "code": ">>> assert gm_1982_europe is not None\n>>> assert isinstance(gm_1982_europe, pd.DataFrame)\n",
         "failure_message": "Some of your variables have an unexpected name or type",
         "hidden": false,
         "locked": false,
         "points": 0,
         "success_message": "All your variables have the expected name and type"
        },
        {
         "code": ">>> pd.testing.assert_frame_equal(gm_1982_europe, gm_1982[gm_1982['region'] == 'Europe'])\n",
         "failure_message": "You have not filtered the data frame correctly.",
         "hidden": false,
         "locked": false
        }
       ],
       "scored": true,
       "setup": "",
       "teardown": "",
       "type": "doctest"
      }
     ]
    },
    "q3": {
     "name": "q3",
     "points": 3,
     "suites": [
      {
       "cases": [
        {
         "code": ">>> assert bar_life_exp is not None\n>>> assert isinstance(bar_life_exp, alt.Chart)\n",
         "failure_message": "Some of your variables have an unexpected name or type",
         "hidden": false,
         "locked": false,
         "points": 0,
         "success_message": "All your variables have the expected name and type"
        },
        {
         "code": ">>> assert bar_life_exp.to_dict()['mark'] == 'bar'\n",
         "failure_message": "Make sure you are using the correct mark type for your plot",
         "hidden": false,
         "locked": false
        },
        {
         "code": ">>> assert bar_life_exp.to_dict()['encoding']['x']['field'] == 'life_expectancy'\n",
         "failure_message": "The wrong dataframe column is used for the x channel your plot.",
         "hidden": false,
         "locked": false
        },
        {
         "code": ">>> assert bar_life_exp.to_dict()['encoding']['y']['field'] == 'country'\n",
         "failure_message": "The wrong dataframe column is used for the y channel your plot.",
         "hidden": false,
         "locked": false
        },
        {
         "code": ">>> assert bar_life_exp.to_dict()['encoding']['y']['sort'] == 'x'\n",
         "failure_message": "The y-axis is not sorted correctly",
         "hidden": false,
         "locked": false
        }
       ],
       "scored": true,
       "setup": "",
       "teardown": "",
       "type": "doctest"
      }
     ]
    },
    "q4": {
     "name": "q4",
     "points": 3,
     "suites": [
      {
       "cases": [
        {
         "code": ">>> assert bar_co2 is not None\n>>> assert isinstance(bar_co2, alt.Chart)\n",
         "failure_message": "Some of your variables have an unexpected name or type",
         "hidden": false,
         "locked": false,
         "points": 0,
         "success_message": "All your variables have the expected name and type"
        },
        {
         "code": ">>> assert bar_co2.to_dict()['mark'] == 'bar'\n",
         "failure_message": "Make sure you are using the correct mark type for your plot",
         "hidden": false,
         "locked": false
        },
        {
         "code": ">>> assert bar_co2.to_dict()['encoding']['x']['field'] == 'co2_per_capita'\n",
         "failure_message": "The wrong dataframe column is used for the x channel your plot.",
         "hidden": false,
         "locked": false
        },
        {
         "code": ">>> assert bar_co2.to_dict()['encoding']['y']['field'] == 'country'\n",
         "failure_message": "The wrong dataframe column is used for the color channel your plot.",
         "hidden": false,
         "locked": false
        },
        {
         "code": ">>> assert bar_co2.to_dict()['encoding']['y']['type'] == 'nominal'\n",
         "failure_message": "The wrong data type is used for the y channel in your plot.",
         "hidden": false,
         "locked": false
        },
        {
         "code": ">>> assert bar_co2.to_dict()['encoding']['y']['sort'] == 'x'\n",
         "failure_message": "The y-axis is not sorted correctly",
         "hidden": false,
         "locked": false
        },
        {
         "code": ">>> assert bar_co2.to_dict()['encoding']['color']['field'] == 'income_group'\n",
         "failure_message": "The wrong dataframe column is used for the y channel your plot.",
         "hidden": false,
         "locked": false
        },
        {
         "code": ">>> pd.testing.assert_frame_equal(gm_40_largest_co2, gm[gm['year'] == '2014-01-01'].nlargest(40, 'co2_per_capita'))\n",
         "failure_message": "You have not filtered the data frame correctly.",
         "hidden": false,
         "locked": false
        }
       ],
       "scored": true,
       "setup": "",
       "teardown": "",
       "type": "doctest"
      }
     ]
    },
    "q5": {
     "name": "q5",
     "points": 3,
     "suites": [
      {
       "cases": [
        {
         "code": ">>> assert bar_co2_total is not None\n>>> assert isinstance(bar_co2_total, alt.Chart)\n",
         "failure_message": "Some of your variables have an unexpected name or type",
         "hidden": false,
         "locked": false,
         "points": 0,
         "success_message": "All your variables have the expected name and type"
        },
        {
         "code": ">>> assert bar_co2_total.to_dict()['mark'] == 'bar'\n",
         "failure_message": "Make sure you are using the correct mark type for your plot",
         "hidden": false,
         "locked": false
        },
        {
         "code": ">>> assert bar_co2_total.to_dict()['encoding']['x']['field'] == 'year'\n",
         "failure_message": "The wrong dataframe column is used for the x channel your plot.",
         "hidden": false,
         "locked": false
        },
        {
         "code": ">>> assert bar_co2_total.to_dict()['encoding']['y']['field'] == 'co2_total'\n",
         "failure_message": "The wrong dataframe column is used for the y channel your plot.",
         "hidden": false,
         "locked": false
        },
        {
         "code": ">>> assert bar_co2_total.to_dict()['encoding']['y']['aggregate'] == 'sum'\n",
         "failure_message": "The wrong aggregation is used for the y channel.",
         "hidden": false,
         "locked": false
        },
        {
         "code": ">>> assert bar_co2_total.to_dict()['encoding']['x']['type'] in ['ordinal', 'nominal']\n",
         "failure_message": "The wrong data type is used for the y channel in your plot.",
         "hidden": false,
         "locked": false
        },
        {
         "code": ">>> pd.testing.assert_frame_equal(gm_five_years, gm[gm['year'].isin(['1934', '1954', '1974', '1994', '2014'])].assign(co2_total=lambda df: df['co2_per_capita'] * df['population']))\n",
         "failure_message": "You have not filtered the data frame correctly.",
         "hidden": false,
         "locked": false
        }
       ],
       "scored": true,
       "setup": "",
       "teardown": "",
       "type": "doctest"
      }
     ]
    },
    "q6": {
     "name": "q6",
     "points": 1,
     "suites": [
      {
       "cases": [
        {
         "code": ">>> assert bar_co2_total_norm is not None\n>>> assert isinstance(bar_co2_total_norm, alt.Chart)\n",
         "failure_message": "Some of your variables have an unexpected name or type",
         "hidden": false,
         "locked": false,
         "points": 0,
         "success_message": "All your variables have the expected name and type"
        },
        {
         "code": ">>> assert bar_co2_total_norm.to_dict()['encoding']['y']['stack'] == 'normalize'\n",
         "failure_message": "The stacking is not normalized",
         "hidden": false,
         "locked": false
        },
        {
         "code": ">>> assert [x in increased_continents for x in ['Africa', 'Asia', 'Oceania']]\n>>> assert len(increased_continents) == 3\n",
         "failure_message": "The wrong continents were selected",
         "hidden": false,
         "locked": false
        }
       ],
       "scored": true,
       "setup": "",
       "teardown": "",
       "type": "doctest"
      }
     ]
    }
   }
  }
 },
 "nbformat": 4,
 "nbformat_minor": 5
}
