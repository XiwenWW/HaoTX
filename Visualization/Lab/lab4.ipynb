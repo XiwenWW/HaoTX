{
 "cells": [
  {
   "cell_type": "code",
   "execution_count": 1,
   "id": "4500795d",
   "metadata": {
    "deletable": false,
    "editable": false
   },
   "outputs": [],
   "source": [
    "# Initialize Otter\n",
    "import otter\n",
    "grader = otter.Notebook(\"lab4.ipynb\")"
   ]
  },
  {
   "cell_type": "markdown",
   "id": "7ed7e2ce",
   "metadata": {
    "pycharm": {
     "name": "#%% md\n"
    }
   },
   "source": [
    "# Lab 4 - Distributions\n",
    "\n",
    "The questions in each lab will be autograded, and all the autograded tests will give you immediate feedback directly in the notebook. This way you can quickly iterate and learn how to create your visualization during the lab time. After you upload your lab on gradescope, the same tests will run again and you will be able to see your score right away."
   ]
  },
  {
   "cell_type": "markdown",
   "id": "e9b7fc6b",
   "metadata": {
    "pycharm": {
     "name": "#%% md\n"
    }
   },
   "source": [
    "## Submission instructions\n",
    "\n",
    "<div class=\"alert alert-info\" style=\"color:black\">\n",
    "<ul>\n",
    "  <li>Download this lab from the Jupyter Book web page by clicking the download symbol at the top right of the page and selecting the <code>.ipynb</code> format.</li>\n",
    "  <li>To submit this lab, answer all the questions and then upload the completed lab to Gradescope.</li>\n",
    "    <ul>\n",
    "      <li>Before submitting, make sure you restart the kernel and rerun all cells (click the ▶▶ button).</li>\n",
    "    </ul>\n",
    "  <li>Don't change any variable names that are given to you, don't move cells around, and don't include any code to install packages in the notebook.</li>\n",
    "  </li>\n",
    "</ul>\n",
    "</div>"
   ]
  },
  {
   "cell_type": "markdown",
   "id": "99b610de",
   "metadata": {
    "pycharm": {
     "name": "#%% md\n"
    }
   },
   "source": [
    "## Visualizing distributions of birds\n",
    "\n",
    "In this lab we are going to work with a dataset of hawks\n",
    "that have been captured and measured by researchers.\n",
    "We will need to do some preprocessing of the data we are going to use,\n",
    "so you can just follow along in the next cell. In order to better represent EDA processes, some of the tests are hidden."
   ]
  },
  {
   "cell_type": "code",
   "execution_count": 2,
   "id": "76805463",
   "metadata": {
    "pycharm": {
     "name": "#%%\n"
    }
   },
   "outputs": [
    {
     "data": {
      "text/html": [
       "<div>\n",
       "<style scoped>\n",
       "    .dataframe tbody tr th:only-of-type {\n",
       "        vertical-align: middle;\n",
       "    }\n",
       "\n",
       "    .dataframe tbody tr th {\n",
       "        vertical-align: top;\n",
       "    }\n",
       "\n",
       "    .dataframe thead th {\n",
       "        text-align: right;\n",
       "    }\n",
       "</style>\n",
       "<table border=\"1\" class=\"dataframe\">\n",
       "  <thead>\n",
       "    <tr style=\"text-align: right;\">\n",
       "      <th></th>\n",
       "      <th>year</th>\n",
       "      <th>species</th>\n",
       "      <th>age</th>\n",
       "      <th>sex</th>\n",
       "      <th>wing</th>\n",
       "      <th>weight</th>\n",
       "      <th>culmen</th>\n",
       "      <th>hallux</th>\n",
       "      <th>tail</th>\n",
       "    </tr>\n",
       "  </thead>\n",
       "  <tbody>\n",
       "    <tr>\n",
       "      <th>3</th>\n",
       "      <td>1992</td>\n",
       "      <td>CH</td>\n",
       "      <td>I</td>\n",
       "      <td>F</td>\n",
       "      <td>265.0</td>\n",
       "      <td>470.0</td>\n",
       "      <td>18.7</td>\n",
       "      <td>23.5</td>\n",
       "      <td>220</td>\n",
       "    </tr>\n",
       "    <tr>\n",
       "      <th>4</th>\n",
       "      <td>1992</td>\n",
       "      <td>SS</td>\n",
       "      <td>I</td>\n",
       "      <td>F</td>\n",
       "      <td>205.0</td>\n",
       "      <td>170.0</td>\n",
       "      <td>12.5</td>\n",
       "      <td>14.3</td>\n",
       "      <td>157</td>\n",
       "    </tr>\n",
       "    <tr>\n",
       "      <th>28</th>\n",
       "      <td>1992</td>\n",
       "      <td>SS</td>\n",
       "      <td>I</td>\n",
       "      <td>F</td>\n",
       "      <td>205.0</td>\n",
       "      <td>180.0</td>\n",
       "      <td>11.7</td>\n",
       "      <td>15.0</td>\n",
       "      <td>164</td>\n",
       "    </tr>\n",
       "    <tr>\n",
       "      <th>40</th>\n",
       "      <td>1993</td>\n",
       "      <td>SS</td>\n",
       "      <td>I</td>\n",
       "      <td>M</td>\n",
       "      <td>171.0</td>\n",
       "      <td>88.0</td>\n",
       "      <td>9.7</td>\n",
       "      <td>11.5</td>\n",
       "      <td>136</td>\n",
       "    </tr>\n",
       "    <tr>\n",
       "      <th>52</th>\n",
       "      <td>1993</td>\n",
       "      <td>SS</td>\n",
       "      <td>I</td>\n",
       "      <td>F</td>\n",
       "      <td>202.0</td>\n",
       "      <td>134.0</td>\n",
       "      <td>12.4</td>\n",
       "      <td>13.7</td>\n",
       "      <td>158</td>\n",
       "    </tr>\n",
       "    <tr>\n",
       "      <th>...</th>\n",
       "      <td>...</td>\n",
       "      <td>...</td>\n",
       "      <td>...</td>\n",
       "      <td>...</td>\n",
       "      <td>...</td>\n",
       "      <td>...</td>\n",
       "      <td>...</td>\n",
       "      <td>...</td>\n",
       "      <td>...</td>\n",
       "    </tr>\n",
       "    <tr>\n",
       "      <th>894</th>\n",
       "      <td>2003</td>\n",
       "      <td>SS</td>\n",
       "      <td>I</td>\n",
       "      <td>F</td>\n",
       "      <td>198.0</td>\n",
       "      <td>190.0</td>\n",
       "      <td>12.2</td>\n",
       "      <td>15.8</td>\n",
       "      <td>158</td>\n",
       "    </tr>\n",
       "    <tr>\n",
       "      <th>895</th>\n",
       "      <td>2003</td>\n",
       "      <td>SS</td>\n",
       "      <td>I</td>\n",
       "      <td>F</td>\n",
       "      <td>190.0</td>\n",
       "      <td>200.0</td>\n",
       "      <td>12.7</td>\n",
       "      <td>15.0</td>\n",
       "      <td>157</td>\n",
       "    </tr>\n",
       "    <tr>\n",
       "      <th>896</th>\n",
       "      <td>2003</td>\n",
       "      <td>SS</td>\n",
       "      <td>I</td>\n",
       "      <td>F</td>\n",
       "      <td>197.0</td>\n",
       "      <td>185.0</td>\n",
       "      <td>12.8</td>\n",
       "      <td>15.6</td>\n",
       "      <td>157</td>\n",
       "    </tr>\n",
       "    <tr>\n",
       "      <th>898</th>\n",
       "      <td>2003</td>\n",
       "      <td>SS</td>\n",
       "      <td>I</td>\n",
       "      <td>F</td>\n",
       "      <td>200.0</td>\n",
       "      <td>185.0</td>\n",
       "      <td>12.8</td>\n",
       "      <td>15.2</td>\n",
       "      <td>158</td>\n",
       "    </tr>\n",
       "    <tr>\n",
       "      <th>904</th>\n",
       "      <td>2003</td>\n",
       "      <td>SS</td>\n",
       "      <td>I</td>\n",
       "      <td>F</td>\n",
       "      <td>190.0</td>\n",
       "      <td>175.0</td>\n",
       "      <td>12.7</td>\n",
       "      <td>15.4</td>\n",
       "      <td>150</td>\n",
       "    </tr>\n",
       "  </tbody>\n",
       "</table>\n",
       "<p>314 rows × 9 columns</p>\n",
       "</div>"
      ],
      "text/plain": [
       "     year species age sex   wing  weight  culmen  hallux  tail\n",
       "3    1992      CH   I   F  265.0   470.0    18.7    23.5   220\n",
       "4    1992      SS   I   F  205.0   170.0    12.5    14.3   157\n",
       "28   1992      SS   I   F  205.0   180.0    11.7    15.0   164\n",
       "40   1993      SS   I   M  171.0    88.0     9.7    11.5   136\n",
       "52   1993      SS   I   F  202.0   134.0    12.4    13.7   158\n",
       "..    ...     ...  ..  ..    ...     ...     ...     ...   ...\n",
       "894  2003      SS   I   F  198.0   190.0    12.2    15.8   158\n",
       "895  2003      SS   I   F  190.0   200.0    12.7    15.0   157\n",
       "896  2003      SS   I   F  197.0   185.0    12.8    15.6   157\n",
       "898  2003      SS   I   F  200.0   185.0    12.8    15.2   158\n",
       "904  2003      SS   I   F  190.0   175.0    12.7    15.4   150\n",
       "\n",
       "[314 rows x 9 columns]"
      ]
     },
     "execution_count": 2,
     "metadata": {},
     "output_type": "execute_result"
    }
   ],
   "source": [
    "import pandas as pd\n",
    "\n",
    "\n",
    "url = 'https://raw.githubusercontent.com/joelostblom/teaching-datasets/main/hawks.csv'\n",
    "hawks = pd.read_csv(\n",
    "    url\n",
    ").drop(  # Remove columns that we will not use in this lab\n",
    "    columns=['Unnamed: 0', 'ReleaseTime', 'StandardTail', 'Tarsus',\n",
    "             'WingPitFat', 'KeelFat', 'Crop', 'BandNumber', 'CaptureTime',\n",
    "             'Month', 'Day']\n",
    ").dropna(\n",
    ").query(  # Remove a few extreme values to make the charts easier to interpret\n",
    "    'Hallux < 40 & Species != \"RT\" & Weight < 1000'\n",
    ").rename(  # Make all columns start with lower case\n",
    "    columns=lambda x: x.lower()\n",
    ")\n",
    "\n",
    "hawks"
   ]
  },
  {
   "cell_type": "markdown",
   "id": "5025c4cf",
   "metadata": {
    "pycharm": {
     "name": "#%% md\n"
    }
   },
   "source": [
    "You can view a short description of the data frame columns in this table:\n",
    "\n",
    "| Column       | Description                                                                                      |\n",
    "|--------------|--------------------------------------------------------------------------------------------------|\n",
    "| year | Year of capture\n",
    "| species      | CH=Cooper's or SS=Sharp-Shinned                                                       |\n",
    "| age          | A=Adult or I=Imature                                                                             |\n",
    "| sex          | F=Female or M=Male                                                                               |\n",
    "| wing         | Length (in mm) of primary wing feather from tip to wrist it attaches to                          |\n",
    "| weight       | Body weight (in gm)                                                                              |\n",
    "| culmen       | Length (in mm) of the upper bill from the tip to where it bumps into the fleshy part of the bird |\n",
    "| hallux       | Length (in mm) of the killing talon                                                              |\n",
    "| tail         | Measurement (in mm) related to the length of the tail                                            |"
   ]
  },
  {
   "cell_type": "code",
   "execution_count": 3,
   "id": "cc882d67",
   "metadata": {
    "pycharm": {
     "name": "#%%\n"
    }
   },
   "outputs": [
    {
     "data": {
      "text/plain": [
       "RendererRegistry.enable('mimetype')"
      ]
     },
     "execution_count": 3,
     "metadata": {},
     "output_type": "execute_result"
    }
   ],
   "source": [
    "# Run this cell to ensure that altair plots show up on gradescope\n",
    "# We will talk more about what these lines do later in the course\n",
    "import altair as alt\n",
    "\n",
    "# Handle large data sets without embedding them in the notebook\n",
    "alt.data_transformers.enable('data_server')\n",
    "# Include an image for each plot since Gradescope only supports displaying plots as images\n",
    "alt.renderers.enable('mimetype')"
   ]
  },
  {
   "cell_type": "markdown",
   "id": "658887c7",
   "metadata": {
    "pycharm": {
     "name": "#%% md\n"
    },
    "tags": []
   },
   "source": [
    "### Question 1\n",
    "\n",
    "<div class=\"alert alert-info\" style=\"color:black\">\n",
    "\n",
    "Let's start by visualizing the distribution\n",
    "of the weight of the measured birds\n",
    "using a histogram.\n",
    "\n",
    "1. Create a histogram for the weight of all the hawks in the dataset\n",
    "   using the default number of bins.\n",
    "2. Write down your main observations from the histogram.\n",
    "    \n",
    "</div>\n",
    "\n",
    "_Points:_ 2"
   ]
  },
  {
   "cell_type": "markdown",
   "id": "1e01dc46",
   "metadata": {},
   "source": [
    "_Type your answer here, replacing this text._"
   ]
  },
  {
   "cell_type": "code",
   "execution_count": 4,
   "id": "a82dd298",
   "metadata": {
    "pycharm": {
     "name": "#%%\n"
    },
    "tags": []
   },
   "outputs": [
    {
     "data": {
      "application/vnd.vegalite.v4+json": {
       "$schema": "https://vega.github.io/schema/vega-lite/v4.17.0.json",
       "config": {
        "view": {
         "continuousHeight": 300,
         "continuousWidth": 400
        }
       },
       "data": {
        "url": "http://localhost:61056/93e6b02b627f6928c0aa2b2b0d403aa3.json"
       },
       "encoding": {
        "x": {
         "bin": true,
         "field": "weight",
         "type": "quantitative"
        },
        "y": {
         "aggregate": "count",
         "type": "quantitative"
        }
       },
       "mark": "bar"
      },
      "image/png": "[encoded data removed]",
      "text/plain": [
       "<VegaLite 4 object>\n",
       "\n",
       "If you see this message, it means the renderer has not been properly enabled\n",
       "for the frontend that you are using. For more information, see\n",
       "https://altair-viz.github.io/user_guide/troubleshooting.html\n"
      ]
     },
     "execution_count": 4,
     "metadata": {},
     "output_type": "execute_result"
    }
   ],
   "source": [
    "histogram = alt.Chart(hawks).mark_bar().encode(\n",
    "    alt.X('weight:Q', bin=True),\n",
    "    alt.Y('count()')\n",
    ")\n",
    "# Show the chart\n",
    "histogram"
   ]
  },
  {
   "cell_type": "code",
   "execution_count": 5,
   "id": "63b2a728",
   "metadata": {
    "deletable": false,
    "editable": false
   },
   "outputs": [
    {
     "data": {
      "text/html": [
       "<p><strong><pre style='display: inline;'>q1</pre></strong> passed! 🍀</p>"
      ],
      "text/plain": [
       "q1 results: All test cases passed!"
      ]
     },
     "execution_count": 5,
     "metadata": {},
     "output_type": "execute_result"
    }
   ],
   "source": [
    "grader.check(\"q1\")"
   ]
  },
  {
   "cell_type": "markdown",
   "id": "73d7c875-081d-4b38-b8f5-cc98cfa79618",
   "metadata": {},
   "source": [
    "Main observations:\n",
    "1. Most of the birds weigh less than 200.\n",
    "2. There are small amounts of birds weigh higher than 600."
   ]
  },
  {
   "cell_type": "markdown",
   "id": "eda47b75",
   "metadata": {
    "pycharm": {
     "name": "#%% md\n"
    },
    "tags": []
   },
   "source": [
    "### Question 2\n",
    "\n",
    "<div class=\"alert alert-info\" style=\"color:black\">\n",
    "    \n",
    "Let's explore the same distribution with a density plot instead of a histogram.\n",
    "\n",
    "1. Create a density plot for the distribution of the weight column.\n",
    "2. What are the main observations you take away from the density plot.\n",
    "   Are any of them different from the histogram? Why is that?\n",
    "    \n",
    "</div>\n",
    "\n",
    "_Points:_ 4"
   ]
  },
  {
   "cell_type": "markdown",
   "id": "10760a53",
   "metadata": {},
   "source": [
    "_Type your answer here, replacing this text._"
   ]
  },
  {
   "cell_type": "code",
   "execution_count": 6,
   "id": "91d0ca19",
   "metadata": {
    "pycharm": {
     "name": "#%%\n"
    },
    "tags": []
   },
   "outputs": [
    {
     "data": {
      "application/vnd.vegalite.v4+json": {
       "$schema": "https://vega.github.io/schema/vega-lite/v4.17.0.json",
       "config": {
        "view": {
         "continuousHeight": 300,
         "continuousWidth": 400
        }
       },
       "data": {
        "url": "http://localhost:61056/93e6b02b627f6928c0aa2b2b0d403aa3.json"
       },
       "encoding": {
        "x": {
         "field": "weight",
         "type": "quantitative"
        },
        "y": {
         "field": "density",
         "type": "quantitative"
        }
       },
       "mark": "area",
       "transform": [
        {
         "as": [
          "weight",
          "density"
         ],
         "density": "weight"
        }
       ]
      },
      "image/png": "[encoded data removed]",
      "text/plain": [
       "<VegaLite 4 object>\n",
       "\n",
       "If you see this message, it means the renderer has not been properly enabled\n",
       "for the frontend that you are using. For more information, see\n",
       "https://altair-viz.github.io/user_guide/troubleshooting.html\n"
      ]
     },
     "execution_count": 6,
     "metadata": {},
     "output_type": "execute_result"
    }
   ],
   "source": [
    "density = alt.Chart(hawks).mark_area().encode(\n",
    "    alt.X('weight:Q'),\n",
    "    alt.Y('density:Q')\n",
    ").transform_density(\n",
    "    'weight',\n",
    "    as_=['weight', 'density'],\n",
    ")\n",
    "# Show the plot\n",
    "density"
   ]
  },
  {
   "cell_type": "code",
   "execution_count": 7,
   "id": "5262fbcc",
   "metadata": {
    "deletable": false,
    "editable": false
   },
   "outputs": [
    {
     "data": {
      "text/html": [
       "<p><strong><pre style='display: inline;'>q2</pre></strong> passed! 🎉</p>"
      ],
      "text/plain": [
       "q2 results: All test cases passed!"
      ]
     },
     "execution_count": 7,
     "metadata": {},
     "output_type": "execute_result"
    }
   ],
   "source": [
    "grader.check(\"q2\")"
   ]
  },
  {
   "cell_type": "markdown",
   "id": "bbe4858e-9eff-4adb-837f-a296a9b04c1a",
   "metadata": {},
   "source": [
    "Main observations:\n",
    "1. Birds with weight around 100 and 200 respectively have a high density.\n",
    "2. The whole graph is skewed.\n",
    "\n",
    "Difference:\n",
    "- The density around 100 weight is higher than the counts around that weight in histogram.\n",
    "\n",
    "Reason:\n",
    "- The density starts from a very low value in [0, 100] and the density for each point in [100, 200] is higher than 0.004, so the total density from 0 to 100 is much lower than the density from 100 to 200. Therefore, even in the density graph we see that the density around 100 and 200 are almost at the same level, the counts in histogram graph are very different."
   ]
  },
  {
   "cell_type": "markdown",
   "id": "b629fe89",
   "metadata": {
    "pycharm": {
     "name": "#%% md\n"
    },
    "tags": []
   },
   "source": [
    "### Question 3\n",
    "\n",
    "<div class=\"alert alert-info\" style=\"color:black\">\n",
    "\n",
    "Experiment with different number of bins in the histogram from question 1,\n",
    "until you have a histogram \n",
    "that delivers a similar take home message\n",
    "as the density plot.\n",
    "\n",
    "</div>\n",
    "\n",
    "_Points:_ 6"
   ]
  },
  {
   "cell_type": "code",
   "execution_count": 8,
   "id": "49480c01",
   "metadata": {
    "pycharm": {
     "name": "#%%\n"
    },
    "tags": []
   },
   "outputs": [
    {
     "data": {
      "application/vnd.vegalite.v4+json": {
       "$schema": "https://vega.github.io/schema/vega-lite/v4.17.0.json",
       "config": {
        "view": {
         "continuousHeight": 300,
         "continuousWidth": 400
        }
       },
       "data": {
        "url": "http://localhost:61056/93e6b02b627f6928c0aa2b2b0d403aa3.json"
       },
       "encoding": {
        "x": {
         "bin": {
          "maxbins": 35
         },
         "field": "weight",
         "type": "quantitative"
        },
        "y": {
         "aggregate": "count",
         "type": "quantitative"
        }
       },
       "mark": "bar"
      },
      "image/png": "[encoded data removed]",
      "text/plain": [
       "<VegaLite 4 object>\n",
       "\n",
       "If you see this message, it means the renderer has not been properly enabled\n",
       "for the frontend that you are using. For more information, see\n",
       "https://altair-viz.github.io/user_guide/troubleshooting.html\n"
      ]
     },
     "execution_count": 8,
     "metadata": {},
     "output_type": "execute_result"
    }
   ],
   "source": [
    "histogram_custom_bins = alt.Chart(hawks).mark_bar().encode(\n",
    "    alt.X('weight:Q', bin=alt.BinParams(maxbins=35)),\n",
    "    alt.Y('count()')\n",
    ")\n",
    "# Show the plot\n",
    "histogram_custom_bins"
   ]
  },
  {
   "cell_type": "code",
   "execution_count": 9,
   "id": "02f327d6",
   "metadata": {
    "deletable": false,
    "editable": false
   },
   "outputs": [
    {
     "data": {
      "text/html": [
       "<p><strong><pre style='display: inline;'>q3</pre></strong> passed! 🚀</p>"
      ],
      "text/plain": [
       "q3 results: All test cases passed!"
      ]
     },
     "execution_count": 9,
     "metadata": {},
     "output_type": "execute_result"
    }
   ],
   "source": [
    "grader.check(\"q3\")"
   ]
  },
  {
   "cell_type": "markdown",
   "id": "15d3bdbe",
   "metadata": {
    "pycharm": {
     "name": "#%% md\n"
    },
    "tags": []
   },
   "source": [
    "### Question 4\n",
    "\n",
    "<div class=\"alert alert-info\" style=\"color:black\">\n",
    "\n",
    "In our density plot above,\n",
    "we can see that there are 3-4 peaks in the distribution.\n",
    "This is often an indication that there are subgroups within our data.\n",
    "We could possibly identify some of these subgroups\n",
    "by dividing the data according to its categorical variables.\n",
    "\n",
    "Explore the data to find a categorical variable that can explain the two major sections in the data,\n",
    "   one around 50-250 (that has the first two peaks) and one around 250-400 (that has the smaller peaks).\n",
    "   Use this variable to creat a faceted chart that contains a single column of vertically stacked plots.\n",
    "\n",
    "</div>\n",
    "\n",
    "_Points:_ 6"
   ]
  },
  {
   "cell_type": "code",
   "execution_count": 10,
   "id": "663bc1ef",
   "metadata": {
    "pycharm": {
     "name": "#%%\n"
    },
    "tags": []
   },
   "outputs": [
    {
     "data": {
      "application/vnd.vegalite.v4+json": {
       "$schema": "https://vega.github.io/schema/vega-lite/v4.17.0.json",
       "columns": 1,
       "config": {
        "view": {
         "continuousHeight": 300,
         "continuousWidth": 400
        }
       },
       "data": {
        "url": "http://localhost:61056/93e6b02b627f6928c0aa2b2b0d403aa3.json"
       },
       "facet": {
        "field": "species",
        "type": "nominal"
       },
       "spec": {
        "encoding": {
         "x": {
          "field": "weight",
          "type": "quantitative"
         },
         "y": {
          "field": "density",
          "type": "quantitative"
         }
        },
        "mark": "area",
        "transform": [
         {
          "as": [
           "weight",
           "density"
          ],
          "density": "weight",
          "groupby": [
           "species"
          ]
         }
        ]
       }
      },
      "image/png": "[encoded data removed]",
      "text/plain": [
       "<VegaLite 4 object>\n",
       "\n",
       "If you see this message, it means the renderer has not been properly enabled\n",
       "for the frontend that you are using. For more information, see\n",
       "https://altair-viz.github.io/user_guide/troubleshooting.html\n"
      ]
     },
     "execution_count": 10,
     "metadata": {},
     "output_type": "execute_result"
    }
   ],
   "source": [
    "density_facets = alt.Chart(hawks).mark_area().encode(\n",
    "    alt.X('weight:Q'),\n",
    "    alt.Y('density:Q')\n",
    ").transform_density(\n",
    "    'weight',\n",
    "    groupby=['species'],\n",
    "    as_=['weight', 'density']\n",
    ").facet(\n",
    "    'species:N',\n",
    "    columns=1\n",
    ")\n",
    "# Show the plot\n",
    "density_facets"
   ]
  },
  {
   "cell_type": "code",
   "execution_count": 11,
   "id": "d46adeab",
   "metadata": {
    "deletable": false,
    "editable": false
   },
   "outputs": [
    {
     "data": {
      "text/html": [
       "<p><strong><pre style='display: inline;'>q4</pre></strong> passed! 🌈</p>"
      ],
      "text/plain": [
       "q4 results: All test cases passed!"
      ]
     },
     "execution_count": 11,
     "metadata": {},
     "output_type": "execute_result"
    }
   ],
   "source": [
    "grader.check(\"q4\")"
   ]
  },
  {
   "cell_type": "markdown",
   "id": "95cd2313",
   "metadata": {
    "pycharm": {
     "name": "#%% md\n"
    },
    "tags": []
   },
   "source": [
    "### Question 5\n",
    "\n",
    "<div class=\"alert alert-info\" style=\"color:black\">\n",
    "\n",
    "The faceting helped to distinguish the major peaks in the distribution of hawk weights,\n",
    "but it seems like there are still two small peaks within each of the faceted plots!\n",
    "\n",
    "Explore the remaining categorical variables by encoding them in the color channel\n",
    "   and see if you can find one that corresponds to the minor peaks.\n",
    "\n",
    "</div>\n",
    "\n",
    "_Points:_ 8"
   ]
  },
  {
   "cell_type": "code",
   "execution_count": 12,
   "id": "9d7b0b63",
   "metadata": {
    "pycharm": {
     "name": "#%%\n"
    },
    "tags": []
   },
   "outputs": [
    {
     "data": {
      "application/vnd.vegalite.v4+json": {
       "$schema": "https://vega.github.io/schema/vega-lite/v4.17.0.json",
       "columns": 1,
       "config": {
        "view": {
         "continuousHeight": 300,
         "continuousWidth": 400
        }
       },
       "data": {
        "url": "http://localhost:61056/93e6b02b627f6928c0aa2b2b0d403aa3.json"
       },
       "facet": {
        "field": "species",
        "type": "nominal"
       },
       "spec": {
        "encoding": {
         "color": {
          "field": "sex",
          "type": "nominal"
         },
         "x": {
          "field": "weight",
          "type": "quantitative"
         },
         "y": {
          "field": "density",
          "type": "quantitative"
         }
        },
        "mark": "area",
        "transform": [
         {
          "as": [
           "weight",
           "density"
          ],
          "density": "weight",
          "groupby": [
           "species",
           "sex"
          ]
         }
        ]
       }
      },
      "image/png": "[encoded data removed]",
      "text/plain": [
       "<VegaLite 4 object>\n",
       "\n",
       "If you see this message, it means the renderer has not been properly enabled\n",
       "for the frontend that you are using. For more information, see\n",
       "https://altair-viz.github.io/user_guide/troubleshooting.html\n"
      ]
     },
     "execution_count": 12,
     "metadata": {},
     "output_type": "execute_result"
    }
   ],
   "source": [
    "density_facets_color = alt.Chart(hawks).mark_area().encode(\n",
    "    alt.X('weight:Q'),\n",
    "    alt.Y('density:Q'),\n",
    "    alt.Color('sex:N')\n",
    ").transform_density(\n",
    "    'weight',\n",
    "    groupby=['species', 'sex'],\n",
    "    as_=['weight', 'density']\n",
    ").facet(\n",
    "    'species:N',\n",
    "    columns=1\n",
    ")\n",
    "# Show the plot\n",
    "density_facets_color"
   ]
  },
  {
   "cell_type": "code",
   "execution_count": 13,
   "id": "7bcb0c26",
   "metadata": {
    "deletable": false,
    "editable": false
   },
   "outputs": [
    {
     "data": {
      "text/html": [
       "<p><strong><pre style='display: inline;'>q5</pre></strong> passed! 💯</p>"
      ],
      "text/plain": [
       "q5 results: All test cases passed!"
      ]
     },
     "execution_count": 13,
     "metadata": {},
     "output_type": "execute_result"
    }
   ],
   "source": [
    "grader.check(\"q5\")"
   ]
  },
  {
   "cell_type": "markdown",
   "id": "38e43c3a",
   "metadata": {
    "pycharm": {
     "name": "#%% md\n"
    },
    "tags": []
   },
   "source": [
    "### Question 6\n",
    "\n",
    "<div class=\"alert alert-info\" style=\"color:black\">\n",
    "\n",
    "1. Create a faceted box plot (in a single column) to compare the same subgroups as in the question above.\n",
    "2. Write down which advantages and disadvantages does the boxplot has compared to the density plot?\n",
    "\n",
    "</div>\n",
    "\n",
    "_Points:_ 6"
   ]
  },
  {
   "cell_type": "markdown",
   "id": "9dc1a6b2",
   "metadata": {},
   "source": [
    "_Type your answer here, replacing this text._"
   ]
  },
  {
   "cell_type": "code",
   "execution_count": 14,
   "id": "eb2f5eda",
   "metadata": {
    "pycharm": {
     "name": "#%%\n"
    },
    "tags": []
   },
   "outputs": [
    {
     "data": {
      "application/vnd.vegalite.v4+json": {
       "$schema": "https://vega.github.io/schema/vega-lite/v4.17.0.json",
       "columns": 1,
       "config": {
        "view": {
         "continuousHeight": 300,
         "continuousWidth": 400
        }
       },
       "data": {
        "url": "http://localhost:61056/93e6b02b627f6928c0aa2b2b0d403aa3.json"
       },
       "facet": {
        "field": "species",
        "type": "nominal"
       },
       "spec": {
        "encoding": {
         "color": {
          "field": "sex",
          "type": "nominal"
         },
         "x": {
          "field": "weight",
          "type": "quantitative"
         },
         "y": {
          "field": "sex",
          "type": "nominal"
         }
        },
        "mark": "boxplot"
       }
      },
      "image/png": "[encoded data removed]",
      "text/plain": [
       "<VegaLite 4 object>\n",
       "\n",
       "If you see this message, it means the renderer has not been properly enabled\n",
       "for the frontend that you are using. For more information, see\n",
       "https://altair-viz.github.io/user_guide/troubleshooting.html\n"
      ]
     },
     "execution_count": 14,
     "metadata": {},
     "output_type": "execute_result"
    }
   ],
   "source": [
    "boxplot = alt.Chart(hawks).mark_boxplot().encode(\n",
    "    alt.X('weight:Q'),\n",
    "    alt.Y('sex:N'),\n",
    "    alt.Color('sex:N')\n",
    ").facet(\n",
    "    'species:N',\n",
    "    columns=1\n",
    ")\n",
    "# Show the plot\n",
    "boxplot"
   ]
  },
  {
   "cell_type": "code",
   "execution_count": 15,
   "id": "4a97814f",
   "metadata": {
    "deletable": false,
    "editable": false
   },
   "outputs": [
    {
     "data": {
      "text/html": [
       "<p><strong><pre style='display: inline;'>q6</pre></strong> passed! 🌈</p>"
      ],
      "text/plain": [
       "q6 results: All test cases passed!"
      ]
     },
     "execution_count": 15,
     "metadata": {},
     "output_type": "execute_result"
    }
   ],
   "source": [
    "grader.check(\"q6\")"
   ]
  },
  {
   "cell_type": "markdown",
   "id": "038bb0c4-d830-42e8-b4fb-7cc40b0bb75f",
   "metadata": {},
   "source": [
    "Advantages:\n",
    "1. Boxplot can help deal with the outliers.\n",
    "2. Boxplot can tell how the data spreads out.\n",
    "3. Boxplot takes up less space.\n",
    "\n",
    "Disadvantages:\n",
    "1. Boxplot cannot show the peak values.\n",
    "2. Boxplot cannot determine the shape of distribution."
   ]
  },
  {
   "cell_type": "code",
   "execution_count": null,
   "id": "91cdcfa2-0797-4f4b-bb53-c2163e1f9be1",
   "metadata": {},
   "outputs": [],
   "source": []
  }
 ],
 "metadata": {
  "kernelspec": {
   "display_name": "dsci320",
   "language": "python",
   "name": "dsci320"
  },
  "language_info": {
   "codemirror_mode": {
    "name": "ipython",
    "version": 3
   },
   "file_extension": ".py",
   "mimetype": "text/x-python",
   "name": "python",
   "nbconvert_exporter": "python",
   "pygments_lexer": "ipython3",
   "version": "3.9.15"
  },
  "otter": {
   "OK_FORMAT": true,
   "tests": {
    "q1": {
     "name": "q1",
     "points": 2,
     "suites": [
      {
       "cases": [
        {
         "code": ">>> assert histogram is not None\n>>> assert isinstance(histogram, alt.Chart)\n",
         "failure_message": "Some of your variables have an unexpected name or type.",
         "hidden": false,
         "locked": false,
         "points": 0
        },
        {
         "code": ">>> assert histogram.to_dict()['mark'] == 'bar'\n",
         "failure_message": "Make sure you are using the correct mark type.",
         "hidden": false,
         "locked": false
        },
        {
         "code": ">>> assert histogram.to_dict()['encoding']['y']['aggregate'] == 'count'\n",
         "failure_message": "The wrong dataframe column is used for the y channel.",
         "hidden": false,
         "locked": false
        },
        {
         "code": ">>> assert histogram.to_dict()['encoding']['x']['field'] == 'weight'\n",
         "failure_message": "The wrong dataframe column is used for the x channel.",
         "hidden": false,
         "locked": false
        },
        {
         "code": ">>> assert histogram.to_dict()['encoding']['x']['bin']\n",
         "failure_message": "The x channel is not binned correctly.",
         "hidden": false,
         "locked": false
        }
       ],
       "scored": true,
       "setup": "",
       "teardown": "",
       "type": "doctest"
      }
     ]
    },
    "q2": {
     "name": "q2",
     "points": 4,
     "suites": [
      {
       "cases": [
        {
         "code": ">>> assert density is not None\n>>> assert isinstance(density, alt.Chart)\n",
         "failure_message": "Some of your variables have an unexpected name or type.",
         "hidden": false,
         "locked": false,
         "points": 0
        },
        {
         "code": ">>> assert density.to_dict()['mark'] == 'area'\n",
         "failure_message": "Make sure you are using the correct mark type.",
         "hidden": false,
         "locked": false
        },
        {
         "code": ">>> assert density.to_dict()['encoding']['y']['field'] == 'density'\n",
         "failure_message": "The wrong dataframe column is used for the y channel.",
         "hidden": false,
         "locked": false
        },
        {
         "code": ">>> assert density.to_dict()['encoding']['x']['field'] == 'weight'\n",
         "failure_message": "The wrong dataframe column is used for the x channel.",
         "hidden": false,
         "locked": false
        },
        {
         "code": ">>> assert density.to_dict()['transform'][0]['density'] == 'weight'\n>>> assert density.to_dict()['transform'][0]['as'] == ['weight', 'density']\n",
         "failure_message": "The density transform is not set up correctly.",
         "hidden": false,
         "locked": false
        }
       ],
       "scored": true,
       "setup": "",
       "teardown": "",
       "type": "doctest"
      }
     ]
    },
    "q3": {
     "name": "q3",
     "points": 6,
     "suites": [
      {
       "cases": [
        {
         "code": ">>> assert histogram_custom_bins is not None\n>>> assert isinstance(histogram_custom_bins, alt.Chart)\n",
         "failure_message": "Some of your variables have an unexpected name or type.",
         "hidden": false,
         "locked": false,
         "points": 0
        },
        {
         "code": ">>> assert histogram_custom_bins.to_dict()['mark'] == 'bar'\n",
         "failure_message": "Make sure you are using the correct mark type.",
         "hidden": false,
         "locked": false
        },
        {
         "code": ">>> assert histogram_custom_bins.to_dict()['encoding']['y']['aggregate'] == 'count'\n",
         "failure_message": "The wrong dataframe column is used for the y channel.",
         "hidden": false,
         "locked": false
        },
        {
         "code": ">>> assert histogram_custom_bins.to_dict()['encoding']['x']['field'] == 'weight'\n",
         "failure_message": "The wrong dataframe column is used for the x channel.",
         "hidden": false,
         "locked": false
        }
       ],
       "scored": true,
       "setup": "",
       "teardown": "",
       "type": "doctest"
      }
     ]
    },
    "q4": {
     "name": "q4",
     "points": 6,
     "suites": [
      {
       "cases": [
        {
         "code": ">>> assert density_facets is not None\n>>> assert isinstance(density_facets, alt.FacetChart)\n",
         "failure_message": "Some of your variables have an unexpected name or type.",
         "hidden": false,
         "locked": false,
         "points": 0
        },
        {
         "code": ">>> assert density_facets.to_dict()['spec']['mark'] == 'area'\n",
         "failure_message": "Make sure you are using the correct mark type.",
         "hidden": false,
         "locked": false
        },
        {
         "code": ">>> assert density_facets.to_dict()['spec']['encoding']['y']['field'] == 'density'\n",
         "failure_message": "The wrong dataframe column is used for the y channel.",
         "hidden": false,
         "locked": false
        },
        {
         "code": ">>> assert density_facets.to_dict()['spec']['encoding']['x']['field'] == 'weight'\n",
         "failure_message": "The wrong dataframe column is used for the x channel.",
         "hidden": false,
         "locked": false
        },
        {
         "code": ">>> assert density_facets.to_dict()['spec']['transform'][0]['density'] == 'weight'\n>>> assert density_facets.to_dict()['spec']['transform'][0]['as'] == ['weight', 'density']\n",
         "failure_message": "The density transform is not set up correctly.",
         "hidden": false,
         "locked": false
        },
        {
         "code": ">>> assert density_facets.to_dict()['columns'] == 1\n",
         "failure_message": "The faceted plot should be laid out vertically in a single column.",
         "hidden": false,
         "locked": false
        }
       ],
       "scored": true,
       "setup": "",
       "teardown": "",
       "type": "doctest"
      }
     ]
    },
    "q5": {
     "name": "q5",
     "points": 8,
     "suites": [
      {
       "cases": [
        {
         "code": ">>> assert density_facets_color is not None\n>>> assert isinstance(density_facets_color, alt.FacetChart)\n",
         "failure_message": "Some of your variables have an unexpected name or type.",
         "hidden": false,
         "locked": false,
         "points": 0
        },
        {
         "code": ">>> assert density_facets_color.to_dict()['spec']['mark'] == 'area'\n",
         "failure_message": "Make sure you are using the correct mark type.",
         "hidden": false,
         "locked": false
        },
        {
         "code": ">>> assert density_facets_color.to_dict()['spec']['encoding']['y']['field'] == 'density'\n",
         "failure_message": "The wrong dataframe column is used for the y channel.",
         "hidden": false,
         "locked": false
        },
        {
         "code": ">>> assert density_facets_color.to_dict()['spec']['encoding']['x']['field'] == 'weight'\n",
         "failure_message": "The wrong dataframe column is used for the x channel.",
         "hidden": false,
         "locked": false
        },
        {
         "code": ">>> assert density_facets_color.to_dict()['spec']['transform'][0]['density'] == 'weight'\n>>> assert density_facets_color.to_dict()['spec']['transform'][0]['as'] == ['weight', 'density']\n",
         "failure_message": "The density transform is not set up correctly.",
         "hidden": false,
         "locked": false
        },
        {
         "code": ">>> assert density_facets_color.to_dict()['columns'] == 1\n",
         "failure_message": "The faceted plot should be layed out vertically in a single column.",
         "hidden": false,
         "locked": false
        },
        {
         "code": ">>> assert density_facets_color.to_dict()['spec']['encoding']['color']['field'] == 'sex'\n",
         "failure_message": "The wrong dataframe column is used for the color channel.",
         "hidden": false,
         "locked": false
        }
       ],
       "scored": true,
       "setup": "",
       "teardown": "",
       "type": "doctest"
      }
     ]
    },
    "q6": {
     "name": "q6",
     "points": 6,
     "suites": [
      {
       "cases": [
        {
         "code": ">>> assert boxplot is not None\n>>> #assert isinstance(boxplot, alt.FacetChart)\n",
         "failure_message": "Some of your variables have an unexpected name or type.",
         "hidden": false,
         "locked": false,
         "points": 0
        },
        {
         "code": ">>> if 'spec' in boxplot.to_dict():\n...     assert boxplot.to_dict()['spec']['mark'] == 'boxplot'\n... elif 'mark' in boxplot.to_dict():\n...     assert boxplot.to_dict()['mark'] == 'boxplot'\n",
         "failure_message": "Make sure you are using the correct mark type.",
         "hidden": false,
         "locked": false
        },
        {
         "code": ">>> if 'spec' in boxplot.to_dict():\n...     assert boxplot.to_dict()['spec']['encoding']['x']['field'] == 'weight'\n... elif 'encoding' in boxplot.to_dict():\n...     assert boxplot.to_dict()['encoding']['x']['field'] == 'weight'\n",
         "failure_message": "The wrong dataframe column is used for the x channel.",
         "hidden": false,
         "locked": false
        },
        {
         "code": ">>> if 'columns' in boxplot.to_dict():\n...     assert boxplot.to_dict()['columns'] == 1\n... elif 'facet' in boxplot.to_dict()['encoding']:\n...     assert boxplot.to_dict()['encoding']['facet']['columns'] == 1\n... elif 'row' in boxplot.to_dict()['encoding']:\n...     assert True\n... else:\n...     assert False\n",
         "failure_message": "The faceted plot should be layed out vertically in a single column.",
         "hidden": false,
         "locked": false
        }
       ],
       "scored": true,
       "setup": "",
       "teardown": "",
       "type": "doctest"
      }
     ]
    }
   }
  }
 },
 "nbformat": 4,
 "nbformat_minor": 5
}
