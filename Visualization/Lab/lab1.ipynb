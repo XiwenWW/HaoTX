{
 "cells": [
  {
   "cell_type": "code",
   "execution_count": 1,
   "id": "3005df80",
   "metadata": {
    "deletable": false,
    "editable": false,
    "pycharm": {
     "name": "#%%\n"
    }
   },
   "outputs": [],
   "source": [
    "# Initialize Otter\n",
    "import otter\n",
    "grader = otter.Notebook(\"lab1.ipynb\")"
   ]
  },
  {
   "cell_type": "markdown",
   "id": "0374e04f",
   "metadata": {
    "pycharm": {
     "name": "#%% md\n"
    }
   },
   "source": [
    "# Scatter charts"
   ]
  },
  {
   "cell_type": "markdown",
   "id": "f78dc47a",
   "metadata": {
    "pycharm": {
     "name": "#%% md\n"
    }
   },
   "source": [
    "## The Gapminder bubble chart\n",
    "\n",
    "The \"bubble chart\" have become quite famous from their appearance in the Gapminder talks,\n",
    "and are widely used in other areas as well.\n",
    "Let's start by recreating a simple version of this chart ourselves!\n",
    "\n",
    "There will be some data wrangling involved in this lab,\n",
    "and since 320 is primarily about visualization and this is the first lab,\n",
    "I will give you some hints for most data wrangling parts of this lab.\n",
    "Often I will link documentation or StackOverflow,\n",
    "so that you get practice finding information on these sources,\n",
    "and sometimes you will need to search them yourself if I haven't included a link.\n",
    "\n",
    "To make this more interesting,\n",
    "I have compiled a more recent version of the Gapminder dataset,\n",
    "which contains values up until 2018 for most of the features.\n",
    "We will not use all the columns in the data set,\n",
    "but here is a description of what they contain\n",
    "that you can refer back to throughout the lab.\n",
    "\n",
    "| Column                | Description                                                                                  |\n",
    "|-----------------------|----------------------------------------------------------------------------------------------|\n",
    "| country               | Country name                                                                                 |\n",
    "| year                  | Year of observation                                                                          |\n",
    "| population            | Population in the country at each year                                                       |\n",
    "| region                | Continent the country belongs to                                                             |\n",
    "| sub_region            | Sub-region the country belongs to                                                            |\n",
    "| income_group          | Income group [as specified by the world bank in 2018]                                                |\n",
    "| life_expectancy       | The mean number of years a newborn would <br>live if mortality patterns remained constant    |\n",
    "| income                | GDP per capita (in USD) <em>adjusted <br>for differences in purchasing power</em>            |\n",
    "| children_per_woman    | Average number of children born per woman                                                    |\n",
    "| child_mortality       | Deaths of children under 5 years <break>of age per 1000 live births                          |\n",
    "| pop_density           | Average number of people per km<sup>2</sup>                                                  |\n",
    "| co2_per_capita        | CO2 emissions from fossil fuels (tonnes per capita)                                          |\n",
    "| years_in_school_men   | Mean number of years in primary, secondary,<br>and tertiary school for 25-36 years old men   |\n",
    "| years_in_school_women | Mean number of years in primary, secondary,<br>and tertiary school for 25-36 years old women |\n",
    "\n",
    "[as specified by the world bank in 2018]: https://datahelpdesk.worldbank.org/knowledgebase/articles/378833-how-are-the-income-group-thresholds-determined"
   ]
  },
  {
   "cell_type": "code",
   "execution_count": 2,
   "id": "c255e409",
   "metadata": {
    "pycharm": {
     "name": "#%%\n"
    }
   },
   "outputs": [
    {
     "data": {
      "text/plain": [
       "RendererRegistry.enable('mimetype')"
      ]
     },
     "execution_count": 2,
     "metadata": {},
     "output_type": "execute_result"
    }
   ],
   "source": [
    "# Run this cell to ensure that altair plots show up on gradescope\n",
    "# We will talk more about what these lines do later in the course\n",
    "import altair as alt\n",
    "\n",
    "# Handle large data sets without embedding them in the notebook\n",
    "alt.data_transformers.enable('data_server')\n",
    "# Include an image for each plot since Gradescope only supports displaying plots as images\n",
    "alt.renderers.enable('mimetype')"
   ]
  },
  {
   "cell_type": "markdown",
   "id": "7e23239a",
   "metadata": {
    "pycharm": {
     "name": "#%% md\n"
    }
   },
   "source": [
    "### Question 1\n",
    "\n",
    "<div class=\"alert alert-info\" style=\"color:black\">\n",
    "\n",
    "We have uploaded the <a href=https://raw.githubusercontent.com/UofTCoders/workshops-dc-py/master/data/processed/world-data-gapminder.csv> 2018 Gapminder data at this URL.</a> Use <code>read_csv</code> from <code>pandas</code> to load the data directly from the URL and assign it a suitable variable name. Set the <code>parse_dates</code> parameter to <code>['year']</code> to ensure that Altair recognizes this columns as time data.\n",
    "\n",
    "After loading in the data,\n",
    "identify what data type each column contains\n",
    "and how many non-NA values there are in each column.\n",
    "</div>\n",
    "\n",
    "_Points:_ 2"
   ]
  },
  {
   "cell_type": "code",
   "execution_count": 3,
   "id": "3d7ea61f",
   "metadata": {
    "pycharm": {
     "name": "#%%\n"
    },
    "tags": []
   },
   "outputs": [
    {
     "name": "stdout",
     "output_type": "stream",
     "text": [
      "<class 'pandas.core.frame.DataFrame'>\n",
      "RangeIndex: 38982 entries, 0 to 38981\n",
      "Data columns (total 14 columns):\n",
      " #   Column                 Non-Null Count  Dtype         \n",
      "---  ------                 --------------  -----         \n",
      " 0   country                38982 non-null  object        \n",
      " 1   year                   38982 non-null  datetime64[ns]\n",
      " 2   population             38982 non-null  int64         \n",
      " 3   region                 38982 non-null  object        \n",
      " 4   sub_region             38982 non-null  object        \n",
      " 5   income_group           38982 non-null  object        \n",
      " 6   life_expectancy        38982 non-null  float64       \n",
      " 7   income                 38982 non-null  int64         \n",
      " 8   children_per_woman     38982 non-null  float64       \n",
      " 9   child_mortality        38980 non-null  float64       \n",
      " 10  pop_density            12282 non-null  float64       \n",
      " 11  co2_per_capita         16285 non-null  float64       \n",
      " 12  years_in_school_men    8188 non-null   float64       \n",
      " 13  years_in_school_women  8188 non-null   float64       \n",
      "dtypes: datetime64[ns](1), float64(7), int64(2), object(4)\n",
      "memory usage: 4.2+ MB\n"
     ]
    }
   ],
   "source": [
    "import pandas as pd\n",
    "\n",
    "url = \"https://raw.githubusercontent.com/UofTCoders/workshops-dc-py/master/data/processed/world-data-gapminder.csv\"\n",
    "# Read in the data using pandas\n",
    "gm = pd.read_csv(url, parse_dates = ['year'])\n",
    "\n",
    "# Identify a single method in pandas to print out the column names, their data types, and count of non-NA values\n",
    "gm.info()"
   ]
  },
  {
   "cell_type": "code",
   "execution_count": 4,
   "id": "32d66718",
   "metadata": {
    "deletable": false,
    "editable": false,
    "pycharm": {
     "name": "#%%\n"
    }
   },
   "outputs": [
    {
     "data": {
      "text/html": [
       "<p><strong><pre style='display: inline;'>q1</pre></strong> passed! 🍀</p><p><strong><pre style='display: inline;'>q1 - 2</pre> message:</strong> All your variables have the expected name and type</p>"
      ],
      "text/plain": [
       "q1 results: All test cases passed!\n",
       "q1 - 2 message: All your variables have the expected name and type"
      ]
     },
     "execution_count": 4,
     "metadata": {},
     "output_type": "execute_result"
    }
   ],
   "source": [
    "grader.check(\"q1\")"
   ]
  },
  {
   "cell_type": "markdown",
   "id": "12f7b2ac",
   "metadata": {
    "pycharm": {
     "name": "#%% md\n"
    },
    "tags": []
   },
   "source": [
    "### Question 2\n",
    "\n",
    "<div class=\"alert alert-info\" style=\"color:black\">\n",
    "\n",
    "Filter the dataframe to only keep observations from a single year, 1982 and assigned this to a new variable name `gm_1982`. Dates can be matched as strings when filtering.\n",
    "\n",
    "</div>\n",
    "\n",
    "_Points:_ 1"
   ]
  },
  {
   "cell_type": "code",
   "execution_count": 5,
   "id": "714bc2fb",
   "metadata": {
    "pycharm": {
     "name": "#%%\n"
    },
    "tags": []
   },
   "outputs": [
    {
     "data": {
      "text/html": [
       "<div>\n",
       "<style scoped>\n",
       "    .dataframe tbody tr th:only-of-type {\n",
       "        vertical-align: middle;\n",
       "    }\n",
       "\n",
       "    .dataframe tbody tr th {\n",
       "        vertical-align: top;\n",
       "    }\n",
       "\n",
       "    .dataframe thead th {\n",
       "        text-align: right;\n",
       "    }\n",
       "</style>\n",
       "<table border=\"1\" class=\"dataframe\">\n",
       "  <thead>\n",
       "    <tr style=\"text-align: right;\">\n",
       "      <th></th>\n",
       "      <th>country</th>\n",
       "      <th>year</th>\n",
       "      <th>population</th>\n",
       "      <th>region</th>\n",
       "      <th>sub_region</th>\n",
       "      <th>income_group</th>\n",
       "      <th>life_expectancy</th>\n",
       "      <th>income</th>\n",
       "      <th>children_per_woman</th>\n",
       "      <th>child_mortality</th>\n",
       "      <th>pop_density</th>\n",
       "      <th>co2_per_capita</th>\n",
       "      <th>years_in_school_men</th>\n",
       "      <th>years_in_school_women</th>\n",
       "    </tr>\n",
       "  </thead>\n",
       "  <tbody>\n",
       "    <tr>\n",
       "      <th>182</th>\n",
       "      <td>Afghanistan</td>\n",
       "      <td>1982-01-01</td>\n",
       "      <td>12700000</td>\n",
       "      <td>Asia</td>\n",
       "      <td>Southern Asia</td>\n",
       "      <td>Low</td>\n",
       "      <td>43.8</td>\n",
       "      <td>1410</td>\n",
       "      <td>7.45</td>\n",
       "      <td>232.0</td>\n",
       "      <td>19.50</td>\n",
       "      <td>0.165</td>\n",
       "      <td>1.85</td>\n",
       "      <td>0.32</td>\n",
       "    </tr>\n",
       "    <tr>\n",
       "      <th>401</th>\n",
       "      <td>Albania</td>\n",
       "      <td>1982-01-01</td>\n",
       "      <td>2790000</td>\n",
       "      <td>Europe</td>\n",
       "      <td>Southern Europe</td>\n",
       "      <td>Upper middle</td>\n",
       "      <td>72.5</td>\n",
       "      <td>4410</td>\n",
       "      <td>3.45</td>\n",
       "      <td>66.8</td>\n",
       "      <td>102.00</td>\n",
       "      <td>2.620</td>\n",
       "      <td>7.59</td>\n",
       "      <td>7.04</td>\n",
       "    </tr>\n",
       "    <tr>\n",
       "      <th>620</th>\n",
       "      <td>Algeria</td>\n",
       "      <td>1982-01-01</td>\n",
       "      <td>20600000</td>\n",
       "      <td>Africa</td>\n",
       "      <td>Northern Africa</td>\n",
       "      <td>Upper middle</td>\n",
       "      <td>64.4</td>\n",
       "      <td>10600</td>\n",
       "      <td>6.43</td>\n",
       "      <td>117.0</td>\n",
       "      <td>8.64</td>\n",
       "      <td>1.910</td>\n",
       "      <td>3.72</td>\n",
       "      <td>3.36</td>\n",
       "    </tr>\n",
       "    <tr>\n",
       "      <th>839</th>\n",
       "      <td>Angola</td>\n",
       "      <td>1982-01-01</td>\n",
       "      <td>9580000</td>\n",
       "      <td>Africa</td>\n",
       "      <td>Sub-Saharan Africa</td>\n",
       "      <td>Lower middle</td>\n",
       "      <td>50.0</td>\n",
       "      <td>4110</td>\n",
       "      <td>7.44</td>\n",
       "      <td>231.0</td>\n",
       "      <td>7.69</td>\n",
       "      <td>0.485</td>\n",
       "      <td>3.67</td>\n",
       "      <td>2.06</td>\n",
       "    </tr>\n",
       "    <tr>\n",
       "      <th>1058</th>\n",
       "      <td>Antigua and Barbuda</td>\n",
       "      <td>1982-01-01</td>\n",
       "      <td>72400</td>\n",
       "      <td>Americas</td>\n",
       "      <td>Latin America and the Caribbean</td>\n",
       "      <td>High</td>\n",
       "      <td>71.5</td>\n",
       "      <td>8470</td>\n",
       "      <td>2.10</td>\n",
       "      <td>39.7</td>\n",
       "      <td>165.00</td>\n",
       "      <td>4.050</td>\n",
       "      <td>8.69</td>\n",
       "      <td>9.25</td>\n",
       "    </tr>\n",
       "    <tr>\n",
       "      <th>...</th>\n",
       "      <td>...</td>\n",
       "      <td>...</td>\n",
       "      <td>...</td>\n",
       "      <td>...</td>\n",
       "      <td>...</td>\n",
       "      <td>...</td>\n",
       "      <td>...</td>\n",
       "      <td>...</td>\n",
       "      <td>...</td>\n",
       "      <td>...</td>\n",
       "      <td>...</td>\n",
       "      <td>...</td>\n",
       "      <td>...</td>\n",
       "      <td>...</td>\n",
       "    </tr>\n",
       "    <tr>\n",
       "      <th>38069</th>\n",
       "      <td>Venezuela</td>\n",
       "      <td>1982-01-01</td>\n",
       "      <td>16200000</td>\n",
       "      <td>Americas</td>\n",
       "      <td>Latin America and the Caribbean</td>\n",
       "      <td>Upper middle</td>\n",
       "      <td>70.6</td>\n",
       "      <td>16600</td>\n",
       "      <td>4.01</td>\n",
       "      <td>40.6</td>\n",
       "      <td>18.40</td>\n",
       "      <td>5.770</td>\n",
       "      <td>6.28</td>\n",
       "      <td>6.20</td>\n",
       "    </tr>\n",
       "    <tr>\n",
       "      <th>38288</th>\n",
       "      <td>Vietnam</td>\n",
       "      <td>1982-01-01</td>\n",
       "      <td>56900000</td>\n",
       "      <td>Asia</td>\n",
       "      <td>South-eastern Asia</td>\n",
       "      <td>Lower middle</td>\n",
       "      <td>65.3</td>\n",
       "      <td>1180</td>\n",
       "      <td>4.69</td>\n",
       "      <td>64.9</td>\n",
       "      <td>184.00</td>\n",
       "      <td>0.323</td>\n",
       "      <td>5.77</td>\n",
       "      <td>4.95</td>\n",
       "    </tr>\n",
       "    <tr>\n",
       "      <th>38507</th>\n",
       "      <td>Yemen</td>\n",
       "      <td>1982-01-01</td>\n",
       "      <td>8760000</td>\n",
       "      <td>Asia</td>\n",
       "      <td>Western Asia</td>\n",
       "      <td>Low</td>\n",
       "      <td>54.1</td>\n",
       "      <td>3430</td>\n",
       "      <td>8.83</td>\n",
       "      <td>183.0</td>\n",
       "      <td>16.60</td>\n",
       "      <td>0.679</td>\n",
       "      <td>3.17</td>\n",
       "      <td>0.44</td>\n",
       "    </tr>\n",
       "    <tr>\n",
       "      <th>38726</th>\n",
       "      <td>Zambia</td>\n",
       "      <td>1982-01-01</td>\n",
       "      <td>6310000</td>\n",
       "      <td>Africa</td>\n",
       "      <td>Sub-Saharan Africa</td>\n",
       "      <td>Lower middle</td>\n",
       "      <td>57.5</td>\n",
       "      <td>2770</td>\n",
       "      <td>6.95</td>\n",
       "      <td>158.0</td>\n",
       "      <td>8.48</td>\n",
       "      <td>0.558</td>\n",
       "      <td>5.22</td>\n",
       "      <td>3.46</td>\n",
       "    </tr>\n",
       "    <tr>\n",
       "      <th>38945</th>\n",
       "      <td>Zimbabwe</td>\n",
       "      <td>1982-01-01</td>\n",
       "      <td>7720000</td>\n",
       "      <td>Africa</td>\n",
       "      <td>Sub-Saharan Africa</td>\n",
       "      <td>Low</td>\n",
       "      <td>61.8</td>\n",
       "      <td>2580</td>\n",
       "      <td>6.81</td>\n",
       "      <td>94.4</td>\n",
       "      <td>20.00</td>\n",
       "      <td>1.140</td>\n",
       "      <td>6.70</td>\n",
       "      <td>5.05</td>\n",
       "    </tr>\n",
       "  </tbody>\n",
       "</table>\n",
       "<p>178 rows × 14 columns</p>\n",
       "</div>"
      ],
      "text/plain": [
       "                   country       year  population    region  \\\n",
       "182            Afghanistan 1982-01-01    12700000      Asia   \n",
       "401                Albania 1982-01-01     2790000    Europe   \n",
       "620                Algeria 1982-01-01    20600000    Africa   \n",
       "839                 Angola 1982-01-01     9580000    Africa   \n",
       "1058   Antigua and Barbuda 1982-01-01       72400  Americas   \n",
       "...                    ...        ...         ...       ...   \n",
       "38069            Venezuela 1982-01-01    16200000  Americas   \n",
       "38288              Vietnam 1982-01-01    56900000      Asia   \n",
       "38507                Yemen 1982-01-01     8760000      Asia   \n",
       "38726               Zambia 1982-01-01     6310000    Africa   \n",
       "38945             Zimbabwe 1982-01-01     7720000    Africa   \n",
       "\n",
       "                            sub_region  income_group  life_expectancy  income  \\\n",
       "182                      Southern Asia           Low             43.8    1410   \n",
       "401                    Southern Europe  Upper middle             72.5    4410   \n",
       "620                    Northern Africa  Upper middle             64.4   10600   \n",
       "839                 Sub-Saharan Africa  Lower middle             50.0    4110   \n",
       "1058   Latin America and the Caribbean          High             71.5    8470   \n",
       "...                                ...           ...              ...     ...   \n",
       "38069  Latin America and the Caribbean  Upper middle             70.6   16600   \n",
       "38288               South-eastern Asia  Lower middle             65.3    1180   \n",
       "38507                     Western Asia           Low             54.1    3430   \n",
       "38726               Sub-Saharan Africa  Lower middle             57.5    2770   \n",
       "38945               Sub-Saharan Africa           Low             61.8    2580   \n",
       "\n",
       "       children_per_woman  child_mortality  pop_density  co2_per_capita  \\\n",
       "182                  7.45            232.0        19.50           0.165   \n",
       "401                  3.45             66.8       102.00           2.620   \n",
       "620                  6.43            117.0         8.64           1.910   \n",
       "839                  7.44            231.0         7.69           0.485   \n",
       "1058                 2.10             39.7       165.00           4.050   \n",
       "...                   ...              ...          ...             ...   \n",
       "38069                4.01             40.6        18.40           5.770   \n",
       "38288                4.69             64.9       184.00           0.323   \n",
       "38507                8.83            183.0        16.60           0.679   \n",
       "38726                6.95            158.0         8.48           0.558   \n",
       "38945                6.81             94.4        20.00           1.140   \n",
       "\n",
       "       years_in_school_men  years_in_school_women  \n",
       "182                   1.85                   0.32  \n",
       "401                   7.59                   7.04  \n",
       "620                   3.72                   3.36  \n",
       "839                   3.67                   2.06  \n",
       "1058                  8.69                   9.25  \n",
       "...                    ...                    ...  \n",
       "38069                 6.28                   6.20  \n",
       "38288                 5.77                   4.95  \n",
       "38507                 3.17                   0.44  \n",
       "38726                 5.22                   3.46  \n",
       "38945                 6.70                   5.05  \n",
       "\n",
       "[178 rows x 14 columns]"
      ]
     },
     "execution_count": 5,
     "metadata": {},
     "output_type": "execute_result"
    }
   ],
   "source": [
    "gm_1982 = gm[gm[\"year\"].dt.year==1982]\n",
    "\n",
    "# Print the dataframe\n",
    "gm_1982"
   ]
  },
  {
   "cell_type": "code",
   "execution_count": 6,
   "id": "93283903",
   "metadata": {
    "deletable": false,
    "editable": false,
    "pycharm": {
     "name": "#%%\n"
    }
   },
   "outputs": [
    {
     "data": {
      "text/html": [
       "<p><strong><pre style='display: inline;'>q2</pre></strong> passed! 🙌</p><p><strong><pre style='display: inline;'>q2 - 1</pre> message:</strong> All your variables have the expected name and type</p>"
      ],
      "text/plain": [
       "q2 results: All test cases passed!\n",
       "q2 - 1 message: All your variables have the expected name and type"
      ]
     },
     "execution_count": 6,
     "metadata": {},
     "output_type": "execute_result"
    }
   ],
   "source": [
    "grader.check(\"q2\")"
   ]
  },
  {
   "cell_type": "markdown",
   "id": "4f8024ff",
   "metadata": {
    "pycharm": {
     "name": "#%% md\n"
    },
    "tags": []
   },
   "source": [
    "<!-- BEGIN QUESTION -->\n",
    "\n",
    "### Question 3\n",
    "\n",
    "<div class=\"alert alert-info\" style=\"color:black\">\n",
    "\n",
    "<ol type=\"1\">\n",
    "<li>Using the <code>gm_1982</code> dataframe,\n",
    "create a scatter plot with <code>years_in_school_men</code> on the x-axis.\n",
    "Since <code>years_in_school_men</code> holds numerical values,\n",
    "Altair will assign it as a \"Quantitative\" data types by default. NOTE: Do not specify the 'y' channel</li>\n",
    "<li>Explicitly change the data type in the scatter plot to \"Nominal\"\n",
    "and observe what happens.</li>\n",
    "</ol>\n",
    "\n",
    "</div>\n",
    "\n",
    "_Points:_ 3"
   ]
  },
  {
   "cell_type": "code",
   "execution_count": 7,
   "id": "247282a2",
   "metadata": {
    "pycharm": {
     "name": "#%%\n"
    },
    "tags": []
   },
   "outputs": [
    {
     "data": {
      "application/vnd.vegalite.v4+json": {
       "$schema": "https://vega.github.io/schema/vega-lite/v4.17.0.json",
       "config": {
        "view": {
         "continuousHeight": 300,
         "continuousWidth": 400
        }
       },
       "data": {
        "url": "http://localhost:60787/a72ddd0a1316fb182aa61016c0d23cac.json"
       },
       "encoding": {
        "x": {
         "field": "years_in_school_men",
         "type": "quantitative"
        }
       },
       "mark": "point"
      },
      "image/png": "[encoded data removed]",
      "text/plain": [
       "<VegaLite 4 object>\n",
       "\n",
       "If you see this message, it means the renderer has not been properly enabled\n",
       "for the frontend that you are using. For more information, see\n",
       "https://altair-viz.github.io/user_guide/troubleshooting.html\n"
      ]
     },
     "execution_count": 7,
     "metadata": {},
     "output_type": "execute_result"
    }
   ],
   "source": [
    "scatter_quantitative = alt.Chart(gm_1982).mark_point().encode(\n",
    "    x = \"years_in_school_men:Q\"\n",
    ")\n",
    "\n",
    "# Show the plot\n",
    "scatter_quantitative"
   ]
  },
  {
   "cell_type": "code",
   "execution_count": 8,
   "id": "4a7a46f0",
   "metadata": {
    "pycharm": {
     "name": "#%%\n"
    },
    "tags": []
   },
   "outputs": [
    {
     "data": {
      "application/vnd.vegalite.v4+json": {
       "$schema": "https://vega.github.io/schema/vega-lite/v4.17.0.json",
       "config": {
        "view": {
         "continuousHeight": 300,
         "continuousWidth": 400
        }
       },
       "data": {
        "url": "http://localhost:60787/a72ddd0a1316fb182aa61016c0d23cac.json"
       },
       "encoding": {
        "x": {
         "field": "years_in_school_men",
         "type": "nominal"
        }
       },
       "mark": "point"
      },
      "image/png": "[encoded data removed]",
      "text/plain": [
       "<VegaLite 4 object>\n",
       "\n",
       "If you see this message, it means the renderer has not been properly enabled\n",
       "for the frontend that you are using. For more information, see\n",
       "https://altair-viz.github.io/user_guide/troubleshooting.html\n"
      ]
     },
     "execution_count": 8,
     "metadata": {},
     "output_type": "execute_result"
    }
   ],
   "source": [
    "scatter_nominal = alt.Chart(gm_1982).mark_point().encode(\n",
    "    x = \"years_in_school_men:N\"\n",
    ")\n",
    "\n",
    "# Show the plot\n",
    "scatter_nominal"
   ]
  },
  {
   "cell_type": "code",
   "execution_count": 9,
   "id": "ed7fd43d",
   "metadata": {
    "deletable": false,
    "editable": false,
    "pycharm": {
     "name": "#%%\n"
    }
   },
   "outputs": [
    {
     "data": {
      "text/html": [
       "<p><strong><pre style='display: inline;'>q3</pre></strong> passed! 🍀</p><p><strong><pre style='display: inline;'>q3 - 1</pre> message:</strong> All your variables have the expected name and type</p>"
      ],
      "text/plain": [
       "q3 results: All test cases passed!\n",
       "q3 - 1 message: All your variables have the expected name and type"
      ]
     },
     "execution_count": 9,
     "metadata": {},
     "output_type": "execute_result"
    }
   ],
   "source": [
    "grader.check(\"q3\")"
   ]
  },
  {
   "cell_type": "markdown",
   "id": "4c5e9321",
   "metadata": {
    "pycharm": {
     "name": "#%% md\n"
    },
    "tags": []
   },
   "source": [
    "<!-- END QUESTION -->\n",
    "\n",
    "<!-- BEGIN QUESTION -->\n",
    "\n",
    "### Question 4\n",
    "\n",
    "<div class=\"alert alert-info\" style=\"color:black\">\n",
    "\n",
    "\n",
    "<ol type=\"1\">\n",
    "<li>Using the <code>gm_1982</code> dataframe,\n",
    "create a scatter plot with <code>years_in_school_men</code> on the x-axis\n",
    "and <code>life_expectancy</code> on the y-axis.</li>\n",
    "<li>What do you observe about the relationship between these two variables? Indicate your answer as a string in the coding cell below. </li>\n",
    "    <ol type=\"A\">\n",
    "    <li>There seems to be a negative relationship between the two variables</li>\n",
    "    <li>There seems to be no relationship between the two variables</li>\n",
    "    <li>There seems to be a positive relationship between the two variables</li>\n",
    "    </ol>\n",
    "</ol>\n",
    "</div>\n",
    "\n",
    "_Points:_ 3"
   ]
  },
  {
   "cell_type": "code",
   "execution_count": 10,
   "id": "8efef307",
   "metadata": {
    "pycharm": {
     "name": "#%%\n"
    },
    "tags": []
   },
   "outputs": [
    {
     "data": {
      "application/vnd.vegalite.v4+json": {
       "$schema": "https://vega.github.io/schema/vega-lite/v4.17.0.json",
       "config": {
        "view": {
         "continuousHeight": 300,
         "continuousWidth": 400
        }
       },
       "data": {
        "url": "http://localhost:60787/a72ddd0a1316fb182aa61016c0d23cac.json"
       },
       "encoding": {
        "x": {
         "field": "years_in_school_men",
         "type": "quantitative"
        },
        "y": {
         "field": "life_expectancy",
         "type": "quantitative"
        }
       },
       "mark": "point"
      },
      "image/png": "[encoded data removed]",
      "text/plain": [
       "<VegaLite 4 object>\n",
       "\n",
       "If you see this message, it means the renderer has not been properly enabled\n",
       "for the frontend that you are using. For more information, see\n",
       "https://altair-viz.github.io/user_guide/troubleshooting.html\n"
      ]
     },
     "execution_count": 10,
     "metadata": {},
     "output_type": "execute_result"
    }
   ],
   "source": [
    "scatter_lifexp_school = alt.Chart(gm_1982).mark_point().encode(\n",
    "    x = \"years_in_school_men\",\n",
    "    y = \"life_expectancy\"\n",
    ")\n",
    "\n",
    "# Show the plot\n",
    "scatter_lifexp_school"
   ]
  },
  {
   "cell_type": "code",
   "execution_count": 11,
   "id": "7c808109",
   "metadata": {
    "pycharm": {
     "name": "#%%\n"
    },
    "tags": []
   },
   "outputs": [],
   "source": [
    "# The correct letter option from bullet two above as a string ('A', 'B', or 'C')\n",
    "relationship = 'C'"
   ]
  },
  {
   "cell_type": "code",
   "execution_count": 12,
   "id": "f41d21e1",
   "metadata": {
    "deletable": false,
    "editable": false,
    "pycharm": {
     "name": "#%%\n"
    }
   },
   "outputs": [
    {
     "data": {
      "text/html": [
       "<p><strong><pre style='display: inline;'>q4</pre></strong> passed! 🚀</p><p><strong><pre style='display: inline;'>q4 - 1</pre> message:</strong> All your variables have the expected name and type</p>"
      ],
      "text/plain": [
       "q4 results: All test cases passed!\n",
       "q4 - 1 message: All your variables have the expected name and type"
      ]
     },
     "execution_count": 12,
     "metadata": {},
     "output_type": "execute_result"
    }
   ],
   "source": [
    "grader.check(\"q4\")"
   ]
  },
  {
   "cell_type": "markdown",
   "id": "c2d8d737",
   "metadata": {
    "pycharm": {
     "name": "#%% md\n"
    },
    "tags": []
   },
   "source": [
    "<!-- END QUESTION -->\n",
    "\n",
    "<!-- BEGIN QUESTION -->\n",
    "\n",
    "### Question 5\n",
    "\n",
    "<div class=\"alert alert-info\" style=\"color:black\">\n",
    "\n",
    "To answer the last lab question, first watch this 20 min video of Hans Rosling, a public health professor at Karolinska Institute who founded Gapminder together with his son and his son's wife. Although the video is almost 15 years old, it is a formidable demonstration on how to present data in a way that engages your audience while conveying a strong, important message. (The original clip has over 3 million views, but I linked you one of better video quality).\n",
    "\n",
    "[Video link](https://www.youtube.com/watch?v=usdJgEwMinM)\n",
    "\n",
    "Briefly describe (<=90 words) what you think is the most important message conveyed in the video and which data visualization you think was the most effective in getting this message across to the viewers.\n",
    "\n",
    "</div>"
   ]
  },
  {
   "cell_type": "markdown",
   "id": "310ccf03",
   "metadata": {
    "pycharm": {
     "name": "#%% md\n"
    }
   },
   "source": [
    "Data visualization is very important as it allows us to visualize trends in various aspects of the world. There are so many useful design tools for data but our world do not allow us to copy the data up to a searchable format. We want to see all the information!!\n",
    "\n",
    "I like the visualization of the world income distribution. He replaced a coin with a pie chart and used the animation of lightning to split the coin, with each fragment representing the percentage of each part of the pie chart."
   ]
  }
 ],
 "metadata": {
  "kernelspec": {
   "display_name": "dsci320",
   "language": "python",
   "name": "dsci320"
  },
  "language_info": {
   "codemirror_mode": {
    "name": "ipython",
    "version": 3
   },
   "file_extension": ".py",
   "mimetype": "text/x-python",
   "name": "python",
   "nbconvert_exporter": "python",
   "pygments_lexer": "ipython3",
   "version": "3.9.15"
  },
  "otter": {
   "OK_FORMAT": true,
   "tests": {
    "q1": {
     "name": "q1",
     "points": 2,
     "suites": [
      {
       "cases": [
        {
         "code": ">>> # This test is not the most robust since it relies on the code cell being executed just before this test cell\n>>> #... it is hard to test in other ways since \".info\" just prints to screen\n>>> # Other alternatives:\n>>> # https://stackoverflow.com/questions/5136611/capture-stdout-from-a-script?noredirect=1&lq=1\n>>> # https://stackoverflow.com/questions/11122582/how-to-test-print-statements\n>>> \n>>> # The `In` dictionary is only created when actually running the notebook\n>>> # and note when running `otter` from the command line, which is why I use the ternary expression\n>>> # This means that this cell will always give points when gradingregardless of the answer,\n>>> # but I think that is OK since the test is visible anyways.\n>>> assert In[-2].split('\\n')[-1].startswith('gm.info()') if 'In' in globals() else True\n",
         "failure_message": "You are not using the correct method to print out the dataframe info",
         "hidden": false,
         "locked": false,
         "points": 1
        },
        {
         "code": ">>> assert gm is not None\n>>> assert isinstance(gm, pd.DataFrame)\n",
         "failure_message": "Some of your variables have an unexpected name or type",
         "hidden": false,
         "locked": false,
         "points": 0,
         "success_message": "All your variables have the expected name and type"
        },
        {
         "code": ">>> url = 'https://raw.githubusercontent.com/UofTCoders/workshops-dc-py/master/data/processed/world-data-gapminder.csv' # SOLUTION\n>>> pd.testing.assert_frame_equal(gm, pd.read_csv(url, parse_dates=['year']))\n",
         "failure_message": "You have not read in the data frame correctly.",
         "hidden": false,
         "locked": false
        }
       ],
       "scored": true,
       "setup": "",
       "teardown": "",
       "type": "doctest"
      }
     ]
    },
    "q2": {
     "name": "q2",
     "points": 1,
     "suites": [
      {
       "cases": [
        {
         "code": ">>> assert gm_1982 is not None\n>>> assert isinstance(gm_1982, pd.DataFrame)\n",
         "failure_message": "Some of your variables have an unexpected name or type",
         "hidden": false,
         "locked": false,
         "points": 0,
         "success_message": "All your variables have the expected name and type"
        },
        {
         "code": ">>> url = 'https://raw.githubusercontent.com/UofTCoders/workshops-dc-py/master/data/processed/world-data-gapminder.csv' # SOLUTION\n>>> pd.testing.assert_frame_equal(gm_1982, pd.read_csv(url, parse_dates=['year']).query('year == 1982'))\n",
         "failure_message": "You have not filtered the data frame correctly.",
         "hidden": false,
         "locked": false
        }
       ],
       "scored": true,
       "setup": "",
       "teardown": "",
       "type": "doctest"
      }
     ]
    },
    "q3": {
     "name": "q3",
     "points": 3,
     "suites": [
      {
       "cases": [
        {
         "code": ">>> assert scatter_quantitative is not None\n>>> assert scatter_nominal is not None\n>>> assert isinstance(scatter_quantitative, alt.Chart)\n>>> assert isinstance(scatter_nominal, alt.Chart)\n",
         "failure_message": "Some of your variables have an unexpected name or type",
         "hidden": false,
         "locked": false,
         "points": 0,
         "success_message": "All your variables have the expected name and type"
        },
        {
         "code": ">>> assert scatter_quantitative.to_dict()['mark'] in ['circle', 'point']\n>>> assert scatter_nominal.to_dict()['mark'] in ['circle', 'point']\n",
         "failure_message": "Make sure you are using the correct mark type for both plots",
         "hidden": false,
         "locked": false
        },
        {
         "code": ">>> assert scatter_quantitative.to_dict()['encoding']['x']['field'] == 'years_in_school_men'\n>>> assert scatter_nominal.to_dict()['encoding']['x']['field'] == 'years_in_school_men'\n",
         "failure_message": "The wrong dataframe column is used for x channel in one of the plots.",
         "hidden": false,
         "locked": false
        },
        {
         "code": ">>> assert scatter_quantitative.to_dict()['encoding']['x']['type'] == 'quantitative'\n",
         "failure_message": "The wrong data type is used for your quantitative scatter chart",
         "hidden": false,
         "locked": false
        },
        {
         "code": ">>> assert scatter_nominal.to_dict()['encoding']['x']['type'] == 'nominal'\n",
         "failure_message": "The wrong data type is used for your nominal scatter chart",
         "hidden": false,
         "locked": false
        },
        {
         "code": ">>> assert 'y' not in scatter_quantitative.to_dict()['encoding']\n>>> assert 'y' not in scatter_nominal.to_dict()['encoding']\n",
         "failure_message": "None of your charts should have a y axis",
         "hidden": false,
         "locked": false
        }
       ],
       "scored": true,
       "setup": "",
       "teardown": "",
       "type": "doctest"
      }
     ]
    },
    "q4": {
     "name": "q4",
     "points": 3,
     "suites": [
      {
       "cases": [
        {
         "code": ">>> assert scatter_lifexp_school is not None\n>>> assert isinstance(scatter_lifexp_school, alt.Chart)\n",
         "failure_message": "Some of your variables have an unexpected name or type",
         "hidden": false,
         "locked": false,
         "points": 0,
         "success_message": "All your variables have the expected name and type"
        },
        {
         "code": ">>> assert scatter_lifexp_school.to_dict()['mark'] in ['circle', 'point']\n",
         "failure_message": "Make sure you are using the correct mark type for your plot",
         "hidden": false,
         "locked": false,
         "points": 1
        },
        {
         "code": ">>> assert scatter_lifexp_school.to_dict()['encoding']['x']['field'] == 'years_in_school_men'\n",
         "failure_message": "The wrong dataframe column is used for the x channel your plot.",
         "hidden": false,
         "locked": false,
         "points": 1
        },
        {
         "code": ">>> assert scatter_lifexp_school.to_dict()['encoding']['y']['type'] == 'quantitative'\n",
         "failure_message": "The wrong data type is used for the y channel in your plot.",
         "hidden": false,
         "locked": false
        },
        {
         "code": ">>> assert scatter_lifexp_school.to_dict()['encoding']['x']['type'] == 'quantitative'\n",
         "failure_message": "The wrong data type is used for the x channel in your plot.",
         "hidden": false,
         "locked": false
        },
        {
         "code": ">>> assert relationship.upper() == 'C'\n",
         "failure_message": "When numerical values represent categories, we want to one-hot encode them",
         "hidden": false,
         "locked": false
        }
       ],
       "scored": true,
       "setup": "",
       "teardown": "",
       "type": "doctest"
      }
     ]
    }
   }
  }
 },
 "nbformat": 4,
 "nbformat_minor": 5
}
